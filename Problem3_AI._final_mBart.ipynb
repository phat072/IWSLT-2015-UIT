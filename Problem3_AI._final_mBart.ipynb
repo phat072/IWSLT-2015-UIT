{
  "cells": [
    {
      "cell_type": "code",
      "source": [
        "from google.colab import drive\n",
        "drive.mount(\"/content/gdrive\")"
      ],
      "outputs": [
        {
          "output_type": "stream",
          "name": "stdout",
          "text": "Drive already mounted at /content/gdrive; to attempt to forcibly remount, call drive.mount(\"/content/gdrive\", force_remount=True).\n"
        }
      ],
      "execution_count": null,
      "metadata": {
        "colab": {
          "base_uri": "https://localhost:8080/"
        },
        "id": "9VMXDH3XJJ-X",
        "outputId": "6e12db06-e3b6-44b1-ca88-54b1229ef24f"
      }
    },
    {
      "cell_type": "code",
      "source": [
        "import requests\n",
        "import torch\n",
        "import torch.nn.functional as F\n",
        "import torchtext\n",
        "import torch.nn as nn\n",
        "import random\n",
        "import tarfile"
      ],
      "outputs": [],
      "execution_count": null,
      "metadata": {
        "id": "GoiOnGG8FVVN"
      }
    },
    {
      "cell_type": "code",
      "source": [
        "! pip install datasets transformers sacrebleu"
      ],
      "outputs": [
        {
          "output_type": "stream",
          "name": "stdout",
          "text": "Requirement already satisfied: datasets in /usr/local/lib/python3.10/dist-packages (2.20.0)\nRequirement already satisfied: transformers in /usr/local/lib/python3.10/dist-packages (4.41.2)\nRequirement already satisfied: sacrebleu in /usr/local/lib/python3.10/dist-packages (2.4.2)\nRequirement already satisfied: filelock in /usr/local/lib/python3.10/dist-packages (from datasets) (3.15.1)\nRequirement already satisfied: numpy>=1.17 in /usr/local/lib/python3.10/dist-packages (from datasets) (1.25.2)\nRequirement already satisfied: pyarrow>=15.0.0 in /usr/local/lib/python3.10/dist-packages (from datasets) (16.1.0)\nRequirement already satisfied: pyarrow-hotfix in /usr/local/lib/python3.10/dist-packages (from datasets) (0.6)\nRequirement already satisfied: dill<0.3.9,>=0.3.0 in /usr/local/lib/python3.10/dist-packages (from datasets) (0.3.8)\nRequirement already satisfied: pandas in /usr/local/lib/python3.10/dist-packages (from datasets) (2.0.3)\nRequirement already satisfied: requests>=2.32.2 in /usr/local/lib/python3.10/dist-packages (from datasets) (2.32.3)\nRequirement already satisfied: tqdm>=4.66.3 in /usr/local/lib/python3.10/dist-packages (from datasets) (4.66.4)\nRequirement already satisfied: xxhash in /usr/local/lib/python3.10/dist-packages (from datasets) (3.4.1)\nRequirement already satisfied: multiprocess in /usr/local/lib/python3.10/dist-packages (from datasets) (0.70.16)\nRequirement already satisfied: fsspec[http]<=2024.5.0,>=2023.1.0 in /usr/local/lib/python3.10/dist-packages (from datasets) (2023.6.0)\nRequirement already satisfied: aiohttp in /usr/local/lib/python3.10/dist-packages (from datasets) (3.9.5)\nRequirement already satisfied: huggingface-hub>=0.21.2 in /usr/local/lib/python3.10/dist-packages (from datasets) (0.23.4)\nRequirement already satisfied: packaging in /usr/local/lib/python3.10/dist-packages (from datasets) (24.1)\nRequirement already satisfied: pyyaml>=5.1 in /usr/local/lib/python3.10/dist-packages (from datasets) (6.0.1)\nRequirement already satisfied: regex!=2019.12.17 in /usr/local/lib/python3.10/dist-packages (from transformers) (2024.5.15)\nRequirement already satisfied: tokenizers<0.20,>=0.19 in /usr/local/lib/python3.10/dist-packages (from transformers) (0.19.1)\nRequirement already satisfied: safetensors>=0.4.1 in /usr/local/lib/python3.10/dist-packages (from transformers) (0.4.3)\nRequirement already satisfied: portalocker in /usr/local/lib/python3.10/dist-packages (from sacrebleu) (2.10.0)\nRequirement already satisfied: tabulate>=0.8.9 in /usr/local/lib/python3.10/dist-packages (from sacrebleu) (0.9.0)\nRequirement already satisfied: colorama in /usr/local/lib/python3.10/dist-packages (from sacrebleu) (0.4.6)\nRequirement already satisfied: lxml in /usr/local/lib/python3.10/dist-packages (from sacrebleu) (4.9.4)\nRequirement already satisfied: aiosignal>=1.1.2 in /usr/local/lib/python3.10/dist-packages (from aiohttp->datasets) (1.3.1)\nRequirement already satisfied: attrs>=17.3.0 in /usr/local/lib/python3.10/dist-packages (from aiohttp->datasets) (23.2.0)\nRequirement already satisfied: frozenlist>=1.1.1 in /usr/local/lib/python3.10/dist-packages (from aiohttp->datasets) (1.4.1)\nRequirement already satisfied: multidict<7.0,>=4.5 in /usr/local/lib/python3.10/dist-packages (from aiohttp->datasets) (6.0.5)\nRequirement already satisfied: yarl<2.0,>=1.0 in /usr/local/lib/python3.10/dist-packages (from aiohttp->datasets) (1.9.4)\nRequirement already satisfied: async-timeout<5.0,>=4.0 in /usr/local/lib/python3.10/dist-packages (from aiohttp->datasets) (4.0.3)\nRequirement already satisfied: typing-extensions>=3.7.4.3 in /usr/local/lib/python3.10/dist-packages (from huggingface-hub>=0.21.2->datasets) (4.12.2)\nRequirement already satisfied: charset-normalizer<4,>=2 in /usr/local/lib/python3.10/dist-packages (from requests>=2.32.2->datasets) (3.3.2)\nRequirement already satisfied: idna<4,>=2.5 in /usr/local/lib/python3.10/dist-packages (from requests>=2.32.2->datasets) (3.7)\nRequirement already satisfied: urllib3<3,>=1.21.1 in /usr/local/lib/python3.10/dist-packages (from requests>=2.32.2->datasets) (2.0.7)\nRequirement already satisfied: certifi>=2017.4.17 in /usr/local/lib/python3.10/dist-packages (from requests>=2.32.2->datasets) (2024.6.2)\nRequirement already satisfied: python-dateutil>=2.8.2 in /usr/local/lib/python3.10/dist-packages (from pandas->datasets) (2.8.2)\nRequirement already satisfied: pytz>=2020.1 in /usr/local/lib/python3.10/dist-packages (from pandas->datasets) (2023.4)\nRequirement already satisfied: tzdata>=2022.1 in /usr/local/lib/python3.10/dist-packages (from pandas->datasets) (2024.1)\nRequirement already satisfied: six>=1.5 in /usr/local/lib/python3.10/dist-packages (from python-dateutil>=2.8.2->pandas->datasets) (1.16.0)\n"
        }
      ],
      "execution_count": null,
      "metadata": {
        "colab": {
          "base_uri": "https://localhost:8080/"
        },
        "id": "AsKuQpSFWUsh",
        "outputId": "0e94e189-79fb-49b0-fd0a-5431153acd60"
      }
    },
    {
      "cell_type": "code",
      "source": [
        "!pip install accelerate -U\n",
        "!pip install sentencepiece"
      ],
      "outputs": [
        {
          "output_type": "stream",
          "name": "stdout",
          "text": "Collecting accelerate\n  Using cached accelerate-0.31.0-py3-none-any.whl (309 kB)\nRequirement already satisfied: numpy>=1.17 in /usr/local/lib/python3.10/dist-packages (from accelerate) (1.25.2)\nRequirement already satisfied: packaging>=20.0 in /usr/local/lib/python3.10/dist-packages (from accelerate) (24.1)\nRequirement already satisfied: psutil in /usr/local/lib/python3.10/dist-packages (from accelerate) (5.9.5)\nRequirement already satisfied: pyyaml in /usr/local/lib/python3.10/dist-packages (from accelerate) (6.0.1)\nRequirement already satisfied: torch>=1.10.0 in /usr/local/lib/python3.10/dist-packages (from accelerate) (2.3.0+cu121)\nRequirement already satisfied: huggingface-hub in /usr/local/lib/python3.10/dist-packages (from accelerate) (0.23.4)\nRequirement already satisfied: safetensors>=0.3.1 in /usr/local/lib/python3.10/dist-packages (from accelerate) (0.4.3)\nRequirement already satisfied: filelock in /usr/local/lib/python3.10/dist-packages (from torch>=1.10.0->accelerate) (3.15.1)\nRequirement already satisfied: typing-extensions>=4.8.0 in /usr/local/lib/python3.10/dist-packages (from torch>=1.10.0->accelerate) (4.12.2)\nRequirement already satisfied: sympy in /usr/local/lib/python3.10/dist-packages (from torch>=1.10.0->accelerate) (1.12.1)\nRequirement already satisfied: networkx in /usr/local/lib/python3.10/dist-packages (from torch>=1.10.0->accelerate) (3.3)\nRequirement already satisfied: jinja2 in /usr/local/lib/python3.10/dist-packages (from torch>=1.10.0->accelerate) (3.1.4)\nRequirement already satisfied: fsspec in /usr/local/lib/python3.10/dist-packages (from torch>=1.10.0->accelerate) (2023.6.0)\nCollecting nvidia-cuda-nvrtc-cu12==12.1.105 (from torch>=1.10.0->accelerate)\n  Using cached nvidia_cuda_nvrtc_cu12-12.1.105-py3-none-manylinux1_x86_64.whl (23.7 MB)\nCollecting nvidia-cuda-runtime-cu12==12.1.105 (from torch>=1.10.0->accelerate)\n  Using cached nvidia_cuda_runtime_cu12-12.1.105-py3-none-manylinux1_x86_64.whl (823 kB)\nCollecting nvidia-cuda-cupti-cu12==12.1.105 (from torch>=1.10.0->accelerate)\n  Using cached nvidia_cuda_cupti_cu12-12.1.105-py3-none-manylinux1_x86_64.whl (14.1 MB)\nCollecting nvidia-cudnn-cu12==8.9.2.26 (from torch>=1.10.0->accelerate)\n  Using cached nvidia_cudnn_cu12-8.9.2.26-py3-none-manylinux1_x86_64.whl (731.7 MB)\nCollecting nvidia-cublas-cu12==12.1.3.1 (from torch>=1.10.0->accelerate)\n  Using cached nvidia_cublas_cu12-12.1.3.1-py3-none-manylinux1_x86_64.whl (410.6 MB)\nCollecting nvidia-cufft-cu12==11.0.2.54 (from torch>=1.10.0->accelerate)\n  Using cached nvidia_cufft_cu12-11.0.2.54-py3-none-manylinux1_x86_64.whl (121.6 MB)\nCollecting nvidia-curand-cu12==10.3.2.106 (from torch>=1.10.0->accelerate)\n  Using cached nvidia_curand_cu12-10.3.2.106-py3-none-manylinux1_x86_64.whl (56.5 MB)\nCollecting nvidia-cusolver-cu12==11.4.5.107 (from torch>=1.10.0->accelerate)\n  Using cached nvidia_cusolver_cu12-11.4.5.107-py3-none-manylinux1_x86_64.whl (124.2 MB)\nCollecting nvidia-cusparse-cu12==12.1.0.106 (from torch>=1.10.0->accelerate)\n  Using cached nvidia_cusparse_cu12-12.1.0.106-py3-none-manylinux1_x86_64.whl (196.0 MB)\nCollecting nvidia-nccl-cu12==2.20.5 (from torch>=1.10.0->accelerate)\n  Using cached nvidia_nccl_cu12-2.20.5-py3-none-manylinux2014_x86_64.whl (176.2 MB)\nCollecting nvidia-nvtx-cu12==12.1.105 (from torch>=1.10.0->accelerate)\n  Using cached nvidia_nvtx_cu12-12.1.105-py3-none-manylinux1_x86_64.whl (99 kB)\nRequirement already satisfied: triton==2.3.0 in /usr/local/lib/python3.10/dist-packages (from torch>=1.10.0->accelerate) (2.3.0)\nCollecting nvidia-nvjitlink-cu12 (from nvidia-cusolver-cu12==11.4.5.107->torch>=1.10.0->accelerate)\n  Downloading nvidia_nvjitlink_cu12-12.5.40-py3-none-manylinux2014_x86_64.whl (21.3 MB)\n\u001b[2K     \u001b[90m━━━━━━━━━━━━━━━━━━━━━━━━━━━━━━━━━━━━━━━━\u001b[0m \u001b[32m21.3/21.3 MB\u001b[0m \u001b[31m51.4 MB/s\u001b[0m eta \u001b[36m0:00:00\u001b[0m\n\u001b[?25hRequirement already satisfied: requests in /usr/local/lib/python3.10/dist-packages (from huggingface-hub->accelerate) (2.32.3)\nRequirement already satisfied: tqdm>=4.42.1 in /usr/local/lib/python3.10/dist-packages (from huggingface-hub->accelerate) (4.66.4)\nRequirement already satisfied: MarkupSafe>=2.0 in /usr/local/lib/python3.10/dist-packages (from jinja2->torch>=1.10.0->accelerate) (2.1.5)\nRequirement already satisfied: charset-normalizer<4,>=2 in /usr/local/lib/python3.10/dist-packages (from requests->huggingface-hub->accelerate) (3.3.2)\nRequirement already satisfied: idna<4,>=2.5 in /usr/local/lib/python3.10/dist-packages (from requests->huggingface-hub->accelerate) (3.7)\nRequirement already satisfied: urllib3<3,>=1.21.1 in /usr/local/lib/python3.10/dist-packages (from requests->huggingface-hub->accelerate) (2.0.7)\nRequirement already satisfied: certifi>=2017.4.17 in /usr/local/lib/python3.10/dist-packages (from requests->huggingface-hub->accelerate) (2024.6.2)\nRequirement already satisfied: mpmath<1.4.0,>=1.1.0 in /usr/local/lib/python3.10/dist-packages (from sympy->torch>=1.10.0->accelerate) (1.3.0)\nInstalling collected packages: nvidia-nvtx-cu12, nvidia-nvjitlink-cu12, nvidia-nccl-cu12, nvidia-curand-cu12, nvidia-cufft-cu12, nvidia-cuda-runtime-cu12, nvidia-cuda-nvrtc-cu12, nvidia-cuda-cupti-cu12, nvidia-cublas-cu12, nvidia-cusparse-cu12, nvidia-cudnn-cu12, nvidia-cusolver-cu12, accelerate\nSuccessfully installed accelerate-0.31.0 nvidia-cublas-cu12-12.1.3.1 nvidia-cuda-cupti-cu12-12.1.105 nvidia-cuda-nvrtc-cu12-12.1.105 nvidia-cuda-runtime-cu12-12.1.105 nvidia-cudnn-cu12-8.9.2.26 nvidia-cufft-cu12-11.0.2.54 nvidia-curand-cu12-10.3.2.106 nvidia-cusolver-cu12-11.4.5.107 nvidia-cusparse-cu12-12.1.0.106 nvidia-nccl-cu12-2.20.5 nvidia-nvjitlink-cu12-12.5.40 nvidia-nvtx-cu12-12.1.105\nRequirement already satisfied: sentencepiece in /usr/local/lib/python3.10/dist-packages (0.1.99)\n"
        }
      ],
      "execution_count": null,
      "metadata": {
        "colab": {
          "base_uri": "https://localhost:8080/"
        },
        "id": "hbBX_d7zW_TK",
        "outputId": "902b6c18-124f-42d0-e4b6-31934e8bc32d"
      }
    },
    {
      "cell_type": "code",
      "source": [
        "!pip install xformers\n",
        "!pip install optimum\n",
        "!pip install bitsandbytes"
      ],
      "outputs": [
        {
          "output_type": "stream",
          "name": "stdout",
          "text": "Collecting xformers\n  Downloading xformers-0.0.26.post1-cp310-cp310-manylinux2014_x86_64.whl (222.7 MB)\n\u001b[2K     \u001b[90m━━━━━━━━━━━━━━━━━━━━━━━━━━━━━━━━━━━━━━━━\u001b[0m \u001b[32m222.7/222.7 MB\u001b[0m \u001b[31m3.0 MB/s\u001b[0m eta \u001b[36m0:00:00\u001b[0m\n\u001b[?25hRequirement already satisfied: numpy in /usr/local/lib/python3.10/dist-packages (from xformers) (1.25.2)\nRequirement already satisfied: torch==2.3.0 in /usr/local/lib/python3.10/dist-packages (from xformers) (2.3.0+cu121)\nRequirement already satisfied: filelock in /usr/local/lib/python3.10/dist-packages (from torch==2.3.0->xformers) (3.15.1)\nRequirement already satisfied: typing-extensions>=4.8.0 in /usr/local/lib/python3.10/dist-packages (from torch==2.3.0->xformers) (4.12.2)\nRequirement already satisfied: sympy in /usr/local/lib/python3.10/dist-packages (from torch==2.3.0->xformers) (1.12.1)\nRequirement already satisfied: networkx in /usr/local/lib/python3.10/dist-packages (from torch==2.3.0->xformers) (3.3)\nRequirement already satisfied: jinja2 in /usr/local/lib/python3.10/dist-packages (from torch==2.3.0->xformers) (3.1.4)\nRequirement already satisfied: fsspec in /usr/local/lib/python3.10/dist-packages (from torch==2.3.0->xformers) (2023.6.0)\nRequirement already satisfied: nvidia-cuda-nvrtc-cu12==12.1.105 in /usr/local/lib/python3.10/dist-packages (from torch==2.3.0->xformers) (12.1.105)\nRequirement already satisfied: nvidia-cuda-runtime-cu12==12.1.105 in /usr/local/lib/python3.10/dist-packages (from torch==2.3.0->xformers) (12.1.105)\nRequirement already satisfied: nvidia-cuda-cupti-cu12==12.1.105 in /usr/local/lib/python3.10/dist-packages (from torch==2.3.0->xformers) (12.1.105)\nRequirement already satisfied: nvidia-cudnn-cu12==8.9.2.26 in /usr/local/lib/python3.10/dist-packages (from torch==2.3.0->xformers) (8.9.2.26)\nRequirement already satisfied: nvidia-cublas-cu12==12.1.3.1 in /usr/local/lib/python3.10/dist-packages (from torch==2.3.0->xformers) (12.1.3.1)\nRequirement already satisfied: nvidia-cufft-cu12==11.0.2.54 in /usr/local/lib/python3.10/dist-packages (from torch==2.3.0->xformers) (11.0.2.54)\nRequirement already satisfied: nvidia-curand-cu12==10.3.2.106 in /usr/local/lib/python3.10/dist-packages (from torch==2.3.0->xformers) (10.3.2.106)\nRequirement already satisfied: nvidia-cusolver-cu12==11.4.5.107 in /usr/local/lib/python3.10/dist-packages (from torch==2.3.0->xformers) (11.4.5.107)\nRequirement already satisfied: nvidia-cusparse-cu12==12.1.0.106 in /usr/local/lib/python3.10/dist-packages (from torch==2.3.0->xformers) (12.1.0.106)\nRequirement already satisfied: nvidia-nccl-cu12==2.20.5 in /usr/local/lib/python3.10/dist-packages (from torch==2.3.0->xformers) (2.20.5)\nRequirement already satisfied: nvidia-nvtx-cu12==12.1.105 in /usr/local/lib/python3.10/dist-packages (from torch==2.3.0->xformers) (12.1.105)\nRequirement already satisfied: triton==2.3.0 in /usr/local/lib/python3.10/dist-packages (from torch==2.3.0->xformers) (2.3.0)\nRequirement already satisfied: nvidia-nvjitlink-cu12 in /usr/local/lib/python3.10/dist-packages (from nvidia-cusolver-cu12==11.4.5.107->torch==2.3.0->xformers) (12.5.40)\nRequirement already satisfied: MarkupSafe>=2.0 in /usr/local/lib/python3.10/dist-packages (from jinja2->torch==2.3.0->xformers) (2.1.5)\nRequirement already satisfied: mpmath<1.4.0,>=1.1.0 in /usr/local/lib/python3.10/dist-packages (from sympy->torch==2.3.0->xformers) (1.3.0)\nInstalling collected packages: xformers\nSuccessfully installed xformers-0.0.26.post1\nCollecting optimum\n  Downloading optimum-1.20.0-py3-none-any.whl (418 kB)\n\u001b[2K     \u001b[90m━━━━━━━━━━━━━━━━━━━━━━━━━━━━━━━━━━━━━━━━\u001b[0m \u001b[32m418.4/418.4 kB\u001b[0m \u001b[31m5.0 MB/s\u001b[0m eta \u001b[36m0:00:00\u001b[0m\n\u001b[?25hCollecting coloredlogs (from optimum)\n  Downloading coloredlogs-15.0.1-py2.py3-none-any.whl (46 kB)\n\u001b[2K     \u001b[90m━━━━━━━━━━━━━━━━━━━━━━━━━━━━━━━━━━━━━━━━\u001b[0m \u001b[32m46.0/46.0 kB\u001b[0m \u001b[31m3.6 MB/s\u001b[0m eta \u001b[36m0:00:00\u001b[0m\n\u001b[?25hRequirement already satisfied: sympy in /usr/local/lib/python3.10/dist-packages (from optimum) (1.12.1)\nRequirement already satisfied: transformers[sentencepiece]<4.42.0,>=4.26.0 in /usr/local/lib/python3.10/dist-packages (from optimum) (4.41.2)\nRequirement already satisfied: torch>=1.11 in /usr/local/lib/python3.10/dist-packages (from optimum) (2.3.0+cu121)\nRequirement already satisfied: packaging in /usr/local/lib/python3.10/dist-packages (from optimum) (24.1)\nRequirement already satisfied: numpy in /usr/local/lib/python3.10/dist-packages (from optimum) (1.25.2)\nRequirement already satisfied: huggingface-hub>=0.8.0 in /usr/local/lib/python3.10/dist-packages (from optimum) (0.23.4)\nRequirement already satisfied: datasets in /usr/local/lib/python3.10/dist-packages (from optimum) (2.20.0)\nRequirement already satisfied: filelock in /usr/local/lib/python3.10/dist-packages (from huggingface-hub>=0.8.0->optimum) (3.15.1)\nRequirement already satisfied: fsspec>=2023.5.0 in /usr/local/lib/python3.10/dist-packages (from huggingface-hub>=0.8.0->optimum) (2023.6.0)\nRequirement already satisfied: pyyaml>=5.1 in /usr/local/lib/python3.10/dist-packages (from huggingface-hub>=0.8.0->optimum) (6.0.1)\nRequirement already satisfied: requests in /usr/local/lib/python3.10/dist-packages (from huggingface-hub>=0.8.0->optimum) (2.32.3)\nRequirement already satisfied: tqdm>=4.42.1 in /usr/local/lib/python3.10/dist-packages (from huggingface-hub>=0.8.0->optimum) (4.66.4)\nRequirement already satisfied: typing-extensions>=3.7.4.3 in /usr/local/lib/python3.10/dist-packages (from huggingface-hub>=0.8.0->optimum) (4.12.2)\nRequirement already satisfied: networkx in /usr/local/lib/python3.10/dist-packages (from torch>=1.11->optimum) (3.3)\nRequirement already satisfied: jinja2 in /usr/local/lib/python3.10/dist-packages (from torch>=1.11->optimum) (3.1.4)\nRequirement already satisfied: nvidia-cuda-nvrtc-cu12==12.1.105 in /usr/local/lib/python3.10/dist-packages (from torch>=1.11->optimum) (12.1.105)\nRequirement already satisfied: nvidia-cuda-runtime-cu12==12.1.105 in /usr/local/lib/python3.10/dist-packages (from torch>=1.11->optimum) (12.1.105)\nRequirement already satisfied: nvidia-cuda-cupti-cu12==12.1.105 in /usr/local/lib/python3.10/dist-packages (from torch>=1.11->optimum) (12.1.105)\nRequirement already satisfied: nvidia-cudnn-cu12==8.9.2.26 in /usr/local/lib/python3.10/dist-packages (from torch>=1.11->optimum) (8.9.2.26)\nRequirement already satisfied: nvidia-cublas-cu12==12.1.3.1 in /usr/local/lib/python3.10/dist-packages (from torch>=1.11->optimum) (12.1.3.1)\nRequirement already satisfied: nvidia-cufft-cu12==11.0.2.54 in /usr/local/lib/python3.10/dist-packages (from torch>=1.11->optimum) (11.0.2.54)\nRequirement already satisfied: nvidia-curand-cu12==10.3.2.106 in /usr/local/lib/python3.10/dist-packages (from torch>=1.11->optimum) (10.3.2.106)\nRequirement already satisfied: nvidia-cusolver-cu12==11.4.5.107 in /usr/local/lib/python3.10/dist-packages (from torch>=1.11->optimum) (11.4.5.107)\nRequirement already satisfied: nvidia-cusparse-cu12==12.1.0.106 in /usr/local/lib/python3.10/dist-packages (from torch>=1.11->optimum) (12.1.0.106)\nRequirement already satisfied: nvidia-nccl-cu12==2.20.5 in /usr/local/lib/python3.10/dist-packages (from torch>=1.11->optimum) (2.20.5)\nRequirement already satisfied: nvidia-nvtx-cu12==12.1.105 in /usr/local/lib/python3.10/dist-packages (from torch>=1.11->optimum) (12.1.105)\nRequirement already satisfied: triton==2.3.0 in /usr/local/lib/python3.10/dist-packages (from torch>=1.11->optimum) (2.3.0)\nRequirement already satisfied: nvidia-nvjitlink-cu12 in /usr/local/lib/python3.10/dist-packages (from nvidia-cusolver-cu12==11.4.5.107->torch>=1.11->optimum) (12.5.40)\nRequirement already satisfied: regex!=2019.12.17 in /usr/local/lib/python3.10/dist-packages (from transformers[sentencepiece]<4.42.0,>=4.26.0->optimum) (2024.5.15)\nRequirement already satisfied: tokenizers<0.20,>=0.19 in /usr/local/lib/python3.10/dist-packages (from transformers[sentencepiece]<4.42.0,>=4.26.0->optimum) (0.19.1)\nRequirement already satisfied: safetensors>=0.4.1 in /usr/local/lib/python3.10/dist-packages (from transformers[sentencepiece]<4.42.0,>=4.26.0->optimum) (0.4.3)\nRequirement already satisfied: sentencepiece!=0.1.92,>=0.1.91 in /usr/local/lib/python3.10/dist-packages (from transformers[sentencepiece]<4.42.0,>=4.26.0->optimum) (0.1.99)\nRequirement already satisfied: protobuf in /usr/local/lib/python3.10/dist-packages (from transformers[sentencepiece]<4.42.0,>=4.26.0->optimum) (3.20.3)\nCollecting humanfriendly>=9.1 (from coloredlogs->optimum)\n  Downloading humanfriendly-10.0-py2.py3-none-any.whl (86 kB)\n\u001b[2K     \u001b[90m━━━━━━━━━━━━━━━━━━━━━━━━━━━━━━━━━━━━━━━━\u001b[0m \u001b[32m86.8/86.8 kB\u001b[0m \u001b[31m8.1 MB/s\u001b[0m eta \u001b[36m0:00:00\u001b[0m\n\u001b[?25hRequirement already satisfied: pyarrow>=15.0.0 in /usr/local/lib/python3.10/dist-packages (from datasets->optimum) (16.1.0)\nRequirement already satisfied: pyarrow-hotfix in /usr/local/lib/python3.10/dist-packages (from datasets->optimum) (0.6)\nRequirement already satisfied: dill<0.3.9,>=0.3.0 in /usr/local/lib/python3.10/dist-packages (from datasets->optimum) (0.3.8)\nRequirement already satisfied: pandas in /usr/local/lib/python3.10/dist-packages (from datasets->optimum) (2.0.3)\nRequirement already satisfied: xxhash in /usr/local/lib/python3.10/dist-packages (from datasets->optimum) (3.4.1)\nRequirement already satisfied: multiprocess in /usr/local/lib/python3.10/dist-packages (from datasets->optimum) (0.70.16)\nRequirement already satisfied: aiohttp in /usr/local/lib/python3.10/dist-packages (from datasets->optimum) (3.9.5)\nRequirement already satisfied: mpmath<1.4.0,>=1.1.0 in /usr/local/lib/python3.10/dist-packages (from sympy->optimum) (1.3.0)\nRequirement already satisfied: aiosignal>=1.1.2 in /usr/local/lib/python3.10/dist-packages (from aiohttp->datasets->optimum) (1.3.1)\nRequirement already satisfied: attrs>=17.3.0 in /usr/local/lib/python3.10/dist-packages (from aiohttp->datasets->optimum) (23.2.0)\nRequirement already satisfied: frozenlist>=1.1.1 in /usr/local/lib/python3.10/dist-packages (from aiohttp->datasets->optimum) (1.4.1)\nRequirement already satisfied: multidict<7.0,>=4.5 in /usr/local/lib/python3.10/dist-packages (from aiohttp->datasets->optimum) (6.0.5)\nRequirement already satisfied: yarl<2.0,>=1.0 in /usr/local/lib/python3.10/dist-packages (from aiohttp->datasets->optimum) (1.9.4)\nRequirement already satisfied: async-timeout<5.0,>=4.0 in /usr/local/lib/python3.10/dist-packages (from aiohttp->datasets->optimum) (4.0.3)\nRequirement already satisfied: charset-normalizer<4,>=2 in /usr/local/lib/python3.10/dist-packages (from requests->huggingface-hub>=0.8.0->optimum) (3.3.2)\nRequirement already satisfied: idna<4,>=2.5 in /usr/local/lib/python3.10/dist-packages (from requests->huggingface-hub>=0.8.0->optimum) (3.7)\nRequirement already satisfied: urllib3<3,>=1.21.1 in /usr/local/lib/python3.10/dist-packages (from requests->huggingface-hub>=0.8.0->optimum) (2.0.7)\nRequirement already satisfied: certifi>=2017.4.17 in /usr/local/lib/python3.10/dist-packages (from requests->huggingface-hub>=0.8.0->optimum) (2024.6.2)\nRequirement already satisfied: MarkupSafe>=2.0 in /usr/local/lib/python3.10/dist-packages (from jinja2->torch>=1.11->optimum) (2.1.5)\nRequirement already satisfied: python-dateutil>=2.8.2 in /usr/local/lib/python3.10/dist-packages (from pandas->datasets->optimum) (2.8.2)\nRequirement already satisfied: pytz>=2020.1 in /usr/local/lib/python3.10/dist-packages (from pandas->datasets->optimum) (2023.4)\nRequirement already satisfied: tzdata>=2022.1 in /usr/local/lib/python3.10/dist-packages (from pandas->datasets->optimum) (2024.1)\nRequirement already satisfied: six>=1.5 in /usr/local/lib/python3.10/dist-packages (from python-dateutil>=2.8.2->pandas->datasets->optimum) (1.16.0)\nInstalling collected packages: humanfriendly, coloredlogs, optimum\nSuccessfully installed coloredlogs-15.0.1 humanfriendly-10.0 optimum-1.20.0\nCollecting bitsandbytes\n  Downloading bitsandbytes-0.43.1-py3-none-manylinux_2_24_x86_64.whl (119.8 MB)\n\u001b[2K     \u001b[90m━━━━━━━━━━━━━━━━━━━━━━━━━━━━━━━━━━━━━━━━\u001b[0m \u001b[32m119.8/119.8 MB\u001b[0m \u001b[31m8.4 MB/s\u001b[0m eta \u001b[36m0:00:00\u001b[0m\n\u001b[?25hRequirement already satisfied: torch in /usr/local/lib/python3.10/dist-packages (from bitsandbytes) (2.3.0+cu121)\nRequirement already satisfied: numpy in /usr/local/lib/python3.10/dist-packages (from bitsandbytes) (1.25.2)\nRequirement already satisfied: filelock in /usr/local/lib/python3.10/dist-packages (from torch->bitsandbytes) (3.15.1)\nRequirement already satisfied: typing-extensions>=4.8.0 in /usr/local/lib/python3.10/dist-packages (from torch->bitsandbytes) (4.12.2)\nRequirement already satisfied: sympy in /usr/local/lib/python3.10/dist-packages (from torch->bitsandbytes) (1.12.1)\nRequirement already satisfied: networkx in /usr/local/lib/python3.10/dist-packages (from torch->bitsandbytes) (3.3)\nRequirement already satisfied: jinja2 in /usr/local/lib/python3.10/dist-packages (from torch->bitsandbytes) (3.1.4)\nRequirement already satisfied: fsspec in /usr/local/lib/python3.10/dist-packages (from torch->bitsandbytes) (2023.6.0)\nRequirement already satisfied: nvidia-cuda-nvrtc-cu12==12.1.105 in /usr/local/lib/python3.10/dist-packages (from torch->bitsandbytes) (12.1.105)\nRequirement already satisfied: nvidia-cuda-runtime-cu12==12.1.105 in /usr/local/lib/python3.10/dist-packages (from torch->bitsandbytes) (12.1.105)\nRequirement already satisfied: nvidia-cuda-cupti-cu12==12.1.105 in /usr/local/lib/python3.10/dist-packages (from torch->bitsandbytes) (12.1.105)\nRequirement already satisfied: nvidia-cudnn-cu12==8.9.2.26 in /usr/local/lib/python3.10/dist-packages (from torch->bitsandbytes) (8.9.2.26)\nRequirement already satisfied: nvidia-cublas-cu12==12.1.3.1 in /usr/local/lib/python3.10/dist-packages (from torch->bitsandbytes) (12.1.3.1)\nRequirement already satisfied: nvidia-cufft-cu12==11.0.2.54 in /usr/local/lib/python3.10/dist-packages (from torch->bitsandbytes) (11.0.2.54)\nRequirement already satisfied: nvidia-curand-cu12==10.3.2.106 in /usr/local/lib/python3.10/dist-packages (from torch->bitsandbytes) (10.3.2.106)\nRequirement already satisfied: nvidia-cusolver-cu12==11.4.5.107 in /usr/local/lib/python3.10/dist-packages (from torch->bitsandbytes) (11.4.5.107)\nRequirement already satisfied: nvidia-cusparse-cu12==12.1.0.106 in /usr/local/lib/python3.10/dist-packages (from torch->bitsandbytes) (12.1.0.106)\nRequirement already satisfied: nvidia-nccl-cu12==2.20.5 in /usr/local/lib/python3.10/dist-packages (from torch->bitsandbytes) (2.20.5)\nRequirement already satisfied: nvidia-nvtx-cu12==12.1.105 in /usr/local/lib/python3.10/dist-packages (from torch->bitsandbytes) (12.1.105)\nRequirement already satisfied: triton==2.3.0 in /usr/local/lib/python3.10/dist-packages (from torch->bitsandbytes) (2.3.0)\nRequirement already satisfied: nvidia-nvjitlink-cu12 in /usr/local/lib/python3.10/dist-packages (from nvidia-cusolver-cu12==11.4.5.107->torch->bitsandbytes) (12.5.40)\nRequirement already satisfied: MarkupSafe>=2.0 in /usr/local/lib/python3.10/dist-packages (from jinja2->torch->bitsandbytes) (2.1.5)\nRequirement already satisfied: mpmath<1.4.0,>=1.1.0 in /usr/local/lib/python3.10/dist-packages (from sympy->torch->bitsandbytes) (1.3.0)\nInstalling collected packages: bitsandbytes\nSuccessfully installed bitsandbytes-0.43.1\n"
        }
      ],
      "execution_count": null,
      "metadata": {
        "colab": {
          "base_uri": "https://localhost:8080/"
        },
        "id": "61WhBuJgcpbx",
        "outputId": "7c0e0a9c-8811-4dcc-a9b1-9034c79b179e"
      }
    },
    {
      "cell_type": "code",
      "source": [
        "!pip install transformers[torch] -U"
      ],
      "outputs": [
        {
          "output_type": "stream",
          "name": "stdout",
          "text": "Requirement already satisfied: transformers[torch] in /usr/local/lib/python3.10/dist-packages (4.41.2)\nRequirement already satisfied: filelock in /usr/local/lib/python3.10/dist-packages (from transformers[torch]) (3.15.1)\nRequirement already satisfied: huggingface-hub<1.0,>=0.23.0 in /usr/local/lib/python3.10/dist-packages (from transformers[torch]) (0.23.4)\nRequirement already satisfied: numpy>=1.17 in /usr/local/lib/python3.10/dist-packages (from transformers[torch]) (1.25.2)\nRequirement already satisfied: packaging>=20.0 in /usr/local/lib/python3.10/dist-packages (from transformers[torch]) (24.1)\nRequirement already satisfied: pyyaml>=5.1 in /usr/local/lib/python3.10/dist-packages (from transformers[torch]) (6.0.1)\nRequirement already satisfied: regex!=2019.12.17 in /usr/local/lib/python3.10/dist-packages (from transformers[torch]) (2024.5.15)\nRequirement already satisfied: requests in /usr/local/lib/python3.10/dist-packages (from transformers[torch]) (2.32.3)\nRequirement already satisfied: tokenizers<0.20,>=0.19 in /usr/local/lib/python3.10/dist-packages (from transformers[torch]) (0.19.1)\nRequirement already satisfied: safetensors>=0.4.1 in /usr/local/lib/python3.10/dist-packages (from transformers[torch]) (0.4.3)\nRequirement already satisfied: tqdm>=4.27 in /usr/local/lib/python3.10/dist-packages (from transformers[torch]) (4.66.4)\nRequirement already satisfied: torch in /usr/local/lib/python3.10/dist-packages (from transformers[torch]) (2.3.0+cu121)\nRequirement already satisfied: accelerate>=0.21.0 in /usr/local/lib/python3.10/dist-packages (from transformers[torch]) (0.31.0)\nRequirement already satisfied: psutil in /usr/local/lib/python3.10/dist-packages (from accelerate>=0.21.0->transformers[torch]) (5.9.5)\nRequirement already satisfied: fsspec>=2023.5.0 in /usr/local/lib/python3.10/dist-packages (from huggingface-hub<1.0,>=0.23.0->transformers[torch]) (2023.6.0)\nRequirement already satisfied: typing-extensions>=3.7.4.3 in /usr/local/lib/python3.10/dist-packages (from huggingface-hub<1.0,>=0.23.0->transformers[torch]) (4.12.2)\nRequirement already satisfied: sympy in /usr/local/lib/python3.10/dist-packages (from torch->transformers[torch]) (1.12.1)\nRequirement already satisfied: networkx in /usr/local/lib/python3.10/dist-packages (from torch->transformers[torch]) (3.3)\nRequirement already satisfied: jinja2 in /usr/local/lib/python3.10/dist-packages (from torch->transformers[torch]) (3.1.4)\nRequirement already satisfied: nvidia-cuda-nvrtc-cu12==12.1.105 in /usr/local/lib/python3.10/dist-packages (from torch->transformers[torch]) (12.1.105)\nRequirement already satisfied: nvidia-cuda-runtime-cu12==12.1.105 in /usr/local/lib/python3.10/dist-packages (from torch->transformers[torch]) (12.1.105)\nRequirement already satisfied: nvidia-cuda-cupti-cu12==12.1.105 in /usr/local/lib/python3.10/dist-packages (from torch->transformers[torch]) (12.1.105)\nRequirement already satisfied: nvidia-cudnn-cu12==8.9.2.26 in /usr/local/lib/python3.10/dist-packages (from torch->transformers[torch]) (8.9.2.26)\nRequirement already satisfied: nvidia-cublas-cu12==12.1.3.1 in /usr/local/lib/python3.10/dist-packages (from torch->transformers[torch]) (12.1.3.1)\nRequirement already satisfied: nvidia-cufft-cu12==11.0.2.54 in /usr/local/lib/python3.10/dist-packages (from torch->transformers[torch]) (11.0.2.54)\nRequirement already satisfied: nvidia-curand-cu12==10.3.2.106 in /usr/local/lib/python3.10/dist-packages (from torch->transformers[torch]) (10.3.2.106)\nRequirement already satisfied: nvidia-cusolver-cu12==11.4.5.107 in /usr/local/lib/python3.10/dist-packages (from torch->transformers[torch]) (11.4.5.107)\nRequirement already satisfied: nvidia-cusparse-cu12==12.1.0.106 in /usr/local/lib/python3.10/dist-packages (from torch->transformers[torch]) (12.1.0.106)\nRequirement already satisfied: nvidia-nccl-cu12==2.20.5 in /usr/local/lib/python3.10/dist-packages (from torch->transformers[torch]) (2.20.5)\nRequirement already satisfied: nvidia-nvtx-cu12==12.1.105 in /usr/local/lib/python3.10/dist-packages (from torch->transformers[torch]) (12.1.105)\nRequirement already satisfied: triton==2.3.0 in /usr/local/lib/python3.10/dist-packages (from torch->transformers[torch]) (2.3.0)\nRequirement already satisfied: nvidia-nvjitlink-cu12 in /usr/local/lib/python3.10/dist-packages (from nvidia-cusolver-cu12==11.4.5.107->torch->transformers[torch]) (12.5.40)\nRequirement already satisfied: charset-normalizer<4,>=2 in /usr/local/lib/python3.10/dist-packages (from requests->transformers[torch]) (3.3.2)\nRequirement already satisfied: idna<4,>=2.5 in /usr/local/lib/python3.10/dist-packages (from requests->transformers[torch]) (3.7)\nRequirement already satisfied: urllib3<3,>=1.21.1 in /usr/local/lib/python3.10/dist-packages (from requests->transformers[torch]) (2.0.7)\nRequirement already satisfied: certifi>=2017.4.17 in /usr/local/lib/python3.10/dist-packages (from requests->transformers[torch]) (2024.6.2)\nRequirement already satisfied: MarkupSafe>=2.0 in /usr/local/lib/python3.10/dist-packages (from jinja2->torch->transformers[torch]) (2.1.5)\nRequirement already satisfied: mpmath<1.4.0,>=1.1.0 in /usr/local/lib/python3.10/dist-packages (from sympy->torch->transformers[torch]) (1.3.0)\n"
        }
      ],
      "execution_count": null,
      "metadata": {
        "colab": {
          "base_uri": "https://localhost:8080/"
        },
        "id": "QuCq4r-Gc8It",
        "outputId": "f886dac6-9203-418f-d989-d55639227f84"
      }
    },
    {
      "cell_type": "code",
      "source": [
        "import gc\n",
        "\n",
        "def free_gpu():\n",
        "  torch.cuda.empty_cache()\n",
        "  gc.collect()"
      ],
      "outputs": [],
      "execution_count": null,
      "metadata": {
        "id": "NQNZND28J68v"
      }
    },
    {
      "cell_type": "code",
      "source": [
        "from torch import cuda\n",
        "device = 'cuda'if cuda.is_available() else 'cpu'\n",
        "!nvidia-smi"
      ],
      "outputs": [
        {
          "output_type": "stream",
          "name": "stdout",
          "text": "Sun Jun 23 05:21:13 2024       \n+---------------------------------------------------------------------------------------+\n| NVIDIA-SMI 535.104.05             Driver Version: 535.104.05   CUDA Version: 12.2     |\n|-----------------------------------------+----------------------+----------------------+\n| GPU  Name                 Persistence-M | Bus-Id        Disp.A | Volatile Uncorr. ECC |\n| Fan  Temp   Perf          Pwr:Usage/Cap |         Memory-Usage | GPU-Util  Compute M. |\n|                                         |                      |               MIG M. |\n|=========================================+======================+======================|\n|   0  Tesla T4                       Off | 00000000:00:04.0 Off |                    0 |\n| N/A   48C    P8               9W /  70W |      3MiB / 15360MiB |      0%      Default |\n|                                         |                      |                  N/A |\n+-----------------------------------------+----------------------+----------------------+\n                                                                                         \n+---------------------------------------------------------------------------------------+\n| Processes:                                                                            |\n|  GPU   GI   CI        PID   Type   Process name                            GPU Memory |\n|        ID   ID                                                             Usage      |\n|=======================================================================================|\n|  No running processes found                                                           |\n+---------------------------------------------------------------------------------------+\n"
        }
      ],
      "execution_count": null,
      "metadata": {
        "colab": {
          "base_uri": "https://localhost:8080/"
        },
        "id": "_sOd44ChFz6e",
        "outputId": "eb00ddc3-8e97-46b6-c606-7438cbf596ad"
      }
    },
    {
      "cell_type": "code",
      "source": [
        "print(torch.__version__)\n",
        "print(torch.version.cuda)"
      ],
      "outputs": [
        {
          "output_type": "stream",
          "name": "stdout",
          "text": "2.3.0+cu121\n12.1\n"
        }
      ],
      "execution_count": null,
      "metadata": {
        "colab": {
          "base_uri": "https://localhost:8080/"
        },
        "id": "YpCFgDIiEEYv",
        "outputId": "92186220-5231-4e00-fb3f-8f243b6afc2e"
      }
    },
    {
      "cell_type": "code",
      "source": [
        "import torch, os\n",
        "import numpy as np\n",
        "import random\n",
        "\n",
        "seed = 42\n",
        "torch.manual_seed(seed)\n",
        "torch.cuda.manual_seed(seed)\n",
        "torch.cuda.manual_seed_all(seed)\n",
        "random.seed(seed)\n",
        "np.random.seed(seed)\n",
        "os.environ['PYTHONHASHSEED'] = str(seed)\n",
        "torch.backends.cudnn.deterministic = True\n",
        "torch.backends.cudnn.benchmark = False\n"
      ],
      "outputs": [],
      "execution_count": null,
      "metadata": {
        "id": "ZqhDhclmGSoi"
      }
    },
    {
      "cell_type": "code",
      "source": [
        "# Constants\n",
        "# MODELNAME ='iwslt15-en-vi-bilstm.model'\n",
        "# EPOCH = 110\n",
        "# BATCHSIZE = 32\n",
        "# LR = 0.0001\n",
        "DEVICE = 'cuda' if torch.cuda.is_available() else 'cpu'\n",
        "\n",
        "# Download and extract data\n",
        "def iwslt15(train_test):\n",
        "    url ='https://github.com/stefan-it/nmt-en-vi/raw/master/data/'\n",
        "    r = requests.get(url + train_test + '-en-vi.tgz')\n",
        "    filename = train_test + '-en-vi.tgz'\n",
        "    with open(filename, 'wb') as f:\n",
        "        f.write(r.content)\n",
        "        tarfile.open(filename, \"r:gz\").extractall(\"iwslt15\")\n",
        "\n",
        "# Load data\n",
        "iwslt15('train')\n",
        "iwslt15('test-2013')"
      ],
      "outputs": [],
      "execution_count": null,
      "metadata": {
        "id": "Ye3N9cMAGX23"
      }
    },
    {
      "cell_type": "code",
      "source": [
        "import os\n",
        "\n",
        "# List all files in the current directory\n",
        "files = os.listdir()\n",
        "\n",
        "# Print the list of files\n",
        "for file in files:\n",
        "    print(file)"
      ],
      "outputs": [
        {
          "output_type": "stream",
          "name": "stdout",
          "text": ".config\ntest-2013-en-vi.tgz\ntrain-en-vi.tgz\niwslt15\ngdrive\nsample_data\n"
        }
      ],
      "execution_count": null,
      "metadata": {
        "colab": {
          "base_uri": "https://localhost:8080/"
        },
        "id": "J4qzherVLM8q",
        "outputId": "a4ffeb8c-c791-4675-c7ef-38877b0c2bd8"
      }
    },
    {
      "cell_type": "code",
      "source": [
        "import tarfile\n",
        "import os\n",
        "\n",
        "# Open the .tgz file\n",
        "tar = tarfile.open('train-en-vi.tgz', 'r:gz')\n",
        "\n",
        "# Extract all files into the current directory\n",
        "tar.extractall()\n",
        "\n",
        "# Close the .tgz file\n",
        "tar.close()"
      ],
      "outputs": [],
      "execution_count": null,
      "metadata": {
        "id": "2BDa0PAjKVbS"
      }
    },
    {
      "cell_type": "code",
      "source": [
        "!pip install bpemb"
      ],
      "outputs": [
        {
          "output_type": "stream",
          "name": "stdout",
          "text": "Collecting bpemb\n  Downloading bpemb-0.3.5-py3-none-any.whl (19 kB)\nRequirement already satisfied: gensim in /usr/local/lib/python3.10/dist-packages (from bpemb) (4.3.2)\nRequirement already satisfied: numpy in /usr/local/lib/python3.10/dist-packages (from bpemb) (1.25.2)\nRequirement already satisfied: requests in /usr/local/lib/python3.10/dist-packages (from bpemb) (2.32.3)\nRequirement already satisfied: sentencepiece in /usr/local/lib/python3.10/dist-packages (from bpemb) (0.1.99)\nRequirement already satisfied: tqdm in /usr/local/lib/python3.10/dist-packages (from bpemb) (4.66.4)\nRequirement already satisfied: scipy>=1.7.0 in /usr/local/lib/python3.10/dist-packages (from gensim->bpemb) (1.11.4)\nRequirement already satisfied: smart-open>=1.8.1 in /usr/local/lib/python3.10/dist-packages (from gensim->bpemb) (7.0.4)\nRequirement already satisfied: charset-normalizer<4,>=2 in /usr/local/lib/python3.10/dist-packages (from requests->bpemb) (3.3.2)\nRequirement already satisfied: idna<4,>=2.5 in /usr/local/lib/python3.10/dist-packages (from requests->bpemb) (3.7)\nRequirement already satisfied: urllib3<3,>=1.21.1 in /usr/local/lib/python3.10/dist-packages (from requests->bpemb) (2.0.7)\nRequirement already satisfied: certifi>=2017.4.17 in /usr/local/lib/python3.10/dist-packages (from requests->bpemb) (2024.6.2)\nRequirement already satisfied: wrapt in /usr/local/lib/python3.10/dist-packages (from smart-open>=1.8.1->gensim->bpemb) (1.14.1)\nInstalling collected packages: bpemb\nSuccessfully installed bpemb-0.3.5\n"
        }
      ],
      "execution_count": null,
      "metadata": {
        "colab": {
          "base_uri": "https://localhost:8080/"
        },
        "id": "-8k54LRCHjoC",
        "outputId": "ce76d312-3a14-434b-b9b9-c907f02daae4"
      }
    },
    {
      "cell_type": "code",
      "source": [
        "import pandas as pd\n",
        "import numpy as np\n",
        "from nltk.tokenize import RegexpTokenizer\n",
        "\n",
        "# Đọc file 'train.en' vào DataFrame\n",
        "df_train_en = pd.read_csv('train.en', delimiter=\"\\t\", header=None)\n",
        "rtpe =[121099,121582]\n",
        "print(\"Before replacement:\")\n",
        "values_before_replacement = []\n",
        "for row in rtpe:\n",
        "    if row < len(df_train_en):\n",
        "        values_before_replacement.append((row, df_train_en.iloc[row, 0]))\n",
        "        print(f\"Row {row}: {df_train_en.iloc[row, 0]}\")\n",
        "# Thay thế các giá trị không hợp lệ bằng NaN trong DataFrame 'df_train_vi'\n",
        "for row in rtpe:\n",
        "    if row < len(df_train_en):\n",
        "        df_train_en.at[row, 0] = np.nan\n",
        "\n",
        "df_train_en.dropna(inplace=True)\n",
        "# Đọc file 'train.vi' vào DataFrame\n",
        "df_train_vi = pd.read_csv('train.vi', delimiter=\"\\t\", header=None)\n",
        "\n",
        "# Danh sách các dòng cần thay thế bằng NaN, đã trừ đi 2 để đúng với DataFrame\n",
        "rows_to_replace = [469, 8695, 9762, 10707, 21738, 26408, 29494, 38600, 41017, 48825, 50894, 51586,\n",
        "                   54158, 56297, 57140, 57746, 58330, 66260, 68755, 73578, 76896, 77188, 79669,\n",
        "                   87612, 88637, 89931, 94060, 104125, 104677, 107006, 112823, 115182, 116898,\n",
        "                   123074, 124916, 125209, 128025,130121, 130770]\n",
        "# In ra các giá trị của các ô trước khi thay thế\n",
        "print(\"Before replacement:\")\n",
        "values_before_replacement = []\n",
        "for row in rows_to_replace:\n",
        "    if row < len(df_train_vi):\n",
        "        values_before_replacement.append((row, df_train_vi.iloc[row, 0]))\n",
        "        print(f\"Row {row}: {df_train_vi.iloc[row, 0]}\")\n",
        "\n",
        "# Thay thế các giá trị không hợp lệ bằng NaN trong DataFrame 'df_train_vi'\n",
        "for row in rows_to_replace:\n",
        "    if row < len(df_train_vi):\n",
        "        df_train_vi.at[row, 0] = np.nan\n",
        "\n",
        "# In ra các giá trị đã thay thế để kiểm tra xem các giá trị có đúng là NaN không\n",
        "print(\"\\nReplaced values (should be NaN):\")\n",
        "for row in rows_to_replace:\n",
        "    if row < len(df_train_vi):\n",
        "        print(f\"Row {row}: {df_train_vi.iloc[row, 0]}\")\n",
        "df_train_vi.dropna(inplace=True)\n",
        "\n",
        "# Đổi tên các cột\n",
        "df_train_en.columns = ['en']\n",
        "df_train_vi.columns = ['vi']\n",
        "\n",
        "# Nối hai DataFrame lại với nhau\n",
        "df_train = pd.concat([df_train_vi.reset_index(drop=True), df_train_en.reset_index(drop=True)], axis=1)\n",
        "\n",
        "# Chuyển cột 'en' sang kiểu string\n",
        "df_train['en'] = df_train['en'].astype(str)\n"
      ],
      "outputs": [
        {
          "output_type": "stream",
          "name": "stdout",
          "text": "Before replacement:\nRow 121099: .\nRow 121582: .\nBefore replacement:\nRow 469: ̣\nRow 8695: Khán giả vỗ tay\nRow 9762: Vỗ tay .\nRow 10707: vỗ tay\nRow 21738: Vỗ tay\nRow 26408: vỗ tay\nRow 29494: Vỗ tay .\nRow 38600: &quot; tán thưởng &quot;\nRow 41017: Vỗ tay\nRow 48825: Vỗ tay\nRow 50894: .\nRow 51586: .\nRow 54158: Vỗ tay\nRow 56297: .\nRow 57140: Vỗ tay\nRow 57746: .\nRow 58330: Vỗ tay\nRow 66260: ̣\nRow 68755: Cười\nRow 73578: Vỗ tay\nRow 76896: Vỗ tay\nRow 77188: .\nRow 79669: .\nRow 87612: .\nRow 88637: .\nRow 89931: Vỗ tay\nRow 94060: Vỗ tay .\nRow 104125: Vỗ tay\nRow 104677: Vỗ tay\nRow 107006: Vỗ tay\nRow 112823: vỗ tay\nRow 115182: Vỗ tay\nRow 116898: Vỗ tay .\nRow 123074: Cám ơn\nRow 124916: .\nRow 125209: .\nRow 128025: .\nRow 130121: có những giấc mơ đẹp .\nRow 130770: .\n\nReplaced values (should be NaN):\nRow 469: nan\nRow 8695: nan\nRow 9762: nan\nRow 10707: nan\nRow 21738: nan\nRow 26408: nan\nRow 29494: nan\nRow 38600: nan\nRow 41017: nan\nRow 48825: nan\nRow 50894: nan\nRow 51586: nan\nRow 54158: nan\nRow 56297: nan\nRow 57140: nan\nRow 57746: nan\nRow 58330: nan\nRow 66260: nan\nRow 68755: nan\nRow 73578: nan\nRow 76896: nan\nRow 77188: nan\nRow 79669: nan\nRow 87612: nan\nRow 88637: nan\nRow 89931: nan\nRow 94060: nan\nRow 104125: nan\nRow 104677: nan\nRow 107006: nan\nRow 112823: nan\nRow 115182: nan\nRow 116898: nan\nRow 123074: nan\nRow 124916: nan\nRow 125209: nan\nRow 128025: nan\nRow 130121: nan\nRow 130770: nan\n"
        }
      ],
      "execution_count": null,
      "metadata": {
        "colab": {
          "base_uri": "https://localhost:8080/"
        },
        "id": "l2olguHTH_60",
        "outputId": "ba8db25c-a00c-4e88-eb3d-d1ceb950a093"
      }
    },
    {
      "cell_type": "code",
      "source": [
        "from bpemb import BPEmb\n",
        "\n",
        "bpemb_vi = BPEmb(lang=\"vi\", vs=50000, dim=200)\n",
        "bpemb_en = BPEmb(lang=\"en\", vs=50000, dim=200)"
      ],
      "outputs": [
        {
          "output_type": "stream",
          "name": "stdout",
          "text": "downloading https://nlp.h-its.org/bpemb/vi/vi.wiki.bpe.vs50000.model\n"
        },
        {
          "output_type": "stream",
          "name": "stderr",
          "text": "100%|██████████| 1041864/1041864 [00:00<00:00, 1392797.67B/s]\n"
        },
        {
          "output_type": "stream",
          "name": "stdout",
          "text": "downloading https://nlp.h-its.org/bpemb/vi/vi.wiki.bpe.vs50000.d200.w2v.bin.tar.gz\n"
        },
        {
          "output_type": "stream",
          "name": "stderr",
          "text": "100%|██████████| 37483223/37483223 [00:02<00:00, 14283996.14B/s]\n"
        },
        {
          "output_type": "stream",
          "name": "stdout",
          "text": "downloading https://nlp.h-its.org/bpemb/en/en.wiki.bpe.vs50000.model\n"
        },
        {
          "output_type": "stream",
          "name": "stderr",
          "text": "100%|██████████| 1100587/1100587 [00:00<00:00, 1480697.21B/s]\n"
        },
        {
          "output_type": "stream",
          "name": "stdout",
          "text": "downloading https://nlp.h-its.org/bpemb/en/en.wiki.bpe.vs50000.d200.w2v.bin.tar.gz\n"
        },
        {
          "output_type": "stream",
          "name": "stderr",
          "text": "100%|██████████| 37527847/37527847 [00:03<00:00, 12259737.49B/s]\n"
        }
      ],
      "execution_count": null,
      "metadata": {
        "colab": {
          "base_uri": "https://localhost:8080/"
        },
        "id": "eOzMviDLHg1-",
        "outputId": "d963f659-d81d-4cf1-b373-3df15f07249d"
      }
    },
    {
      "cell_type": "code",
      "source": [
        "def tokenizer(text, lang):\n",
        "  if lang == \"vi\":\n",
        "    text_pp = \" \".join(bpemb_vi.encode(text))\n",
        "  else:\n",
        "    text_pp = \" \".join(bpemb_en.encode(text))\n",
        "\n",
        "  return text_pp"
      ],
      "outputs": [],
      "execution_count": null,
      "metadata": {
        "id": "mmqPjZbBHmDm"
      }
    },
    {
      "cell_type": "code",
      "source": [
        "def token_len(text):\n",
        "    return len(text.replace(\"▁\", \"\").split(\" \"))"
      ],
      "outputs": [],
      "execution_count": null,
      "metadata": {
        "id": "t1UEDxs9HpSE"
      }
    },
    {
      "cell_type": "code",
      "source": [
        "df_train[\"vi_token\"] = df_train[\"vi\"].apply(lambda x: tokenizer(x, \"vi\"))\n",
        "df_train[\"en_token\"] = df_train[\"en\"].apply(lambda x: tokenizer(x, \"en\"))\n",
        "\n",
        "# In ra số lượng giá trị không phải là NaN trong mỗi cột\n",
        "print(\"\\nCount of non-NaN values in each column:\")\n",
        "print(df_train.count())\n"
      ],
      "outputs": [
        {
          "output_type": "stream",
          "name": "stdout",
          "text": "\nCount of non-NaN values in each column:\nvi          133166\nen          133166\nvi_token    133166\nen_token    133166\ndtype: int64\n"
        }
      ],
      "execution_count": null,
      "metadata": {
        "colab": {
          "base_uri": "https://localhost:8080/"
        },
        "id": "QpgRovkcL9Ag",
        "outputId": "001ce43e-c997-4b09-97e9-7007ec8a6169"
      }
    },
    {
      "cell_type": "code",
      "source": [
        "tokenizer(df_train[\"vi\"][0], \"vi\")"
      ],
      "outputs": [
        {
          "output_type": "execute_result",
          "execution_count": 20,
          "data": {
            "application/vnd.google.colaboratory.intrinsic+json": {
              "type": "string"
            },
            "text/plain": "'▁khoa ▁học ▁đằng ▁sau ▁một ▁tiêu ▁đề ▁về ▁khí ▁hậu'"
          },
          "metadata": {}
        }
      ],
      "execution_count": null,
      "metadata": {
        "colab": {
          "base_uri": "https://localhost:8080/",
          "height": 35
        },
        "id": "zFxKYxiLHrDK",
        "outputId": "0d23eeb8-6442-4b98-a07e-641d55a1428f"
      }
    },
    {
      "cell_type": "code",
      "source": [
        "df_train = df_train.head(133001)\n",
        "df_train"
      ],
      "outputs": [
        {
          "output_type": "execute_result",
          "execution_count": 21,
          "data": {
            "application/vnd.google.colaboratory.intrinsic+json": {
              "type": "dataframe",
              "variable_name": "df_train"
            },
            "text/html": "\n  <div id=\"df-a5bbb605-3927-4c26-8e48-03ef092f3693\" class=\"colab-df-container\">\n    <div>\n<style scoped>\n    .dataframe tbody tr th:only-of-type {\n        vertical-align: middle;\n    }\n\n    .dataframe tbody tr th {\n        vertical-align: top;\n    }\n\n    .dataframe thead th {\n        text-align: right;\n    }\n</style>\n<table border=\"1\" class=\"dataframe\">\n  <thead>\n    <tr style=\"text-align: right;\">\n      <th></th>\n      <th>vi</th>\n      <th>en</th>\n      <th>vi_token</th>\n      <th>en_token</th>\n    </tr>\n  </thead>\n  <tbody>\n    <tr>\n      <th>0</th>\n      <td>Khoa học đằng sau một tiêu đề về khí hậu</td>\n      <td>Rachel Pike : The science behind a climate hea...</td>\n      <td>▁khoa ▁học ▁đằng ▁sau ▁một ▁tiêu ▁đề ▁về ▁khí ...</td>\n      <td>▁rachel ▁pike ▁: ▁the ▁science ▁behind ▁a ▁cli...</td>\n    </tr>\n    <tr>\n      <th>1</th>\n      <td>Trong 4 phút , chuyên gia hoá học khí quyển Ra...</td>\n      <td>In 4 minutes , atmospheric chemist Rachel Pike...</td>\n      <td>▁trong ▁0 ▁phút ▁, ▁chuyên ▁gia ▁hoá ▁học ▁khí...</td>\n      <td>▁in ▁0 ▁minutes ▁, ▁atmospheric ▁chemist ▁rach...</td>\n    </tr>\n    <tr>\n      <th>2</th>\n      <td>Tôi muốn cho các bạn biết về sự to lớn của nhữ...</td>\n      <td>I &amp;apos;d like to talk to you today about the ...</td>\n      <td>▁tôi ▁muốn ▁cho ▁các ▁bạn ▁biết ▁về ▁sự ▁to ▁l...</td>\n      <td>▁i ▁&amp; ap os ; d ▁like ▁to ▁talk ▁to ▁you ▁toda...</td>\n    </tr>\n    <tr>\n      <th>3</th>\n      <td>Có những dòng trông như thế này khi bàn về biế...</td>\n      <td>Headlines that look like this when they have t...</td>\n      <td>▁có ▁những ▁dòng ▁trông ▁như ▁thế ▁này ▁khi ▁b...</td>\n      <td>▁headlines ▁that ▁look ▁like ▁this ▁when ▁they...</td>\n    </tr>\n    <tr>\n      <th>4</th>\n      <td>Cả hai đều là một nhánh của cùng một lĩnh vực ...</td>\n      <td>They are both two branches of the same field o...</td>\n      <td>▁cả ▁hai ▁đều ▁là ▁một ▁nhánh ▁của ▁cùng ▁một ...</td>\n      <td>▁they ▁are ▁both ▁two ▁branches ▁of ▁the ▁same...</td>\n    </tr>\n    <tr>\n      <th>...</th>\n      <td>...</td>\n      <td>...</td>\n      <td>...</td>\n      <td>...</td>\n    </tr>\n    <tr>\n      <th>132996</th>\n      <td>Mà chính hệ thống y tế mà tôi góp phần , đã là...</td>\n      <td>Maybe the system , of which I was a part , was...</td>\n      <td>▁mà ▁chính ▁hệ ▁thống ▁y ▁tế ▁mà ▁tôi ▁góp ▁ph...</td>\n      <td>▁maybe ▁the ▁system ▁, ▁of ▁which ▁i ▁was ▁a ▁...</td>\n    </tr>\n    <tr>\n      <th>132997</th>\n      <td>Nếu giờ đây cô đang xem chương trình này , tôi...</td>\n      <td>If you &amp;apos;re watching this now , I hope you...</td>\n      <td>▁nếu ▁giờ ▁đây ▁cô ▁đang ▁xem ▁chương ▁trình ▁...</td>\n      <td>▁if ▁you ▁&amp; ap os ; re ▁watching ▁this ▁now ▁,...</td>\n    </tr>\n    <tr>\n      <th>132998</th>\n      <td>Paul Pholeros : Làm sao để bớt nghèo khổ ? Hãy...</td>\n      <td>Paul Pholeros : How to reduce poverty ? Fix homes</td>\n      <td>▁paul ▁ph ol eros ▁: ▁làm ▁sao ▁để ▁bớt ▁nghèo...</td>\n      <td>▁paul ▁ph ol eros ▁: ▁how ▁to ▁reduce ▁poverty...</td>\n    </tr>\n    <tr>\n      <th>132999</th>\n      <td>Năm 1985 , kiến trúc sư Paul Pholeros được gia...</td>\n      <td>In 1985 , architect Paul Pholeros was challeng...</td>\n      <td>▁năm ▁0000 ▁, ▁kiến ▁trúc ▁sư ▁paul ▁ph ol ero...</td>\n      <td>▁in ▁0000 ▁, ▁architect ▁paul ▁ph ol eros ▁was...</td>\n    </tr>\n    <tr>\n      <th>133000</th>\n      <td>Mong muốn xoá nghèo là 1 mục tiêu vĩ đại .</td>\n      <td>The idea of eliminating poverty is a great goal .</td>\n      <td>▁mong ▁muốn ▁xoá ▁nghèo ▁là ▁0 ▁mục ▁tiêu ▁vĩ ...</td>\n      <td>▁the ▁idea ▁of ▁eliminating ▁poverty ▁is ▁a ▁g...</td>\n    </tr>\n  </tbody>\n</table>\n<p>133001 rows × 4 columns</p>\n</div>\n    <div class=\"colab-df-buttons\">\n\n  <div class=\"colab-df-container\">\n    <button class=\"colab-df-convert\" onclick=\"convertToInteractive('df-a5bbb605-3927-4c26-8e48-03ef092f3693')\"\n            title=\"Convert this dataframe to an interactive table.\"\n            style=\"display:none;\">\n\n  <svg xmlns=\"http://www.w3.org/2000/svg\" height=\"24px\" viewBox=\"0 -960 960 960\">\n    <path d=\"M120-120v-720h720v720H120Zm60-500h600v-160H180v160Zm220 220h160v-160H400v160Zm0 220h160v-160H400v160ZM180-400h160v-160H180v160Zm440 0h160v-160H620v160ZM180-180h160v-160H180v160Zm440 0h160v-160H620v160Z\"/>\n  </svg>\n    </button>\n\n  <style>\n    .colab-df-container {\n      display:flex;\n      gap: 12px;\n    }\n\n    .colab-df-convert {\n      background-color: #E8F0FE;\n      border: none;\n      border-radius: 50%;\n      cursor: pointer;\n      display: none;\n      fill: #1967D2;\n      height: 32px;\n      padding: 0 0 0 0;\n      width: 32px;\n    }\n\n    .colab-df-convert:hover {\n      background-color: #E2EBFA;\n      box-shadow: 0px 1px 2px rgba(60, 64, 67, 0.3), 0px 1px 3px 1px rgba(60, 64, 67, 0.15);\n      fill: #174EA6;\n    }\n\n    .colab-df-buttons div {\n      margin-bottom: 4px;\n    }\n\n    [theme=dark] .colab-df-convert {\n      background-color: #3B4455;\n      fill: #D2E3FC;\n    }\n\n    [theme=dark] .colab-df-convert:hover {\n      background-color: #434B5C;\n      box-shadow: 0px 1px 3px 1px rgba(0, 0, 0, 0.15);\n      filter: drop-shadow(0px 1px 2px rgba(0, 0, 0, 0.3));\n      fill: #FFFFFF;\n    }\n  </style>\n\n    <script>\n      const buttonEl =\n        document.querySelector('#df-a5bbb605-3927-4c26-8e48-03ef092f3693 button.colab-df-convert');\n      buttonEl.style.display =\n        google.colab.kernel.accessAllowed ? 'block' : 'none';\n\n      async function convertToInteractive(key) {\n        const element = document.querySelector('#df-a5bbb605-3927-4c26-8e48-03ef092f3693');\n        const dataTable =\n          await google.colab.kernel.invokeFunction('convertToInteractive',\n                                                    [key], {});\n        if (!dataTable) return;\n\n        const docLinkHtml = 'Like what you see? Visit the ' +\n          '<a target=\"_blank\" href=https://colab.research.google.com/notebooks/data_table.ipynb>data table notebook</a>'\n          + ' to learn more about interactive tables.';\n        element.innerHTML = '';\n        dataTable['output_type'] = 'display_data';\n        await google.colab.output.renderOutput(dataTable, element);\n        const docLink = document.createElement('div');\n        docLink.innerHTML = docLinkHtml;\n        element.appendChild(docLink);\n      }\n    </script>\n  </div>\n\n\n<div id=\"df-795c91c2-d598-4daf-9959-de9b234fa0a8\">\n  <button class=\"colab-df-quickchart\" onclick=\"quickchart('df-795c91c2-d598-4daf-9959-de9b234fa0a8')\"\n            title=\"Suggest charts\"\n            style=\"display:none;\">\n\n<svg xmlns=\"http://www.w3.org/2000/svg\" height=\"24px\"viewBox=\"0 0 24 24\"\n     width=\"24px\">\n    <g>\n        <path d=\"M19 3H5c-1.1 0-2 .9-2 2v14c0 1.1.9 2 2 2h14c1.1 0 2-.9 2-2V5c0-1.1-.9-2-2-2zM9 17H7v-7h2v7zm4 0h-2V7h2v10zm4 0h-2v-4h2v4z\"/>\n    </g>\n</svg>\n  </button>\n\n<style>\n  .colab-df-quickchart {\n      --bg-color: #E8F0FE;\n      --fill-color: #1967D2;\n      --hover-bg-color: #E2EBFA;\n      --hover-fill-color: #174EA6;\n      --disabled-fill-color: #AAA;\n      --disabled-bg-color: #DDD;\n  }\n\n  [theme=dark] .colab-df-quickchart {\n      --bg-color: #3B4455;\n      --fill-color: #D2E3FC;\n      --hover-bg-color: #434B5C;\n      --hover-fill-color: #FFFFFF;\n      --disabled-bg-color: #3B4455;\n      --disabled-fill-color: #666;\n  }\n\n  .colab-df-quickchart {\n    background-color: var(--bg-color);\n    border: none;\n    border-radius: 50%;\n    cursor: pointer;\n    display: none;\n    fill: var(--fill-color);\n    height: 32px;\n    padding: 0;\n    width: 32px;\n  }\n\n  .colab-df-quickchart:hover {\n    background-color: var(--hover-bg-color);\n    box-shadow: 0 1px 2px rgba(60, 64, 67, 0.3), 0 1px 3px 1px rgba(60, 64, 67, 0.15);\n    fill: var(--button-hover-fill-color);\n  }\n\n  .colab-df-quickchart-complete:disabled,\n  .colab-df-quickchart-complete:disabled:hover {\n    background-color: var(--disabled-bg-color);\n    fill: var(--disabled-fill-color);\n    box-shadow: none;\n  }\n\n  .colab-df-spinner {\n    border: 2px solid var(--fill-color);\n    border-color: transparent;\n    border-bottom-color: var(--fill-color);\n    animation:\n      spin 1s steps(1) infinite;\n  }\n\n  @keyframes spin {\n    0% {\n      border-color: transparent;\n      border-bottom-color: var(--fill-color);\n      border-left-color: var(--fill-color);\n    }\n    20% {\n      border-color: transparent;\n      border-left-color: var(--fill-color);\n      border-top-color: var(--fill-color);\n    }\n    30% {\n      border-color: transparent;\n      border-left-color: var(--fill-color);\n      border-top-color: var(--fill-color);\n      border-right-color: var(--fill-color);\n    }\n    40% {\n      border-color: transparent;\n      border-right-color: var(--fill-color);\n      border-top-color: var(--fill-color);\n    }\n    60% {\n      border-color: transparent;\n      border-right-color: var(--fill-color);\n    }\n    80% {\n      border-color: transparent;\n      border-right-color: var(--fill-color);\n      border-bottom-color: var(--fill-color);\n    }\n    90% {\n      border-color: transparent;\n      border-bottom-color: var(--fill-color);\n    }\n  }\n</style>\n\n  <script>\n    async function quickchart(key) {\n      const quickchartButtonEl =\n        document.querySelector('#' + key + ' button');\n      quickchartButtonEl.disabled = true;  // To prevent multiple clicks.\n      quickchartButtonEl.classList.add('colab-df-spinner');\n      try {\n        const charts = await google.colab.kernel.invokeFunction(\n            'suggestCharts', [key], {});\n      } catch (error) {\n        console.error('Error during call to suggestCharts:', error);\n      }\n      quickchartButtonEl.classList.remove('colab-df-spinner');\n      quickchartButtonEl.classList.add('colab-df-quickchart-complete');\n    }\n    (() => {\n      let quickchartButtonEl =\n        document.querySelector('#df-795c91c2-d598-4daf-9959-de9b234fa0a8 button');\n      quickchartButtonEl.style.display =\n        google.colab.kernel.accessAllowed ? 'block' : 'none';\n    })();\n  </script>\n</div>\n\n  <div id=\"id_a41698f2-bc78-4b2d-97fd-f44beb1502a1\">\n    <style>\n      .colab-df-generate {\n        background-color: #E8F0FE;\n        border: none;\n        border-radius: 50%;\n        cursor: pointer;\n        display: none;\n        fill: #1967D2;\n        height: 32px;\n        padding: 0 0 0 0;\n        width: 32px;\n      }\n\n      .colab-df-generate:hover {\n        background-color: #E2EBFA;\n        box-shadow: 0px 1px 2px rgba(60, 64, 67, 0.3), 0px 1px 3px 1px rgba(60, 64, 67, 0.15);\n        fill: #174EA6;\n      }\n\n      [theme=dark] .colab-df-generate {\n        background-color: #3B4455;\n        fill: #D2E3FC;\n      }\n\n      [theme=dark] .colab-df-generate:hover {\n        background-color: #434B5C;\n        box-shadow: 0px 1px 3px 1px rgba(0, 0, 0, 0.15);\n        filter: drop-shadow(0px 1px 2px rgba(0, 0, 0, 0.3));\n        fill: #FFFFFF;\n      }\n    </style>\n    <button class=\"colab-df-generate\" onclick=\"generateWithVariable('df_train')\"\n            title=\"Generate code using this dataframe.\"\n            style=\"display:none;\">\n\n  <svg xmlns=\"http://www.w3.org/2000/svg\" height=\"24px\"viewBox=\"0 0 24 24\"\n       width=\"24px\">\n    <path d=\"M7,19H8.4L18.45,9,17,7.55,7,17.6ZM5,21V16.75L18.45,3.32a2,2,0,0,1,2.83,0l1.4,1.43a1.91,1.91,0,0,1,.58,1.4,1.91,1.91,0,0,1-.58,1.4L9.25,21ZM18.45,9,17,7.55Zm-12,3A5.31,5.31,0,0,0,4.9,8.1,5.31,5.31,0,0,0,1,6.5,5.31,5.31,0,0,0,4.9,4.9,5.31,5.31,0,0,0,6.5,1,5.31,5.31,0,0,0,8.1,4.9,5.31,5.31,0,0,0,12,6.5,5.46,5.46,0,0,0,6.5,12Z\"/>\n  </svg>\n    </button>\n    <script>\n      (() => {\n      const buttonEl =\n        document.querySelector('#id_a41698f2-bc78-4b2d-97fd-f44beb1502a1 button.colab-df-generate');\n      buttonEl.style.display =\n        google.colab.kernel.accessAllowed ? 'block' : 'none';\n\n      buttonEl.onclick = () => {\n        google.colab.notebook.generateWithVariable('df_train');\n      }\n      })();\n    </script>\n  </div>\n\n    </div>\n  </div>\n",
            "text/plain": "                                                       vi  \\\n0                Khoa học đằng sau một tiêu đề về khí hậu   \n1       Trong 4 phút , chuyên gia hoá học khí quyển Ra...   \n2       Tôi muốn cho các bạn biết về sự to lớn của nhữ...   \n3       Có những dòng trông như thế này khi bàn về biế...   \n4       Cả hai đều là một nhánh của cùng một lĩnh vực ...   \n...                                                   ...   \n132996  Mà chính hệ thống y tế mà tôi góp phần , đã là...   \n132997  Nếu giờ đây cô đang xem chương trình này , tôi...   \n132998  Paul Pholeros : Làm sao để bớt nghèo khổ ? Hãy...   \n132999  Năm 1985 , kiến trúc sư Paul Pholeros được gia...   \n133000         Mong muốn xoá nghèo là 1 mục tiêu vĩ đại .   \n\n                                                       en  \\\n0       Rachel Pike : The science behind a climate hea...   \n1       In 4 minutes , atmospheric chemist Rachel Pike...   \n2       I &apos;d like to talk to you today about the ...   \n3       Headlines that look like this when they have t...   \n4       They are both two branches of the same field o...   \n...                                                   ...   \n132996  Maybe the system , of which I was a part , was...   \n132997  If you &apos;re watching this now , I hope you...   \n132998  Paul Pholeros : How to reduce poverty ? Fix homes   \n132999  In 1985 , architect Paul Pholeros was challeng...   \n133000  The idea of eliminating poverty is a great goal .   \n\n                                                 vi_token  \\\n0       ▁khoa ▁học ▁đằng ▁sau ▁một ▁tiêu ▁đề ▁về ▁khí ...   \n1       ▁trong ▁0 ▁phút ▁, ▁chuyên ▁gia ▁hoá ▁học ▁khí...   \n2       ▁tôi ▁muốn ▁cho ▁các ▁bạn ▁biết ▁về ▁sự ▁to ▁l...   \n3       ▁có ▁những ▁dòng ▁trông ▁như ▁thế ▁này ▁khi ▁b...   \n4       ▁cả ▁hai ▁đều ▁là ▁một ▁nhánh ▁của ▁cùng ▁một ...   \n...                                                   ...   \n132996  ▁mà ▁chính ▁hệ ▁thống ▁y ▁tế ▁mà ▁tôi ▁góp ▁ph...   \n132997  ▁nếu ▁giờ ▁đây ▁cô ▁đang ▁xem ▁chương ▁trình ▁...   \n132998  ▁paul ▁ph ol eros ▁: ▁làm ▁sao ▁để ▁bớt ▁nghèo...   \n132999  ▁năm ▁0000 ▁, ▁kiến ▁trúc ▁sư ▁paul ▁ph ol ero...   \n133000  ▁mong ▁muốn ▁xoá ▁nghèo ▁là ▁0 ▁mục ▁tiêu ▁vĩ ...   \n\n                                                 en_token  \n0       ▁rachel ▁pike ▁: ▁the ▁science ▁behind ▁a ▁cli...  \n1       ▁in ▁0 ▁minutes ▁, ▁atmospheric ▁chemist ▁rach...  \n2       ▁i ▁& ap os ; d ▁like ▁to ▁talk ▁to ▁you ▁toda...  \n3       ▁headlines ▁that ▁look ▁like ▁this ▁when ▁they...  \n4       ▁they ▁are ▁both ▁two ▁branches ▁of ▁the ▁same...  \n...                                                   ...  \n132996  ▁maybe ▁the ▁system ▁, ▁of ▁which ▁i ▁was ▁a ▁...  \n132997  ▁if ▁you ▁& ap os ; re ▁watching ▁this ▁now ▁,...  \n132998  ▁paul ▁ph ol eros ▁: ▁how ▁to ▁reduce ▁poverty...  \n132999  ▁in ▁0000 ▁, ▁architect ▁paul ▁ph ol eros ▁was...  \n133000  ▁the ▁idea ▁of ▁eliminating ▁poverty ▁is ▁a ▁g...  \n\n[133001 rows x 4 columns]"
          },
          "metadata": {}
        }
      ],
      "execution_count": null,
      "metadata": {
        "colab": {
          "base_uri": "https://localhost:8080/",
          "height": 597
        },
        "id": "kvNH7PRNKbPB",
        "outputId": "139c872b-0caf-485f-e8e8-1f955abdd7f5"
      }
    },
    {
      "cell_type": "code",
      "source": [
        "import tarfile\n",
        "import os\n",
        "\n",
        "# Open the .tgz file\n",
        "tar = tarfile.open('test-2013-en-vi.tgz', 'r:gz')\n",
        "\n",
        "# Extract all files into the current directory\n",
        "tar.extractall()\n",
        "\n",
        "# Close the .tgz file\n",
        "tar.close()\n"
      ],
      "outputs": [],
      "execution_count": null,
      "metadata": {
        "id": "UFzVuxVbKdlh"
      }
    },
    {
      "cell_type": "code",
      "source": [
        "import pandas as pd\n",
        "df_test_en = pd.read_csv('tst2013.en', delimiter = \"\\t\", header=None)\n",
        "\n",
        "df_test_vi = pd.read_csv('tst2013.vi', delimiter = \"\\t\", header=None)\n",
        "\n",
        "import pandas as pd\n",
        "import re\n",
        "\n",
        "# Rename the columns\n",
        "df_test_en.columns = ['en']\n",
        "df_test_vi.columns = ['vi']\n",
        "\n",
        "# Concatenate the dataframes\n",
        "df_test = pd.concat([df_test_vi, df_test_en], axis=1)\n",
        "# Convert 'en' column to string and then create the 'en_token' column\n",
        "df_test['en'] = df_test['en'].astype(str)\n",
        "\n",
        "\n",
        "df_test[\"vi_token\"] = df_test[\"vi\"].apply(lambda x: tokenizer(x, \"vi\"))\n",
        "df_test[\"en_token\"] = df_test[\"en\"].apply(lambda x: tokenizer(x, \"en\"))"
      ],
      "outputs": [],
      "execution_count": null,
      "metadata": {
        "id": "anOO76feKd6D"
      }
    },
    {
      "cell_type": "code",
      "source": [
        "df_test"
      ],
      "outputs": [
        {
          "output_type": "execute_result",
          "execution_count": 24,
          "data": {
            "application/vnd.google.colaboratory.intrinsic+json": {
              "summary": "{\n  \"name\": \"df_test\",\n  \"rows\": 1268,\n  \"fields\": [\n    {\n      \"column\": \"vi\",\n      \"properties\": {\n        \"dtype\": \"string\",\n        \"num_unique_values\": 1260,\n        \"samples\": [\n          \"T\\u00f4i v\\u00f4 c\\u00f9ng ng\\u1ea1c nhi\\u00ean khi m\\u1ed9t ng\\u01b0\\u1eddi ho\\u00e0n to\\u00e0n xa l\\u1ea1 l\\u1ea1i quan t\\u00e2m t\\u1edbi m\\u1ee9c h\\u1ecfi t\\u00f4i nh\\u01b0 v\\u1eady .\",\n          \"NG\\u01b0\\u1eddi n\\u00e0o s\\u1ebd s\\u00e1ng ch\\u1ebf ra c\\u00e1i c\\u00f4ng ngh\\u1ec7 cho cu\\u1ed9c c\\u00e1ch m\\u1ea1ng xanh ? C\\u00e1c tr\\u01b0\\u1eddng \\u0111\\u1ea1i h\\u1ecdc \\u01b0 ? qu\\u00ean \\u0111i !\",\n          \"Vi\\u1ec7c ng\\u01b0\\u1eddi B\\u1eafc Tri\\u1ec1u Ti\\u00ean ph\\u1ea3i che d\\u1ea5u danh t\\u00ednh c\\u1ee7a m\\u00ecnh v\\u00e0 \\u0111\\u1ea5u tranh \\u0111\\u1ec3 t\\u1ed3n t\\u1ea1i qu\\u1ea3 l\\u00e0 m\\u1ed9t bi k\\u1ecbch .\"\n        ],\n        \"semantic_type\": \"\",\n        \"description\": \"\"\n      }\n    },\n    {\n      \"column\": \"en\",\n      \"properties\": {\n        \"dtype\": \"string\",\n        \"num_unique_values\": 1252,\n        \"samples\": [\n          \"But frustratingly , with Parkinson &apos;s disease and other movement disorders , there are no biomarkers , so there &apos;s no simple blood test that you can do , and the best that we have is like this 20-minute neurologist test .\",\n          \"This is Manuru . When his father died , his uncle trafficked him to work with him in the mines .\",\n          \"We got dirty , and we loved it .\"\n        ],\n        \"semantic_type\": \"\",\n        \"description\": \"\"\n      }\n    },\n    {\n      \"column\": \"vi_token\",\n      \"properties\": {\n        \"dtype\": \"string\",\n        \"num_unique_values\": 1260,\n        \"samples\": [\n          \"\\u2581t\\u00f4i \\u2581v\\u00f4 \\u2581c\\u00f9ng \\u2581ng\\u1ea1c \\u2581nhi\\u00ean \\u2581khi \\u2581m\\u1ed9t \\u2581ng\\u01b0\\u1eddi \\u2581ho\\u00e0n \\u2581to\\u00e0n \\u2581xa \\u2581l\\u1ea1 \\u2581l\\u1ea1i \\u2581quan \\u2581t\\u00e2m \\u2581t\\u1edbi \\u2581m\\u1ee9c \\u2581h\\u1ecfi \\u2581t\\u00f4i \\u2581nh\\u01b0 \\u2581v\\u1eady \\u2581.\",\n          \"\\u2581ng\\u01b0\\u1eddi \\u2581n\\u00e0o \\u2581s\\u1ebd \\u2581s\\u00e1ng \\u2581ch\\u1ebf \\u2581ra \\u2581c\\u00e1i \\u2581c\\u00f4ng \\u2581ngh\\u1ec7 \\u2581cho \\u2581cu\\u1ed9c \\u2581c\\u00e1ch \\u2581m\\u1ea1ng \\u2581xanh \\u2581? \\u2581c\\u00e1c \\u2581tr\\u01b0\\u1eddng \\u2581\\u0111\\u1ea1i \\u2581h\\u1ecdc \\u2581\\u01b0 \\u2581? \\u2581qu\\u00ean \\u2581\\u0111i \\u2581!\",\n          \"\\u2581vi\\u1ec7c \\u2581ng\\u01b0\\u1eddi \\u2581b\\u1eafc \\u2581tri\\u1ec1u \\u2581ti\\u00ean \\u2581ph\\u1ea3i \\u2581che \\u2581d\\u1ea5u \\u2581danh \\u2581t\\u00ednh \\u2581c\\u1ee7a \\u2581m\\u00ecnh \\u2581v\\u00e0 \\u2581\\u0111\\u1ea5u \\u2581tranh \\u2581\\u0111\\u1ec3 \\u2581t\\u1ed3n \\u2581t\\u1ea1i \\u2581qu\\u1ea3 \\u2581l\\u00e0 \\u2581m\\u1ed9t \\u2581bi \\u2581k\\u1ecbch \\u2581.\"\n        ],\n        \"semantic_type\": \"\",\n        \"description\": \"\"\n      }\n    },\n    {\n      \"column\": \"en_token\",\n      \"properties\": {\n        \"dtype\": \"string\",\n        \"num_unique_values\": 1252,\n        \"samples\": [\n          \"\\u2581but \\u2581frustrating ly \\u2581, \\u2581with \\u2581parkinson \\u2581& ap os ; s \\u2581disease \\u2581and \\u2581other \\u2581movement \\u2581disorders \\u2581, \\u2581there \\u2581are \\u2581no \\u2581biom ark ers \\u2581, \\u2581so \\u2581there \\u2581& ap os ; s \\u2581no \\u2581simple \\u2581blood \\u2581test \\u2581that \\u2581you \\u2581can \\u2581do \\u2581, \\u2581and \\u2581the \\u2581best \\u2581that \\u2581we \\u2581have \\u2581is \\u2581like \\u2581this \\u258100- minute \\u2581neurolog ist \\u2581test \\u2581.\",\n          \"\\u2581this \\u2581is \\u2581man uru \\u2581. \\u2581when \\u2581his \\u2581father \\u2581died \\u2581, \\u2581his \\u2581uncle \\u2581traff icked \\u2581him \\u2581to \\u2581work \\u2581with \\u2581him \\u2581in \\u2581the \\u2581mines \\u2581.\",\n          \"\\u2581we \\u2581got \\u2581dirty \\u2581, \\u2581and \\u2581we \\u2581loved \\u2581it \\u2581.\"\n        ],\n        \"semantic_type\": \"\",\n        \"description\": \"\"\n      }\n    }\n  ]\n}",
              "type": "dataframe",
              "variable_name": "df_test"
            },
            "text/html": "\n  <div id=\"df-ac7cd8f6-6fe7-4e48-91e6-f679043762cf\" class=\"colab-df-container\">\n    <div>\n<style scoped>\n    .dataframe tbody tr th:only-of-type {\n        vertical-align: middle;\n    }\n\n    .dataframe tbody tr th {\n        vertical-align: top;\n    }\n\n    .dataframe thead th {\n        text-align: right;\n    }\n</style>\n<table border=\"1\" class=\"dataframe\">\n  <thead>\n    <tr style=\"text-align: right;\">\n      <th></th>\n      <th>vi</th>\n      <th>en</th>\n      <th>vi_token</th>\n      <th>en_token</th>\n    </tr>\n  </thead>\n  <tbody>\n    <tr>\n      <th>0</th>\n      <td>Khi tôi còn nhỏ , Tôi nghĩ rằng BắcTriều Tiên ...</td>\n      <td>When I was little , I thought my country was t...</td>\n      <td>▁khi ▁tôi ▁còn ▁nhỏ ▁, ▁tôi ▁nghĩ ▁rằng ▁bắc t...</td>\n      <td>▁when ▁i ▁was ▁little ▁, ▁i ▁thought ▁my ▁coun...</td>\n    </tr>\n    <tr>\n      <th>1</th>\n      <td>Tôi đã rất tự hào về đất nước tôi .</td>\n      <td>And I was very proud .</td>\n      <td>▁tôi ▁đã ▁rất ▁tự ▁hào ▁về ▁đất ▁nước ▁tôi ▁.</td>\n      <td>▁and ▁i ▁was ▁very ▁proud ▁.</td>\n    </tr>\n    <tr>\n      <th>2</th>\n      <td>Ở trường , chúng tôi dành rất nhiều thời gian ...</td>\n      <td>In school , we spent a lot of time studying th...</td>\n      <td>▁ở ▁trường ▁, ▁chúng ▁tôi ▁dành ▁rất ▁nhiều ▁t...</td>\n      <td>▁in ▁school ▁, ▁we ▁spent ▁a ▁lot ▁of ▁time ▁s...</td>\n    </tr>\n    <tr>\n      <th>3</th>\n      <td>Mặc dù tôi đã từng tự hỏi không biết thế giới ...</td>\n      <td>Although I often wondered about the outside wo...</td>\n      <td>▁mặc ▁dù ▁tôi ▁đã ▁từng ▁tự ▁hỏi ▁không ▁biết ...</td>\n      <td>▁although ▁i ▁often ▁wondered ▁about ▁the ▁out...</td>\n    </tr>\n    <tr>\n      <th>4</th>\n      <td>Khi tôi lên 7 , tôi chứng kiến cảnh người ta x...</td>\n      <td>When I was seven years old , I saw my first pu...</td>\n      <td>▁khi ▁tôi ▁lên ▁0 ▁, ▁tôi ▁chứng ▁kiến ▁cảnh ▁...</td>\n      <td>▁when ▁i ▁was ▁seven ▁years ▁old ▁, ▁i ▁saw ▁m...</td>\n    </tr>\n    <tr>\n      <th>...</th>\n      <td>...</td>\n      <td>...</td>\n      <td>...</td>\n      <td>...</td>\n    </tr>\n    <tr>\n      <th>1263</th>\n      <td>Tôi thực sự tin , nếu ta coi người khác như nh...</td>\n      <td>I truly believe , if we can see one another as...</td>\n      <td>▁tôi ▁thực ▁sự ▁tin ▁, ▁nếu ▁ta ▁coi ▁người ▁k...</td>\n      <td>▁i ▁truly ▁believe ▁, ▁if ▁we ▁can ▁see ▁one ▁...</td>\n    </tr>\n    <tr>\n      <th>1264</th>\n      <td>Những tấm hình không phải là về bản thân vấnđề...</td>\n      <td>These images are not of issues . They are of p...</td>\n      <td>▁những ▁tấm ▁hình ▁không ▁phải ▁là ▁về ▁bản ▁t...</td>\n      <td>▁these ▁images ▁are ▁not ▁of ▁issues ▁. ▁they ...</td>\n    </tr>\n    <tr>\n      <th>1265</th>\n      <td>Không có ngày nào mà tôi không nghĩ về những n...</td>\n      <td>There is not a day that goes by that I don &amp;ap...</td>\n      <td>▁không ▁có ▁ngày ▁nào ▁mà ▁tôi ▁không ▁nghĩ ▁v...</td>\n      <td>▁there ▁is ▁not ▁a ▁day ▁that ▁goes ▁by ▁that ...</td>\n    </tr>\n    <tr>\n      <th>1266</th>\n      <td>Tôi hi vọng những tấm hình sẽ đánh thức một ng...</td>\n      <td>I hope that these images awaken a force in tho...</td>\n      <td>▁tôi ▁hi ▁vọng ▁những ▁tấm ▁hình ▁sẽ ▁đánh ▁th...</td>\n      <td>▁i ▁hope ▁that ▁these ▁images ▁awaken ▁a ▁forc...</td>\n    </tr>\n    <tr>\n      <th>1267</th>\n      <td>Cảm ơn rất nhiều .</td>\n      <td>Thank you very much .</td>\n      <td>▁cảm ▁ơn ▁rất ▁nhiều ▁.</td>\n      <td>▁thank ▁you ▁very ▁much ▁.</td>\n    </tr>\n  </tbody>\n</table>\n<p>1268 rows × 4 columns</p>\n</div>\n    <div class=\"colab-df-buttons\">\n\n  <div class=\"colab-df-container\">\n    <button class=\"colab-df-convert\" onclick=\"convertToInteractive('df-ac7cd8f6-6fe7-4e48-91e6-f679043762cf')\"\n            title=\"Convert this dataframe to an interactive table.\"\n            style=\"display:none;\">\n\n  <svg xmlns=\"http://www.w3.org/2000/svg\" height=\"24px\" viewBox=\"0 -960 960 960\">\n    <path d=\"M120-120v-720h720v720H120Zm60-500h600v-160H180v160Zm220 220h160v-160H400v160Zm0 220h160v-160H400v160ZM180-400h160v-160H180v160Zm440 0h160v-160H620v160ZM180-180h160v-160H180v160Zm440 0h160v-160H620v160Z\"/>\n  </svg>\n    </button>\n\n  <style>\n    .colab-df-container {\n      display:flex;\n      gap: 12px;\n    }\n\n    .colab-df-convert {\n      background-color: #E8F0FE;\n      border: none;\n      border-radius: 50%;\n      cursor: pointer;\n      display: none;\n      fill: #1967D2;\n      height: 32px;\n      padding: 0 0 0 0;\n      width: 32px;\n    }\n\n    .colab-df-convert:hover {\n      background-color: #E2EBFA;\n      box-shadow: 0px 1px 2px rgba(60, 64, 67, 0.3), 0px 1px 3px 1px rgba(60, 64, 67, 0.15);\n      fill: #174EA6;\n    }\n\n    .colab-df-buttons div {\n      margin-bottom: 4px;\n    }\n\n    [theme=dark] .colab-df-convert {\n      background-color: #3B4455;\n      fill: #D2E3FC;\n    }\n\n    [theme=dark] .colab-df-convert:hover {\n      background-color: #434B5C;\n      box-shadow: 0px 1px 3px 1px rgba(0, 0, 0, 0.15);\n      filter: drop-shadow(0px 1px 2px rgba(0, 0, 0, 0.3));\n      fill: #FFFFFF;\n    }\n  </style>\n\n    <script>\n      const buttonEl =\n        document.querySelector('#df-ac7cd8f6-6fe7-4e48-91e6-f679043762cf button.colab-df-convert');\n      buttonEl.style.display =\n        google.colab.kernel.accessAllowed ? 'block' : 'none';\n\n      async function convertToInteractive(key) {\n        const element = document.querySelector('#df-ac7cd8f6-6fe7-4e48-91e6-f679043762cf');\n        const dataTable =\n          await google.colab.kernel.invokeFunction('convertToInteractive',\n                                                    [key], {});\n        if (!dataTable) return;\n\n        const docLinkHtml = 'Like what you see? Visit the ' +\n          '<a target=\"_blank\" href=https://colab.research.google.com/notebooks/data_table.ipynb>data table notebook</a>'\n          + ' to learn more about interactive tables.';\n        element.innerHTML = '';\n        dataTable['output_type'] = 'display_data';\n        await google.colab.output.renderOutput(dataTable, element);\n        const docLink = document.createElement('div');\n        docLink.innerHTML = docLinkHtml;\n        element.appendChild(docLink);\n      }\n    </script>\n  </div>\n\n\n<div id=\"df-e362b497-5ce6-4f2c-ae1c-312fb5317368\">\n  <button class=\"colab-df-quickchart\" onclick=\"quickchart('df-e362b497-5ce6-4f2c-ae1c-312fb5317368')\"\n            title=\"Suggest charts\"\n            style=\"display:none;\">\n\n<svg xmlns=\"http://www.w3.org/2000/svg\" height=\"24px\"viewBox=\"0 0 24 24\"\n     width=\"24px\">\n    <g>\n        <path d=\"M19 3H5c-1.1 0-2 .9-2 2v14c0 1.1.9 2 2 2h14c1.1 0 2-.9 2-2V5c0-1.1-.9-2-2-2zM9 17H7v-7h2v7zm4 0h-2V7h2v10zm4 0h-2v-4h2v4z\"/>\n    </g>\n</svg>\n  </button>\n\n<style>\n  .colab-df-quickchart {\n      --bg-color: #E8F0FE;\n      --fill-color: #1967D2;\n      --hover-bg-color: #E2EBFA;\n      --hover-fill-color: #174EA6;\n      --disabled-fill-color: #AAA;\n      --disabled-bg-color: #DDD;\n  }\n\n  [theme=dark] .colab-df-quickchart {\n      --bg-color: #3B4455;\n      --fill-color: #D2E3FC;\n      --hover-bg-color: #434B5C;\n      --hover-fill-color: #FFFFFF;\n      --disabled-bg-color: #3B4455;\n      --disabled-fill-color: #666;\n  }\n\n  .colab-df-quickchart {\n    background-color: var(--bg-color);\n    border: none;\n    border-radius: 50%;\n    cursor: pointer;\n    display: none;\n    fill: var(--fill-color);\n    height: 32px;\n    padding: 0;\n    width: 32px;\n  }\n\n  .colab-df-quickchart:hover {\n    background-color: var(--hover-bg-color);\n    box-shadow: 0 1px 2px rgba(60, 64, 67, 0.3), 0 1px 3px 1px rgba(60, 64, 67, 0.15);\n    fill: var(--button-hover-fill-color);\n  }\n\n  .colab-df-quickchart-complete:disabled,\n  .colab-df-quickchart-complete:disabled:hover {\n    background-color: var(--disabled-bg-color);\n    fill: var(--disabled-fill-color);\n    box-shadow: none;\n  }\n\n  .colab-df-spinner {\n    border: 2px solid var(--fill-color);\n    border-color: transparent;\n    border-bottom-color: var(--fill-color);\n    animation:\n      spin 1s steps(1) infinite;\n  }\n\n  @keyframes spin {\n    0% {\n      border-color: transparent;\n      border-bottom-color: var(--fill-color);\n      border-left-color: var(--fill-color);\n    }\n    20% {\n      border-color: transparent;\n      border-left-color: var(--fill-color);\n      border-top-color: var(--fill-color);\n    }\n    30% {\n      border-color: transparent;\n      border-left-color: var(--fill-color);\n      border-top-color: var(--fill-color);\n      border-right-color: var(--fill-color);\n    }\n    40% {\n      border-color: transparent;\n      border-right-color: var(--fill-color);\n      border-top-color: var(--fill-color);\n    }\n    60% {\n      border-color: transparent;\n      border-right-color: var(--fill-color);\n    }\n    80% {\n      border-color: transparent;\n      border-right-color: var(--fill-color);\n      border-bottom-color: var(--fill-color);\n    }\n    90% {\n      border-color: transparent;\n      border-bottom-color: var(--fill-color);\n    }\n  }\n</style>\n\n  <script>\n    async function quickchart(key) {\n      const quickchartButtonEl =\n        document.querySelector('#' + key + ' button');\n      quickchartButtonEl.disabled = true;  // To prevent multiple clicks.\n      quickchartButtonEl.classList.add('colab-df-spinner');\n      try {\n        const charts = await google.colab.kernel.invokeFunction(\n            'suggestCharts', [key], {});\n      } catch (error) {\n        console.error('Error during call to suggestCharts:', error);\n      }\n      quickchartButtonEl.classList.remove('colab-df-spinner');\n      quickchartButtonEl.classList.add('colab-df-quickchart-complete');\n    }\n    (() => {\n      let quickchartButtonEl =\n        document.querySelector('#df-e362b497-5ce6-4f2c-ae1c-312fb5317368 button');\n      quickchartButtonEl.style.display =\n        google.colab.kernel.accessAllowed ? 'block' : 'none';\n    })();\n  </script>\n</div>\n\n  <div id=\"id_2df7699a-9766-42be-930f-c7e1330e6dae\">\n    <style>\n      .colab-df-generate {\n        background-color: #E8F0FE;\n        border: none;\n        border-radius: 50%;\n        cursor: pointer;\n        display: none;\n        fill: #1967D2;\n        height: 32px;\n        padding: 0 0 0 0;\n        width: 32px;\n      }\n\n      .colab-df-generate:hover {\n        background-color: #E2EBFA;\n        box-shadow: 0px 1px 2px rgba(60, 64, 67, 0.3), 0px 1px 3px 1px rgba(60, 64, 67, 0.15);\n        fill: #174EA6;\n      }\n\n      [theme=dark] .colab-df-generate {\n        background-color: #3B4455;\n        fill: #D2E3FC;\n      }\n\n      [theme=dark] .colab-df-generate:hover {\n        background-color: #434B5C;\n        box-shadow: 0px 1px 3px 1px rgba(0, 0, 0, 0.15);\n        filter: drop-shadow(0px 1px 2px rgba(0, 0, 0, 0.3));\n        fill: #FFFFFF;\n      }\n    </style>\n    <button class=\"colab-df-generate\" onclick=\"generateWithVariable('df_test')\"\n            title=\"Generate code using this dataframe.\"\n            style=\"display:none;\">\n\n  <svg xmlns=\"http://www.w3.org/2000/svg\" height=\"24px\"viewBox=\"0 0 24 24\"\n       width=\"24px\">\n    <path d=\"M7,19H8.4L18.45,9,17,7.55,7,17.6ZM5,21V16.75L18.45,3.32a2,2,0,0,1,2.83,0l1.4,1.43a1.91,1.91,0,0,1,.58,1.4,1.91,1.91,0,0,1-.58,1.4L9.25,21ZM18.45,9,17,7.55Zm-12,3A5.31,5.31,0,0,0,4.9,8.1,5.31,5.31,0,0,0,1,6.5,5.31,5.31,0,0,0,4.9,4.9,5.31,5.31,0,0,0,6.5,1,5.31,5.31,0,0,0,8.1,4.9,5.31,5.31,0,0,0,12,6.5,5.46,5.46,0,0,0,6.5,12Z\"/>\n  </svg>\n    </button>\n    <script>\n      (() => {\n      const buttonEl =\n        document.querySelector('#id_2df7699a-9766-42be-930f-c7e1330e6dae button.colab-df-generate');\n      buttonEl.style.display =\n        google.colab.kernel.accessAllowed ? 'block' : 'none';\n\n      buttonEl.onclick = () => {\n        google.colab.notebook.generateWithVariable('df_test');\n      }\n      })();\n    </script>\n  </div>\n\n    </div>\n  </div>\n",
            "text/plain": "                                                     vi  \\\n0     Khi tôi còn nhỏ , Tôi nghĩ rằng BắcTriều Tiên ...   \n1                   Tôi đã rất tự hào về đất nước tôi .   \n2     Ở trường , chúng tôi dành rất nhiều thời gian ...   \n3     Mặc dù tôi đã từng tự hỏi không biết thế giới ...   \n4     Khi tôi lên 7 , tôi chứng kiến cảnh người ta x...   \n...                                                 ...   \n1263  Tôi thực sự tin , nếu ta coi người khác như nh...   \n1264  Những tấm hình không phải là về bản thân vấnđề...   \n1265  Không có ngày nào mà tôi không nghĩ về những n...   \n1266  Tôi hi vọng những tấm hình sẽ đánh thức một ng...   \n1267                                 Cảm ơn rất nhiều .   \n\n                                                     en  \\\n0     When I was little , I thought my country was t...   \n1                                And I was very proud .   \n2     In school , we spent a lot of time studying th...   \n3     Although I often wondered about the outside wo...   \n4     When I was seven years old , I saw my first pu...   \n...                                                 ...   \n1263  I truly believe , if we can see one another as...   \n1264  These images are not of issues . They are of p...   \n1265  There is not a day that goes by that I don &ap...   \n1266  I hope that these images awaken a force in tho...   \n1267                              Thank you very much .   \n\n                                               vi_token  \\\n0     ▁khi ▁tôi ▁còn ▁nhỏ ▁, ▁tôi ▁nghĩ ▁rằng ▁bắc t...   \n1         ▁tôi ▁đã ▁rất ▁tự ▁hào ▁về ▁đất ▁nước ▁tôi ▁.   \n2     ▁ở ▁trường ▁, ▁chúng ▁tôi ▁dành ▁rất ▁nhiều ▁t...   \n3     ▁mặc ▁dù ▁tôi ▁đã ▁từng ▁tự ▁hỏi ▁không ▁biết ...   \n4     ▁khi ▁tôi ▁lên ▁0 ▁, ▁tôi ▁chứng ▁kiến ▁cảnh ▁...   \n...                                                 ...   \n1263  ▁tôi ▁thực ▁sự ▁tin ▁, ▁nếu ▁ta ▁coi ▁người ▁k...   \n1264  ▁những ▁tấm ▁hình ▁không ▁phải ▁là ▁về ▁bản ▁t...   \n1265  ▁không ▁có ▁ngày ▁nào ▁mà ▁tôi ▁không ▁nghĩ ▁v...   \n1266  ▁tôi ▁hi ▁vọng ▁những ▁tấm ▁hình ▁sẽ ▁đánh ▁th...   \n1267                            ▁cảm ▁ơn ▁rất ▁nhiều ▁.   \n\n                                               en_token  \n0     ▁when ▁i ▁was ▁little ▁, ▁i ▁thought ▁my ▁coun...  \n1                          ▁and ▁i ▁was ▁very ▁proud ▁.  \n2     ▁in ▁school ▁, ▁we ▁spent ▁a ▁lot ▁of ▁time ▁s...  \n3     ▁although ▁i ▁often ▁wondered ▁about ▁the ▁out...  \n4     ▁when ▁i ▁was ▁seven ▁years ▁old ▁, ▁i ▁saw ▁m...  \n...                                                 ...  \n1263  ▁i ▁truly ▁believe ▁, ▁if ▁we ▁can ▁see ▁one ▁...  \n1264  ▁these ▁images ▁are ▁not ▁of ▁issues ▁. ▁they ...  \n1265  ▁there ▁is ▁not ▁a ▁day ▁that ▁goes ▁by ▁that ...  \n1266  ▁i ▁hope ▁that ▁these ▁images ▁awaken ▁a ▁forc...  \n1267                         ▁thank ▁you ▁very ▁much ▁.  \n\n[1268 rows x 4 columns]"
          },
          "metadata": {}
        }
      ],
      "execution_count": null,
      "metadata": {
        "colab": {
          "base_uri": "https://localhost:8080/",
          "height": 580
        },
        "id": "2xesHkn1KimZ",
        "outputId": "b623b2ea-41d6-4341-f096-95f437ab2a61"
      }
    },
    {
      "cell_type": "code",
      "source": [
        "!pip install sacremoses"
      ],
      "outputs": [
        {
          "output_type": "stream",
          "name": "stdout",
          "text": "Collecting sacremoses\n  Downloading sacremoses-0.1.1-py3-none-any.whl (897 kB)\n\u001b[2K     \u001b[90m━━━━━━━━━━━━━━━━━━━━━━━━━━━━━━━━━━━━━━━━\u001b[0m \u001b[32m897.5/897.5 kB\u001b[0m \u001b[31m8.7 MB/s\u001b[0m eta \u001b[36m0:00:00\u001b[0m\n\u001b[?25hRequirement already satisfied: regex in /usr/local/lib/python3.10/dist-packages (from sacremoses) (2024.5.15)\nRequirement already satisfied: click in /usr/local/lib/python3.10/dist-packages (from sacremoses) (8.1.7)\nRequirement already satisfied: joblib in /usr/local/lib/python3.10/dist-packages (from sacremoses) (1.4.2)\nRequirement already satisfied: tqdm in /usr/local/lib/python3.10/dist-packages (from sacremoses) (4.66.4)\nInstalling collected packages: sacremoses\nSuccessfully installed sacremoses-0.1.1\n"
        }
      ],
      "execution_count": null,
      "metadata": {
        "colab": {
          "base_uri": "https://localhost:8080/"
        },
        "id": "A65PvBS4IZ9e",
        "outputId": "dcbef018-a9b9-4e9c-df65-f291f4e043f2"
      }
    },
    {
      "cell_type": "code",
      "source": [
        "from sacremoses import MosesPunctNormalizer\n",
        "\n",
        "mpn_vi = MosesPunctNormalizer(lang = \"vi\")\n",
        "mpn_en = MosesPunctNormalizer(lang = \"en\")\n",
        "\n",
        "def punc_norm(text, lang):\n",
        "  if lang == \"vi\":\n",
        "    return mpn_vi.normalize(text)\n",
        "\n",
        "  return mpn_en.normalize(text)"
      ],
      "outputs": [],
      "execution_count": null,
      "metadata": {
        "id": "IG0CiRCwIbfj"
      }
    },
    {
      "cell_type": "code",
      "source": [
        "df_train[\"vi_punc\"] = df_train[\"vi\"].apply(lambda x: punc_norm(x, \"vi\"))\n",
        "df_train[\"en_punc\"] = df_train[\"en\"].apply(lambda x: punc_norm(x, \"en\"))\n",
        "\n",
        "df_train"
      ],
      "outputs": [
        {
          "output_type": "execute_result",
          "execution_count": 27,
          "data": {
            "application/vnd.google.colaboratory.intrinsic+json": {
              "type": "dataframe",
              "variable_name": "df_train"
            },
            "text/html": "\n  <div id=\"df-895087cc-48a2-4b12-b01a-bdd326101070\" class=\"colab-df-container\">\n    <div>\n<style scoped>\n    .dataframe tbody tr th:only-of-type {\n        vertical-align: middle;\n    }\n\n    .dataframe tbody tr th {\n        vertical-align: top;\n    }\n\n    .dataframe thead th {\n        text-align: right;\n    }\n</style>\n<table border=\"1\" class=\"dataframe\">\n  <thead>\n    <tr style=\"text-align: right;\">\n      <th></th>\n      <th>vi</th>\n      <th>en</th>\n      <th>vi_token</th>\n      <th>en_token</th>\n      <th>vi_punc</th>\n      <th>en_punc</th>\n    </tr>\n  </thead>\n  <tbody>\n    <tr>\n      <th>0</th>\n      <td>Khoa học đằng sau một tiêu đề về khí hậu</td>\n      <td>Rachel Pike : The science behind a climate hea...</td>\n      <td>▁khoa ▁học ▁đằng ▁sau ▁một ▁tiêu ▁đề ▁về ▁khí ...</td>\n      <td>▁rachel ▁pike ▁: ▁the ▁science ▁behind ▁a ▁cli...</td>\n      <td>Khoa học đằng sau một tiêu đề về khí hậu</td>\n      <td>Rachel Pike: The science behind a climate head...</td>\n    </tr>\n    <tr>\n      <th>1</th>\n      <td>Trong 4 phút , chuyên gia hoá học khí quyển Ra...</td>\n      <td>In 4 minutes , atmospheric chemist Rachel Pike...</td>\n      <td>▁trong ▁0 ▁phút ▁, ▁chuyên ▁gia ▁hoá ▁học ▁khí...</td>\n      <td>▁in ▁0 ▁minutes ▁, ▁atmospheric ▁chemist ▁rach...</td>\n      <td>Trong 4 phút , chuyên gia hoá học khí quyển Ra...</td>\n      <td>In 4 minutes , atmospheric chemist Rachel Pike...</td>\n    </tr>\n    <tr>\n      <th>2</th>\n      <td>Tôi muốn cho các bạn biết về sự to lớn của nhữ...</td>\n      <td>I &amp;apos;d like to talk to you today about the ...</td>\n      <td>▁tôi ▁muốn ▁cho ▁các ▁bạn ▁biết ▁về ▁sự ▁to ▁l...</td>\n      <td>▁i ▁&amp; ap os ; d ▁like ▁to ▁talk ▁to ▁you ▁toda...</td>\n      <td>Tôi muốn cho các bạn biết về sự to lớn của nhữ...</td>\n      <td>I &amp;apos;d like to talk to you today about the ...</td>\n    </tr>\n    <tr>\n      <th>3</th>\n      <td>Có những dòng trông như thế này khi bàn về biế...</td>\n      <td>Headlines that look like this when they have t...</td>\n      <td>▁có ▁những ▁dòng ▁trông ▁như ▁thế ▁này ▁khi ▁b...</td>\n      <td>▁headlines ▁that ▁look ▁like ▁this ▁when ▁they...</td>\n      <td>Có những dòng trông như thế này khi bàn về biế...</td>\n      <td>Headlines that look like this when they have t...</td>\n    </tr>\n    <tr>\n      <th>4</th>\n      <td>Cả hai đều là một nhánh của cùng một lĩnh vực ...</td>\n      <td>They are both two branches of the same field o...</td>\n      <td>▁cả ▁hai ▁đều ▁là ▁một ▁nhánh ▁của ▁cùng ▁một ...</td>\n      <td>▁they ▁are ▁both ▁two ▁branches ▁of ▁the ▁same...</td>\n      <td>Cả hai đều là một nhánh của cùng một lĩnh vực ...</td>\n      <td>They are both two branches of the same field o...</td>\n    </tr>\n    <tr>\n      <th>...</th>\n      <td>...</td>\n      <td>...</td>\n      <td>...</td>\n      <td>...</td>\n      <td>...</td>\n      <td>...</td>\n    </tr>\n    <tr>\n      <th>132996</th>\n      <td>Mà chính hệ thống y tế mà tôi góp phần , đã là...</td>\n      <td>Maybe the system , of which I was a part , was...</td>\n      <td>▁mà ▁chính ▁hệ ▁thống ▁y ▁tế ▁mà ▁tôi ▁góp ▁ph...</td>\n      <td>▁maybe ▁the ▁system ▁, ▁of ▁which ▁i ▁was ▁a ▁...</td>\n      <td>Mà chính hệ thống y tế mà tôi góp phần , đã là...</td>\n      <td>Maybe the system , of which I was a part , was...</td>\n    </tr>\n    <tr>\n      <th>132997</th>\n      <td>Nếu giờ đây cô đang xem chương trình này , tôi...</td>\n      <td>If you &amp;apos;re watching this now , I hope you...</td>\n      <td>▁nếu ▁giờ ▁đây ▁cô ▁đang ▁xem ▁chương ▁trình ▁...</td>\n      <td>▁if ▁you ▁&amp; ap os ; re ▁watching ▁this ▁now ▁,...</td>\n      <td>Nếu giờ đây cô đang xem chương trình này , tôi...</td>\n      <td>If you &amp;apos;re watching this now , I hope you...</td>\n    </tr>\n    <tr>\n      <th>132998</th>\n      <td>Paul Pholeros : Làm sao để bớt nghèo khổ ? Hãy...</td>\n      <td>Paul Pholeros : How to reduce poverty ? Fix homes</td>\n      <td>▁paul ▁ph ol eros ▁: ▁làm ▁sao ▁để ▁bớt ▁nghèo...</td>\n      <td>▁paul ▁ph ol eros ▁: ▁how ▁to ▁reduce ▁poverty...</td>\n      <td>Paul Pholeros: Làm sao để bớt nghèo khổ ? Hãy ...</td>\n      <td>Paul Pholeros: How to reduce poverty ? Fix homes</td>\n    </tr>\n    <tr>\n      <th>132999</th>\n      <td>Năm 1985 , kiến trúc sư Paul Pholeros được gia...</td>\n      <td>In 1985 , architect Paul Pholeros was challeng...</td>\n      <td>▁năm ▁0000 ▁, ▁kiến ▁trúc ▁sư ▁paul ▁ph ol ero...</td>\n      <td>▁in ▁0000 ▁, ▁architect ▁paul ▁ph ol eros ▁was...</td>\n      <td>Năm 1985 , kiến trúc sư Paul Pholeros được gia...</td>\n      <td>In 1985 , architect Paul Pholeros was challeng...</td>\n    </tr>\n    <tr>\n      <th>133000</th>\n      <td>Mong muốn xoá nghèo là 1 mục tiêu vĩ đại .</td>\n      <td>The idea of eliminating poverty is a great goal .</td>\n      <td>▁mong ▁muốn ▁xoá ▁nghèo ▁là ▁0 ▁mục ▁tiêu ▁vĩ ...</td>\n      <td>▁the ▁idea ▁of ▁eliminating ▁poverty ▁is ▁a ▁g...</td>\n      <td>Mong muốn xoá nghèo là 1 mục tiêu vĩ đại .</td>\n      <td>The idea of eliminating poverty is a great goal .</td>\n    </tr>\n  </tbody>\n</table>\n<p>133001 rows × 6 columns</p>\n</div>\n    <div class=\"colab-df-buttons\">\n\n  <div class=\"colab-df-container\">\n    <button class=\"colab-df-convert\" onclick=\"convertToInteractive('df-895087cc-48a2-4b12-b01a-bdd326101070')\"\n            title=\"Convert this dataframe to an interactive table.\"\n            style=\"display:none;\">\n\n  <svg xmlns=\"http://www.w3.org/2000/svg\" height=\"24px\" viewBox=\"0 -960 960 960\">\n    <path d=\"M120-120v-720h720v720H120Zm60-500h600v-160H180v160Zm220 220h160v-160H400v160Zm0 220h160v-160H400v160ZM180-400h160v-160H180v160Zm440 0h160v-160H620v160ZM180-180h160v-160H180v160Zm440 0h160v-160H620v160Z\"/>\n  </svg>\n    </button>\n\n  <style>\n    .colab-df-container {\n      display:flex;\n      gap: 12px;\n    }\n\n    .colab-df-convert {\n      background-color: #E8F0FE;\n      border: none;\n      border-radius: 50%;\n      cursor: pointer;\n      display: none;\n      fill: #1967D2;\n      height: 32px;\n      padding: 0 0 0 0;\n      width: 32px;\n    }\n\n    .colab-df-convert:hover {\n      background-color: #E2EBFA;\n      box-shadow: 0px 1px 2px rgba(60, 64, 67, 0.3), 0px 1px 3px 1px rgba(60, 64, 67, 0.15);\n      fill: #174EA6;\n    }\n\n    .colab-df-buttons div {\n      margin-bottom: 4px;\n    }\n\n    [theme=dark] .colab-df-convert {\n      background-color: #3B4455;\n      fill: #D2E3FC;\n    }\n\n    [theme=dark] .colab-df-convert:hover {\n      background-color: #434B5C;\n      box-shadow: 0px 1px 3px 1px rgba(0, 0, 0, 0.15);\n      filter: drop-shadow(0px 1px 2px rgba(0, 0, 0, 0.3));\n      fill: #FFFFFF;\n    }\n  </style>\n\n    <script>\n      const buttonEl =\n        document.querySelector('#df-895087cc-48a2-4b12-b01a-bdd326101070 button.colab-df-convert');\n      buttonEl.style.display =\n        google.colab.kernel.accessAllowed ? 'block' : 'none';\n\n      async function convertToInteractive(key) {\n        const element = document.querySelector('#df-895087cc-48a2-4b12-b01a-bdd326101070');\n        const dataTable =\n          await google.colab.kernel.invokeFunction('convertToInteractive',\n                                                    [key], {});\n        if (!dataTable) return;\n\n        const docLinkHtml = 'Like what you see? Visit the ' +\n          '<a target=\"_blank\" href=https://colab.research.google.com/notebooks/data_table.ipynb>data table notebook</a>'\n          + ' to learn more about interactive tables.';\n        element.innerHTML = '';\n        dataTable['output_type'] = 'display_data';\n        await google.colab.output.renderOutput(dataTable, element);\n        const docLink = document.createElement('div');\n        docLink.innerHTML = docLinkHtml;\n        element.appendChild(docLink);\n      }\n    </script>\n  </div>\n\n\n<div id=\"df-0f863299-38a1-4228-b2d2-92b28726ee21\">\n  <button class=\"colab-df-quickchart\" onclick=\"quickchart('df-0f863299-38a1-4228-b2d2-92b28726ee21')\"\n            title=\"Suggest charts\"\n            style=\"display:none;\">\n\n<svg xmlns=\"http://www.w3.org/2000/svg\" height=\"24px\"viewBox=\"0 0 24 24\"\n     width=\"24px\">\n    <g>\n        <path d=\"M19 3H5c-1.1 0-2 .9-2 2v14c0 1.1.9 2 2 2h14c1.1 0 2-.9 2-2V5c0-1.1-.9-2-2-2zM9 17H7v-7h2v7zm4 0h-2V7h2v10zm4 0h-2v-4h2v4z\"/>\n    </g>\n</svg>\n  </button>\n\n<style>\n  .colab-df-quickchart {\n      --bg-color: #E8F0FE;\n      --fill-color: #1967D2;\n      --hover-bg-color: #E2EBFA;\n      --hover-fill-color: #174EA6;\n      --disabled-fill-color: #AAA;\n      --disabled-bg-color: #DDD;\n  }\n\n  [theme=dark] .colab-df-quickchart {\n      --bg-color: #3B4455;\n      --fill-color: #D2E3FC;\n      --hover-bg-color: #434B5C;\n      --hover-fill-color: #FFFFFF;\n      --disabled-bg-color: #3B4455;\n      --disabled-fill-color: #666;\n  }\n\n  .colab-df-quickchart {\n    background-color: var(--bg-color);\n    border: none;\n    border-radius: 50%;\n    cursor: pointer;\n    display: none;\n    fill: var(--fill-color);\n    height: 32px;\n    padding: 0;\n    width: 32px;\n  }\n\n  .colab-df-quickchart:hover {\n    background-color: var(--hover-bg-color);\n    box-shadow: 0 1px 2px rgba(60, 64, 67, 0.3), 0 1px 3px 1px rgba(60, 64, 67, 0.15);\n    fill: var(--button-hover-fill-color);\n  }\n\n  .colab-df-quickchart-complete:disabled,\n  .colab-df-quickchart-complete:disabled:hover {\n    background-color: var(--disabled-bg-color);\n    fill: var(--disabled-fill-color);\n    box-shadow: none;\n  }\n\n  .colab-df-spinner {\n    border: 2px solid var(--fill-color);\n    border-color: transparent;\n    border-bottom-color: var(--fill-color);\n    animation:\n      spin 1s steps(1) infinite;\n  }\n\n  @keyframes spin {\n    0% {\n      border-color: transparent;\n      border-bottom-color: var(--fill-color);\n      border-left-color: var(--fill-color);\n    }\n    20% {\n      border-color: transparent;\n      border-left-color: var(--fill-color);\n      border-top-color: var(--fill-color);\n    }\n    30% {\n      border-color: transparent;\n      border-left-color: var(--fill-color);\n      border-top-color: var(--fill-color);\n      border-right-color: var(--fill-color);\n    }\n    40% {\n      border-color: transparent;\n      border-right-color: var(--fill-color);\n      border-top-color: var(--fill-color);\n    }\n    60% {\n      border-color: transparent;\n      border-right-color: var(--fill-color);\n    }\n    80% {\n      border-color: transparent;\n      border-right-color: var(--fill-color);\n      border-bottom-color: var(--fill-color);\n    }\n    90% {\n      border-color: transparent;\n      border-bottom-color: var(--fill-color);\n    }\n  }\n</style>\n\n  <script>\n    async function quickchart(key) {\n      const quickchartButtonEl =\n        document.querySelector('#' + key + ' button');\n      quickchartButtonEl.disabled = true;  // To prevent multiple clicks.\n      quickchartButtonEl.classList.add('colab-df-spinner');\n      try {\n        const charts = await google.colab.kernel.invokeFunction(\n            'suggestCharts', [key], {});\n      } catch (error) {\n        console.error('Error during call to suggestCharts:', error);\n      }\n      quickchartButtonEl.classList.remove('colab-df-spinner');\n      quickchartButtonEl.classList.add('colab-df-quickchart-complete');\n    }\n    (() => {\n      let quickchartButtonEl =\n        document.querySelector('#df-0f863299-38a1-4228-b2d2-92b28726ee21 button');\n      quickchartButtonEl.style.display =\n        google.colab.kernel.accessAllowed ? 'block' : 'none';\n    })();\n  </script>\n</div>\n\n  <div id=\"id_4f1eb93c-62eb-4c95-aafe-ea53fb7bec69\">\n    <style>\n      .colab-df-generate {\n        background-color: #E8F0FE;\n        border: none;\n        border-radius: 50%;\n        cursor: pointer;\n        display: none;\n        fill: #1967D2;\n        height: 32px;\n        padding: 0 0 0 0;\n        width: 32px;\n      }\n\n      .colab-df-generate:hover {\n        background-color: #E2EBFA;\n        box-shadow: 0px 1px 2px rgba(60, 64, 67, 0.3), 0px 1px 3px 1px rgba(60, 64, 67, 0.15);\n        fill: #174EA6;\n      }\n\n      [theme=dark] .colab-df-generate {\n        background-color: #3B4455;\n        fill: #D2E3FC;\n      }\n\n      [theme=dark] .colab-df-generate:hover {\n        background-color: #434B5C;\n        box-shadow: 0px 1px 3px 1px rgba(0, 0, 0, 0.15);\n        filter: drop-shadow(0px 1px 2px rgba(0, 0, 0, 0.3));\n        fill: #FFFFFF;\n      }\n    </style>\n    <button class=\"colab-df-generate\" onclick=\"generateWithVariable('df_train')\"\n            title=\"Generate code using this dataframe.\"\n            style=\"display:none;\">\n\n  <svg xmlns=\"http://www.w3.org/2000/svg\" height=\"24px\"viewBox=\"0 0 24 24\"\n       width=\"24px\">\n    <path d=\"M7,19H8.4L18.45,9,17,7.55,7,17.6ZM5,21V16.75L18.45,3.32a2,2,0,0,1,2.83,0l1.4,1.43a1.91,1.91,0,0,1,.58,1.4,1.91,1.91,0,0,1-.58,1.4L9.25,21ZM18.45,9,17,7.55Zm-12,3A5.31,5.31,0,0,0,4.9,8.1,5.31,5.31,0,0,0,1,6.5,5.31,5.31,0,0,0,4.9,4.9,5.31,5.31,0,0,0,6.5,1,5.31,5.31,0,0,0,8.1,4.9,5.31,5.31,0,0,0,12,6.5,5.46,5.46,0,0,0,6.5,12Z\"/>\n  </svg>\n    </button>\n    <script>\n      (() => {\n      const buttonEl =\n        document.querySelector('#id_4f1eb93c-62eb-4c95-aafe-ea53fb7bec69 button.colab-df-generate');\n      buttonEl.style.display =\n        google.colab.kernel.accessAllowed ? 'block' : 'none';\n\n      buttonEl.onclick = () => {\n        google.colab.notebook.generateWithVariable('df_train');\n      }\n      })();\n    </script>\n  </div>\n\n    </div>\n  </div>\n",
            "text/plain": "                                                       vi  \\\n0                Khoa học đằng sau một tiêu đề về khí hậu   \n1       Trong 4 phút , chuyên gia hoá học khí quyển Ra...   \n2       Tôi muốn cho các bạn biết về sự to lớn của nhữ...   \n3       Có những dòng trông như thế này khi bàn về biế...   \n4       Cả hai đều là một nhánh của cùng một lĩnh vực ...   \n...                                                   ...   \n132996  Mà chính hệ thống y tế mà tôi góp phần , đã là...   \n132997  Nếu giờ đây cô đang xem chương trình này , tôi...   \n132998  Paul Pholeros : Làm sao để bớt nghèo khổ ? Hãy...   \n132999  Năm 1985 , kiến trúc sư Paul Pholeros được gia...   \n133000         Mong muốn xoá nghèo là 1 mục tiêu vĩ đại .   \n\n                                                       en  \\\n0       Rachel Pike : The science behind a climate hea...   \n1       In 4 minutes , atmospheric chemist Rachel Pike...   \n2       I &apos;d like to talk to you today about the ...   \n3       Headlines that look like this when they have t...   \n4       They are both two branches of the same field o...   \n...                                                   ...   \n132996  Maybe the system , of which I was a part , was...   \n132997  If you &apos;re watching this now , I hope you...   \n132998  Paul Pholeros : How to reduce poverty ? Fix homes   \n132999  In 1985 , architect Paul Pholeros was challeng...   \n133000  The idea of eliminating poverty is a great goal .   \n\n                                                 vi_token  \\\n0       ▁khoa ▁học ▁đằng ▁sau ▁một ▁tiêu ▁đề ▁về ▁khí ...   \n1       ▁trong ▁0 ▁phút ▁, ▁chuyên ▁gia ▁hoá ▁học ▁khí...   \n2       ▁tôi ▁muốn ▁cho ▁các ▁bạn ▁biết ▁về ▁sự ▁to ▁l...   \n3       ▁có ▁những ▁dòng ▁trông ▁như ▁thế ▁này ▁khi ▁b...   \n4       ▁cả ▁hai ▁đều ▁là ▁một ▁nhánh ▁của ▁cùng ▁một ...   \n...                                                   ...   \n132996  ▁mà ▁chính ▁hệ ▁thống ▁y ▁tế ▁mà ▁tôi ▁góp ▁ph...   \n132997  ▁nếu ▁giờ ▁đây ▁cô ▁đang ▁xem ▁chương ▁trình ▁...   \n132998  ▁paul ▁ph ol eros ▁: ▁làm ▁sao ▁để ▁bớt ▁nghèo...   \n132999  ▁năm ▁0000 ▁, ▁kiến ▁trúc ▁sư ▁paul ▁ph ol ero...   \n133000  ▁mong ▁muốn ▁xoá ▁nghèo ▁là ▁0 ▁mục ▁tiêu ▁vĩ ...   \n\n                                                 en_token  \\\n0       ▁rachel ▁pike ▁: ▁the ▁science ▁behind ▁a ▁cli...   \n1       ▁in ▁0 ▁minutes ▁, ▁atmospheric ▁chemist ▁rach...   \n2       ▁i ▁& ap os ; d ▁like ▁to ▁talk ▁to ▁you ▁toda...   \n3       ▁headlines ▁that ▁look ▁like ▁this ▁when ▁they...   \n4       ▁they ▁are ▁both ▁two ▁branches ▁of ▁the ▁same...   \n...                                                   ...   \n132996  ▁maybe ▁the ▁system ▁, ▁of ▁which ▁i ▁was ▁a ▁...   \n132997  ▁if ▁you ▁& ap os ; re ▁watching ▁this ▁now ▁,...   \n132998  ▁paul ▁ph ol eros ▁: ▁how ▁to ▁reduce ▁poverty...   \n132999  ▁in ▁0000 ▁, ▁architect ▁paul ▁ph ol eros ▁was...   \n133000  ▁the ▁idea ▁of ▁eliminating ▁poverty ▁is ▁a ▁g...   \n\n                                                  vi_punc  \\\n0                Khoa học đằng sau một tiêu đề về khí hậu   \n1       Trong 4 phút , chuyên gia hoá học khí quyển Ra...   \n2       Tôi muốn cho các bạn biết về sự to lớn của nhữ...   \n3       Có những dòng trông như thế này khi bàn về biế...   \n4       Cả hai đều là một nhánh của cùng một lĩnh vực ...   \n...                                                   ...   \n132996  Mà chính hệ thống y tế mà tôi góp phần , đã là...   \n132997  Nếu giờ đây cô đang xem chương trình này , tôi...   \n132998  Paul Pholeros: Làm sao để bớt nghèo khổ ? Hãy ...   \n132999  Năm 1985 , kiến trúc sư Paul Pholeros được gia...   \n133000         Mong muốn xoá nghèo là 1 mục tiêu vĩ đại .   \n\n                                                  en_punc  \n0       Rachel Pike: The science behind a climate head...  \n1       In 4 minutes , atmospheric chemist Rachel Pike...  \n2       I &apos;d like to talk to you today about the ...  \n3       Headlines that look like this when they have t...  \n4       They are both two branches of the same field o...  \n...                                                   ...  \n132996  Maybe the system , of which I was a part , was...  \n132997  If you &apos;re watching this now , I hope you...  \n132998   Paul Pholeros: How to reduce poverty ? Fix homes  \n132999  In 1985 , architect Paul Pholeros was challeng...  \n133000  The idea of eliminating poverty is a great goal .  \n\n[133001 rows x 6 columns]"
          },
          "metadata": {}
        }
      ],
      "execution_count": null,
      "metadata": {
        "colab": {
          "base_uri": "https://localhost:8080/",
          "height": 771
        },
        "id": "8uMrNm4dKurG",
        "outputId": "7114fb96-737a-4bbf-afd9-3ad793943efc"
      }
    },
    {
      "cell_type": "code",
      "source": [
        "df_test[\"vi_punc\"] = df_test[\"vi\"].apply(lambda x: punc_norm(x, \"vi\"))\n",
        "df_test[\"en_punc\"] = df_test[\"en\"].apply(lambda x: punc_norm(x, \"en\"))\n",
        "\n",
        "df_test"
      ],
      "outputs": [
        {
          "output_type": "execute_result",
          "execution_count": 28,
          "data": {
            "application/vnd.google.colaboratory.intrinsic+json": {
              "summary": "{\n  \"name\": \"df_test\",\n  \"rows\": 1268,\n  \"fields\": [\n    {\n      \"column\": \"vi\",\n      \"properties\": {\n        \"dtype\": \"string\",\n        \"num_unique_values\": 1260,\n        \"samples\": [\n          \"T\\u00f4i v\\u00f4 c\\u00f9ng ng\\u1ea1c nhi\\u00ean khi m\\u1ed9t ng\\u01b0\\u1eddi ho\\u00e0n to\\u00e0n xa l\\u1ea1 l\\u1ea1i quan t\\u00e2m t\\u1edbi m\\u1ee9c h\\u1ecfi t\\u00f4i nh\\u01b0 v\\u1eady .\",\n          \"NG\\u01b0\\u1eddi n\\u00e0o s\\u1ebd s\\u00e1ng ch\\u1ebf ra c\\u00e1i c\\u00f4ng ngh\\u1ec7 cho cu\\u1ed9c c\\u00e1ch m\\u1ea1ng xanh ? C\\u00e1c tr\\u01b0\\u1eddng \\u0111\\u1ea1i h\\u1ecdc \\u01b0 ? qu\\u00ean \\u0111i !\",\n          \"Vi\\u1ec7c ng\\u01b0\\u1eddi B\\u1eafc Tri\\u1ec1u Ti\\u00ean ph\\u1ea3i che d\\u1ea5u danh t\\u00ednh c\\u1ee7a m\\u00ecnh v\\u00e0 \\u0111\\u1ea5u tranh \\u0111\\u1ec3 t\\u1ed3n t\\u1ea1i qu\\u1ea3 l\\u00e0 m\\u1ed9t bi k\\u1ecbch .\"\n        ],\n        \"semantic_type\": \"\",\n        \"description\": \"\"\n      }\n    },\n    {\n      \"column\": \"en\",\n      \"properties\": {\n        \"dtype\": \"string\",\n        \"num_unique_values\": 1252,\n        \"samples\": [\n          \"But frustratingly , with Parkinson &apos;s disease and other movement disorders , there are no biomarkers , so there &apos;s no simple blood test that you can do , and the best that we have is like this 20-minute neurologist test .\",\n          \"This is Manuru . When his father died , his uncle trafficked him to work with him in the mines .\",\n          \"We got dirty , and we loved it .\"\n        ],\n        \"semantic_type\": \"\",\n        \"description\": \"\"\n      }\n    },\n    {\n      \"column\": \"vi_token\",\n      \"properties\": {\n        \"dtype\": \"string\",\n        \"num_unique_values\": 1260,\n        \"samples\": [\n          \"\\u2581t\\u00f4i \\u2581v\\u00f4 \\u2581c\\u00f9ng \\u2581ng\\u1ea1c \\u2581nhi\\u00ean \\u2581khi \\u2581m\\u1ed9t \\u2581ng\\u01b0\\u1eddi \\u2581ho\\u00e0n \\u2581to\\u00e0n \\u2581xa \\u2581l\\u1ea1 \\u2581l\\u1ea1i \\u2581quan \\u2581t\\u00e2m \\u2581t\\u1edbi \\u2581m\\u1ee9c \\u2581h\\u1ecfi \\u2581t\\u00f4i \\u2581nh\\u01b0 \\u2581v\\u1eady \\u2581.\",\n          \"\\u2581ng\\u01b0\\u1eddi \\u2581n\\u00e0o \\u2581s\\u1ebd \\u2581s\\u00e1ng \\u2581ch\\u1ebf \\u2581ra \\u2581c\\u00e1i \\u2581c\\u00f4ng \\u2581ngh\\u1ec7 \\u2581cho \\u2581cu\\u1ed9c \\u2581c\\u00e1ch \\u2581m\\u1ea1ng \\u2581xanh \\u2581? \\u2581c\\u00e1c \\u2581tr\\u01b0\\u1eddng \\u2581\\u0111\\u1ea1i \\u2581h\\u1ecdc \\u2581\\u01b0 \\u2581? \\u2581qu\\u00ean \\u2581\\u0111i \\u2581!\",\n          \"\\u2581vi\\u1ec7c \\u2581ng\\u01b0\\u1eddi \\u2581b\\u1eafc \\u2581tri\\u1ec1u \\u2581ti\\u00ean \\u2581ph\\u1ea3i \\u2581che \\u2581d\\u1ea5u \\u2581danh \\u2581t\\u00ednh \\u2581c\\u1ee7a \\u2581m\\u00ecnh \\u2581v\\u00e0 \\u2581\\u0111\\u1ea5u \\u2581tranh \\u2581\\u0111\\u1ec3 \\u2581t\\u1ed3n \\u2581t\\u1ea1i \\u2581qu\\u1ea3 \\u2581l\\u00e0 \\u2581m\\u1ed9t \\u2581bi \\u2581k\\u1ecbch \\u2581.\"\n        ],\n        \"semantic_type\": \"\",\n        \"description\": \"\"\n      }\n    },\n    {\n      \"column\": \"en_token\",\n      \"properties\": {\n        \"dtype\": \"string\",\n        \"num_unique_values\": 1252,\n        \"samples\": [\n          \"\\u2581but \\u2581frustrating ly \\u2581, \\u2581with \\u2581parkinson \\u2581& ap os ; s \\u2581disease \\u2581and \\u2581other \\u2581movement \\u2581disorders \\u2581, \\u2581there \\u2581are \\u2581no \\u2581biom ark ers \\u2581, \\u2581so \\u2581there \\u2581& ap os ; s \\u2581no \\u2581simple \\u2581blood \\u2581test \\u2581that \\u2581you \\u2581can \\u2581do \\u2581, \\u2581and \\u2581the \\u2581best \\u2581that \\u2581we \\u2581have \\u2581is \\u2581like \\u2581this \\u258100- minute \\u2581neurolog ist \\u2581test \\u2581.\",\n          \"\\u2581this \\u2581is \\u2581man uru \\u2581. \\u2581when \\u2581his \\u2581father \\u2581died \\u2581, \\u2581his \\u2581uncle \\u2581traff icked \\u2581him \\u2581to \\u2581work \\u2581with \\u2581him \\u2581in \\u2581the \\u2581mines \\u2581.\",\n          \"\\u2581we \\u2581got \\u2581dirty \\u2581, \\u2581and \\u2581we \\u2581loved \\u2581it \\u2581.\"\n        ],\n        \"semantic_type\": \"\",\n        \"description\": \"\"\n      }\n    },\n    {\n      \"column\": \"vi_punc\",\n      \"properties\": {\n        \"dtype\": \"string\",\n        \"num_unique_values\": 1260,\n        \"samples\": [\n          \"T\\u00f4i v\\u00f4 c\\u00f9ng ng\\u1ea1c nhi\\u00ean khi m\\u1ed9t ng\\u01b0\\u1eddi ho\\u00e0n to\\u00e0n xa l\\u1ea1 l\\u1ea1i quan t\\u00e2m t\\u1edbi m\\u1ee9c h\\u1ecfi t\\u00f4i nh\\u01b0 v\\u1eady .\",\n          \"NG\\u01b0\\u1eddi n\\u00e0o s\\u1ebd s\\u00e1ng ch\\u1ebf ra c\\u00e1i c\\u00f4ng ngh\\u1ec7 cho cu\\u1ed9c c\\u00e1ch m\\u1ea1ng xanh ? C\\u00e1c tr\\u01b0\\u1eddng \\u0111\\u1ea1i h\\u1ecdc \\u01b0 ? qu\\u00ean \\u0111i !\",\n          \"Vi\\u1ec7c ng\\u01b0\\u1eddi B\\u1eafc Tri\\u1ec1u Ti\\u00ean ph\\u1ea3i che d\\u1ea5u danh t\\u00ednh c\\u1ee7a m\\u00ecnh v\\u00e0 \\u0111\\u1ea5u tranh \\u0111\\u1ec3 t\\u1ed3n t\\u1ea1i qu\\u1ea3 l\\u00e0 m\\u1ed9t bi k\\u1ecbch .\"\n        ],\n        \"semantic_type\": \"\",\n        \"description\": \"\"\n      }\n    },\n    {\n      \"column\": \"en_punc\",\n      \"properties\": {\n        \"dtype\": \"string\",\n        \"num_unique_values\": 1252,\n        \"samples\": [\n          \"But frustratingly , with Parkinson &apos;s disease and other movement disorders , there are no biomarkers , so there &apos;s no simple blood test that you can do , and the best that we have is like this 20-minute neurologist test .\",\n          \"This is Manuru . When his father died , his uncle trafficked him to work with him in the mines .\",\n          \"We got dirty , and we loved it .\"\n        ],\n        \"semantic_type\": \"\",\n        \"description\": \"\"\n      }\n    }\n  ]\n}",
              "type": "dataframe",
              "variable_name": "df_test"
            },
            "text/html": "\n  <div id=\"df-154e1cbd-c995-4c60-baff-760d0ef15957\" class=\"colab-df-container\">\n    <div>\n<style scoped>\n    .dataframe tbody tr th:only-of-type {\n        vertical-align: middle;\n    }\n\n    .dataframe tbody tr th {\n        vertical-align: top;\n    }\n\n    .dataframe thead th {\n        text-align: right;\n    }\n</style>\n<table border=\"1\" class=\"dataframe\">\n  <thead>\n    <tr style=\"text-align: right;\">\n      <th></th>\n      <th>vi</th>\n      <th>en</th>\n      <th>vi_token</th>\n      <th>en_token</th>\n      <th>vi_punc</th>\n      <th>en_punc</th>\n    </tr>\n  </thead>\n  <tbody>\n    <tr>\n      <th>0</th>\n      <td>Khi tôi còn nhỏ , Tôi nghĩ rằng BắcTriều Tiên ...</td>\n      <td>When I was little , I thought my country was t...</td>\n      <td>▁khi ▁tôi ▁còn ▁nhỏ ▁, ▁tôi ▁nghĩ ▁rằng ▁bắc t...</td>\n      <td>▁when ▁i ▁was ▁little ▁, ▁i ▁thought ▁my ▁coun...</td>\n      <td>Khi tôi còn nhỏ , Tôi nghĩ rằng BắcTriều Tiên ...</td>\n      <td>When I was little , I thought my country was t...</td>\n    </tr>\n    <tr>\n      <th>1</th>\n      <td>Tôi đã rất tự hào về đất nước tôi .</td>\n      <td>And I was very proud .</td>\n      <td>▁tôi ▁đã ▁rất ▁tự ▁hào ▁về ▁đất ▁nước ▁tôi ▁.</td>\n      <td>▁and ▁i ▁was ▁very ▁proud ▁.</td>\n      <td>Tôi đã rất tự hào về đất nước tôi .</td>\n      <td>And I was very proud .</td>\n    </tr>\n    <tr>\n      <th>2</th>\n      <td>Ở trường , chúng tôi dành rất nhiều thời gian ...</td>\n      <td>In school , we spent a lot of time studying th...</td>\n      <td>▁ở ▁trường ▁, ▁chúng ▁tôi ▁dành ▁rất ▁nhiều ▁t...</td>\n      <td>▁in ▁school ▁, ▁we ▁spent ▁a ▁lot ▁of ▁time ▁s...</td>\n      <td>Ở trường , chúng tôi dành rất nhiều thời gian ...</td>\n      <td>In school , we spent a lot of time studying th...</td>\n    </tr>\n    <tr>\n      <th>3</th>\n      <td>Mặc dù tôi đã từng tự hỏi không biết thế giới ...</td>\n      <td>Although I often wondered about the outside wo...</td>\n      <td>▁mặc ▁dù ▁tôi ▁đã ▁từng ▁tự ▁hỏi ▁không ▁biết ...</td>\n      <td>▁although ▁i ▁often ▁wondered ▁about ▁the ▁out...</td>\n      <td>Mặc dù tôi đã từng tự hỏi không biết thế giới ...</td>\n      <td>Although I often wondered about the outside wo...</td>\n    </tr>\n    <tr>\n      <th>4</th>\n      <td>Khi tôi lên 7 , tôi chứng kiến cảnh người ta x...</td>\n      <td>When I was seven years old , I saw my first pu...</td>\n      <td>▁khi ▁tôi ▁lên ▁0 ▁, ▁tôi ▁chứng ▁kiến ▁cảnh ▁...</td>\n      <td>▁when ▁i ▁was ▁seven ▁years ▁old ▁, ▁i ▁saw ▁m...</td>\n      <td>Khi tôi lên 7 , tôi chứng kiến cảnh người ta x...</td>\n      <td>When I was seven years old , I saw my first pu...</td>\n    </tr>\n    <tr>\n      <th>...</th>\n      <td>...</td>\n      <td>...</td>\n      <td>...</td>\n      <td>...</td>\n      <td>...</td>\n      <td>...</td>\n    </tr>\n    <tr>\n      <th>1263</th>\n      <td>Tôi thực sự tin , nếu ta coi người khác như nh...</td>\n      <td>I truly believe , if we can see one another as...</td>\n      <td>▁tôi ▁thực ▁sự ▁tin ▁, ▁nếu ▁ta ▁coi ▁người ▁k...</td>\n      <td>▁i ▁truly ▁believe ▁, ▁if ▁we ▁can ▁see ▁one ▁...</td>\n      <td>Tôi thực sự tin , nếu ta coi người khác như nh...</td>\n      <td>I truly believe , if we can see one another as...</td>\n    </tr>\n    <tr>\n      <th>1264</th>\n      <td>Những tấm hình không phải là về bản thân vấnđề...</td>\n      <td>These images are not of issues . They are of p...</td>\n      <td>▁những ▁tấm ▁hình ▁không ▁phải ▁là ▁về ▁bản ▁t...</td>\n      <td>▁these ▁images ▁are ▁not ▁of ▁issues ▁. ▁they ...</td>\n      <td>Những tấm hình không phải là về bản thân vấnđề...</td>\n      <td>These images are not of issues . They are of p...</td>\n    </tr>\n    <tr>\n      <th>1265</th>\n      <td>Không có ngày nào mà tôi không nghĩ về những n...</td>\n      <td>There is not a day that goes by that I don &amp;ap...</td>\n      <td>▁không ▁có ▁ngày ▁nào ▁mà ▁tôi ▁không ▁nghĩ ▁v...</td>\n      <td>▁there ▁is ▁not ▁a ▁day ▁that ▁goes ▁by ▁that ...</td>\n      <td>Không có ngày nào mà tôi không nghĩ về những n...</td>\n      <td>There is not a day that goes by that I don &amp;ap...</td>\n    </tr>\n    <tr>\n      <th>1266</th>\n      <td>Tôi hi vọng những tấm hình sẽ đánh thức một ng...</td>\n      <td>I hope that these images awaken a force in tho...</td>\n      <td>▁tôi ▁hi ▁vọng ▁những ▁tấm ▁hình ▁sẽ ▁đánh ▁th...</td>\n      <td>▁i ▁hope ▁that ▁these ▁images ▁awaken ▁a ▁forc...</td>\n      <td>Tôi hi vọng những tấm hình sẽ đánh thức một ng...</td>\n      <td>I hope that these images awaken a force in tho...</td>\n    </tr>\n    <tr>\n      <th>1267</th>\n      <td>Cảm ơn rất nhiều .</td>\n      <td>Thank you very much .</td>\n      <td>▁cảm ▁ơn ▁rất ▁nhiều ▁.</td>\n      <td>▁thank ▁you ▁very ▁much ▁.</td>\n      <td>Cảm ơn rất nhiều .</td>\n      <td>Thank you very much .</td>\n    </tr>\n  </tbody>\n</table>\n<p>1268 rows × 6 columns</p>\n</div>\n    <div class=\"colab-df-buttons\">\n\n  <div class=\"colab-df-container\">\n    <button class=\"colab-df-convert\" onclick=\"convertToInteractive('df-154e1cbd-c995-4c60-baff-760d0ef15957')\"\n            title=\"Convert this dataframe to an interactive table.\"\n            style=\"display:none;\">\n\n  <svg xmlns=\"http://www.w3.org/2000/svg\" height=\"24px\" viewBox=\"0 -960 960 960\">\n    <path d=\"M120-120v-720h720v720H120Zm60-500h600v-160H180v160Zm220 220h160v-160H400v160Zm0 220h160v-160H400v160ZM180-400h160v-160H180v160Zm440 0h160v-160H620v160ZM180-180h160v-160H180v160Zm440 0h160v-160H620v160Z\"/>\n  </svg>\n    </button>\n\n  <style>\n    .colab-df-container {\n      display:flex;\n      gap: 12px;\n    }\n\n    .colab-df-convert {\n      background-color: #E8F0FE;\n      border: none;\n      border-radius: 50%;\n      cursor: pointer;\n      display: none;\n      fill: #1967D2;\n      height: 32px;\n      padding: 0 0 0 0;\n      width: 32px;\n    }\n\n    .colab-df-convert:hover {\n      background-color: #E2EBFA;\n      box-shadow: 0px 1px 2px rgba(60, 64, 67, 0.3), 0px 1px 3px 1px rgba(60, 64, 67, 0.15);\n      fill: #174EA6;\n    }\n\n    .colab-df-buttons div {\n      margin-bottom: 4px;\n    }\n\n    [theme=dark] .colab-df-convert {\n      background-color: #3B4455;\n      fill: #D2E3FC;\n    }\n\n    [theme=dark] .colab-df-convert:hover {\n      background-color: #434B5C;\n      box-shadow: 0px 1px 3px 1px rgba(0, 0, 0, 0.15);\n      filter: drop-shadow(0px 1px 2px rgba(0, 0, 0, 0.3));\n      fill: #FFFFFF;\n    }\n  </style>\n\n    <script>\n      const buttonEl =\n        document.querySelector('#df-154e1cbd-c995-4c60-baff-760d0ef15957 button.colab-df-convert');\n      buttonEl.style.display =\n        google.colab.kernel.accessAllowed ? 'block' : 'none';\n\n      async function convertToInteractive(key) {\n        const element = document.querySelector('#df-154e1cbd-c995-4c60-baff-760d0ef15957');\n        const dataTable =\n          await google.colab.kernel.invokeFunction('convertToInteractive',\n                                                    [key], {});\n        if (!dataTable) return;\n\n        const docLinkHtml = 'Like what you see? Visit the ' +\n          '<a target=\"_blank\" href=https://colab.research.google.com/notebooks/data_table.ipynb>data table notebook</a>'\n          + ' to learn more about interactive tables.';\n        element.innerHTML = '';\n        dataTable['output_type'] = 'display_data';\n        await google.colab.output.renderOutput(dataTable, element);\n        const docLink = document.createElement('div');\n        docLink.innerHTML = docLinkHtml;\n        element.appendChild(docLink);\n      }\n    </script>\n  </div>\n\n\n<div id=\"df-c468e4bc-6327-4e72-8c1e-2ce54a422d89\">\n  <button class=\"colab-df-quickchart\" onclick=\"quickchart('df-c468e4bc-6327-4e72-8c1e-2ce54a422d89')\"\n            title=\"Suggest charts\"\n            style=\"display:none;\">\n\n<svg xmlns=\"http://www.w3.org/2000/svg\" height=\"24px\"viewBox=\"0 0 24 24\"\n     width=\"24px\">\n    <g>\n        <path d=\"M19 3H5c-1.1 0-2 .9-2 2v14c0 1.1.9 2 2 2h14c1.1 0 2-.9 2-2V5c0-1.1-.9-2-2-2zM9 17H7v-7h2v7zm4 0h-2V7h2v10zm4 0h-2v-4h2v4z\"/>\n    </g>\n</svg>\n  </button>\n\n<style>\n  .colab-df-quickchart {\n      --bg-color: #E8F0FE;\n      --fill-color: #1967D2;\n      --hover-bg-color: #E2EBFA;\n      --hover-fill-color: #174EA6;\n      --disabled-fill-color: #AAA;\n      --disabled-bg-color: #DDD;\n  }\n\n  [theme=dark] .colab-df-quickchart {\n      --bg-color: #3B4455;\n      --fill-color: #D2E3FC;\n      --hover-bg-color: #434B5C;\n      --hover-fill-color: #FFFFFF;\n      --disabled-bg-color: #3B4455;\n      --disabled-fill-color: #666;\n  }\n\n  .colab-df-quickchart {\n    background-color: var(--bg-color);\n    border: none;\n    border-radius: 50%;\n    cursor: pointer;\n    display: none;\n    fill: var(--fill-color);\n    height: 32px;\n    padding: 0;\n    width: 32px;\n  }\n\n  .colab-df-quickchart:hover {\n    background-color: var(--hover-bg-color);\n    box-shadow: 0 1px 2px rgba(60, 64, 67, 0.3), 0 1px 3px 1px rgba(60, 64, 67, 0.15);\n    fill: var(--button-hover-fill-color);\n  }\n\n  .colab-df-quickchart-complete:disabled,\n  .colab-df-quickchart-complete:disabled:hover {\n    background-color: var(--disabled-bg-color);\n    fill: var(--disabled-fill-color);\n    box-shadow: none;\n  }\n\n  .colab-df-spinner {\n    border: 2px solid var(--fill-color);\n    border-color: transparent;\n    border-bottom-color: var(--fill-color);\n    animation:\n      spin 1s steps(1) infinite;\n  }\n\n  @keyframes spin {\n    0% {\n      border-color: transparent;\n      border-bottom-color: var(--fill-color);\n      border-left-color: var(--fill-color);\n    }\n    20% {\n      border-color: transparent;\n      border-left-color: var(--fill-color);\n      border-top-color: var(--fill-color);\n    }\n    30% {\n      border-color: transparent;\n      border-left-color: var(--fill-color);\n      border-top-color: var(--fill-color);\n      border-right-color: var(--fill-color);\n    }\n    40% {\n      border-color: transparent;\n      border-right-color: var(--fill-color);\n      border-top-color: var(--fill-color);\n    }\n    60% {\n      border-color: transparent;\n      border-right-color: var(--fill-color);\n    }\n    80% {\n      border-color: transparent;\n      border-right-color: var(--fill-color);\n      border-bottom-color: var(--fill-color);\n    }\n    90% {\n      border-color: transparent;\n      border-bottom-color: var(--fill-color);\n    }\n  }\n</style>\n\n  <script>\n    async function quickchart(key) {\n      const quickchartButtonEl =\n        document.querySelector('#' + key + ' button');\n      quickchartButtonEl.disabled = true;  // To prevent multiple clicks.\n      quickchartButtonEl.classList.add('colab-df-spinner');\n      try {\n        const charts = await google.colab.kernel.invokeFunction(\n            'suggestCharts', [key], {});\n      } catch (error) {\n        console.error('Error during call to suggestCharts:', error);\n      }\n      quickchartButtonEl.classList.remove('colab-df-spinner');\n      quickchartButtonEl.classList.add('colab-df-quickchart-complete');\n    }\n    (() => {\n      let quickchartButtonEl =\n        document.querySelector('#df-c468e4bc-6327-4e72-8c1e-2ce54a422d89 button');\n      quickchartButtonEl.style.display =\n        google.colab.kernel.accessAllowed ? 'block' : 'none';\n    })();\n  </script>\n</div>\n\n  <div id=\"id_1070d311-f699-42c3-94da-e015921a7aed\">\n    <style>\n      .colab-df-generate {\n        background-color: #E8F0FE;\n        border: none;\n        border-radius: 50%;\n        cursor: pointer;\n        display: none;\n        fill: #1967D2;\n        height: 32px;\n        padding: 0 0 0 0;\n        width: 32px;\n      }\n\n      .colab-df-generate:hover {\n        background-color: #E2EBFA;\n        box-shadow: 0px 1px 2px rgba(60, 64, 67, 0.3), 0px 1px 3px 1px rgba(60, 64, 67, 0.15);\n        fill: #174EA6;\n      }\n\n      [theme=dark] .colab-df-generate {\n        background-color: #3B4455;\n        fill: #D2E3FC;\n      }\n\n      [theme=dark] .colab-df-generate:hover {\n        background-color: #434B5C;\n        box-shadow: 0px 1px 3px 1px rgba(0, 0, 0, 0.15);\n        filter: drop-shadow(0px 1px 2px rgba(0, 0, 0, 0.3));\n        fill: #FFFFFF;\n      }\n    </style>\n    <button class=\"colab-df-generate\" onclick=\"generateWithVariable('df_test')\"\n            title=\"Generate code using this dataframe.\"\n            style=\"display:none;\">\n\n  <svg xmlns=\"http://www.w3.org/2000/svg\" height=\"24px\"viewBox=\"0 0 24 24\"\n       width=\"24px\">\n    <path d=\"M7,19H8.4L18.45,9,17,7.55,7,17.6ZM5,21V16.75L18.45,3.32a2,2,0,0,1,2.83,0l1.4,1.43a1.91,1.91,0,0,1,.58,1.4,1.91,1.91,0,0,1-.58,1.4L9.25,21ZM18.45,9,17,7.55Zm-12,3A5.31,5.31,0,0,0,4.9,8.1,5.31,5.31,0,0,0,1,6.5,5.31,5.31,0,0,0,4.9,4.9,5.31,5.31,0,0,0,6.5,1,5.31,5.31,0,0,0,8.1,4.9,5.31,5.31,0,0,0,12,6.5,5.46,5.46,0,0,0,6.5,12Z\"/>\n  </svg>\n    </button>\n    <script>\n      (() => {\n      const buttonEl =\n        document.querySelector('#id_1070d311-f699-42c3-94da-e015921a7aed button.colab-df-generate');\n      buttonEl.style.display =\n        google.colab.kernel.accessAllowed ? 'block' : 'none';\n\n      buttonEl.onclick = () => {\n        google.colab.notebook.generateWithVariable('df_test');\n      }\n      })();\n    </script>\n  </div>\n\n    </div>\n  </div>\n",
            "text/plain": "                                                     vi  \\\n0     Khi tôi còn nhỏ , Tôi nghĩ rằng BắcTriều Tiên ...   \n1                   Tôi đã rất tự hào về đất nước tôi .   \n2     Ở trường , chúng tôi dành rất nhiều thời gian ...   \n3     Mặc dù tôi đã từng tự hỏi không biết thế giới ...   \n4     Khi tôi lên 7 , tôi chứng kiến cảnh người ta x...   \n...                                                 ...   \n1263  Tôi thực sự tin , nếu ta coi người khác như nh...   \n1264  Những tấm hình không phải là về bản thân vấnđề...   \n1265  Không có ngày nào mà tôi không nghĩ về những n...   \n1266  Tôi hi vọng những tấm hình sẽ đánh thức một ng...   \n1267                                 Cảm ơn rất nhiều .   \n\n                                                     en  \\\n0     When I was little , I thought my country was t...   \n1                                And I was very proud .   \n2     In school , we spent a lot of time studying th...   \n3     Although I often wondered about the outside wo...   \n4     When I was seven years old , I saw my first pu...   \n...                                                 ...   \n1263  I truly believe , if we can see one another as...   \n1264  These images are not of issues . They are of p...   \n1265  There is not a day that goes by that I don &ap...   \n1266  I hope that these images awaken a force in tho...   \n1267                              Thank you very much .   \n\n                                               vi_token  \\\n0     ▁khi ▁tôi ▁còn ▁nhỏ ▁, ▁tôi ▁nghĩ ▁rằng ▁bắc t...   \n1         ▁tôi ▁đã ▁rất ▁tự ▁hào ▁về ▁đất ▁nước ▁tôi ▁.   \n2     ▁ở ▁trường ▁, ▁chúng ▁tôi ▁dành ▁rất ▁nhiều ▁t...   \n3     ▁mặc ▁dù ▁tôi ▁đã ▁từng ▁tự ▁hỏi ▁không ▁biết ...   \n4     ▁khi ▁tôi ▁lên ▁0 ▁, ▁tôi ▁chứng ▁kiến ▁cảnh ▁...   \n...                                                 ...   \n1263  ▁tôi ▁thực ▁sự ▁tin ▁, ▁nếu ▁ta ▁coi ▁người ▁k...   \n1264  ▁những ▁tấm ▁hình ▁không ▁phải ▁là ▁về ▁bản ▁t...   \n1265  ▁không ▁có ▁ngày ▁nào ▁mà ▁tôi ▁không ▁nghĩ ▁v...   \n1266  ▁tôi ▁hi ▁vọng ▁những ▁tấm ▁hình ▁sẽ ▁đánh ▁th...   \n1267                            ▁cảm ▁ơn ▁rất ▁nhiều ▁.   \n\n                                               en_token  \\\n0     ▁when ▁i ▁was ▁little ▁, ▁i ▁thought ▁my ▁coun...   \n1                          ▁and ▁i ▁was ▁very ▁proud ▁.   \n2     ▁in ▁school ▁, ▁we ▁spent ▁a ▁lot ▁of ▁time ▁s...   \n3     ▁although ▁i ▁often ▁wondered ▁about ▁the ▁out...   \n4     ▁when ▁i ▁was ▁seven ▁years ▁old ▁, ▁i ▁saw ▁m...   \n...                                                 ...   \n1263  ▁i ▁truly ▁believe ▁, ▁if ▁we ▁can ▁see ▁one ▁...   \n1264  ▁these ▁images ▁are ▁not ▁of ▁issues ▁. ▁they ...   \n1265  ▁there ▁is ▁not ▁a ▁day ▁that ▁goes ▁by ▁that ...   \n1266  ▁i ▁hope ▁that ▁these ▁images ▁awaken ▁a ▁forc...   \n1267                         ▁thank ▁you ▁very ▁much ▁.   \n\n                                                vi_punc  \\\n0     Khi tôi còn nhỏ , Tôi nghĩ rằng BắcTriều Tiên ...   \n1                   Tôi đã rất tự hào về đất nước tôi .   \n2     Ở trường , chúng tôi dành rất nhiều thời gian ...   \n3     Mặc dù tôi đã từng tự hỏi không biết thế giới ...   \n4     Khi tôi lên 7 , tôi chứng kiến cảnh người ta x...   \n...                                                 ...   \n1263  Tôi thực sự tin , nếu ta coi người khác như nh...   \n1264  Những tấm hình không phải là về bản thân vấnđề...   \n1265  Không có ngày nào mà tôi không nghĩ về những n...   \n1266  Tôi hi vọng những tấm hình sẽ đánh thức một ng...   \n1267                                 Cảm ơn rất nhiều .   \n\n                                                en_punc  \n0     When I was little , I thought my country was t...  \n1                                And I was very proud .  \n2     In school , we spent a lot of time studying th...  \n3     Although I often wondered about the outside wo...  \n4     When I was seven years old , I saw my first pu...  \n...                                                 ...  \n1263  I truly believe , if we can see one another as...  \n1264  These images are not of issues . They are of p...  \n1265  There is not a day that goes by that I don &ap...  \n1266  I hope that these images awaken a force in tho...  \n1267                              Thank you very much .  \n\n[1268 rows x 6 columns]"
          },
          "metadata": {}
        }
      ],
      "execution_count": null,
      "metadata": {
        "colab": {
          "base_uri": "https://localhost:8080/",
          "height": 736
        },
        "id": "7AM8Wr2lK5vB",
        "outputId": "6275444d-66e0-46be-a3cc-099e2d5de6d3"
      }
    },
    {
      "cell_type": "code",
      "source": [
        "df_train[\"vi_token\"] = df_train[\"vi_punc\"].apply(lambda x: tokenizer(x, \"vi\"))\n",
        "df_train[\"en_token\"] = df_train[\"en_punc\"].apply(lambda x: tokenizer(x, \"en\"))\n",
        "\n",
        "df_train"
      ],
      "outputs": [
        {
          "output_type": "execute_result",
          "execution_count": 29,
          "data": {
            "application/vnd.google.colaboratory.intrinsic+json": {
              "type": "dataframe",
              "variable_name": "df_train"
            },
            "text/html": "\n  <div id=\"df-92818072-be5a-42de-acdf-15225f3e89cf\" class=\"colab-df-container\">\n    <div>\n<style scoped>\n    .dataframe tbody tr th:only-of-type {\n        vertical-align: middle;\n    }\n\n    .dataframe tbody tr th {\n        vertical-align: top;\n    }\n\n    .dataframe thead th {\n        text-align: right;\n    }\n</style>\n<table border=\"1\" class=\"dataframe\">\n  <thead>\n    <tr style=\"text-align: right;\">\n      <th></th>\n      <th>vi</th>\n      <th>en</th>\n      <th>vi_token</th>\n      <th>en_token</th>\n      <th>vi_punc</th>\n      <th>en_punc</th>\n    </tr>\n  </thead>\n  <tbody>\n    <tr>\n      <th>0</th>\n      <td>Khoa học đằng sau một tiêu đề về khí hậu</td>\n      <td>Rachel Pike : The science behind a climate hea...</td>\n      <td>▁khoa ▁học ▁đằng ▁sau ▁một ▁tiêu ▁đề ▁về ▁khí ...</td>\n      <td>▁rachel ▁pike : ▁the ▁science ▁behind ▁a ▁clim...</td>\n      <td>Khoa học đằng sau một tiêu đề về khí hậu</td>\n      <td>Rachel Pike: The science behind a climate head...</td>\n    </tr>\n    <tr>\n      <th>1</th>\n      <td>Trong 4 phút , chuyên gia hoá học khí quyển Ra...</td>\n      <td>In 4 minutes , atmospheric chemist Rachel Pike...</td>\n      <td>▁trong ▁0 ▁phút ▁, ▁chuyên ▁gia ▁hoá ▁học ▁khí...</td>\n      <td>▁in ▁0 ▁minutes ▁, ▁atmospheric ▁chemist ▁rach...</td>\n      <td>Trong 4 phút , chuyên gia hoá học khí quyển Ra...</td>\n      <td>In 4 minutes , atmospheric chemist Rachel Pike...</td>\n    </tr>\n    <tr>\n      <th>2</th>\n      <td>Tôi muốn cho các bạn biết về sự to lớn của nhữ...</td>\n      <td>I &amp;apos;d like to talk to you today about the ...</td>\n      <td>▁tôi ▁muốn ▁cho ▁các ▁bạn ▁biết ▁về ▁sự ▁to ▁l...</td>\n      <td>▁i ▁&amp; ap os ; d ▁like ▁to ▁talk ▁to ▁you ▁toda...</td>\n      <td>Tôi muốn cho các bạn biết về sự to lớn của nhữ...</td>\n      <td>I &amp;apos;d like to talk to you today about the ...</td>\n    </tr>\n    <tr>\n      <th>3</th>\n      <td>Có những dòng trông như thế này khi bàn về biế...</td>\n      <td>Headlines that look like this when they have t...</td>\n      <td>▁có ▁những ▁dòng ▁trông ▁như ▁thế ▁này ▁khi ▁b...</td>\n      <td>▁headlines ▁that ▁look ▁like ▁this ▁when ▁they...</td>\n      <td>Có những dòng trông như thế này khi bàn về biế...</td>\n      <td>Headlines that look like this when they have t...</td>\n    </tr>\n    <tr>\n      <th>4</th>\n      <td>Cả hai đều là một nhánh của cùng một lĩnh vực ...</td>\n      <td>They are both two branches of the same field o...</td>\n      <td>▁cả ▁hai ▁đều ▁là ▁một ▁nhánh ▁của ▁cùng ▁một ...</td>\n      <td>▁they ▁are ▁both ▁two ▁branches ▁of ▁the ▁same...</td>\n      <td>Cả hai đều là một nhánh của cùng một lĩnh vực ...</td>\n      <td>They are both two branches of the same field o...</td>\n    </tr>\n    <tr>\n      <th>...</th>\n      <td>...</td>\n      <td>...</td>\n      <td>...</td>\n      <td>...</td>\n      <td>...</td>\n      <td>...</td>\n    </tr>\n    <tr>\n      <th>132996</th>\n      <td>Mà chính hệ thống y tế mà tôi góp phần , đã là...</td>\n      <td>Maybe the system , of which I was a part , was...</td>\n      <td>▁mà ▁chính ▁hệ ▁thống ▁y ▁tế ▁mà ▁tôi ▁góp ▁ph...</td>\n      <td>▁maybe ▁the ▁system ▁, ▁of ▁which ▁i ▁was ▁a ▁...</td>\n      <td>Mà chính hệ thống y tế mà tôi góp phần , đã là...</td>\n      <td>Maybe the system , of which I was a part , was...</td>\n    </tr>\n    <tr>\n      <th>132997</th>\n      <td>Nếu giờ đây cô đang xem chương trình này , tôi...</td>\n      <td>If you &amp;apos;re watching this now , I hope you...</td>\n      <td>▁nếu ▁giờ ▁đây ▁cô ▁đang ▁xem ▁chương ▁trình ▁...</td>\n      <td>▁if ▁you ▁&amp; ap os ; re ▁watching ▁this ▁now ▁,...</td>\n      <td>Nếu giờ đây cô đang xem chương trình này , tôi...</td>\n      <td>If you &amp;apos;re watching this now , I hope you...</td>\n    </tr>\n    <tr>\n      <th>132998</th>\n      <td>Paul Pholeros : Làm sao để bớt nghèo khổ ? Hãy...</td>\n      <td>Paul Pholeros : How to reduce poverty ? Fix homes</td>\n      <td>▁paul ▁ph ol eros : ▁làm ▁sao ▁để ▁bớt ▁nghèo ...</td>\n      <td>▁paul ▁ph ol eros : ▁how ▁to ▁reduce ▁poverty ...</td>\n      <td>Paul Pholeros: Làm sao để bớt nghèo khổ ? Hãy ...</td>\n      <td>Paul Pholeros: How to reduce poverty ? Fix homes</td>\n    </tr>\n    <tr>\n      <th>132999</th>\n      <td>Năm 1985 , kiến trúc sư Paul Pholeros được gia...</td>\n      <td>In 1985 , architect Paul Pholeros was challeng...</td>\n      <td>▁năm ▁0000 ▁, ▁kiến ▁trúc ▁sư ▁paul ▁ph ol ero...</td>\n      <td>▁in ▁0000 ▁, ▁architect ▁paul ▁ph ol eros ▁was...</td>\n      <td>Năm 1985 , kiến trúc sư Paul Pholeros được gia...</td>\n      <td>In 1985 , architect Paul Pholeros was challeng...</td>\n    </tr>\n    <tr>\n      <th>133000</th>\n      <td>Mong muốn xoá nghèo là 1 mục tiêu vĩ đại .</td>\n      <td>The idea of eliminating poverty is a great goal .</td>\n      <td>▁mong ▁muốn ▁xoá ▁nghèo ▁là ▁0 ▁mục ▁tiêu ▁vĩ ...</td>\n      <td>▁the ▁idea ▁of ▁eliminating ▁poverty ▁is ▁a ▁g...</td>\n      <td>Mong muốn xoá nghèo là 1 mục tiêu vĩ đại .</td>\n      <td>The idea of eliminating poverty is a great goal .</td>\n    </tr>\n  </tbody>\n</table>\n<p>133001 rows × 6 columns</p>\n</div>\n    <div class=\"colab-df-buttons\">\n\n  <div class=\"colab-df-container\">\n    <button class=\"colab-df-convert\" onclick=\"convertToInteractive('df-92818072-be5a-42de-acdf-15225f3e89cf')\"\n            title=\"Convert this dataframe to an interactive table.\"\n            style=\"display:none;\">\n\n  <svg xmlns=\"http://www.w3.org/2000/svg\" height=\"24px\" viewBox=\"0 -960 960 960\">\n    <path d=\"M120-120v-720h720v720H120Zm60-500h600v-160H180v160Zm220 220h160v-160H400v160Zm0 220h160v-160H400v160ZM180-400h160v-160H180v160Zm440 0h160v-160H620v160ZM180-180h160v-160H180v160Zm440 0h160v-160H620v160Z\"/>\n  </svg>\n    </button>\n\n  <style>\n    .colab-df-container {\n      display:flex;\n      gap: 12px;\n    }\n\n    .colab-df-convert {\n      background-color: #E8F0FE;\n      border: none;\n      border-radius: 50%;\n      cursor: pointer;\n      display: none;\n      fill: #1967D2;\n      height: 32px;\n      padding: 0 0 0 0;\n      width: 32px;\n    }\n\n    .colab-df-convert:hover {\n      background-color: #E2EBFA;\n      box-shadow: 0px 1px 2px rgba(60, 64, 67, 0.3), 0px 1px 3px 1px rgba(60, 64, 67, 0.15);\n      fill: #174EA6;\n    }\n\n    .colab-df-buttons div {\n      margin-bottom: 4px;\n    }\n\n    [theme=dark] .colab-df-convert {\n      background-color: #3B4455;\n      fill: #D2E3FC;\n    }\n\n    [theme=dark] .colab-df-convert:hover {\n      background-color: #434B5C;\n      box-shadow: 0px 1px 3px 1px rgba(0, 0, 0, 0.15);\n      filter: drop-shadow(0px 1px 2px rgba(0, 0, 0, 0.3));\n      fill: #FFFFFF;\n    }\n  </style>\n\n    <script>\n      const buttonEl =\n        document.querySelector('#df-92818072-be5a-42de-acdf-15225f3e89cf button.colab-df-convert');\n      buttonEl.style.display =\n        google.colab.kernel.accessAllowed ? 'block' : 'none';\n\n      async function convertToInteractive(key) {\n        const element = document.querySelector('#df-92818072-be5a-42de-acdf-15225f3e89cf');\n        const dataTable =\n          await google.colab.kernel.invokeFunction('convertToInteractive',\n                                                    [key], {});\n        if (!dataTable) return;\n\n        const docLinkHtml = 'Like what you see? Visit the ' +\n          '<a target=\"_blank\" href=https://colab.research.google.com/notebooks/data_table.ipynb>data table notebook</a>'\n          + ' to learn more about interactive tables.';\n        element.innerHTML = '';\n        dataTable['output_type'] = 'display_data';\n        await google.colab.output.renderOutput(dataTable, element);\n        const docLink = document.createElement('div');\n        docLink.innerHTML = docLinkHtml;\n        element.appendChild(docLink);\n      }\n    </script>\n  </div>\n\n\n<div id=\"df-6b0da4e3-f996-453c-94c1-e290f3a67c0c\">\n  <button class=\"colab-df-quickchart\" onclick=\"quickchart('df-6b0da4e3-f996-453c-94c1-e290f3a67c0c')\"\n            title=\"Suggest charts\"\n            style=\"display:none;\">\n\n<svg xmlns=\"http://www.w3.org/2000/svg\" height=\"24px\"viewBox=\"0 0 24 24\"\n     width=\"24px\">\n    <g>\n        <path d=\"M19 3H5c-1.1 0-2 .9-2 2v14c0 1.1.9 2 2 2h14c1.1 0 2-.9 2-2V5c0-1.1-.9-2-2-2zM9 17H7v-7h2v7zm4 0h-2V7h2v10zm4 0h-2v-4h2v4z\"/>\n    </g>\n</svg>\n  </button>\n\n<style>\n  .colab-df-quickchart {\n      --bg-color: #E8F0FE;\n      --fill-color: #1967D2;\n      --hover-bg-color: #E2EBFA;\n      --hover-fill-color: #174EA6;\n      --disabled-fill-color: #AAA;\n      --disabled-bg-color: #DDD;\n  }\n\n  [theme=dark] .colab-df-quickchart {\n      --bg-color: #3B4455;\n      --fill-color: #D2E3FC;\n      --hover-bg-color: #434B5C;\n      --hover-fill-color: #FFFFFF;\n      --disabled-bg-color: #3B4455;\n      --disabled-fill-color: #666;\n  }\n\n  .colab-df-quickchart {\n    background-color: var(--bg-color);\n    border: none;\n    border-radius: 50%;\n    cursor: pointer;\n    display: none;\n    fill: var(--fill-color);\n    height: 32px;\n    padding: 0;\n    width: 32px;\n  }\n\n  .colab-df-quickchart:hover {\n    background-color: var(--hover-bg-color);\n    box-shadow: 0 1px 2px rgba(60, 64, 67, 0.3), 0 1px 3px 1px rgba(60, 64, 67, 0.15);\n    fill: var(--button-hover-fill-color);\n  }\n\n  .colab-df-quickchart-complete:disabled,\n  .colab-df-quickchart-complete:disabled:hover {\n    background-color: var(--disabled-bg-color);\n    fill: var(--disabled-fill-color);\n    box-shadow: none;\n  }\n\n  .colab-df-spinner {\n    border: 2px solid var(--fill-color);\n    border-color: transparent;\n    border-bottom-color: var(--fill-color);\n    animation:\n      spin 1s steps(1) infinite;\n  }\n\n  @keyframes spin {\n    0% {\n      border-color: transparent;\n      border-bottom-color: var(--fill-color);\n      border-left-color: var(--fill-color);\n    }\n    20% {\n      border-color: transparent;\n      border-left-color: var(--fill-color);\n      border-top-color: var(--fill-color);\n    }\n    30% {\n      border-color: transparent;\n      border-left-color: var(--fill-color);\n      border-top-color: var(--fill-color);\n      border-right-color: var(--fill-color);\n    }\n    40% {\n      border-color: transparent;\n      border-right-color: var(--fill-color);\n      border-top-color: var(--fill-color);\n    }\n    60% {\n      border-color: transparent;\n      border-right-color: var(--fill-color);\n    }\n    80% {\n      border-color: transparent;\n      border-right-color: var(--fill-color);\n      border-bottom-color: var(--fill-color);\n    }\n    90% {\n      border-color: transparent;\n      border-bottom-color: var(--fill-color);\n    }\n  }\n</style>\n\n  <script>\n    async function quickchart(key) {\n      const quickchartButtonEl =\n        document.querySelector('#' + key + ' button');\n      quickchartButtonEl.disabled = true;  // To prevent multiple clicks.\n      quickchartButtonEl.classList.add('colab-df-spinner');\n      try {\n        const charts = await google.colab.kernel.invokeFunction(\n            'suggestCharts', [key], {});\n      } catch (error) {\n        console.error('Error during call to suggestCharts:', error);\n      }\n      quickchartButtonEl.classList.remove('colab-df-spinner');\n      quickchartButtonEl.classList.add('colab-df-quickchart-complete');\n    }\n    (() => {\n      let quickchartButtonEl =\n        document.querySelector('#df-6b0da4e3-f996-453c-94c1-e290f3a67c0c button');\n      quickchartButtonEl.style.display =\n        google.colab.kernel.accessAllowed ? 'block' : 'none';\n    })();\n  </script>\n</div>\n\n  <div id=\"id_c8be5845-fa75-4d93-9759-2ac41a10b13a\">\n    <style>\n      .colab-df-generate {\n        background-color: #E8F0FE;\n        border: none;\n        border-radius: 50%;\n        cursor: pointer;\n        display: none;\n        fill: #1967D2;\n        height: 32px;\n        padding: 0 0 0 0;\n        width: 32px;\n      }\n\n      .colab-df-generate:hover {\n        background-color: #E2EBFA;\n        box-shadow: 0px 1px 2px rgba(60, 64, 67, 0.3), 0px 1px 3px 1px rgba(60, 64, 67, 0.15);\n        fill: #174EA6;\n      }\n\n      [theme=dark] .colab-df-generate {\n        background-color: #3B4455;\n        fill: #D2E3FC;\n      }\n\n      [theme=dark] .colab-df-generate:hover {\n        background-color: #434B5C;\n        box-shadow: 0px 1px 3px 1px rgba(0, 0, 0, 0.15);\n        filter: drop-shadow(0px 1px 2px rgba(0, 0, 0, 0.3));\n        fill: #FFFFFF;\n      }\n    </style>\n    <button class=\"colab-df-generate\" onclick=\"generateWithVariable('df_train')\"\n            title=\"Generate code using this dataframe.\"\n            style=\"display:none;\">\n\n  <svg xmlns=\"http://www.w3.org/2000/svg\" height=\"24px\"viewBox=\"0 0 24 24\"\n       width=\"24px\">\n    <path d=\"M7,19H8.4L18.45,9,17,7.55,7,17.6ZM5,21V16.75L18.45,3.32a2,2,0,0,1,2.83,0l1.4,1.43a1.91,1.91,0,0,1,.58,1.4,1.91,1.91,0,0,1-.58,1.4L9.25,21ZM18.45,9,17,7.55Zm-12,3A5.31,5.31,0,0,0,4.9,8.1,5.31,5.31,0,0,0,1,6.5,5.31,5.31,0,0,0,4.9,4.9,5.31,5.31,0,0,0,6.5,1,5.31,5.31,0,0,0,8.1,4.9,5.31,5.31,0,0,0,12,6.5,5.46,5.46,0,0,0,6.5,12Z\"/>\n  </svg>\n    </button>\n    <script>\n      (() => {\n      const buttonEl =\n        document.querySelector('#id_c8be5845-fa75-4d93-9759-2ac41a10b13a button.colab-df-generate');\n      buttonEl.style.display =\n        google.colab.kernel.accessAllowed ? 'block' : 'none';\n\n      buttonEl.onclick = () => {\n        google.colab.notebook.generateWithVariable('df_train');\n      }\n      })();\n    </script>\n  </div>\n\n    </div>\n  </div>\n",
            "text/plain": "                                                       vi  \\\n0                Khoa học đằng sau một tiêu đề về khí hậu   \n1       Trong 4 phút , chuyên gia hoá học khí quyển Ra...   \n2       Tôi muốn cho các bạn biết về sự to lớn của nhữ...   \n3       Có những dòng trông như thế này khi bàn về biế...   \n4       Cả hai đều là một nhánh của cùng một lĩnh vực ...   \n...                                                   ...   \n132996  Mà chính hệ thống y tế mà tôi góp phần , đã là...   \n132997  Nếu giờ đây cô đang xem chương trình này , tôi...   \n132998  Paul Pholeros : Làm sao để bớt nghèo khổ ? Hãy...   \n132999  Năm 1985 , kiến trúc sư Paul Pholeros được gia...   \n133000         Mong muốn xoá nghèo là 1 mục tiêu vĩ đại .   \n\n                                                       en  \\\n0       Rachel Pike : The science behind a climate hea...   \n1       In 4 minutes , atmospheric chemist Rachel Pike...   \n2       I &apos;d like to talk to you today about the ...   \n3       Headlines that look like this when they have t...   \n4       They are both two branches of the same field o...   \n...                                                   ...   \n132996  Maybe the system , of which I was a part , was...   \n132997  If you &apos;re watching this now , I hope you...   \n132998  Paul Pholeros : How to reduce poverty ? Fix homes   \n132999  In 1985 , architect Paul Pholeros was challeng...   \n133000  The idea of eliminating poverty is a great goal .   \n\n                                                 vi_token  \\\n0       ▁khoa ▁học ▁đằng ▁sau ▁một ▁tiêu ▁đề ▁về ▁khí ...   \n1       ▁trong ▁0 ▁phút ▁, ▁chuyên ▁gia ▁hoá ▁học ▁khí...   \n2       ▁tôi ▁muốn ▁cho ▁các ▁bạn ▁biết ▁về ▁sự ▁to ▁l...   \n3       ▁có ▁những ▁dòng ▁trông ▁như ▁thế ▁này ▁khi ▁b...   \n4       ▁cả ▁hai ▁đều ▁là ▁một ▁nhánh ▁của ▁cùng ▁một ...   \n...                                                   ...   \n132996  ▁mà ▁chính ▁hệ ▁thống ▁y ▁tế ▁mà ▁tôi ▁góp ▁ph...   \n132997  ▁nếu ▁giờ ▁đây ▁cô ▁đang ▁xem ▁chương ▁trình ▁...   \n132998  ▁paul ▁ph ol eros : ▁làm ▁sao ▁để ▁bớt ▁nghèo ...   \n132999  ▁năm ▁0000 ▁, ▁kiến ▁trúc ▁sư ▁paul ▁ph ol ero...   \n133000  ▁mong ▁muốn ▁xoá ▁nghèo ▁là ▁0 ▁mục ▁tiêu ▁vĩ ...   \n\n                                                 en_token  \\\n0       ▁rachel ▁pike : ▁the ▁science ▁behind ▁a ▁clim...   \n1       ▁in ▁0 ▁minutes ▁, ▁atmospheric ▁chemist ▁rach...   \n2       ▁i ▁& ap os ; d ▁like ▁to ▁talk ▁to ▁you ▁toda...   \n3       ▁headlines ▁that ▁look ▁like ▁this ▁when ▁they...   \n4       ▁they ▁are ▁both ▁two ▁branches ▁of ▁the ▁same...   \n...                                                   ...   \n132996  ▁maybe ▁the ▁system ▁, ▁of ▁which ▁i ▁was ▁a ▁...   \n132997  ▁if ▁you ▁& ap os ; re ▁watching ▁this ▁now ▁,...   \n132998  ▁paul ▁ph ol eros : ▁how ▁to ▁reduce ▁poverty ...   \n132999  ▁in ▁0000 ▁, ▁architect ▁paul ▁ph ol eros ▁was...   \n133000  ▁the ▁idea ▁of ▁eliminating ▁poverty ▁is ▁a ▁g...   \n\n                                                  vi_punc  \\\n0                Khoa học đằng sau một tiêu đề về khí hậu   \n1       Trong 4 phút , chuyên gia hoá học khí quyển Ra...   \n2       Tôi muốn cho các bạn biết về sự to lớn của nhữ...   \n3       Có những dòng trông như thế này khi bàn về biế...   \n4       Cả hai đều là một nhánh của cùng một lĩnh vực ...   \n...                                                   ...   \n132996  Mà chính hệ thống y tế mà tôi góp phần , đã là...   \n132997  Nếu giờ đây cô đang xem chương trình này , tôi...   \n132998  Paul Pholeros: Làm sao để bớt nghèo khổ ? Hãy ...   \n132999  Năm 1985 , kiến trúc sư Paul Pholeros được gia...   \n133000         Mong muốn xoá nghèo là 1 mục tiêu vĩ đại .   \n\n                                                  en_punc  \n0       Rachel Pike: The science behind a climate head...  \n1       In 4 minutes , atmospheric chemist Rachel Pike...  \n2       I &apos;d like to talk to you today about the ...  \n3       Headlines that look like this when they have t...  \n4       They are both two branches of the same field o...  \n...                                                   ...  \n132996  Maybe the system , of which I was a part , was...  \n132997  If you &apos;re watching this now , I hope you...  \n132998   Paul Pholeros: How to reduce poverty ? Fix homes  \n132999  In 1985 , architect Paul Pholeros was challeng...  \n133000  The idea of eliminating poverty is a great goal .  \n\n[133001 rows x 6 columns]"
          },
          "metadata": {}
        }
      ],
      "execution_count": null,
      "metadata": {
        "colab": {
          "base_uri": "https://localhost:8080/",
          "height": 771
        },
        "id": "yh_OPJpRLCeF",
        "outputId": "821b9be9-a439-4a81-9b10-8a35a2dc12a3"
      }
    },
    {
      "cell_type": "code",
      "source": [
        "df_test[\"vi_token\"] = df_test[\"vi_punc\"].apply(lambda x: tokenizer(x, \"vi\"))\n",
        "df_test[\"en_token\"] = df_test[\"en_punc\"].apply(lambda x: tokenizer(x, \"en\"))\n",
        "\n",
        "df_test"
      ],
      "outputs": [
        {
          "output_type": "execute_result",
          "execution_count": 30,
          "data": {
            "application/vnd.google.colaboratory.intrinsic+json": {
              "summary": "{\n  \"name\": \"df_test\",\n  \"rows\": 1268,\n  \"fields\": [\n    {\n      \"column\": \"vi\",\n      \"properties\": {\n        \"dtype\": \"string\",\n        \"num_unique_values\": 1260,\n        \"samples\": [\n          \"T\\u00f4i v\\u00f4 c\\u00f9ng ng\\u1ea1c nhi\\u00ean khi m\\u1ed9t ng\\u01b0\\u1eddi ho\\u00e0n to\\u00e0n xa l\\u1ea1 l\\u1ea1i quan t\\u00e2m t\\u1edbi m\\u1ee9c h\\u1ecfi t\\u00f4i nh\\u01b0 v\\u1eady .\",\n          \"NG\\u01b0\\u1eddi n\\u00e0o s\\u1ebd s\\u00e1ng ch\\u1ebf ra c\\u00e1i c\\u00f4ng ngh\\u1ec7 cho cu\\u1ed9c c\\u00e1ch m\\u1ea1ng xanh ? C\\u00e1c tr\\u01b0\\u1eddng \\u0111\\u1ea1i h\\u1ecdc \\u01b0 ? qu\\u00ean \\u0111i !\",\n          \"Vi\\u1ec7c ng\\u01b0\\u1eddi B\\u1eafc Tri\\u1ec1u Ti\\u00ean ph\\u1ea3i che d\\u1ea5u danh t\\u00ednh c\\u1ee7a m\\u00ecnh v\\u00e0 \\u0111\\u1ea5u tranh \\u0111\\u1ec3 t\\u1ed3n t\\u1ea1i qu\\u1ea3 l\\u00e0 m\\u1ed9t bi k\\u1ecbch .\"\n        ],\n        \"semantic_type\": \"\",\n        \"description\": \"\"\n      }\n    },\n    {\n      \"column\": \"en\",\n      \"properties\": {\n        \"dtype\": \"string\",\n        \"num_unique_values\": 1252,\n        \"samples\": [\n          \"But frustratingly , with Parkinson &apos;s disease and other movement disorders , there are no biomarkers , so there &apos;s no simple blood test that you can do , and the best that we have is like this 20-minute neurologist test .\",\n          \"This is Manuru . When his father died , his uncle trafficked him to work with him in the mines .\",\n          \"We got dirty , and we loved it .\"\n        ],\n        \"semantic_type\": \"\",\n        \"description\": \"\"\n      }\n    },\n    {\n      \"column\": \"vi_token\",\n      \"properties\": {\n        \"dtype\": \"string\",\n        \"num_unique_values\": 1260,\n        \"samples\": [\n          \"\\u2581t\\u00f4i \\u2581v\\u00f4 \\u2581c\\u00f9ng \\u2581ng\\u1ea1c \\u2581nhi\\u00ean \\u2581khi \\u2581m\\u1ed9t \\u2581ng\\u01b0\\u1eddi \\u2581ho\\u00e0n \\u2581to\\u00e0n \\u2581xa \\u2581l\\u1ea1 \\u2581l\\u1ea1i \\u2581quan \\u2581t\\u00e2m \\u2581t\\u1edbi \\u2581m\\u1ee9c \\u2581h\\u1ecfi \\u2581t\\u00f4i \\u2581nh\\u01b0 \\u2581v\\u1eady \\u2581.\",\n          \"\\u2581ng\\u01b0\\u1eddi \\u2581n\\u00e0o \\u2581s\\u1ebd \\u2581s\\u00e1ng \\u2581ch\\u1ebf \\u2581ra \\u2581c\\u00e1i \\u2581c\\u00f4ng \\u2581ngh\\u1ec7 \\u2581cho \\u2581cu\\u1ed9c \\u2581c\\u00e1ch \\u2581m\\u1ea1ng \\u2581xanh \\u2581? \\u2581c\\u00e1c \\u2581tr\\u01b0\\u1eddng \\u2581\\u0111\\u1ea1i \\u2581h\\u1ecdc \\u2581\\u01b0 \\u2581? \\u2581qu\\u00ean \\u2581\\u0111i \\u2581!\",\n          \"\\u2581vi\\u1ec7c \\u2581ng\\u01b0\\u1eddi \\u2581b\\u1eafc \\u2581tri\\u1ec1u \\u2581ti\\u00ean \\u2581ph\\u1ea3i \\u2581che \\u2581d\\u1ea5u \\u2581danh \\u2581t\\u00ednh \\u2581c\\u1ee7a \\u2581m\\u00ecnh \\u2581v\\u00e0 \\u2581\\u0111\\u1ea5u \\u2581tranh \\u2581\\u0111\\u1ec3 \\u2581t\\u1ed3n \\u2581t\\u1ea1i \\u2581qu\\u1ea3 \\u2581l\\u00e0 \\u2581m\\u1ed9t \\u2581bi \\u2581k\\u1ecbch \\u2581.\"\n        ],\n        \"semantic_type\": \"\",\n        \"description\": \"\"\n      }\n    },\n    {\n      \"column\": \"en_token\",\n      \"properties\": {\n        \"dtype\": \"string\",\n        \"num_unique_values\": 1252,\n        \"samples\": [\n          \"\\u2581but \\u2581frustrating ly \\u2581, \\u2581with \\u2581parkinson \\u2581& ap os ; s \\u2581disease \\u2581and \\u2581other \\u2581movement \\u2581disorders \\u2581, \\u2581there \\u2581are \\u2581no \\u2581biom ark ers \\u2581, \\u2581so \\u2581there \\u2581& ap os ; s \\u2581no \\u2581simple \\u2581blood \\u2581test \\u2581that \\u2581you \\u2581can \\u2581do \\u2581, \\u2581and \\u2581the \\u2581best \\u2581that \\u2581we \\u2581have \\u2581is \\u2581like \\u2581this \\u258100- minute \\u2581neurolog ist \\u2581test \\u2581.\",\n          \"\\u2581this \\u2581is \\u2581man uru \\u2581. \\u2581when \\u2581his \\u2581father \\u2581died \\u2581, \\u2581his \\u2581uncle \\u2581traff icked \\u2581him \\u2581to \\u2581work \\u2581with \\u2581him \\u2581in \\u2581the \\u2581mines \\u2581.\",\n          \"\\u2581we \\u2581got \\u2581dirty \\u2581, \\u2581and \\u2581we \\u2581loved \\u2581it \\u2581.\"\n        ],\n        \"semantic_type\": \"\",\n        \"description\": \"\"\n      }\n    },\n    {\n      \"column\": \"vi_punc\",\n      \"properties\": {\n        \"dtype\": \"string\",\n        \"num_unique_values\": 1260,\n        \"samples\": [\n          \"T\\u00f4i v\\u00f4 c\\u00f9ng ng\\u1ea1c nhi\\u00ean khi m\\u1ed9t ng\\u01b0\\u1eddi ho\\u00e0n to\\u00e0n xa l\\u1ea1 l\\u1ea1i quan t\\u00e2m t\\u1edbi m\\u1ee9c h\\u1ecfi t\\u00f4i nh\\u01b0 v\\u1eady .\",\n          \"NG\\u01b0\\u1eddi n\\u00e0o s\\u1ebd s\\u00e1ng ch\\u1ebf ra c\\u00e1i c\\u00f4ng ngh\\u1ec7 cho cu\\u1ed9c c\\u00e1ch m\\u1ea1ng xanh ? C\\u00e1c tr\\u01b0\\u1eddng \\u0111\\u1ea1i h\\u1ecdc \\u01b0 ? qu\\u00ean \\u0111i !\",\n          \"Vi\\u1ec7c ng\\u01b0\\u1eddi B\\u1eafc Tri\\u1ec1u Ti\\u00ean ph\\u1ea3i che d\\u1ea5u danh t\\u00ednh c\\u1ee7a m\\u00ecnh v\\u00e0 \\u0111\\u1ea5u tranh \\u0111\\u1ec3 t\\u1ed3n t\\u1ea1i qu\\u1ea3 l\\u00e0 m\\u1ed9t bi k\\u1ecbch .\"\n        ],\n        \"semantic_type\": \"\",\n        \"description\": \"\"\n      }\n    },\n    {\n      \"column\": \"en_punc\",\n      \"properties\": {\n        \"dtype\": \"string\",\n        \"num_unique_values\": 1252,\n        \"samples\": [\n          \"But frustratingly , with Parkinson &apos;s disease and other movement disorders , there are no biomarkers , so there &apos;s no simple blood test that you can do , and the best that we have is like this 20-minute neurologist test .\",\n          \"This is Manuru . When his father died , his uncle trafficked him to work with him in the mines .\",\n          \"We got dirty , and we loved it .\"\n        ],\n        \"semantic_type\": \"\",\n        \"description\": \"\"\n      }\n    }\n  ]\n}",
              "type": "dataframe",
              "variable_name": "df_test"
            },
            "text/html": "\n  <div id=\"df-a588b352-35d4-41c3-8b3e-1fce136a357a\" class=\"colab-df-container\">\n    <div>\n<style scoped>\n    .dataframe tbody tr th:only-of-type {\n        vertical-align: middle;\n    }\n\n    .dataframe tbody tr th {\n        vertical-align: top;\n    }\n\n    .dataframe thead th {\n        text-align: right;\n    }\n</style>\n<table border=\"1\" class=\"dataframe\">\n  <thead>\n    <tr style=\"text-align: right;\">\n      <th></th>\n      <th>vi</th>\n      <th>en</th>\n      <th>vi_token</th>\n      <th>en_token</th>\n      <th>vi_punc</th>\n      <th>en_punc</th>\n    </tr>\n  </thead>\n  <tbody>\n    <tr>\n      <th>0</th>\n      <td>Khi tôi còn nhỏ , Tôi nghĩ rằng BắcTriều Tiên ...</td>\n      <td>When I was little , I thought my country was t...</td>\n      <td>▁khi ▁tôi ▁còn ▁nhỏ ▁, ▁tôi ▁nghĩ ▁rằng ▁bắc t...</td>\n      <td>▁when ▁i ▁was ▁little ▁, ▁i ▁thought ▁my ▁coun...</td>\n      <td>Khi tôi còn nhỏ , Tôi nghĩ rằng BắcTriều Tiên ...</td>\n      <td>When I was little , I thought my country was t...</td>\n    </tr>\n    <tr>\n      <th>1</th>\n      <td>Tôi đã rất tự hào về đất nước tôi .</td>\n      <td>And I was very proud .</td>\n      <td>▁tôi ▁đã ▁rất ▁tự ▁hào ▁về ▁đất ▁nước ▁tôi ▁.</td>\n      <td>▁and ▁i ▁was ▁very ▁proud ▁.</td>\n      <td>Tôi đã rất tự hào về đất nước tôi .</td>\n      <td>And I was very proud .</td>\n    </tr>\n    <tr>\n      <th>2</th>\n      <td>Ở trường , chúng tôi dành rất nhiều thời gian ...</td>\n      <td>In school , we spent a lot of time studying th...</td>\n      <td>▁ở ▁trường ▁, ▁chúng ▁tôi ▁dành ▁rất ▁nhiều ▁t...</td>\n      <td>▁in ▁school ▁, ▁we ▁spent ▁a ▁lot ▁of ▁time ▁s...</td>\n      <td>Ở trường , chúng tôi dành rất nhiều thời gian ...</td>\n      <td>In school , we spent a lot of time studying th...</td>\n    </tr>\n    <tr>\n      <th>3</th>\n      <td>Mặc dù tôi đã từng tự hỏi không biết thế giới ...</td>\n      <td>Although I often wondered about the outside wo...</td>\n      <td>▁mặc ▁dù ▁tôi ▁đã ▁từng ▁tự ▁hỏi ▁không ▁biết ...</td>\n      <td>▁although ▁i ▁often ▁wondered ▁about ▁the ▁out...</td>\n      <td>Mặc dù tôi đã từng tự hỏi không biết thế giới ...</td>\n      <td>Although I often wondered about the outside wo...</td>\n    </tr>\n    <tr>\n      <th>4</th>\n      <td>Khi tôi lên 7 , tôi chứng kiến cảnh người ta x...</td>\n      <td>When I was seven years old , I saw my first pu...</td>\n      <td>▁khi ▁tôi ▁lên ▁0 ▁, ▁tôi ▁chứng ▁kiến ▁cảnh ▁...</td>\n      <td>▁when ▁i ▁was ▁seven ▁years ▁old ▁, ▁i ▁saw ▁m...</td>\n      <td>Khi tôi lên 7 , tôi chứng kiến cảnh người ta x...</td>\n      <td>When I was seven years old , I saw my first pu...</td>\n    </tr>\n    <tr>\n      <th>...</th>\n      <td>...</td>\n      <td>...</td>\n      <td>...</td>\n      <td>...</td>\n      <td>...</td>\n      <td>...</td>\n    </tr>\n    <tr>\n      <th>1263</th>\n      <td>Tôi thực sự tin , nếu ta coi người khác như nh...</td>\n      <td>I truly believe , if we can see one another as...</td>\n      <td>▁tôi ▁thực ▁sự ▁tin ▁, ▁nếu ▁ta ▁coi ▁người ▁k...</td>\n      <td>▁i ▁truly ▁believe ▁, ▁if ▁we ▁can ▁see ▁one ▁...</td>\n      <td>Tôi thực sự tin , nếu ta coi người khác như nh...</td>\n      <td>I truly believe , if we can see one another as...</td>\n    </tr>\n    <tr>\n      <th>1264</th>\n      <td>Những tấm hình không phải là về bản thân vấnđề...</td>\n      <td>These images are not of issues . They are of p...</td>\n      <td>▁những ▁tấm ▁hình ▁không ▁phải ▁là ▁về ▁bản ▁t...</td>\n      <td>▁these ▁images ▁are ▁not ▁of ▁issues ▁. ▁they ...</td>\n      <td>Những tấm hình không phải là về bản thân vấnđề...</td>\n      <td>These images are not of issues . They are of p...</td>\n    </tr>\n    <tr>\n      <th>1265</th>\n      <td>Không có ngày nào mà tôi không nghĩ về những n...</td>\n      <td>There is not a day that goes by that I don &amp;ap...</td>\n      <td>▁không ▁có ▁ngày ▁nào ▁mà ▁tôi ▁không ▁nghĩ ▁v...</td>\n      <td>▁there ▁is ▁not ▁a ▁day ▁that ▁goes ▁by ▁that ...</td>\n      <td>Không có ngày nào mà tôi không nghĩ về những n...</td>\n      <td>There is not a day that goes by that I don &amp;ap...</td>\n    </tr>\n    <tr>\n      <th>1266</th>\n      <td>Tôi hi vọng những tấm hình sẽ đánh thức một ng...</td>\n      <td>I hope that these images awaken a force in tho...</td>\n      <td>▁tôi ▁hi ▁vọng ▁những ▁tấm ▁hình ▁sẽ ▁đánh ▁th...</td>\n      <td>▁i ▁hope ▁that ▁these ▁images ▁awaken ▁a ▁forc...</td>\n      <td>Tôi hi vọng những tấm hình sẽ đánh thức một ng...</td>\n      <td>I hope that these images awaken a force in tho...</td>\n    </tr>\n    <tr>\n      <th>1267</th>\n      <td>Cảm ơn rất nhiều .</td>\n      <td>Thank you very much .</td>\n      <td>▁cảm ▁ơn ▁rất ▁nhiều ▁.</td>\n      <td>▁thank ▁you ▁very ▁much ▁.</td>\n      <td>Cảm ơn rất nhiều .</td>\n      <td>Thank you very much .</td>\n    </tr>\n  </tbody>\n</table>\n<p>1268 rows × 6 columns</p>\n</div>\n    <div class=\"colab-df-buttons\">\n\n  <div class=\"colab-df-container\">\n    <button class=\"colab-df-convert\" onclick=\"convertToInteractive('df-a588b352-35d4-41c3-8b3e-1fce136a357a')\"\n            title=\"Convert this dataframe to an interactive table.\"\n            style=\"display:none;\">\n\n  <svg xmlns=\"http://www.w3.org/2000/svg\" height=\"24px\" viewBox=\"0 -960 960 960\">\n    <path d=\"M120-120v-720h720v720H120Zm60-500h600v-160H180v160Zm220 220h160v-160H400v160Zm0 220h160v-160H400v160ZM180-400h160v-160H180v160Zm440 0h160v-160H620v160ZM180-180h160v-160H180v160Zm440 0h160v-160H620v160Z\"/>\n  </svg>\n    </button>\n\n  <style>\n    .colab-df-container {\n      display:flex;\n      gap: 12px;\n    }\n\n    .colab-df-convert {\n      background-color: #E8F0FE;\n      border: none;\n      border-radius: 50%;\n      cursor: pointer;\n      display: none;\n      fill: #1967D2;\n      height: 32px;\n      padding: 0 0 0 0;\n      width: 32px;\n    }\n\n    .colab-df-convert:hover {\n      background-color: #E2EBFA;\n      box-shadow: 0px 1px 2px rgba(60, 64, 67, 0.3), 0px 1px 3px 1px rgba(60, 64, 67, 0.15);\n      fill: #174EA6;\n    }\n\n    .colab-df-buttons div {\n      margin-bottom: 4px;\n    }\n\n    [theme=dark] .colab-df-convert {\n      background-color: #3B4455;\n      fill: #D2E3FC;\n    }\n\n    [theme=dark] .colab-df-convert:hover {\n      background-color: #434B5C;\n      box-shadow: 0px 1px 3px 1px rgba(0, 0, 0, 0.15);\n      filter: drop-shadow(0px 1px 2px rgba(0, 0, 0, 0.3));\n      fill: #FFFFFF;\n    }\n  </style>\n\n    <script>\n      const buttonEl =\n        document.querySelector('#df-a588b352-35d4-41c3-8b3e-1fce136a357a button.colab-df-convert');\n      buttonEl.style.display =\n        google.colab.kernel.accessAllowed ? 'block' : 'none';\n\n      async function convertToInteractive(key) {\n        const element = document.querySelector('#df-a588b352-35d4-41c3-8b3e-1fce136a357a');\n        const dataTable =\n          await google.colab.kernel.invokeFunction('convertToInteractive',\n                                                    [key], {});\n        if (!dataTable) return;\n\n        const docLinkHtml = 'Like what you see? Visit the ' +\n          '<a target=\"_blank\" href=https://colab.research.google.com/notebooks/data_table.ipynb>data table notebook</a>'\n          + ' to learn more about interactive tables.';\n        element.innerHTML = '';\n        dataTable['output_type'] = 'display_data';\n        await google.colab.output.renderOutput(dataTable, element);\n        const docLink = document.createElement('div');\n        docLink.innerHTML = docLinkHtml;\n        element.appendChild(docLink);\n      }\n    </script>\n  </div>\n\n\n<div id=\"df-e8e81132-c5f6-4fa5-b0e7-3e1235734cb3\">\n  <button class=\"colab-df-quickchart\" onclick=\"quickchart('df-e8e81132-c5f6-4fa5-b0e7-3e1235734cb3')\"\n            title=\"Suggest charts\"\n            style=\"display:none;\">\n\n<svg xmlns=\"http://www.w3.org/2000/svg\" height=\"24px\"viewBox=\"0 0 24 24\"\n     width=\"24px\">\n    <g>\n        <path d=\"M19 3H5c-1.1 0-2 .9-2 2v14c0 1.1.9 2 2 2h14c1.1 0 2-.9 2-2V5c0-1.1-.9-2-2-2zM9 17H7v-7h2v7zm4 0h-2V7h2v10zm4 0h-2v-4h2v4z\"/>\n    </g>\n</svg>\n  </button>\n\n<style>\n  .colab-df-quickchart {\n      --bg-color: #E8F0FE;\n      --fill-color: #1967D2;\n      --hover-bg-color: #E2EBFA;\n      --hover-fill-color: #174EA6;\n      --disabled-fill-color: #AAA;\n      --disabled-bg-color: #DDD;\n  }\n\n  [theme=dark] .colab-df-quickchart {\n      --bg-color: #3B4455;\n      --fill-color: #D2E3FC;\n      --hover-bg-color: #434B5C;\n      --hover-fill-color: #FFFFFF;\n      --disabled-bg-color: #3B4455;\n      --disabled-fill-color: #666;\n  }\n\n  .colab-df-quickchart {\n    background-color: var(--bg-color);\n    border: none;\n    border-radius: 50%;\n    cursor: pointer;\n    display: none;\n    fill: var(--fill-color);\n    height: 32px;\n    padding: 0;\n    width: 32px;\n  }\n\n  .colab-df-quickchart:hover {\n    background-color: var(--hover-bg-color);\n    box-shadow: 0 1px 2px rgba(60, 64, 67, 0.3), 0 1px 3px 1px rgba(60, 64, 67, 0.15);\n    fill: var(--button-hover-fill-color);\n  }\n\n  .colab-df-quickchart-complete:disabled,\n  .colab-df-quickchart-complete:disabled:hover {\n    background-color: var(--disabled-bg-color);\n    fill: var(--disabled-fill-color);\n    box-shadow: none;\n  }\n\n  .colab-df-spinner {\n    border: 2px solid var(--fill-color);\n    border-color: transparent;\n    border-bottom-color: var(--fill-color);\n    animation:\n      spin 1s steps(1) infinite;\n  }\n\n  @keyframes spin {\n    0% {\n      border-color: transparent;\n      border-bottom-color: var(--fill-color);\n      border-left-color: var(--fill-color);\n    }\n    20% {\n      border-color: transparent;\n      border-left-color: var(--fill-color);\n      border-top-color: var(--fill-color);\n    }\n    30% {\n      border-color: transparent;\n      border-left-color: var(--fill-color);\n      border-top-color: var(--fill-color);\n      border-right-color: var(--fill-color);\n    }\n    40% {\n      border-color: transparent;\n      border-right-color: var(--fill-color);\n      border-top-color: var(--fill-color);\n    }\n    60% {\n      border-color: transparent;\n      border-right-color: var(--fill-color);\n    }\n    80% {\n      border-color: transparent;\n      border-right-color: var(--fill-color);\n      border-bottom-color: var(--fill-color);\n    }\n    90% {\n      border-color: transparent;\n      border-bottom-color: var(--fill-color);\n    }\n  }\n</style>\n\n  <script>\n    async function quickchart(key) {\n      const quickchartButtonEl =\n        document.querySelector('#' + key + ' button');\n      quickchartButtonEl.disabled = true;  // To prevent multiple clicks.\n      quickchartButtonEl.classList.add('colab-df-spinner');\n      try {\n        const charts = await google.colab.kernel.invokeFunction(\n            'suggestCharts', [key], {});\n      } catch (error) {\n        console.error('Error during call to suggestCharts:', error);\n      }\n      quickchartButtonEl.classList.remove('colab-df-spinner');\n      quickchartButtonEl.classList.add('colab-df-quickchart-complete');\n    }\n    (() => {\n      let quickchartButtonEl =\n        document.querySelector('#df-e8e81132-c5f6-4fa5-b0e7-3e1235734cb3 button');\n      quickchartButtonEl.style.display =\n        google.colab.kernel.accessAllowed ? 'block' : 'none';\n    })();\n  </script>\n</div>\n\n  <div id=\"id_6a2f1316-3078-488f-a416-49c193bf8598\">\n    <style>\n      .colab-df-generate {\n        background-color: #E8F0FE;\n        border: none;\n        border-radius: 50%;\n        cursor: pointer;\n        display: none;\n        fill: #1967D2;\n        height: 32px;\n        padding: 0 0 0 0;\n        width: 32px;\n      }\n\n      .colab-df-generate:hover {\n        background-color: #E2EBFA;\n        box-shadow: 0px 1px 2px rgba(60, 64, 67, 0.3), 0px 1px 3px 1px rgba(60, 64, 67, 0.15);\n        fill: #174EA6;\n      }\n\n      [theme=dark] .colab-df-generate {\n        background-color: #3B4455;\n        fill: #D2E3FC;\n      }\n\n      [theme=dark] .colab-df-generate:hover {\n        background-color: #434B5C;\n        box-shadow: 0px 1px 3px 1px rgba(0, 0, 0, 0.15);\n        filter: drop-shadow(0px 1px 2px rgba(0, 0, 0, 0.3));\n        fill: #FFFFFF;\n      }\n    </style>\n    <button class=\"colab-df-generate\" onclick=\"generateWithVariable('df_test')\"\n            title=\"Generate code using this dataframe.\"\n            style=\"display:none;\">\n\n  <svg xmlns=\"http://www.w3.org/2000/svg\" height=\"24px\"viewBox=\"0 0 24 24\"\n       width=\"24px\">\n    <path d=\"M7,19H8.4L18.45,9,17,7.55,7,17.6ZM5,21V16.75L18.45,3.32a2,2,0,0,1,2.83,0l1.4,1.43a1.91,1.91,0,0,1,.58,1.4,1.91,1.91,0,0,1-.58,1.4L9.25,21ZM18.45,9,17,7.55Zm-12,3A5.31,5.31,0,0,0,4.9,8.1,5.31,5.31,0,0,0,1,6.5,5.31,5.31,0,0,0,4.9,4.9,5.31,5.31,0,0,0,6.5,1,5.31,5.31,0,0,0,8.1,4.9,5.31,5.31,0,0,0,12,6.5,5.46,5.46,0,0,0,6.5,12Z\"/>\n  </svg>\n    </button>\n    <script>\n      (() => {\n      const buttonEl =\n        document.querySelector('#id_6a2f1316-3078-488f-a416-49c193bf8598 button.colab-df-generate');\n      buttonEl.style.display =\n        google.colab.kernel.accessAllowed ? 'block' : 'none';\n\n      buttonEl.onclick = () => {\n        google.colab.notebook.generateWithVariable('df_test');\n      }\n      })();\n    </script>\n  </div>\n\n    </div>\n  </div>\n",
            "text/plain": "                                                     vi  \\\n0     Khi tôi còn nhỏ , Tôi nghĩ rằng BắcTriều Tiên ...   \n1                   Tôi đã rất tự hào về đất nước tôi .   \n2     Ở trường , chúng tôi dành rất nhiều thời gian ...   \n3     Mặc dù tôi đã từng tự hỏi không biết thế giới ...   \n4     Khi tôi lên 7 , tôi chứng kiến cảnh người ta x...   \n...                                                 ...   \n1263  Tôi thực sự tin , nếu ta coi người khác như nh...   \n1264  Những tấm hình không phải là về bản thân vấnđề...   \n1265  Không có ngày nào mà tôi không nghĩ về những n...   \n1266  Tôi hi vọng những tấm hình sẽ đánh thức một ng...   \n1267                                 Cảm ơn rất nhiều .   \n\n                                                     en  \\\n0     When I was little , I thought my country was t...   \n1                                And I was very proud .   \n2     In school , we spent a lot of time studying th...   \n3     Although I often wondered about the outside wo...   \n4     When I was seven years old , I saw my first pu...   \n...                                                 ...   \n1263  I truly believe , if we can see one another as...   \n1264  These images are not of issues . They are of p...   \n1265  There is not a day that goes by that I don &ap...   \n1266  I hope that these images awaken a force in tho...   \n1267                              Thank you very much .   \n\n                                               vi_token  \\\n0     ▁khi ▁tôi ▁còn ▁nhỏ ▁, ▁tôi ▁nghĩ ▁rằng ▁bắc t...   \n1         ▁tôi ▁đã ▁rất ▁tự ▁hào ▁về ▁đất ▁nước ▁tôi ▁.   \n2     ▁ở ▁trường ▁, ▁chúng ▁tôi ▁dành ▁rất ▁nhiều ▁t...   \n3     ▁mặc ▁dù ▁tôi ▁đã ▁từng ▁tự ▁hỏi ▁không ▁biết ...   \n4     ▁khi ▁tôi ▁lên ▁0 ▁, ▁tôi ▁chứng ▁kiến ▁cảnh ▁...   \n...                                                 ...   \n1263  ▁tôi ▁thực ▁sự ▁tin ▁, ▁nếu ▁ta ▁coi ▁người ▁k...   \n1264  ▁những ▁tấm ▁hình ▁không ▁phải ▁là ▁về ▁bản ▁t...   \n1265  ▁không ▁có ▁ngày ▁nào ▁mà ▁tôi ▁không ▁nghĩ ▁v...   \n1266  ▁tôi ▁hi ▁vọng ▁những ▁tấm ▁hình ▁sẽ ▁đánh ▁th...   \n1267                            ▁cảm ▁ơn ▁rất ▁nhiều ▁.   \n\n                                               en_token  \\\n0     ▁when ▁i ▁was ▁little ▁, ▁i ▁thought ▁my ▁coun...   \n1                          ▁and ▁i ▁was ▁very ▁proud ▁.   \n2     ▁in ▁school ▁, ▁we ▁spent ▁a ▁lot ▁of ▁time ▁s...   \n3     ▁although ▁i ▁often ▁wondered ▁about ▁the ▁out...   \n4     ▁when ▁i ▁was ▁seven ▁years ▁old ▁, ▁i ▁saw ▁m...   \n...                                                 ...   \n1263  ▁i ▁truly ▁believe ▁, ▁if ▁we ▁can ▁see ▁one ▁...   \n1264  ▁these ▁images ▁are ▁not ▁of ▁issues ▁. ▁they ...   \n1265  ▁there ▁is ▁not ▁a ▁day ▁that ▁goes ▁by ▁that ...   \n1266  ▁i ▁hope ▁that ▁these ▁images ▁awaken ▁a ▁forc...   \n1267                         ▁thank ▁you ▁very ▁much ▁.   \n\n                                                vi_punc  \\\n0     Khi tôi còn nhỏ , Tôi nghĩ rằng BắcTriều Tiên ...   \n1                   Tôi đã rất tự hào về đất nước tôi .   \n2     Ở trường , chúng tôi dành rất nhiều thời gian ...   \n3     Mặc dù tôi đã từng tự hỏi không biết thế giới ...   \n4     Khi tôi lên 7 , tôi chứng kiến cảnh người ta x...   \n...                                                 ...   \n1263  Tôi thực sự tin , nếu ta coi người khác như nh...   \n1264  Những tấm hình không phải là về bản thân vấnđề...   \n1265  Không có ngày nào mà tôi không nghĩ về những n...   \n1266  Tôi hi vọng những tấm hình sẽ đánh thức một ng...   \n1267                                 Cảm ơn rất nhiều .   \n\n                                                en_punc  \n0     When I was little , I thought my country was t...  \n1                                And I was very proud .  \n2     In school , we spent a lot of time studying th...  \n3     Although I often wondered about the outside wo...  \n4     When I was seven years old , I saw my first pu...  \n...                                                 ...  \n1263  I truly believe , if we can see one another as...  \n1264  These images are not of issues . They are of p...  \n1265  There is not a day that goes by that I don &ap...  \n1266  I hope that these images awaken a force in tho...  \n1267                              Thank you very much .  \n\n[1268 rows x 6 columns]"
          },
          "metadata": {}
        }
      ],
      "execution_count": null,
      "metadata": {
        "colab": {
          "base_uri": "https://localhost:8080/",
          "height": 736
        },
        "id": "Y9_dYA43LFv2",
        "outputId": "2a5aeb55-571a-4ff1-9e21-ccf85db95dcf"
      }
    },
    {
      "cell_type": "code",
      "source": [
        "data_vi = df_train[\"vi_token\"].values.tolist()\n",
        "data_en = df_train[\"en_token\"].values.tolist()\n",
        "\n",
        "with open(\"train.vi\", \"w\") as f:\n",
        "  f.write(\"\\n\".join(data_vi))\n",
        "\n",
        "with open(\"train.en\", \"w\") as f:\n",
        "  f.write(\"\\n\".join(data_en))"
      ],
      "outputs": [],
      "execution_count": null,
      "metadata": {
        "id": "D3hvJsdsLVO_"
      }
    },
    {
      "cell_type": "code",
      "source": [
        "!wget https://raw.githubusercontent.com/moses-smt/mosesdecoder/master/scripts/training/clean-corpus-n.perl"
      ],
      "outputs": [
        {
          "output_type": "stream",
          "name": "stdout",
          "text": "--2024-06-23 05:23:35--  https://raw.githubusercontent.com/moses-smt/mosesdecoder/master/scripts/training/clean-corpus-n.perl\nResolving raw.githubusercontent.com (raw.githubusercontent.com)... 185.199.108.133, 185.199.109.133, 185.199.110.133, ...\nConnecting to raw.githubusercontent.com (raw.githubusercontent.com)|185.199.108.133|:443... connected.\nHTTP request sent, awaiting response... 200 OK\nLength: 4257 (4.2K) [text/plain]\nSaving to: ‘clean-corpus-n.perl’\n\n\rclean-corpus-n.perl   0%[                    ]       0  --.-KB/s               \rclean-corpus-n.perl 100%[===================>]   4.16K  --.-KB/s    in 0s      \n\n2024-06-23 05:23:35 (41.3 MB/s) - ‘clean-corpus-n.perl’ saved [4257/4257]\n\n"
        }
      ],
      "execution_count": null,
      "metadata": {
        "colab": {
          "base_uri": "https://localhost:8080/"
        },
        "id": "xPGkT3TPLZfN",
        "outputId": "bc841421-0739-4e6a-b1de-7d81a1568317"
      }
    },
    {
      "cell_type": "code",
      "source": [
        "!perl clean-corpus-n.perl -max-word-length 50 train vi en train.clean 0 512"
      ],
      "outputs": [
        {
          "output_type": "stream",
          "name": "stdout",
          "text": "clean-corpus.perl: processing train.vi & .en to train.clean, cutoff 0-512, ratio 9\n..........(100000)...\nInput sentences: 133001  Output sentences:  132994\n"
        }
      ],
      "execution_count": null,
      "metadata": {
        "colab": {
          "base_uri": "https://localhost:8080/"
        },
        "id": "6VFrgCZgLcOV",
        "outputId": "37e4836a-85ba-4533-a03b-ad2394a0edb4"
      }
    },
    {
      "cell_type": "code",
      "source": [
        "data_test_vi = df_test[\"vi_token\"].values.tolist()\n",
        "data_test_en = df_test[\"en_token\"].values.tolist()\n",
        "\n",
        "with open(\"test.vi\", \"w\") as f:\n",
        "  f.write(\"\\n\".join(data_test_vi))\n",
        "\n",
        "with open(\"test.en\", \"w\") as f:\n",
        "  f.write(\"\\n\".join(data_test_en))"
      ],
      "outputs": [],
      "execution_count": null,
      "metadata": {
        "id": "KYqxis5HLfC9"
      }
    },
    {
      "cell_type": "code",
      "source": [
        "!perl clean-corpus-n.perl -max-word-length 50 test vi en test.clean 0 512"
      ],
      "outputs": [
        {
          "output_type": "stream",
          "name": "stdout",
          "text": "clean-corpus.perl: processing test.vi & .en to test.clean, cutoff 0-512, ratio 9\n\nInput sentences: 1268  Output sentences:  1268\n"
        }
      ],
      "execution_count": null,
      "metadata": {
        "colab": {
          "base_uri": "https://localhost:8080/"
        },
        "id": "JdnEMwTtLmRb",
        "outputId": "af9f619a-6be3-4476-a539-9cd1c9db0343"
      }
    },
    {
      "cell_type": "code",
      "source": [
        "!wc -l train.clean.vi train.clean.en"
      ],
      "outputs": [
        {
          "output_type": "stream",
          "name": "stdout",
          "text": "  132994 train.clean.vi\n  132994 train.clean.en\n  265988 total\n"
        }
      ],
      "execution_count": null,
      "metadata": {
        "colab": {
          "base_uri": "https://localhost:8080/"
        },
        "id": "yGzkh7xmLnM2",
        "outputId": "4f2bd955-472a-48e5-ad5d-7cfac32ea2d7"
      }
    },
    {
      "cell_type": "code",
      "source": [
        "!wc -l test.clean.vi test.clean.en"
      ],
      "outputs": [
        {
          "output_type": "stream",
          "name": "stdout",
          "text": "  1268 test.clean.vi\n  1268 test.clean.en\n  2536 total\n"
        }
      ],
      "execution_count": null,
      "metadata": {
        "colab": {
          "base_uri": "https://localhost:8080/"
        },
        "id": "6NwCdM3zLpfM",
        "outputId": "0802ea7f-d407-42df-c186-0188cd7ebefe"
      }
    },
    {
      "cell_type": "code",
      "source": [
        "with open(\"train.clean.vi\", \"r\") as f:\n",
        "    data_train_vi = f.readlines()\n",
        "\n",
        "with open(\"train.clean.en\", \"r\") as f:\n",
        "    data_train_en = f.readlines()\n",
        "\n",
        "data_train_vi = [i.replace(\"\\n\", \"\") for i in data_train_vi]\n",
        "data_train_en = [i.replace(\"\\n\", \"\") for i in data_train_en]\n",
        "data_train_vi[:10]"
      ],
      "outputs": [
        {
          "output_type": "execute_result",
          "execution_count": 38,
          "data": {
            "text/plain": "['▁khoa ▁học ▁đằng ▁sau ▁một ▁tiêu ▁đề ▁về ▁khí ▁hậu',\n '▁trong ▁0 ▁phút ▁, ▁chuyên ▁gia ▁hoá ▁học ▁khí ▁quyển ▁rachel ▁pike ▁giới ▁thiệu ▁sơ ▁lược ▁về ▁những ▁nỗ ▁lực ▁khoa ▁học ▁miệt ▁mài ▁đằng ▁sau ▁những ▁tiêu ▁đề ▁táo ▁bạo ▁về ▁biến ▁đổi ▁khí ▁hậu ▁, ▁cùng ▁với ▁đoàn ▁nghiên ▁cứu ▁của ▁mình ▁-- ▁hàng ▁ngàn ▁người ▁đã ▁cống ▁hiến ▁cho ▁dự ▁án ▁này ▁-- ▁một ▁chuyến ▁bay ▁mạo ▁hiểm ▁qua ▁rừng ▁già ▁để ▁tìm ▁kiếm ▁thông ▁tin ▁về ▁một ▁phân ▁tử ▁then ▁chốt ▁.',\n '▁tôi ▁muốn ▁cho ▁các ▁bạn ▁biết ▁về ▁sự ▁to ▁lớn ▁của ▁những ▁nỗ ▁lực ▁khoa ▁học ▁đã ▁góp ▁phần ▁làm ▁nên ▁các ▁dòng ▁tít ▁bạn ▁thường ▁thấy ▁trên ▁báo ▁.',\n '▁có ▁những ▁dòng ▁trông ▁như ▁thế ▁này ▁khi ▁bàn ▁về ▁biến ▁đổi ▁khí ▁hậu ▁, ▁và ▁như ▁thế ▁này ▁khi ▁nói ▁về ▁chất ▁lượng ▁không ▁khí ▁hay ▁khói ▁bụi ▁.',\n '▁cả ▁hai ▁đều ▁là ▁một ▁nhánh ▁của ▁cùng ▁một ▁lĩnh ▁vực ▁trong ▁ngành ▁khoa ▁học ▁khí ▁quyển ▁.',\n '▁các ▁tiêu ▁đề ▁gần ▁đây ▁trông ▁như ▁thế ▁này ▁khi ▁ban ▁điều ▁hành ▁biến ▁đổi ▁khí ▁hậu ▁liên ▁chính ▁phủ ▁, ▁gọi ▁tắt ▁là ▁ip cc ▁đưa ▁ra ▁bài ▁nghiên ▁cứu ▁của ▁họ ▁về ▁hệ ▁thống ▁khí ▁quyển ▁.',\n '▁nghiên ▁cứu ▁được ▁viết ▁bởi ▁000 ▁nhà ▁khoa ▁học ▁từ ▁00 ▁quốc ▁gia ▁khác ▁nhau ▁.',\n '▁họ ▁viết ▁gần ▁0000 ▁trang ▁về ▁chủ ▁đề ▁này ▁.',\n '▁và ▁tất ▁cả ▁các ▁trang ▁đều ▁được ▁xem ▁xét ▁bởi ▁000 ▁khoa ▁học ▁gia ▁và ▁nhà ▁phê ▁bình ▁khác ▁từ ▁000 ▁quốc ▁gia ▁.',\n '▁đó ▁là ▁cả ▁một ▁cộng ▁đồng ▁lớn ▁, ▁lớn ▁đến ▁nỗi ▁trên ▁thực ▁tế ▁cuộc ▁tụ ▁hội ▁hằng ▁năm ▁của ▁chúng ▁tôi ▁là ▁hội ▁nghị ▁khoa ▁học ▁& # 00; ▁tự ▁nhiên ▁& # 00; ▁lớn ▁nhất ▁thế ▁giới ▁.']"
          },
          "metadata": {}
        }
      ],
      "execution_count": null,
      "metadata": {
        "colab": {
          "base_uri": "https://localhost:8080/"
        },
        "id": "qKhtQrBkMKU2",
        "outputId": "9ec6e570-0a1b-45dc-a959-b87b6097e10e"
      }
    },
    {
      "cell_type": "code",
      "source": [
        "df_train = pd.DataFrame({\"vi\": data_train_vi, \"en\": data_train_en})\n",
        "df_train"
      ],
      "outputs": [
        {
          "output_type": "execute_result",
          "execution_count": 39,
          "data": {
            "application/vnd.google.colaboratory.intrinsic+json": {
              "type": "dataframe",
              "variable_name": "df_train"
            },
            "text/html": "\n  <div id=\"df-e834f12d-7df3-43a4-90fa-b1776886afe2\" class=\"colab-df-container\">\n    <div>\n<style scoped>\n    .dataframe tbody tr th:only-of-type {\n        vertical-align: middle;\n    }\n\n    .dataframe tbody tr th {\n        vertical-align: top;\n    }\n\n    .dataframe thead th {\n        text-align: right;\n    }\n</style>\n<table border=\"1\" class=\"dataframe\">\n  <thead>\n    <tr style=\"text-align: right;\">\n      <th></th>\n      <th>vi</th>\n      <th>en</th>\n    </tr>\n  </thead>\n  <tbody>\n    <tr>\n      <th>0</th>\n      <td>▁khoa ▁học ▁đằng ▁sau ▁một ▁tiêu ▁đề ▁về ▁khí ...</td>\n      <td>▁rachel ▁pike : ▁the ▁science ▁behind ▁a ▁clim...</td>\n    </tr>\n    <tr>\n      <th>1</th>\n      <td>▁trong ▁0 ▁phút ▁, ▁chuyên ▁gia ▁hoá ▁học ▁khí...</td>\n      <td>▁in ▁0 ▁minutes ▁, ▁atmospheric ▁chemist ▁rach...</td>\n    </tr>\n    <tr>\n      <th>2</th>\n      <td>▁tôi ▁muốn ▁cho ▁các ▁bạn ▁biết ▁về ▁sự ▁to ▁l...</td>\n      <td>▁i ▁&amp; ap os ; d ▁like ▁to ▁talk ▁to ▁you ▁toda...</td>\n    </tr>\n    <tr>\n      <th>3</th>\n      <td>▁có ▁những ▁dòng ▁trông ▁như ▁thế ▁này ▁khi ▁b...</td>\n      <td>▁headlines ▁that ▁look ▁like ▁this ▁when ▁they...</td>\n    </tr>\n    <tr>\n      <th>4</th>\n      <td>▁cả ▁hai ▁đều ▁là ▁một ▁nhánh ▁của ▁cùng ▁một ...</td>\n      <td>▁they ▁are ▁both ▁two ▁branches ▁of ▁the ▁same...</td>\n    </tr>\n    <tr>\n      <th>...</th>\n      <td>...</td>\n      <td>...</td>\n    </tr>\n    <tr>\n      <th>132989</th>\n      <td>▁mà ▁chính ▁hệ ▁thống ▁y ▁tế ▁mà ▁tôi ▁góp ▁ph...</td>\n      <td>▁maybe ▁the ▁system ▁, ▁of ▁which ▁i ▁was ▁a ▁...</td>\n    </tr>\n    <tr>\n      <th>132990</th>\n      <td>▁nếu ▁giờ ▁đây ▁cô ▁đang ▁xem ▁chương ▁trình ▁...</td>\n      <td>▁if ▁you ▁&amp; ap os ; re ▁watching ▁this ▁now ▁,...</td>\n    </tr>\n    <tr>\n      <th>132991</th>\n      <td>▁paul ▁ph ol eros : ▁làm ▁sao ▁để ▁bớt ▁nghèo ...</td>\n      <td>▁paul ▁ph ol eros : ▁how ▁to ▁reduce ▁poverty ...</td>\n    </tr>\n    <tr>\n      <th>132992</th>\n      <td>▁năm ▁0000 ▁, ▁kiến ▁trúc ▁sư ▁paul ▁ph ol ero...</td>\n      <td>▁in ▁0000 ▁, ▁architect ▁paul ▁ph ol eros ▁was...</td>\n    </tr>\n    <tr>\n      <th>132993</th>\n      <td>▁mong ▁muốn ▁xoá ▁nghèo ▁là ▁0 ▁mục ▁tiêu ▁vĩ ...</td>\n      <td>▁the ▁idea ▁of ▁eliminating ▁poverty ▁is ▁a ▁g...</td>\n    </tr>\n  </tbody>\n</table>\n<p>132994 rows × 2 columns</p>\n</div>\n    <div class=\"colab-df-buttons\">\n\n  <div class=\"colab-df-container\">\n    <button class=\"colab-df-convert\" onclick=\"convertToInteractive('df-e834f12d-7df3-43a4-90fa-b1776886afe2')\"\n            title=\"Convert this dataframe to an interactive table.\"\n            style=\"display:none;\">\n\n  <svg xmlns=\"http://www.w3.org/2000/svg\" height=\"24px\" viewBox=\"0 -960 960 960\">\n    <path d=\"M120-120v-720h720v720H120Zm60-500h600v-160H180v160Zm220 220h160v-160H400v160Zm0 220h160v-160H400v160ZM180-400h160v-160H180v160Zm440 0h160v-160H620v160ZM180-180h160v-160H180v160Zm440 0h160v-160H620v160Z\"/>\n  </svg>\n    </button>\n\n  <style>\n    .colab-df-container {\n      display:flex;\n      gap: 12px;\n    }\n\n    .colab-df-convert {\n      background-color: #E8F0FE;\n      border: none;\n      border-radius: 50%;\n      cursor: pointer;\n      display: none;\n      fill: #1967D2;\n      height: 32px;\n      padding: 0 0 0 0;\n      width: 32px;\n    }\n\n    .colab-df-convert:hover {\n      background-color: #E2EBFA;\n      box-shadow: 0px 1px 2px rgba(60, 64, 67, 0.3), 0px 1px 3px 1px rgba(60, 64, 67, 0.15);\n      fill: #174EA6;\n    }\n\n    .colab-df-buttons div {\n      margin-bottom: 4px;\n    }\n\n    [theme=dark] .colab-df-convert {\n      background-color: #3B4455;\n      fill: #D2E3FC;\n    }\n\n    [theme=dark] .colab-df-convert:hover {\n      background-color: #434B5C;\n      box-shadow: 0px 1px 3px 1px rgba(0, 0, 0, 0.15);\n      filter: drop-shadow(0px 1px 2px rgba(0, 0, 0, 0.3));\n      fill: #FFFFFF;\n    }\n  </style>\n\n    <script>\n      const buttonEl =\n        document.querySelector('#df-e834f12d-7df3-43a4-90fa-b1776886afe2 button.colab-df-convert');\n      buttonEl.style.display =\n        google.colab.kernel.accessAllowed ? 'block' : 'none';\n\n      async function convertToInteractive(key) {\n        const element = document.querySelector('#df-e834f12d-7df3-43a4-90fa-b1776886afe2');\n        const dataTable =\n          await google.colab.kernel.invokeFunction('convertToInteractive',\n                                                    [key], {});\n        if (!dataTable) return;\n\n        const docLinkHtml = 'Like what you see? Visit the ' +\n          '<a target=\"_blank\" href=https://colab.research.google.com/notebooks/data_table.ipynb>data table notebook</a>'\n          + ' to learn more about interactive tables.';\n        element.innerHTML = '';\n        dataTable['output_type'] = 'display_data';\n        await google.colab.output.renderOutput(dataTable, element);\n        const docLink = document.createElement('div');\n        docLink.innerHTML = docLinkHtml;\n        element.appendChild(docLink);\n      }\n    </script>\n  </div>\n\n\n<div id=\"df-be238d1b-e3ca-4a67-81a8-dee2f5f0fa30\">\n  <button class=\"colab-df-quickchart\" onclick=\"quickchart('df-be238d1b-e3ca-4a67-81a8-dee2f5f0fa30')\"\n            title=\"Suggest charts\"\n            style=\"display:none;\">\n\n<svg xmlns=\"http://www.w3.org/2000/svg\" height=\"24px\"viewBox=\"0 0 24 24\"\n     width=\"24px\">\n    <g>\n        <path d=\"M19 3H5c-1.1 0-2 .9-2 2v14c0 1.1.9 2 2 2h14c1.1 0 2-.9 2-2V5c0-1.1-.9-2-2-2zM9 17H7v-7h2v7zm4 0h-2V7h2v10zm4 0h-2v-4h2v4z\"/>\n    </g>\n</svg>\n  </button>\n\n<style>\n  .colab-df-quickchart {\n      --bg-color: #E8F0FE;\n      --fill-color: #1967D2;\n      --hover-bg-color: #E2EBFA;\n      --hover-fill-color: #174EA6;\n      --disabled-fill-color: #AAA;\n      --disabled-bg-color: #DDD;\n  }\n\n  [theme=dark] .colab-df-quickchart {\n      --bg-color: #3B4455;\n      --fill-color: #D2E3FC;\n      --hover-bg-color: #434B5C;\n      --hover-fill-color: #FFFFFF;\n      --disabled-bg-color: #3B4455;\n      --disabled-fill-color: #666;\n  }\n\n  .colab-df-quickchart {\n    background-color: var(--bg-color);\n    border: none;\n    border-radius: 50%;\n    cursor: pointer;\n    display: none;\n    fill: var(--fill-color);\n    height: 32px;\n    padding: 0;\n    width: 32px;\n  }\n\n  .colab-df-quickchart:hover {\n    background-color: var(--hover-bg-color);\n    box-shadow: 0 1px 2px rgba(60, 64, 67, 0.3), 0 1px 3px 1px rgba(60, 64, 67, 0.15);\n    fill: var(--button-hover-fill-color);\n  }\n\n  .colab-df-quickchart-complete:disabled,\n  .colab-df-quickchart-complete:disabled:hover {\n    background-color: var(--disabled-bg-color);\n    fill: var(--disabled-fill-color);\n    box-shadow: none;\n  }\n\n  .colab-df-spinner {\n    border: 2px solid var(--fill-color);\n    border-color: transparent;\n    border-bottom-color: var(--fill-color);\n    animation:\n      spin 1s steps(1) infinite;\n  }\n\n  @keyframes spin {\n    0% {\n      border-color: transparent;\n      border-bottom-color: var(--fill-color);\n      border-left-color: var(--fill-color);\n    }\n    20% {\n      border-color: transparent;\n      border-left-color: var(--fill-color);\n      border-top-color: var(--fill-color);\n    }\n    30% {\n      border-color: transparent;\n      border-left-color: var(--fill-color);\n      border-top-color: var(--fill-color);\n      border-right-color: var(--fill-color);\n    }\n    40% {\n      border-color: transparent;\n      border-right-color: var(--fill-color);\n      border-top-color: var(--fill-color);\n    }\n    60% {\n      border-color: transparent;\n      border-right-color: var(--fill-color);\n    }\n    80% {\n      border-color: transparent;\n      border-right-color: var(--fill-color);\n      border-bottom-color: var(--fill-color);\n    }\n    90% {\n      border-color: transparent;\n      border-bottom-color: var(--fill-color);\n    }\n  }\n</style>\n\n  <script>\n    async function quickchart(key) {\n      const quickchartButtonEl =\n        document.querySelector('#' + key + ' button');\n      quickchartButtonEl.disabled = true;  // To prevent multiple clicks.\n      quickchartButtonEl.classList.add('colab-df-spinner');\n      try {\n        const charts = await google.colab.kernel.invokeFunction(\n            'suggestCharts', [key], {});\n      } catch (error) {\n        console.error('Error during call to suggestCharts:', error);\n      }\n      quickchartButtonEl.classList.remove('colab-df-spinner');\n      quickchartButtonEl.classList.add('colab-df-quickchart-complete');\n    }\n    (() => {\n      let quickchartButtonEl =\n        document.querySelector('#df-be238d1b-e3ca-4a67-81a8-dee2f5f0fa30 button');\n      quickchartButtonEl.style.display =\n        google.colab.kernel.accessAllowed ? 'block' : 'none';\n    })();\n  </script>\n</div>\n\n  <div id=\"id_a063f4e4-e2af-49c1-a2a3-0f14b5644491\">\n    <style>\n      .colab-df-generate {\n        background-color: #E8F0FE;\n        border: none;\n        border-radius: 50%;\n        cursor: pointer;\n        display: none;\n        fill: #1967D2;\n        height: 32px;\n        padding: 0 0 0 0;\n        width: 32px;\n      }\n\n      .colab-df-generate:hover {\n        background-color: #E2EBFA;\n        box-shadow: 0px 1px 2px rgba(60, 64, 67, 0.3), 0px 1px 3px 1px rgba(60, 64, 67, 0.15);\n        fill: #174EA6;\n      }\n\n      [theme=dark] .colab-df-generate {\n        background-color: #3B4455;\n        fill: #D2E3FC;\n      }\n\n      [theme=dark] .colab-df-generate:hover {\n        background-color: #434B5C;\n        box-shadow: 0px 1px 3px 1px rgba(0, 0, 0, 0.15);\n        filter: drop-shadow(0px 1px 2px rgba(0, 0, 0, 0.3));\n        fill: #FFFFFF;\n      }\n    </style>\n    <button class=\"colab-df-generate\" onclick=\"generateWithVariable('df_train')\"\n            title=\"Generate code using this dataframe.\"\n            style=\"display:none;\">\n\n  <svg xmlns=\"http://www.w3.org/2000/svg\" height=\"24px\"viewBox=\"0 0 24 24\"\n       width=\"24px\">\n    <path d=\"M7,19H8.4L18.45,9,17,7.55,7,17.6ZM5,21V16.75L18.45,3.32a2,2,0,0,1,2.83,0l1.4,1.43a1.91,1.91,0,0,1,.58,1.4,1.91,1.91,0,0,1-.58,1.4L9.25,21ZM18.45,9,17,7.55Zm-12,3A5.31,5.31,0,0,0,4.9,8.1,5.31,5.31,0,0,0,1,6.5,5.31,5.31,0,0,0,4.9,4.9,5.31,5.31,0,0,0,6.5,1,5.31,5.31,0,0,0,8.1,4.9,5.31,5.31,0,0,0,12,6.5,5.46,5.46,0,0,0,6.5,12Z\"/>\n  </svg>\n    </button>\n    <script>\n      (() => {\n      const buttonEl =\n        document.querySelector('#id_a063f4e4-e2af-49c1-a2a3-0f14b5644491 button.colab-df-generate');\n      buttonEl.style.display =\n        google.colab.kernel.accessAllowed ? 'block' : 'none';\n\n      buttonEl.onclick = () => {\n        google.colab.notebook.generateWithVariable('df_train');\n      }\n      })();\n    </script>\n  </div>\n\n    </div>\n  </div>\n",
            "text/plain": "                                                       vi  \\\n0       ▁khoa ▁học ▁đằng ▁sau ▁một ▁tiêu ▁đề ▁về ▁khí ...   \n1       ▁trong ▁0 ▁phút ▁, ▁chuyên ▁gia ▁hoá ▁học ▁khí...   \n2       ▁tôi ▁muốn ▁cho ▁các ▁bạn ▁biết ▁về ▁sự ▁to ▁l...   \n3       ▁có ▁những ▁dòng ▁trông ▁như ▁thế ▁này ▁khi ▁b...   \n4       ▁cả ▁hai ▁đều ▁là ▁một ▁nhánh ▁của ▁cùng ▁một ...   \n...                                                   ...   \n132989  ▁mà ▁chính ▁hệ ▁thống ▁y ▁tế ▁mà ▁tôi ▁góp ▁ph...   \n132990  ▁nếu ▁giờ ▁đây ▁cô ▁đang ▁xem ▁chương ▁trình ▁...   \n132991  ▁paul ▁ph ol eros : ▁làm ▁sao ▁để ▁bớt ▁nghèo ...   \n132992  ▁năm ▁0000 ▁, ▁kiến ▁trúc ▁sư ▁paul ▁ph ol ero...   \n132993  ▁mong ▁muốn ▁xoá ▁nghèo ▁là ▁0 ▁mục ▁tiêu ▁vĩ ...   \n\n                                                       en  \n0       ▁rachel ▁pike : ▁the ▁science ▁behind ▁a ▁clim...  \n1       ▁in ▁0 ▁minutes ▁, ▁atmospheric ▁chemist ▁rach...  \n2       ▁i ▁& ap os ; d ▁like ▁to ▁talk ▁to ▁you ▁toda...  \n3       ▁headlines ▁that ▁look ▁like ▁this ▁when ▁they...  \n4       ▁they ▁are ▁both ▁two ▁branches ▁of ▁the ▁same...  \n...                                                   ...  \n132989  ▁maybe ▁the ▁system ▁, ▁of ▁which ▁i ▁was ▁a ▁...  \n132990  ▁if ▁you ▁& ap os ; re ▁watching ▁this ▁now ▁,...  \n132991  ▁paul ▁ph ol eros : ▁how ▁to ▁reduce ▁poverty ...  \n132992  ▁in ▁0000 ▁, ▁architect ▁paul ▁ph ol eros ▁was...  \n132993  ▁the ▁idea ▁of ▁eliminating ▁poverty ▁is ▁a ▁g...  \n\n[132994 rows x 2 columns]"
          },
          "metadata": {}
        }
      ],
      "execution_count": null,
      "metadata": {
        "colab": {
          "base_uri": "https://localhost:8080/",
          "height": 424
        },
        "id": "EBv7Ue0SLtT7",
        "outputId": "6de4f95f-a1cb-43b6-8915-1d9b4dbe0776"
      }
    },
    {
      "cell_type": "code",
      "source": [
        "df_test = pd.DataFrame({\"vi\": data_test_vi, \"en\": data_test_en})\n",
        "df_test"
      ],
      "outputs": [
        {
          "output_type": "execute_result",
          "execution_count": 40,
          "data": {
            "application/vnd.google.colaboratory.intrinsic+json": {
              "summary": "{\n  \"name\": \"df_test\",\n  \"rows\": 1268,\n  \"fields\": [\n    {\n      \"column\": \"vi\",\n      \"properties\": {\n        \"dtype\": \"string\",\n        \"num_unique_values\": 1260,\n        \"samples\": [\n          \"\\u2581t\\u00f4i \\u2581v\\u00f4 \\u2581c\\u00f9ng \\u2581ng\\u1ea1c \\u2581nhi\\u00ean \\u2581khi \\u2581m\\u1ed9t \\u2581ng\\u01b0\\u1eddi \\u2581ho\\u00e0n \\u2581to\\u00e0n \\u2581xa \\u2581l\\u1ea1 \\u2581l\\u1ea1i \\u2581quan \\u2581t\\u00e2m \\u2581t\\u1edbi \\u2581m\\u1ee9c \\u2581h\\u1ecfi \\u2581t\\u00f4i \\u2581nh\\u01b0 \\u2581v\\u1eady \\u2581.\",\n          \"\\u2581ng\\u01b0\\u1eddi \\u2581n\\u00e0o \\u2581s\\u1ebd \\u2581s\\u00e1ng \\u2581ch\\u1ebf \\u2581ra \\u2581c\\u00e1i \\u2581c\\u00f4ng \\u2581ngh\\u1ec7 \\u2581cho \\u2581cu\\u1ed9c \\u2581c\\u00e1ch \\u2581m\\u1ea1ng \\u2581xanh \\u2581? \\u2581c\\u00e1c \\u2581tr\\u01b0\\u1eddng \\u2581\\u0111\\u1ea1i \\u2581h\\u1ecdc \\u2581\\u01b0 \\u2581? \\u2581qu\\u00ean \\u2581\\u0111i \\u2581!\",\n          \"\\u2581vi\\u1ec7c \\u2581ng\\u01b0\\u1eddi \\u2581b\\u1eafc \\u2581tri\\u1ec1u \\u2581ti\\u00ean \\u2581ph\\u1ea3i \\u2581che \\u2581d\\u1ea5u \\u2581danh \\u2581t\\u00ednh \\u2581c\\u1ee7a \\u2581m\\u00ecnh \\u2581v\\u00e0 \\u2581\\u0111\\u1ea5u \\u2581tranh \\u2581\\u0111\\u1ec3 \\u2581t\\u1ed3n \\u2581t\\u1ea1i \\u2581qu\\u1ea3 \\u2581l\\u00e0 \\u2581m\\u1ed9t \\u2581bi \\u2581k\\u1ecbch \\u2581.\"\n        ],\n        \"semantic_type\": \"\",\n        \"description\": \"\"\n      }\n    },\n    {\n      \"column\": \"en\",\n      \"properties\": {\n        \"dtype\": \"string\",\n        \"num_unique_values\": 1252,\n        \"samples\": [\n          \"\\u2581but \\u2581frustrating ly \\u2581, \\u2581with \\u2581parkinson \\u2581& ap os ; s \\u2581disease \\u2581and \\u2581other \\u2581movement \\u2581disorders \\u2581, \\u2581there \\u2581are \\u2581no \\u2581biom ark ers \\u2581, \\u2581so \\u2581there \\u2581& ap os ; s \\u2581no \\u2581simple \\u2581blood \\u2581test \\u2581that \\u2581you \\u2581can \\u2581do \\u2581, \\u2581and \\u2581the \\u2581best \\u2581that \\u2581we \\u2581have \\u2581is \\u2581like \\u2581this \\u258100- minute \\u2581neurolog ist \\u2581test \\u2581.\",\n          \"\\u2581this \\u2581is \\u2581man uru \\u2581. \\u2581when \\u2581his \\u2581father \\u2581died \\u2581, \\u2581his \\u2581uncle \\u2581traff icked \\u2581him \\u2581to \\u2581work \\u2581with \\u2581him \\u2581in \\u2581the \\u2581mines \\u2581.\",\n          \"\\u2581we \\u2581got \\u2581dirty \\u2581, \\u2581and \\u2581we \\u2581loved \\u2581it \\u2581.\"\n        ],\n        \"semantic_type\": \"\",\n        \"description\": \"\"\n      }\n    }\n  ]\n}",
              "type": "dataframe",
              "variable_name": "df_test"
            },
            "text/html": "\n  <div id=\"df-429486cb-cd9f-4011-b14f-b77bd03d5ccd\" class=\"colab-df-container\">\n    <div>\n<style scoped>\n    .dataframe tbody tr th:only-of-type {\n        vertical-align: middle;\n    }\n\n    .dataframe tbody tr th {\n        vertical-align: top;\n    }\n\n    .dataframe thead th {\n        text-align: right;\n    }\n</style>\n<table border=\"1\" class=\"dataframe\">\n  <thead>\n    <tr style=\"text-align: right;\">\n      <th></th>\n      <th>vi</th>\n      <th>en</th>\n    </tr>\n  </thead>\n  <tbody>\n    <tr>\n      <th>0</th>\n      <td>▁khi ▁tôi ▁còn ▁nhỏ ▁, ▁tôi ▁nghĩ ▁rằng ▁bắc t...</td>\n      <td>▁when ▁i ▁was ▁little ▁, ▁i ▁thought ▁my ▁coun...</td>\n    </tr>\n    <tr>\n      <th>1</th>\n      <td>▁tôi ▁đã ▁rất ▁tự ▁hào ▁về ▁đất ▁nước ▁tôi ▁.</td>\n      <td>▁and ▁i ▁was ▁very ▁proud ▁.</td>\n    </tr>\n    <tr>\n      <th>2</th>\n      <td>▁ở ▁trường ▁, ▁chúng ▁tôi ▁dành ▁rất ▁nhiều ▁t...</td>\n      <td>▁in ▁school ▁, ▁we ▁spent ▁a ▁lot ▁of ▁time ▁s...</td>\n    </tr>\n    <tr>\n      <th>3</th>\n      <td>▁mặc ▁dù ▁tôi ▁đã ▁từng ▁tự ▁hỏi ▁không ▁biết ...</td>\n      <td>▁although ▁i ▁often ▁wondered ▁about ▁the ▁out...</td>\n    </tr>\n    <tr>\n      <th>4</th>\n      <td>▁khi ▁tôi ▁lên ▁0 ▁, ▁tôi ▁chứng ▁kiến ▁cảnh ▁...</td>\n      <td>▁when ▁i ▁was ▁seven ▁years ▁old ▁, ▁i ▁saw ▁m...</td>\n    </tr>\n    <tr>\n      <th>...</th>\n      <td>...</td>\n      <td>...</td>\n    </tr>\n    <tr>\n      <th>1263</th>\n      <td>▁tôi ▁thực ▁sự ▁tin ▁, ▁nếu ▁ta ▁coi ▁người ▁k...</td>\n      <td>▁i ▁truly ▁believe ▁, ▁if ▁we ▁can ▁see ▁one ▁...</td>\n    </tr>\n    <tr>\n      <th>1264</th>\n      <td>▁những ▁tấm ▁hình ▁không ▁phải ▁là ▁về ▁bản ▁t...</td>\n      <td>▁these ▁images ▁are ▁not ▁of ▁issues ▁. ▁they ...</td>\n    </tr>\n    <tr>\n      <th>1265</th>\n      <td>▁không ▁có ▁ngày ▁nào ▁mà ▁tôi ▁không ▁nghĩ ▁v...</td>\n      <td>▁there ▁is ▁not ▁a ▁day ▁that ▁goes ▁by ▁that ...</td>\n    </tr>\n    <tr>\n      <th>1266</th>\n      <td>▁tôi ▁hi ▁vọng ▁những ▁tấm ▁hình ▁sẽ ▁đánh ▁th...</td>\n      <td>▁i ▁hope ▁that ▁these ▁images ▁awaken ▁a ▁forc...</td>\n    </tr>\n    <tr>\n      <th>1267</th>\n      <td>▁cảm ▁ơn ▁rất ▁nhiều ▁.</td>\n      <td>▁thank ▁you ▁very ▁much ▁.</td>\n    </tr>\n  </tbody>\n</table>\n<p>1268 rows × 2 columns</p>\n</div>\n    <div class=\"colab-df-buttons\">\n\n  <div class=\"colab-df-container\">\n    <button class=\"colab-df-convert\" onclick=\"convertToInteractive('df-429486cb-cd9f-4011-b14f-b77bd03d5ccd')\"\n            title=\"Convert this dataframe to an interactive table.\"\n            style=\"display:none;\">\n\n  <svg xmlns=\"http://www.w3.org/2000/svg\" height=\"24px\" viewBox=\"0 -960 960 960\">\n    <path d=\"M120-120v-720h720v720H120Zm60-500h600v-160H180v160Zm220 220h160v-160H400v160Zm0 220h160v-160H400v160ZM180-400h160v-160H180v160Zm440 0h160v-160H620v160ZM180-180h160v-160H180v160Zm440 0h160v-160H620v160Z\"/>\n  </svg>\n    </button>\n\n  <style>\n    .colab-df-container {\n      display:flex;\n      gap: 12px;\n    }\n\n    .colab-df-convert {\n      background-color: #E8F0FE;\n      border: none;\n      border-radius: 50%;\n      cursor: pointer;\n      display: none;\n      fill: #1967D2;\n      height: 32px;\n      padding: 0 0 0 0;\n      width: 32px;\n    }\n\n    .colab-df-convert:hover {\n      background-color: #E2EBFA;\n      box-shadow: 0px 1px 2px rgba(60, 64, 67, 0.3), 0px 1px 3px 1px rgba(60, 64, 67, 0.15);\n      fill: #174EA6;\n    }\n\n    .colab-df-buttons div {\n      margin-bottom: 4px;\n    }\n\n    [theme=dark] .colab-df-convert {\n      background-color: #3B4455;\n      fill: #D2E3FC;\n    }\n\n    [theme=dark] .colab-df-convert:hover {\n      background-color: #434B5C;\n      box-shadow: 0px 1px 3px 1px rgba(0, 0, 0, 0.15);\n      filter: drop-shadow(0px 1px 2px rgba(0, 0, 0, 0.3));\n      fill: #FFFFFF;\n    }\n  </style>\n\n    <script>\n      const buttonEl =\n        document.querySelector('#df-429486cb-cd9f-4011-b14f-b77bd03d5ccd button.colab-df-convert');\n      buttonEl.style.display =\n        google.colab.kernel.accessAllowed ? 'block' : 'none';\n\n      async function convertToInteractive(key) {\n        const element = document.querySelector('#df-429486cb-cd9f-4011-b14f-b77bd03d5ccd');\n        const dataTable =\n          await google.colab.kernel.invokeFunction('convertToInteractive',\n                                                    [key], {});\n        if (!dataTable) return;\n\n        const docLinkHtml = 'Like what you see? Visit the ' +\n          '<a target=\"_blank\" href=https://colab.research.google.com/notebooks/data_table.ipynb>data table notebook</a>'\n          + ' to learn more about interactive tables.';\n        element.innerHTML = '';\n        dataTable['output_type'] = 'display_data';\n        await google.colab.output.renderOutput(dataTable, element);\n        const docLink = document.createElement('div');\n        docLink.innerHTML = docLinkHtml;\n        element.appendChild(docLink);\n      }\n    </script>\n  </div>\n\n\n<div id=\"df-fd0d92fb-a313-430b-98cf-b30cfa94d36a\">\n  <button class=\"colab-df-quickchart\" onclick=\"quickchart('df-fd0d92fb-a313-430b-98cf-b30cfa94d36a')\"\n            title=\"Suggest charts\"\n            style=\"display:none;\">\n\n<svg xmlns=\"http://www.w3.org/2000/svg\" height=\"24px\"viewBox=\"0 0 24 24\"\n     width=\"24px\">\n    <g>\n        <path d=\"M19 3H5c-1.1 0-2 .9-2 2v14c0 1.1.9 2 2 2h14c1.1 0 2-.9 2-2V5c0-1.1-.9-2-2-2zM9 17H7v-7h2v7zm4 0h-2V7h2v10zm4 0h-2v-4h2v4z\"/>\n    </g>\n</svg>\n  </button>\n\n<style>\n  .colab-df-quickchart {\n      --bg-color: #E8F0FE;\n      --fill-color: #1967D2;\n      --hover-bg-color: #E2EBFA;\n      --hover-fill-color: #174EA6;\n      --disabled-fill-color: #AAA;\n      --disabled-bg-color: #DDD;\n  }\n\n  [theme=dark] .colab-df-quickchart {\n      --bg-color: #3B4455;\n      --fill-color: #D2E3FC;\n      --hover-bg-color: #434B5C;\n      --hover-fill-color: #FFFFFF;\n      --disabled-bg-color: #3B4455;\n      --disabled-fill-color: #666;\n  }\n\n  .colab-df-quickchart {\n    background-color: var(--bg-color);\n    border: none;\n    border-radius: 50%;\n    cursor: pointer;\n    display: none;\n    fill: var(--fill-color);\n    height: 32px;\n    padding: 0;\n    width: 32px;\n  }\n\n  .colab-df-quickchart:hover {\n    background-color: var(--hover-bg-color);\n    box-shadow: 0 1px 2px rgba(60, 64, 67, 0.3), 0 1px 3px 1px rgba(60, 64, 67, 0.15);\n    fill: var(--button-hover-fill-color);\n  }\n\n  .colab-df-quickchart-complete:disabled,\n  .colab-df-quickchart-complete:disabled:hover {\n    background-color: var(--disabled-bg-color);\n    fill: var(--disabled-fill-color);\n    box-shadow: none;\n  }\n\n  .colab-df-spinner {\n    border: 2px solid var(--fill-color);\n    border-color: transparent;\n    border-bottom-color: var(--fill-color);\n    animation:\n      spin 1s steps(1) infinite;\n  }\n\n  @keyframes spin {\n    0% {\n      border-color: transparent;\n      border-bottom-color: var(--fill-color);\n      border-left-color: var(--fill-color);\n    }\n    20% {\n      border-color: transparent;\n      border-left-color: var(--fill-color);\n      border-top-color: var(--fill-color);\n    }\n    30% {\n      border-color: transparent;\n      border-left-color: var(--fill-color);\n      border-top-color: var(--fill-color);\n      border-right-color: var(--fill-color);\n    }\n    40% {\n      border-color: transparent;\n      border-right-color: var(--fill-color);\n      border-top-color: var(--fill-color);\n    }\n    60% {\n      border-color: transparent;\n      border-right-color: var(--fill-color);\n    }\n    80% {\n      border-color: transparent;\n      border-right-color: var(--fill-color);\n      border-bottom-color: var(--fill-color);\n    }\n    90% {\n      border-color: transparent;\n      border-bottom-color: var(--fill-color);\n    }\n  }\n</style>\n\n  <script>\n    async function quickchart(key) {\n      const quickchartButtonEl =\n        document.querySelector('#' + key + ' button');\n      quickchartButtonEl.disabled = true;  // To prevent multiple clicks.\n      quickchartButtonEl.classList.add('colab-df-spinner');\n      try {\n        const charts = await google.colab.kernel.invokeFunction(\n            'suggestCharts', [key], {});\n      } catch (error) {\n        console.error('Error during call to suggestCharts:', error);\n      }\n      quickchartButtonEl.classList.remove('colab-df-spinner');\n      quickchartButtonEl.classList.add('colab-df-quickchart-complete');\n    }\n    (() => {\n      let quickchartButtonEl =\n        document.querySelector('#df-fd0d92fb-a313-430b-98cf-b30cfa94d36a button');\n      quickchartButtonEl.style.display =\n        google.colab.kernel.accessAllowed ? 'block' : 'none';\n    })();\n  </script>\n</div>\n\n  <div id=\"id_51ea7327-7666-4f5e-af2c-789abdb8f679\">\n    <style>\n      .colab-df-generate {\n        background-color: #E8F0FE;\n        border: none;\n        border-radius: 50%;\n        cursor: pointer;\n        display: none;\n        fill: #1967D2;\n        height: 32px;\n        padding: 0 0 0 0;\n        width: 32px;\n      }\n\n      .colab-df-generate:hover {\n        background-color: #E2EBFA;\n        box-shadow: 0px 1px 2px rgba(60, 64, 67, 0.3), 0px 1px 3px 1px rgba(60, 64, 67, 0.15);\n        fill: #174EA6;\n      }\n\n      [theme=dark] .colab-df-generate {\n        background-color: #3B4455;\n        fill: #D2E3FC;\n      }\n\n      [theme=dark] .colab-df-generate:hover {\n        background-color: #434B5C;\n        box-shadow: 0px 1px 3px 1px rgba(0, 0, 0, 0.15);\n        filter: drop-shadow(0px 1px 2px rgba(0, 0, 0, 0.3));\n        fill: #FFFFFF;\n      }\n    </style>\n    <button class=\"colab-df-generate\" onclick=\"generateWithVariable('df_test')\"\n            title=\"Generate code using this dataframe.\"\n            style=\"display:none;\">\n\n  <svg xmlns=\"http://www.w3.org/2000/svg\" height=\"24px\"viewBox=\"0 0 24 24\"\n       width=\"24px\">\n    <path d=\"M7,19H8.4L18.45,9,17,7.55,7,17.6ZM5,21V16.75L18.45,3.32a2,2,0,0,1,2.83,0l1.4,1.43a1.91,1.91,0,0,1,.58,1.4,1.91,1.91,0,0,1-.58,1.4L9.25,21ZM18.45,9,17,7.55Zm-12,3A5.31,5.31,0,0,0,4.9,8.1,5.31,5.31,0,0,0,1,6.5,5.31,5.31,0,0,0,4.9,4.9,5.31,5.31,0,0,0,6.5,1,5.31,5.31,0,0,0,8.1,4.9,5.31,5.31,0,0,0,12,6.5,5.46,5.46,0,0,0,6.5,12Z\"/>\n  </svg>\n    </button>\n    <script>\n      (() => {\n      const buttonEl =\n        document.querySelector('#id_51ea7327-7666-4f5e-af2c-789abdb8f679 button.colab-df-generate');\n      buttonEl.style.display =\n        google.colab.kernel.accessAllowed ? 'block' : 'none';\n\n      buttonEl.onclick = () => {\n        google.colab.notebook.generateWithVariable('df_test');\n      }\n      })();\n    </script>\n  </div>\n\n    </div>\n  </div>\n",
            "text/plain": "                                                     vi  \\\n0     ▁khi ▁tôi ▁còn ▁nhỏ ▁, ▁tôi ▁nghĩ ▁rằng ▁bắc t...   \n1         ▁tôi ▁đã ▁rất ▁tự ▁hào ▁về ▁đất ▁nước ▁tôi ▁.   \n2     ▁ở ▁trường ▁, ▁chúng ▁tôi ▁dành ▁rất ▁nhiều ▁t...   \n3     ▁mặc ▁dù ▁tôi ▁đã ▁từng ▁tự ▁hỏi ▁không ▁biết ...   \n4     ▁khi ▁tôi ▁lên ▁0 ▁, ▁tôi ▁chứng ▁kiến ▁cảnh ▁...   \n...                                                 ...   \n1263  ▁tôi ▁thực ▁sự ▁tin ▁, ▁nếu ▁ta ▁coi ▁người ▁k...   \n1264  ▁những ▁tấm ▁hình ▁không ▁phải ▁là ▁về ▁bản ▁t...   \n1265  ▁không ▁có ▁ngày ▁nào ▁mà ▁tôi ▁không ▁nghĩ ▁v...   \n1266  ▁tôi ▁hi ▁vọng ▁những ▁tấm ▁hình ▁sẽ ▁đánh ▁th...   \n1267                            ▁cảm ▁ơn ▁rất ▁nhiều ▁.   \n\n                                                     en  \n0     ▁when ▁i ▁was ▁little ▁, ▁i ▁thought ▁my ▁coun...  \n1                          ▁and ▁i ▁was ▁very ▁proud ▁.  \n2     ▁in ▁school ▁, ▁we ▁spent ▁a ▁lot ▁of ▁time ▁s...  \n3     ▁although ▁i ▁often ▁wondered ▁about ▁the ▁out...  \n4     ▁when ▁i ▁was ▁seven ▁years ▁old ▁, ▁i ▁saw ▁m...  \n...                                                 ...  \n1263  ▁i ▁truly ▁believe ▁, ▁if ▁we ▁can ▁see ▁one ▁...  \n1264  ▁these ▁images ▁are ▁not ▁of ▁issues ▁. ▁they ...  \n1265  ▁there ▁is ▁not ▁a ▁day ▁that ▁goes ▁by ▁that ...  \n1266  ▁i ▁hope ▁that ▁these ▁images ▁awaken ▁a ▁forc...  \n1267                         ▁thank ▁you ▁very ▁much ▁.  \n\n[1268 rows x 2 columns]"
          },
          "metadata": {}
        }
      ],
      "execution_count": null,
      "metadata": {
        "colab": {
          "base_uri": "https://localhost:8080/",
          "height": 424
        },
        "id": "JXGUzjoCZFAR",
        "outputId": "c4a56ea5-d8ef-44c9-ce92-cf3078a33e96"
      }
    },
    {
      "cell_type": "code",
      "source": [
        "def remove_punc(text):\n",
        "    return text.replace(\"▁\", \" \")"
      ],
      "outputs": [],
      "execution_count": null,
      "metadata": {
        "id": "X2-KjwK5U3tH"
      }
    },
    {
      "cell_type": "code",
      "source": [
        "# columns_to_drop = ['vi', 'en']\n",
        "# df_train = df_train.drop(columns=columns_to_drop)\n",
        "# df_train = df_train.rename(columns = {\n",
        "#                                         'vi_token': 'vi',\n",
        "#                                         'en_token': 'en'\n",
        "#                                     })\n",
        "\n",
        "# df_train"
      ],
      "outputs": [],
      "execution_count": null,
      "metadata": {
        "id": "o9VHixAfJRMm"
      }
    },
    {
      "cell_type": "code",
      "source": [
        "# columns_to_drop = ['vi', 'en']\n",
        "# df_test = df_test.drop(columns=columns_to_drop)\n",
        "# df_test = df_test.rename(columns = {\n",
        "#                                         'vi_token': 'vi',\n",
        "#                                         'en_token': 'en'\n",
        "#                                     })\n",
        "\n",
        "# df_test"
      ],
      "outputs": [],
      "execution_count": null,
      "metadata": {
        "id": "0jvAGle9JVWb"
      }
    },
    {
      "cell_type": "code",
      "source": [
        "df_train[\"vi\"] = df_train[\"vi\"].apply(remove_punc)\n",
        "df_train[\"en\"] = df_train[\"en\"].apply(remove_punc)\n",
        "df_train\n",
        "df_test[\"vi\"] = df_test[\"vi\"].apply(remove_punc)\n",
        "df_test[\"en\"] = df_test[\"en\"].apply(remove_punc)\n",
        "df_test"
      ],
      "outputs": [
        {
          "output_type": "execute_result",
          "execution_count": 44,
          "data": {
            "application/vnd.google.colaboratory.intrinsic+json": {
              "summary": "{\n  \"name\": \"df_test\",\n  \"rows\": 1268,\n  \"fields\": [\n    {\n      \"column\": \"vi\",\n      \"properties\": {\n        \"dtype\": \"string\",\n        \"num_unique_values\": 1260,\n        \"samples\": [\n          \" t\\u00f4i  v\\u00f4  c\\u00f9ng  ng\\u1ea1c  nhi\\u00ean  khi  m\\u1ed9t  ng\\u01b0\\u1eddi  ho\\u00e0n  to\\u00e0n  xa  l\\u1ea1  l\\u1ea1i  quan  t\\u00e2m  t\\u1edbi  m\\u1ee9c  h\\u1ecfi  t\\u00f4i  nh\\u01b0  v\\u1eady  .\",\n          \" ng\\u01b0\\u1eddi  n\\u00e0o  s\\u1ebd  s\\u00e1ng  ch\\u1ebf  ra  c\\u00e1i  c\\u00f4ng  ngh\\u1ec7  cho  cu\\u1ed9c  c\\u00e1ch  m\\u1ea1ng  xanh  ?  c\\u00e1c  tr\\u01b0\\u1eddng  \\u0111\\u1ea1i  h\\u1ecdc  \\u01b0  ?  qu\\u00ean  \\u0111i  !\",\n          \" vi\\u1ec7c  ng\\u01b0\\u1eddi  b\\u1eafc  tri\\u1ec1u  ti\\u00ean  ph\\u1ea3i  che  d\\u1ea5u  danh  t\\u00ednh  c\\u1ee7a  m\\u00ecnh  v\\u00e0  \\u0111\\u1ea5u  tranh  \\u0111\\u1ec3  t\\u1ed3n  t\\u1ea1i  qu\\u1ea3  l\\u00e0  m\\u1ed9t  bi  k\\u1ecbch  .\"\n        ],\n        \"semantic_type\": \"\",\n        \"description\": \"\"\n      }\n    },\n    {\n      \"column\": \"en\",\n      \"properties\": {\n        \"dtype\": \"string\",\n        \"num_unique_values\": 1252,\n        \"samples\": [\n          \" but  frustrating ly  ,  with  parkinson  & ap os ; s  disease  and  other  movement  disorders  ,  there  are  no  biom ark ers  ,  so  there  & ap os ; s  no  simple  blood  test  that  you  can  do  ,  and  the  best  that  we  have  is  like  this  00- minute  neurolog ist  test  .\",\n          \" this  is  man uru  .  when  his  father  died  ,  his  uncle  traff icked  him  to  work  with  him  in  the  mines  .\",\n          \" we  got  dirty  ,  and  we  loved  it  .\"\n        ],\n        \"semantic_type\": \"\",\n        \"description\": \"\"\n      }\n    }\n  ]\n}",
              "type": "dataframe",
              "variable_name": "df_test"
            },
            "text/html": "\n  <div id=\"df-8fef86c1-faf3-4b0d-8061-6a222a74ed22\" class=\"colab-df-container\">\n    <div>\n<style scoped>\n    .dataframe tbody tr th:only-of-type {\n        vertical-align: middle;\n    }\n\n    .dataframe tbody tr th {\n        vertical-align: top;\n    }\n\n    .dataframe thead th {\n        text-align: right;\n    }\n</style>\n<table border=\"1\" class=\"dataframe\">\n  <thead>\n    <tr style=\"text-align: right;\">\n      <th></th>\n      <th>vi</th>\n      <th>en</th>\n    </tr>\n  </thead>\n  <tbody>\n    <tr>\n      <th>0</th>\n      <td>khi  tôi  còn  nhỏ  ,  tôi  nghĩ  rằng  bắc t...</td>\n      <td>when  i  was  little  ,  i  thought  my  coun...</td>\n    </tr>\n    <tr>\n      <th>1</th>\n      <td>tôi  đã  rất  tự  hào  về  đất  nước  tôi  .</td>\n      <td>and  i  was  very  proud  .</td>\n    </tr>\n    <tr>\n      <th>2</th>\n      <td>ở  trường  ,  chúng  tôi  dành  rất  nhiều  t...</td>\n      <td>in  school  ,  we  spent  a  lot  of  time  s...</td>\n    </tr>\n    <tr>\n      <th>3</th>\n      <td>mặc  dù  tôi  đã  từng  tự  hỏi  không  biết ...</td>\n      <td>although  i  often  wondered  about  the  out...</td>\n    </tr>\n    <tr>\n      <th>4</th>\n      <td>khi  tôi  lên  0  ,  tôi  chứng  kiến  cảnh  ...</td>\n      <td>when  i  was  seven  years  old  ,  i  saw  m...</td>\n    </tr>\n    <tr>\n      <th>...</th>\n      <td>...</td>\n      <td>...</td>\n    </tr>\n    <tr>\n      <th>1263</th>\n      <td>tôi  thực  sự  tin  ,  nếu  ta  coi  người  k...</td>\n      <td>i  truly  believe  ,  if  we  can  see  one  ...</td>\n    </tr>\n    <tr>\n      <th>1264</th>\n      <td>những  tấm  hình  không  phải  là  về  bản  t...</td>\n      <td>these  images  are  not  of  issues  .  they ...</td>\n    </tr>\n    <tr>\n      <th>1265</th>\n      <td>không  có  ngày  nào  mà  tôi  không  nghĩ  v...</td>\n      <td>there  is  not  a  day  that  goes  by  that ...</td>\n    </tr>\n    <tr>\n      <th>1266</th>\n      <td>tôi  hi  vọng  những  tấm  hình  sẽ  đánh  th...</td>\n      <td>i  hope  that  these  images  awaken  a  forc...</td>\n    </tr>\n    <tr>\n      <th>1267</th>\n      <td>cảm  ơn  rất  nhiều  .</td>\n      <td>thank  you  very  much  .</td>\n    </tr>\n  </tbody>\n</table>\n<p>1268 rows × 2 columns</p>\n</div>\n    <div class=\"colab-df-buttons\">\n\n  <div class=\"colab-df-container\">\n    <button class=\"colab-df-convert\" onclick=\"convertToInteractive('df-8fef86c1-faf3-4b0d-8061-6a222a74ed22')\"\n            title=\"Convert this dataframe to an interactive table.\"\n            style=\"display:none;\">\n\n  <svg xmlns=\"http://www.w3.org/2000/svg\" height=\"24px\" viewBox=\"0 -960 960 960\">\n    <path d=\"M120-120v-720h720v720H120Zm60-500h600v-160H180v160Zm220 220h160v-160H400v160Zm0 220h160v-160H400v160ZM180-400h160v-160H180v160Zm440 0h160v-160H620v160ZM180-180h160v-160H180v160Zm440 0h160v-160H620v160Z\"/>\n  </svg>\n    </button>\n\n  <style>\n    .colab-df-container {\n      display:flex;\n      gap: 12px;\n    }\n\n    .colab-df-convert {\n      background-color: #E8F0FE;\n      border: none;\n      border-radius: 50%;\n      cursor: pointer;\n      display: none;\n      fill: #1967D2;\n      height: 32px;\n      padding: 0 0 0 0;\n      width: 32px;\n    }\n\n    .colab-df-convert:hover {\n      background-color: #E2EBFA;\n      box-shadow: 0px 1px 2px rgba(60, 64, 67, 0.3), 0px 1px 3px 1px rgba(60, 64, 67, 0.15);\n      fill: #174EA6;\n    }\n\n    .colab-df-buttons div {\n      margin-bottom: 4px;\n    }\n\n    [theme=dark] .colab-df-convert {\n      background-color: #3B4455;\n      fill: #D2E3FC;\n    }\n\n    [theme=dark] .colab-df-convert:hover {\n      background-color: #434B5C;\n      box-shadow: 0px 1px 3px 1px rgba(0, 0, 0, 0.15);\n      filter: drop-shadow(0px 1px 2px rgba(0, 0, 0, 0.3));\n      fill: #FFFFFF;\n    }\n  </style>\n\n    <script>\n      const buttonEl =\n        document.querySelector('#df-8fef86c1-faf3-4b0d-8061-6a222a74ed22 button.colab-df-convert');\n      buttonEl.style.display =\n        google.colab.kernel.accessAllowed ? 'block' : 'none';\n\n      async function convertToInteractive(key) {\n        const element = document.querySelector('#df-8fef86c1-faf3-4b0d-8061-6a222a74ed22');\n        const dataTable =\n          await google.colab.kernel.invokeFunction('convertToInteractive',\n                                                    [key], {});\n        if (!dataTable) return;\n\n        const docLinkHtml = 'Like what you see? Visit the ' +\n          '<a target=\"_blank\" href=https://colab.research.google.com/notebooks/data_table.ipynb>data table notebook</a>'\n          + ' to learn more about interactive tables.';\n        element.innerHTML = '';\n        dataTable['output_type'] = 'display_data';\n        await google.colab.output.renderOutput(dataTable, element);\n        const docLink = document.createElement('div');\n        docLink.innerHTML = docLinkHtml;\n        element.appendChild(docLink);\n      }\n    </script>\n  </div>\n\n\n<div id=\"df-1a4917f4-b8ed-41db-99d6-6d88f4417a3a\">\n  <button class=\"colab-df-quickchart\" onclick=\"quickchart('df-1a4917f4-b8ed-41db-99d6-6d88f4417a3a')\"\n            title=\"Suggest charts\"\n            style=\"display:none;\">\n\n<svg xmlns=\"http://www.w3.org/2000/svg\" height=\"24px\"viewBox=\"0 0 24 24\"\n     width=\"24px\">\n    <g>\n        <path d=\"M19 3H5c-1.1 0-2 .9-2 2v14c0 1.1.9 2 2 2h14c1.1 0 2-.9 2-2V5c0-1.1-.9-2-2-2zM9 17H7v-7h2v7zm4 0h-2V7h2v10zm4 0h-2v-4h2v4z\"/>\n    </g>\n</svg>\n  </button>\n\n<style>\n  .colab-df-quickchart {\n      --bg-color: #E8F0FE;\n      --fill-color: #1967D2;\n      --hover-bg-color: #E2EBFA;\n      --hover-fill-color: #174EA6;\n      --disabled-fill-color: #AAA;\n      --disabled-bg-color: #DDD;\n  }\n\n  [theme=dark] .colab-df-quickchart {\n      --bg-color: #3B4455;\n      --fill-color: #D2E3FC;\n      --hover-bg-color: #434B5C;\n      --hover-fill-color: #FFFFFF;\n      --disabled-bg-color: #3B4455;\n      --disabled-fill-color: #666;\n  }\n\n  .colab-df-quickchart {\n    background-color: var(--bg-color);\n    border: none;\n    border-radius: 50%;\n    cursor: pointer;\n    display: none;\n    fill: var(--fill-color);\n    height: 32px;\n    padding: 0;\n    width: 32px;\n  }\n\n  .colab-df-quickchart:hover {\n    background-color: var(--hover-bg-color);\n    box-shadow: 0 1px 2px rgba(60, 64, 67, 0.3), 0 1px 3px 1px rgba(60, 64, 67, 0.15);\n    fill: var(--button-hover-fill-color);\n  }\n\n  .colab-df-quickchart-complete:disabled,\n  .colab-df-quickchart-complete:disabled:hover {\n    background-color: var(--disabled-bg-color);\n    fill: var(--disabled-fill-color);\n    box-shadow: none;\n  }\n\n  .colab-df-spinner {\n    border: 2px solid var(--fill-color);\n    border-color: transparent;\n    border-bottom-color: var(--fill-color);\n    animation:\n      spin 1s steps(1) infinite;\n  }\n\n  @keyframes spin {\n    0% {\n      border-color: transparent;\n      border-bottom-color: var(--fill-color);\n      border-left-color: var(--fill-color);\n    }\n    20% {\n      border-color: transparent;\n      border-left-color: var(--fill-color);\n      border-top-color: var(--fill-color);\n    }\n    30% {\n      border-color: transparent;\n      border-left-color: var(--fill-color);\n      border-top-color: var(--fill-color);\n      border-right-color: var(--fill-color);\n    }\n    40% {\n      border-color: transparent;\n      border-right-color: var(--fill-color);\n      border-top-color: var(--fill-color);\n    }\n    60% {\n      border-color: transparent;\n      border-right-color: var(--fill-color);\n    }\n    80% {\n      border-color: transparent;\n      border-right-color: var(--fill-color);\n      border-bottom-color: var(--fill-color);\n    }\n    90% {\n      border-color: transparent;\n      border-bottom-color: var(--fill-color);\n    }\n  }\n</style>\n\n  <script>\n    async function quickchart(key) {\n      const quickchartButtonEl =\n        document.querySelector('#' + key + ' button');\n      quickchartButtonEl.disabled = true;  // To prevent multiple clicks.\n      quickchartButtonEl.classList.add('colab-df-spinner');\n      try {\n        const charts = await google.colab.kernel.invokeFunction(\n            'suggestCharts', [key], {});\n      } catch (error) {\n        console.error('Error during call to suggestCharts:', error);\n      }\n      quickchartButtonEl.classList.remove('colab-df-spinner');\n      quickchartButtonEl.classList.add('colab-df-quickchart-complete');\n    }\n    (() => {\n      let quickchartButtonEl =\n        document.querySelector('#df-1a4917f4-b8ed-41db-99d6-6d88f4417a3a button');\n      quickchartButtonEl.style.display =\n        google.colab.kernel.accessAllowed ? 'block' : 'none';\n    })();\n  </script>\n</div>\n\n  <div id=\"id_ea59eeda-b940-494d-9af6-0697d64b4c8a\">\n    <style>\n      .colab-df-generate {\n        background-color: #E8F0FE;\n        border: none;\n        border-radius: 50%;\n        cursor: pointer;\n        display: none;\n        fill: #1967D2;\n        height: 32px;\n        padding: 0 0 0 0;\n        width: 32px;\n      }\n\n      .colab-df-generate:hover {\n        background-color: #E2EBFA;\n        box-shadow: 0px 1px 2px rgba(60, 64, 67, 0.3), 0px 1px 3px 1px rgba(60, 64, 67, 0.15);\n        fill: #174EA6;\n      }\n\n      [theme=dark] .colab-df-generate {\n        background-color: #3B4455;\n        fill: #D2E3FC;\n      }\n\n      [theme=dark] .colab-df-generate:hover {\n        background-color: #434B5C;\n        box-shadow: 0px 1px 3px 1px rgba(0, 0, 0, 0.15);\n        filter: drop-shadow(0px 1px 2px rgba(0, 0, 0, 0.3));\n        fill: #FFFFFF;\n      }\n    </style>\n    <button class=\"colab-df-generate\" onclick=\"generateWithVariable('df_test')\"\n            title=\"Generate code using this dataframe.\"\n            style=\"display:none;\">\n\n  <svg xmlns=\"http://www.w3.org/2000/svg\" height=\"24px\"viewBox=\"0 0 24 24\"\n       width=\"24px\">\n    <path d=\"M7,19H8.4L18.45,9,17,7.55,7,17.6ZM5,21V16.75L18.45,3.32a2,2,0,0,1,2.83,0l1.4,1.43a1.91,1.91,0,0,1,.58,1.4,1.91,1.91,0,0,1-.58,1.4L9.25,21ZM18.45,9,17,7.55Zm-12,3A5.31,5.31,0,0,0,4.9,8.1,5.31,5.31,0,0,0,1,6.5,5.31,5.31,0,0,0,4.9,4.9,5.31,5.31,0,0,0,6.5,1,5.31,5.31,0,0,0,8.1,4.9,5.31,5.31,0,0,0,12,6.5,5.46,5.46,0,0,0,6.5,12Z\"/>\n  </svg>\n    </button>\n    <script>\n      (() => {\n      const buttonEl =\n        document.querySelector('#id_ea59eeda-b940-494d-9af6-0697d64b4c8a button.colab-df-generate');\n      buttonEl.style.display =\n        google.colab.kernel.accessAllowed ? 'block' : 'none';\n\n      buttonEl.onclick = () => {\n        google.colab.notebook.generateWithVariable('df_test');\n      }\n      })();\n    </script>\n  </div>\n\n    </div>\n  </div>\n",
            "text/plain": "                                                     vi  \\\n0      khi  tôi  còn  nhỏ  ,  tôi  nghĩ  rằng  bắc t...   \n1          tôi  đã  rất  tự  hào  về  đất  nước  tôi  .   \n2      ở  trường  ,  chúng  tôi  dành  rất  nhiều  t...   \n3      mặc  dù  tôi  đã  từng  tự  hỏi  không  biết ...   \n4      khi  tôi  lên  0  ,  tôi  chứng  kiến  cảnh  ...   \n...                                                 ...   \n1263   tôi  thực  sự  tin  ,  nếu  ta  coi  người  k...   \n1264   những  tấm  hình  không  phải  là  về  bản  t...   \n1265   không  có  ngày  nào  mà  tôi  không  nghĩ  v...   \n1266   tôi  hi  vọng  những  tấm  hình  sẽ  đánh  th...   \n1267                             cảm  ơn  rất  nhiều  .   \n\n                                                     en  \n0      when  i  was  little  ,  i  thought  my  coun...  \n1                           and  i  was  very  proud  .  \n2      in  school  ,  we  spent  a  lot  of  time  s...  \n3      although  i  often  wondered  about  the  out...  \n4      when  i  was  seven  years  old  ,  i  saw  m...  \n...                                                 ...  \n1263   i  truly  believe  ,  if  we  can  see  one  ...  \n1264   these  images  are  not  of  issues  .  they ...  \n1265   there  is  not  a  day  that  goes  by  that ...  \n1266   i  hope  that  these  images  awaken  a  forc...  \n1267                          thank  you  very  much  .  \n\n[1268 rows x 2 columns]"
          },
          "metadata": {}
        }
      ],
      "execution_count": null,
      "metadata": {
        "colab": {
          "base_uri": "https://localhost:8080/",
          "height": 424
        },
        "id": "x5SpuVIZJfUH",
        "outputId": "92ef68cb-c66f-4c1f-9cdc-5ea2bd0f05da"
      }
    },
    {
      "cell_type": "code",
      "source": [
        "# import string\n",
        "# import re\n",
        "# def preprocessing(df):\n",
        "#   df[\"en\"] = df[\"en\"].apply(lambda ele: ele.translate(str.maketrans('', '', string.punctuation))) # Remove punctuation\n",
        "#   df[\"vi\"] = df[\"vi\"].apply(lambda ele: ele.translate(str.maketrans('', '', string.punctuation)))\n",
        "#   df[\"en\"] = df[\"en\"].apply(lambda ele: ele.lower()) # convert text to lowercase\n",
        "#   df[\"vi\"] = df[\"vi\"].apply(lambda ele: ele.lower())\n",
        "#   df[\"en\"] = df[\"en\"].apply(lambda ele: ele.strip())\n",
        "#   df[\"vi\"] = df[\"vi\"].apply(lambda ele: ele.strip())\n",
        "#   df[\"en\"] = df[\"en\"].apply(lambda ele: re.sub(\"\\s+\", \" \", ele))\n",
        "#   df[\"vi\"] = df[\"vi\"].apply(lambda ele: re.sub(\"\\s+\", \" \", ele))\n",
        "\n",
        "#   return df\n",
        "\n",
        "# df_train = preprocessing(df_train)\n",
        "# df_test = preprocessing(df_test)\n",
        "# df_train.head()"
      ],
      "outputs": [],
      "execution_count": null,
      "metadata": {
        "id": "q4S3B9Sm8ySj"
      }
    },
    {
      "cell_type": "code",
      "source": [
        "df_train['vi']   = df_train['vi'].astype(str)\n",
        "df_train['en']  = df_train['en'].astype(str)\n",
        "\n",
        "df_test['vi']   = df_test['vi'].astype(str)\n",
        "df_test['en']  = df_test['en'].astype(str)"
      ],
      "outputs": [],
      "execution_count": null,
      "metadata": {
        "id": "uEv-MZsXWPBI"
      }
    },
    {
      "cell_type": "code",
      "source": [
        "from datasets import load_metric\n",
        "\n",
        "metric = load_metric(\"sacrebleu\")\n",
        "metric"
      ],
      "outputs": [
        {
          "output_type": "stream",
          "name": "stderr",
          "text": "<ipython-input-47-dbdd67d4ba40>:3: FutureWarning: load_metric is deprecated and will be removed in the next major version of datasets. Use 'evaluate.load' instead, from the new library 🤗 Evaluate: https://huggingface.co/docs/evaluate\n  metric = load_metric(\"sacrebleu\")\n"
        },
        {
          "output_type": "display_data",
          "data": {
            "application/vnd.jupyter.widget-view+json": {
              "model_id": "034f133809ca4088a3166bc088c70774",
              "version_major": 2,
              "version_minor": 0
            },
            "text/plain": "Downloading builder script:   0%|          | 0.00/2.85k [00:00<?, ?B/s]"
          },
          "metadata": {}
        },
        {
          "output_type": "stream",
          "name": "stdout",
          "text": "The repository for sacrebleu contains custom code which must be executed to correctly load the dataset. You can inspect the repository content at https://hf.co/datasets/sacrebleu.\nYou can avoid this prompt in future by passing the argument `trust_remote_code=True`.\n\nDo you wish to run the custom code? [y/N] y\n"
        },
        {
          "output_type": "execute_result",
          "execution_count": 47,
          "data": {
            "text/plain": "Metric(name: \"sacrebleu\", features: {'predictions': Value(dtype='string', id='sequence'), 'references': Sequence(feature=Value(dtype='string', id='sequence'), length=-1, id='references')}, usage: \"\"\"\nProduces BLEU scores along with its sufficient statistics\nfrom a source against one or more references.\n\nArgs:\n    predictions (`list` of `str`): list of translations to score. Each translation should be tokenized into a list of tokens.\n    references (`list` of `list` of `str`): A list of lists of references. The contents of the first sub-list are the references for the first prediction, the contents of the second sub-list are for the second prediction, etc. Note that there must be the same number of references for each prediction (i.e. all sub-lists must be of the same length).\n    smooth_method (`str`): The smoothing method to use, defaults to `'exp'`. Possible values are:\n        - `'none'`: no smoothing\n        - `'floor'`: increment zero counts\n        - `'add-k'`: increment num/denom by k for n>1\n        - `'exp'`: exponential decay\n    smooth_value (`float`): The smoothing value. Only valid when `smooth_method='floor'` (in which case `smooth_value` defaults to `0.1`) or `smooth_method='add-k'` (in which case `smooth_value` defaults to `1`).\n    tokenize (`str`): Tokenization method to use for BLEU. If not provided, defaults to `'zh'` for Chinese, `'ja-mecab'` for Japanese and `'13a'` (mteval) otherwise. Possible values are:\n        - `'none'`: No tokenization.\n        - `'zh'`: Chinese tokenization.\n        - `'13a'`: mimics the `mteval-v13a` script from Moses.\n        - `'intl'`: International tokenization, mimics the `mteval-v14` script from Moses\n        - `'char'`: Language-agnostic character-level tokenization.\n        - `'ja-mecab'`: Japanese tokenization. Uses the [MeCab tokenizer](https://pypi.org/project/mecab-python3).\n    lowercase (`bool`): If `True`, lowercases the input, enabling case-insensitivity. Defaults to `False`.\n    force (`bool`): If `True`, insists that your tokenized input is actually detokenized. Defaults to `False`.\n    use_effective_order (`bool`): If `True`, stops including n-gram orders for which precision is 0. This should be `True`, if sentence-level BLEU will be computed. Defaults to `False`.\n\nReturns:\n    'score': BLEU score,\n    'counts': Counts,\n    'totals': Totals,\n    'precisions': Precisions,\n    'bp': Brevity penalty,\n    'sys_len': predictions length,\n    'ref_len': reference length,\n\nExamples:\n\n    Example 1:\n        >>> predictions = [\"hello there general kenobi\", \"foo bar foobar\"]\n        >>> references = [[\"hello there general kenobi\", \"hello there !\"], [\"foo bar foobar\", \"foo bar foobar\"]]\n        >>> sacrebleu = datasets.load_metric(\"sacrebleu\")\n        >>> results = sacrebleu.compute(predictions=predictions, references=references)\n        >>> print(list(results.keys()))\n        ['score', 'counts', 'totals', 'precisions', 'bp', 'sys_len', 'ref_len']\n        >>> print(round(results[\"score\"], 1))\n        100.0\n\n    Example 2:\n        >>> predictions = [\"hello there general kenobi\",\n        ...                 \"on our way to ankh morpork\"]\n        >>> references = [[\"hello there general kenobi\", \"hello there !\"],\n        ...                 [\"goodbye ankh morpork\", \"ankh morpork\"]]\n        >>> sacrebleu = datasets.load_metric(\"sacrebleu\")\n        >>> results = sacrebleu.compute(predictions=predictions,\n        ...                             references=references)\n        >>> print(list(results.keys()))\n        ['score', 'counts', 'totals', 'precisions', 'bp', 'sys_len', 'ref_len']\n        >>> print(round(results[\"score\"], 1))\n        39.8\n\"\"\", stored examples: 0)"
          },
          "metadata": {}
        }
      ],
      "execution_count": null,
      "metadata": {
        "colab": {
          "base_uri": "https://localhost:8080/",
          "height": 1000,
          "referenced_widgets": [
            "034f133809ca4088a3166bc088c70774",
            "8d9391f8e6e445d58b4ae35d4249b839",
            "78c58896c154492c9bf2a47637705c46",
            "605c19683b4c4c18bd0f6e382c5eb07f",
            "18ec6e28c4634db784d0e12602d3a1a9",
            "f101182363e64b2782ffdcabd3125b82",
            "9ef8069ba59840faac371ee1b39902c8",
            "b7efa3685d904515a00d4f6ca9896676",
            "26ebde6ca5514f1b9de669002c080ef9",
            "6f7c7477598d454a9806e1a8004ffdf2",
            "dd3e0a269c324bfaa879d35311c09409"
          ]
        },
        "id": "957w3DjyWXri",
        "outputId": "74dba630-1840-4663-b141-cdce0923afb3"
      }
    },
    {
      "cell_type": "code",
      "source": [
        "language_codes = {\n",
        "    'af': 'Afrikaans',\n",
        "    'af-ZA': 'Afrikaans (South Africa)',\n",
        "    'ar': 'Arabic',\n",
        "    'ar-AE': 'Arabic (U.A.E.)',\n",
        "    'ar-BH': 'Arabic (Bahrain)',\n",
        "    'ar-DZ': 'Arabic (Algeria)',\n",
        "    'ar-EG': 'Arabic (Egypt)',\n",
        "    'ar-IQ': 'Arabic (Iraq)',\n",
        "    'ar-JO': 'Arabic (Jordan)',\n",
        "    'ar-KW': 'Arabic (Kuwait)',\n",
        "    'ar-LB': 'Arabic (Lebanon)',\n",
        "    'ar-LY': 'Arabic (Libya)',\n",
        "    'ar-MA': 'Arabic (Morocco)',\n",
        "    'ar-OM': 'Arabic (Oman)',\n",
        "    'ar-QA': 'Arabic (Qatar)',\n",
        "    'ar-SA': 'Arabic (Saudi Arabia)',\n",
        "    'ar-SY': 'Arabic (Syria)',\n",
        "    'ar-TN': 'Arabic (Tunisia)',\n",
        "    'ar-YE': 'Arabic (Yemen)',\n",
        "    'az': 'Azeri (Latin)',\n",
        "    'az-AZ': 'Azeri (Latin) (Azerbaijan)',\n",
        "    'az-AZ': 'Azeri (Cyrillic) (Azerbaijan)',\n",
        "    'be': 'Belarusian',\n",
        "    'be-BY': 'Belarusian (Belarus)',\n",
        "    'bg': 'Bulgarian',\n",
        "    'bg-BG': 'Bulgarian (Bulgaria)',\n",
        "    'bs-BA': 'Bosnian (Bosnia and Herzegovina)',\n",
        "    'ca': 'Catalan',\n",
        "    'ca-ES': 'Catalan (Spain)',\n",
        "    'cs': 'Czech',\n",
        "    'cs-CZ': 'Czech (Czech Republic)',\n",
        "    'cy': 'Welsh',\n",
        "    'cy-GB': 'Welsh (United Kingdom)',\n",
        "    'da': 'Danish',\n",
        "    'da-DK': 'Danish (Denmark)',\n",
        "    'de': 'German',\n",
        "    'de-AT': 'German (Austria)',\n",
        "    'de-CH': 'German (Switzerland)',\n",
        "    'de-DE': 'German (Germany)',\n",
        "    'de-LI': 'German (Liechtenstein)',\n",
        "    'de-LU': 'German (Luxembourg)',\n",
        "    'dv': 'Divehi',\n",
        "    'dv-MV': 'Divehi (Maldives)',\n",
        "    'el': 'Greek',\n",
        "    'el-GR': 'Greek (Greece)',\n",
        "    'en': 'English',\n",
        "    'en-AU': 'English (Australia)',\n",
        "    'en-BZ': 'English (Belize)',\n",
        "    'en-CA': 'English (Canada)',\n",
        "    'en-CB': 'English (Caribbean)',\n",
        "    'en-GB': 'English (United Kingdom)',\n",
        "    'en-IE': 'English (Ireland)',\n",
        "    'en-JM': 'English (Jamaica)',\n",
        "    'en-NZ': 'English (New Zealand)',\n",
        "    'en-PH': 'English (Republic of the Philippines)',\n",
        "    'en-TT': 'English (Trinidad and Tobago)',\n",
        "    'en-US': 'English (United States)',\n",
        "    'en-ZA': 'English (South Africa)',\n",
        "    'en-ZW': 'English (Zimbabwe)',\n",
        "    'eo': 'Esperanto',\n",
        "    'es': 'Spanish',\n",
        "    'es-AR': 'Spanish (Argentina)',\n",
        "    'es-BO': 'Spanish (Bolivia)',\n",
        "    'es-CL': 'Spanish (Chile)',\n",
        "    'es-CO': 'Spanish (Colombia)',\n",
        "    'es-CR': 'Spanish (Costa Rica)',\n",
        "    'es-DO': 'Spanish (Dominican Republic)',\n",
        "    'es-EC': 'Spanish (Ecuador)',\n",
        "    'es-ES': 'Spanish (Castilian)',\n",
        "    'es-ES': 'Spanish (Spain)',\n",
        "    'es-GT': 'Spanish (Guatemala)',\n",
        "    'es-HN': 'Spanish (Honduras)',\n",
        "    'es-MX': 'Spanish (Mexico)',\n",
        "    'es-NI': 'Spanish (Nicaragua)',\n",
        "    'es-PA': 'Spanish (Panama)',\n",
        "    'es-PE': 'Spanish (Peru)',\n",
        "    'es-PR': 'Spanish (Puerto Rico)',\n",
        "    'es-PY': 'Spanish (Paraguay)',\n",
        "    'es-SV': 'Spanish (El Salvador)',\n",
        "    'es-UY': 'Spanish (Uruguay)',\n",
        "    'es-VE': 'Spanish (Venezuela)',\n",
        "    'et': 'Estonian',\n",
        "    'et-EE': 'Estonian (Estonia)',\n",
        "    'eu': 'Basque',\n",
        "    'eu-ES': 'Basque (Spain)',\n",
        "    'fa': 'Farsi',\n",
        "    'fa-IR': 'Farsi (Iran)',\n",
        "    'fi': 'Finnish',\n",
        "    'fi-FI': 'Finnish (Finland)',\n",
        "    'fo': 'Faroese',\n",
        "    'fo-FO': 'Faroese (Faroe Islands)',\n",
        "    'fr': 'French',\n",
        "    'fr-BE': 'French (Belgium)',\n",
        "    'fr-CA': 'French (Canada)',\n",
        "    'fr-CH': 'French (Switzerland)',\n",
        "    'fr-FR': 'French (France)',\n",
        "    'fr-LU': 'French (Luxembourg)',\n",
        "    'fr-MC': 'French (Principality of Monaco)',\n",
        "    'gl': 'Galician',\n",
        "    'gl-ES': 'Galician (Spain)',\n",
        "    'gu': 'Gujarati',\n",
        "    'gu-IN': 'Gujarati (India)',\n",
        "    'he': 'Hebrew',\n",
        "    'he-IL': 'Hebrew (Israel)',\n",
        "    'hi': 'Hindi',\n",
        "    'hi-IN': 'Hindi (India)',\n",
        "    'hr': 'Croatian',\n",
        "    'hr-BA': 'Croatian (Bosnia and Herzegovina)',\n",
        "    'hr-HR': 'Croatian (Croatia)',\n",
        "    'hu': 'Hungarian',\n",
        "    'hu-HU': 'Hungarian (Hungary)',\n",
        "    'hy': 'Armenian',\n",
        "    'hy-AM': 'Armenian (Armenia)',\n",
        "    'id': 'Indonesian',\n",
        "    'id-ID': 'Indonesian (Indonesia)',\n",
        "    'is': 'Icelandic',\n",
        "    'is-IS': 'Icelandic (Iceland)',\n",
        "    'it': 'Italian',\n",
        "    'it-CH': 'Italian (Switzerland)',\n",
        "    'it-IT': 'Italian (Italy)',\n",
        "    'ja': 'Japanese',\n",
        "    'ja-JP': 'Japanese (Japan)',\n",
        "    'ka': 'Georgian',\n",
        "    'ka-GE': 'Georgian (Georgia)',\n",
        "    'kk': 'Kazakh',\n",
        "    'kk-KZ': 'Kazakh (Kazakhstan)',\n",
        "    'kn': 'Kannada',\n",
        "    'kn-IN': 'Kannada (India)',\n",
        "    'ko': 'Korean',\n",
        "    'ko-KR': 'Korean (Korea)',\n",
        "    'kok': 'Konkani',\n",
        "    'kok-IN': 'Konkani (India)',\n",
        "    'ky': 'Kyrgyz',\n",
        "    'ky-KG': 'Kyrgyz (Kyrgyzstan)',\n",
        "    'lt': 'Lithuanian',\n",
        "    'lt-LT': 'Lithuanian (Lithuania)',\n",
        "    'lv': 'Latvian',\n",
        "    'lv-LV': 'Latvian (Latvia)',\n",
        "    'mi': 'Maori',\n",
        "    'mi-NZ': 'Maori (New Zealand)',\n",
        "    'mk': 'FYRO Macedonian',\n",
        "    'mk-MK': 'FYRO Macedonian (Former Yugoslav Republic of Macedonia)',\n",
        "    'mn': 'Mongolian',\n",
        "    'mn-MN': 'Mongolian (Mongolia)',\n",
        "    'mr': 'Marathi',\n",
        "    'mr-IN': 'Marathi (India)',\n",
        "    'ms': 'Malay',\n",
        "    'ms-BN': 'Malay (Brunei Darussalam)',\n",
        "    'ms-MY': 'Malay (Malaysia)',\n",
        "    'mt': 'Maltese',\n",
        "    'mt-MT': 'Maltese (Malta)',\n",
        "    'nb': 'Norwegian (Bokmål)',\n",
        "    'nb-NO': 'Norwegian (Bokmål) (Norway)',\n",
        "    'nl': 'Dutch',\n",
        "    'nl-BE': 'Dutch (Belgium)',\n",
        "    'nl-NL': 'Dutch (Netherlands)',\n",
        "    'nn-NO': 'Norwegian (Nynorsk) (Norway)',\n",
        "    'ns': 'Northern Sotho',\n",
        "    'ns-ZA': 'Northern Sotho (South Africa)',\n",
        "    'pa': 'Punjabi',\n",
        "    'pa-IN': 'Punjabi (India)',\n",
        "    'pl': 'Polish',\n",
        "    'pl-PL': 'Polish (Poland)',\n",
        "    'ps': 'Pashto',\n",
        "    'ps-AR': 'Pashto (Afghanistan)',\n",
        "    'pt': 'Portuguese',\n",
        "    'pt-BR': 'Portuguese (Brazil)',\n",
        "    'pt-PT': 'Portuguese (Portugal)',\n",
        "    'qu': 'Quechua',\n",
        "    'qu-BO': 'Quechua (Bolivia)',\n",
        "    'qu-EC': 'Quechua (Ecuador)',\n",
        "    'qu-PE': 'Quechua (Peru)',\n",
        "    'ro': 'Romanian',\n",
        "    'ro-RO': 'Romanian (Romania)',\n",
        "    'ru': 'Russian',\n",
        "    'ru-RU': 'Russian (Russia)',\n",
        "    'sa': 'Sanskrit',\n",
        "    'sa-IN': 'Sanskrit (India)',\n",
        "    'se': 'Sami (Northern)',\n",
        "    'se-FI': 'Sami (Northern) (Finland)',\n",
        "    'se-FI': 'Sami (Skolt) (Finland)',\n",
        "    'se-FI': 'Sami (Inari) (Finland)',\n",
        "    'se-NO': 'Sami (Northern) (Norway)',\n",
        "    'se-NO': 'Sami (Lule) (Norway)',\n",
        "    'se-NO': 'Sami (Southern) (Norway)',\n",
        "    'se-SE': 'Sami (Northern) (Sweden)',\n",
        "    'se-SE': 'Sami (Lule) (Sweden)',\n",
        "    'se-SE': 'Sami (Southern) (Sweden)',\n",
        "    'sk': 'Slovak',\n",
        "    'sk-SK': 'Slovak (Slovakia)',\n",
        "    'sl': 'Slovenian',\n",
        "    'sl-SI': 'Slovenian (Slovenia)',\n",
        "    'sq': 'Albanian',\n",
        "    'sq-AL': 'Albanian (Albania)',\n",
        "    'sr-BA': 'Serbian (Latin) (Bosnia and Herzegovina)',\n",
        "    'sr-BA': 'Serbian (Cyrillic) (Bosnia and Herzegovina)',\n",
        "    'sr-SP': 'Serbian (Latin) (Serbia and Montenegro)',\n",
        "    'sr-SP': 'Serbian (Cyrillic) (Serbia and Montenegro)',\n",
        "    'sv': 'Swedish',\n",
        "    'sv-FI': 'Swedish (Finland)',\n",
        "    'sv-SE': 'Swedish (Sweden)',\n",
        "    'sw': 'Swahili',\n",
        "    'sw-KE': 'Swahili (Kenya)',\n",
        "    'syr': 'Syriac',\n",
        "    'syr-SY': 'Syriac (Syria)',\n",
        "    'ta': 'Tamil',\n",
        "    'ta-IN': 'Tamil (India)',\n",
        "    'te': 'Telugu',\n",
        "    'te-IN': 'Telugu (India)',\n",
        "    'th': 'Thai',\n",
        "    'th-TH': 'Thai (Thailand)',\n",
        "    'tl': 'Tagalog',\n",
        "    'tl-PH': 'Tagalog (Philippines)',\n",
        "    'tn': 'Tswana',\n",
        "    'tn-ZA': 'Tswana (South Africa)',\n",
        "    'tr': 'Turkish',\n",
        "    'tr-TR': 'Turkish (Turkey)',\n",
        "    'tt': 'Tatar',\n",
        "    'tt-RU': 'Tatar (Russia)',\n",
        "    'ts': 'Tsonga',\n",
        "    'uk': 'Ukrainian',\n",
        "    'uk-UA': 'Ukrainian (Ukraine)',\n",
        "    'ur': 'Urdu',\n",
        "    'ur-PK': 'Urdu (Islamic Republic of Pakistan)',\n",
        "    'uz': 'Uzbek (Latin)',\n",
        "    'uz-UZ': 'Uzbek (Latin) (Uzbekistan)',\n",
        "    'uz-UZ': 'Uzbek (Cyrillic) (Uzbekistan)',\n",
        "    'vi': 'Vietnamese',\n",
        "    'vi-VN': 'Vietnamese (Viet Nam)',\n",
        "    'xh': 'Xhosa',\n",
        "    'xh-ZA': 'Xhosa (South Africa)',\n",
        "    'zh': 'Chinese',\n",
        "    'zh-CN': 'Chinese (S)',\n",
        "    'zh-HK': 'Chinese (Hong Kong)',\n",
        "    'zh-MO': 'Chinese (Macau)',\n",
        "    'zh-SG': 'Chinese (Singapore)',\n",
        "    'zh-TW': 'Chinese (T)',\n",
        "    'zu': 'Zulu',\n",
        "    'zu-ZA': 'Zulu (South Africa)'\n",
        "}"
      ],
      "outputs": [],
      "execution_count": null,
      "metadata": {
        "id": "vsCVWQbwWaWo"
      }
    },
    {
      "cell_type": "code",
      "source": [
        "from transformers import AutoTokenizer\n",
        "from transformers import AutoModelForSeq2SeqLM, DataCollatorForSeq2Seq, Seq2SeqTrainingArguments, Seq2SeqTrainer\n",
        "\n",
        "\n",
        "src_lang = \"vi\"\n",
        "tgt_lang = \"en\"\n",
        "max_length = 128\n",
        "\n",
        "model_name = \"facebook/mbart-large-50-many-to-many-mmt\"\n",
        "\n",
        "def get_model(model_name):\n",
        "  tokenizer = AutoTokenizer.from_pretrained(model_name)\n",
        "  model = AutoModelForSeq2SeqLM.from_pretrained(model_name).to(device)\n",
        "\n",
        "  model_type = model.config.model_type\n",
        "\n",
        "\n",
        "  if \"mbart\" in model_type:\n",
        "      langs = \"ar_AR,cs_CZ,de_DE,en_XX,es_XX,et_EE,fi_FI,fr_XX,gu_IN,hi_IN,it_IT,ja_XX,kk_KZ,ko_KR,lt_LT,lv_LV,my_MM,ne_NP,nl_XX,ro_RO,ru_RU,si_LK,tr_TR,vi_VN,zh_CN\"\n",
        "      langs = langs.split(\",\")\n",
        "\n",
        "      for lang in langs:\n",
        "          if src_lang in lang:\n",
        "              tokenizer.src_lang = lang\n",
        "\n",
        "          if tgt_lang in lang:\n",
        "              tokenizer.tgt_lang = lang\n",
        "  elif \"marian\" in model_type:\n",
        "    langs = \"vi_VN,en_XX\"\n",
        "    langs = langs.split(\",\")\n",
        "\n",
        "    for lang in langs:\n",
        "        if src_lang in lang:\n",
        "            tokenizer.source_lang = lang\n",
        "\n",
        "        if tgt_lang in lang:\n",
        "            tokenizer.target_lang = lang\n",
        "\n",
        "    if \"mul\" in model_name:\n",
        "        prefix = \">>\" + tokenizer.target_lang + \"<< \"\n",
        "\n",
        "  if \"t5\" in model_type:\n",
        "    prefix = f\"translate {language_codes.get(src_lang, src_lang)} to {language_codes.get(tgt_lang, tgt_lang)}: \"\n",
        "  else:\n",
        "    prefix = \"\"\n",
        "\n",
        "  print(f\"MODE TYPE\\t:\\t{model_type}\")\n",
        "\n",
        "  if \"mbart\" in model_type:\n",
        "      print(f\"SRC_LANG \\t:\\t{tokenizer.src_lang}\")\n",
        "      print(f\"TGT_LANG \\t:\\t{tokenizer.tgt_lang}\")\n",
        "  elif \"marian\" in model_type:\n",
        "      print(f\"SRC_LANG \\t:\\t{tokenizer.source_lang}\")\n",
        "      print(f\"TGT_LANG \\t:\\t{tokenizer.target_lang}\")\n",
        "\n",
        "  if prefix:\n",
        "      print(f\"PREFIX   \\t:\\t{prefix[:-3]}\")\n",
        "  else:\n",
        "      print(f\"PREFIX   \\t:\\tNone\")\n",
        "\n",
        "  return model, tokenizer, model_type, prefix"
      ],
      "outputs": [],
      "execution_count": null,
      "metadata": {
        "id": "vFFCf75NWh9Q"
      }
    },
    {
      "cell_type": "code",
      "source": [
        "def preprocess_function(tokenizer, prefix, src, tgt):\n",
        "    inputs = prefix + src\n",
        "    targets = tgt\n",
        "    return tokenizer(text = inputs, text_target = targets, max_length=max_length, truncation=True)"
      ],
      "outputs": [],
      "execution_count": null,
      "metadata": {
        "id": "sbDIuXNeW8Yp"
      }
    },
    {
      "cell_type": "code",
      "source": [
        "\n",
        "from torch.utils.data import Dataset, DataLoader\n",
        "\n",
        "class CustomDataset(Dataset):\n",
        "    def __init__ (self, tokenizer, prefix, X_data, y_data):\n",
        "        self.tokenizer = tokenizer\n",
        "        self.X_data = X_data\n",
        "        self.y_data = y_data\n",
        "        self.prefix = prefix\n",
        "    def __len__ (self):\n",
        "        return len(self.X_data)\n",
        "\n",
        "    def __getitem__(self, idx):\n",
        "        inputs = self.prefix + self.X_data[idx]\n",
        "        targets = self.y_data[idx]\n",
        "\n",
        "        inputs = self.tokenizer(inputs, max_length=max_length, truncation=True, return_tensors=\"pt\", padding=\"max_length\",)\n",
        "\n",
        "        labels = self.tokenizer(text_target = targets, max_length=max_length, truncation=True, return_tensors=\"pt\", padding=\"max_length\",)\n",
        "\n",
        "        return {\n",
        "            'input_ids' : inputs.input_ids.squeeze(),\n",
        "            'attention_mask': inputs.attention_mask.squeeze(),\n",
        "            'labels': labels.input_ids.squeeze(),\n",
        "        }\n"
      ],
      "outputs": [],
      "execution_count": null,
      "metadata": {
        "id": "VYlQ3ikycfur"
      }
    },
    {
      "cell_type": "code",
      "source": [
        "def postprocess_text(preds, labels):\n",
        "    preds = [pred.strip() for pred in preds]\n",
        "    labels = [[label.strip()] for label in labels]\n",
        "\n",
        "    return preds, labels\n",
        "\n",
        "def compute_metrics(eval_preds):\n",
        "    preds, labels = eval_preds\n",
        "    if isinstance(preds, tuple):\n",
        "        preds = preds[0]\n",
        "    decoded_preds = tokenizer.batch_decode(preds, skip_special_tokens=True)\n",
        "\n",
        "    # Replace -100 in the labels as we can't decode them.\n",
        "    labels = np.where(labels != -100, labels, tokenizer.pad_token_id)\n",
        "    decoded_labels = tokenizer.batch_decode(labels, skip_special_tokens=True)\n",
        "\n",
        "    # Some simple post-processing\n",
        "    decoded_preds, decoded_labels = postprocess_text(decoded_preds, decoded_labels)\n",
        "\n",
        "    result = metric.compute(predictions=decoded_preds, references=decoded_labels)\n",
        "    result = {\"bleu\": result[\"score\"]}\n",
        "\n",
        "    prediction_lens = [np.count_nonzero(pred != tokenizer.pad_token_id) for pred in preds]\n",
        "    result[\"gen_len\"] = np.mean(prediction_lens)\n",
        "    result = {k: round(v, 4) for k, v in result.items()}\n",
        "\n",
        "    return result"
      ],
      "outputs": [],
      "execution_count": null,
      "metadata": {
        "id": "lVo8WNF_cnRm"
      }
    },
    {
      "cell_type": "code",
      "source": [
        "free_gpu()\n",
        "\n",
        "from optimum.bettertransformer import BetterTransformer\n",
        "\n",
        "model, tokenizer, model_type, prefix = get_model(model_name)\n",
        "# model = BetterTransformer.transform(model)\n",
        "\n",
        "from datetime import datetime\n",
        "\n",
        "now = datetime.now()\n",
        "dt_string = now.strftime(\"%d-%m-%Y_%H-%M-%S\")\n",
        "\n",
        "max_train = -1\n",
        "if max_train > 0:\n",
        "    train_dataset = CustomDataset(tokenizer, prefix, df_train[src_lang][:max_train], df_train[tgt_lang][:max_train])\n",
        "else:\n",
        "    train_dataset = CustomDataset(tokenizer, prefix, df_train[src_lang], df_train[tgt_lang])\n",
        "\n",
        "test_dataset  = CustomDataset(tokenizer, prefix, df_test[src_lang], df_test[tgt_lang])\n",
        "\n",
        "\n",
        "epochs = 1\n",
        "learning_rate = 1e-4\n",
        "weight_decay = 0.01\n",
        "logging_steps = 100\n",
        "batch_size = 8\n",
        "seed = 42\n",
        "\n",
        "free_gpu()\n",
        "\n",
        "model_name = model_name.replace(\"/\", \"_\")\n",
        "training_args = Seq2SeqTrainingArguments(\n",
        "    output_dir = f'/content/gdrive/MyDrive/Machine_Translation/models/{model_type}',\n",
        "    overwrite_output_dir = True,\n",
        "\n",
        "    learning_rate = learning_rate,\n",
        "    num_train_epochs = epochs,\n",
        "    weight_decay = weight_decay,\n",
        "    # optim = \"adamw_torch\",\n",
        "\n",
        "    # evaluation_strategy= 'epoch',\n",
        "    save_strategy = 'no',\n",
        "    # save_steps = logging_steps * 50,\n",
        "    # eval_steps = logging_steps * 10,\n",
        "\n",
        "    # load_best_model_at_end = True,\n",
        "    # auto_find_batch_size = True,\n",
        "    per_device_train_batch_size = batch_size,\n",
        "\n",
        "\n",
        "    fp16=True,\n",
        "    # bf16=True,\n",
        "    # tf32=True,\n",
        "    optim=\"adafactor\",\n",
        "    # optim=\"adamw_bnb\",\n",
        "    # fp16_full_eval=True,\n",
        "    # jit_mode_eval=True,\n",
        "    gradient_accumulation_steps = 32,\n",
        "    gradient_checkpointing=True,\n",
        "\n",
        "    logging_strategy=\"steps\",\n",
        "    logging_steps = logging_steps,\n",
        "\n",
        "    seed = seed,\n",
        "\n",
        "    run_name = model_type + f\"_{model_name}_{dt_string}\"\n",
        ")\n",
        "\n",
        "trainer = Seq2SeqTrainer(\n",
        "    model = model,\n",
        "    args = training_args,\n",
        "    train_dataset = train_dataset,\n",
        "    # eval_dataset = test_dataset,\n",
        "    tokenizer = tokenizer,\n",
        "    compute_metrics = compute_metrics,\n",
        "    data_collator = lambda data : {\n",
        "        'input_ids' : torch.stack([item['input_ids'] for item in data]),\n",
        "        'attention_mask' : torch.stack([item['attention_mask'] for item in data]),\n",
        "        'labels' : torch.stack([item['labels'] for item in data]),\n",
        "    }\n",
        ")\n",
        "\n",
        "trainer.train()\n",
        "\n",
        "test_dataloader = DataLoader(test_dataset, batch_size=2, shuffle=False)\n",
        "\n",
        "free_gpu()\n",
        "\n",
        "model.eval()\n",
        "\n",
        "pred = []\n",
        "label = []\n",
        "\n",
        "with torch.no_grad():\n",
        "    for batch in test_dataloader:\n",
        "        input_ids = batch['input_ids'].to(device)\n",
        "        attention_mask = batch['attention_mask'].to(device)\n",
        "\n",
        "        outputs = model.generate(input_ids, attention_mask=attention_mask, max_length=max_length, forced_bos_token_id=tokenizer.lang_code_to_id[tokenizer.tgt_lang])\n",
        "\n",
        "        labels = batch['labels'].to(device)\n",
        "\n",
        "\n",
        "        decoded_preds = tokenizer.batch_decode(outputs, skip_special_tokens=True)\n",
        "        decoded_labels = tokenizer.batch_decode(labels, skip_special_tokens=True)\n",
        "\n",
        "\n",
        "        # Some simple post-processing\n",
        "        decoded_preds, decoded_labels = postprocess_text(decoded_preds, decoded_labels)\n",
        "        pred += decoded_preds\n",
        "        label += decoded_labels\n",
        "\n",
        "\n",
        "\n",
        "result = metric.compute(predictions=pred, references=label)\n",
        "result = {\"bleu\": result[\"score\"]}\n",
        "print(result)\n",
        "\n",
        "\n",
        "# model.train()"
      ],
      "outputs": [
        {
          "output_type": "stream",
          "name": "stderr",
          "text": "/usr/local/lib/python3.10/dist-packages/huggingface_hub/utils/_token.py:89: UserWarning: \nThe secret `HF_TOKEN` does not exist in your Colab secrets.\nTo authenticate with the Hugging Face Hub, create a token in your settings tab (https://huggingface.co/settings/tokens), set it as secret in your Google Colab and restart your session.\nYou will be able to reuse this secret in all of your notebooks.\nPlease note that authentication is recommended but still optional to access public models or datasets.\n  warnings.warn(\n"
        },
        {
          "output_type": "display_data",
          "data": {
            "application/vnd.jupyter.widget-view+json": {
              "model_id": "63cb268c7c504233bf0a76577dd7390e",
              "version_major": 2,
              "version_minor": 0
            },
            "text/plain": "tokenizer_config.json:   0%|          | 0.00/529 [00:00<?, ?B/s]"
          },
          "metadata": {}
        },
        {
          "output_type": "stream",
          "name": "stderr",
          "text": "/usr/local/lib/python3.10/dist-packages/huggingface_hub/file_download.py:1132: FutureWarning: `resume_download` is deprecated and will be removed in version 1.0.0. Downloads always resume when possible. If you want to force a new download, use `force_download=True`.\n  warnings.warn(\n"
        },
        {
          "output_type": "display_data",
          "data": {
            "application/vnd.jupyter.widget-view+json": {
              "model_id": "3514fdbf91514a4a8774150b221cb204",
              "version_major": 2,
              "version_minor": 0
            },
            "text/plain": "config.json:   0%|          | 0.00/1.43k [00:00<?, ?B/s]"
          },
          "metadata": {}
        },
        {
          "output_type": "display_data",
          "data": {
            "application/vnd.jupyter.widget-view+json": {
              "model_id": "a7324211dd834f1395c2c5c91e414d4a",
              "version_major": 2,
              "version_minor": 0
            },
            "text/plain": "sentencepiece.bpe.model:   0%|          | 0.00/5.07M [00:00<?, ?B/s]"
          },
          "metadata": {}
        },
        {
          "output_type": "display_data",
          "data": {
            "application/vnd.jupyter.widget-view+json": {
              "model_id": "a59b020987874d7581388a87944dc167",
              "version_major": 2,
              "version_minor": 0
            },
            "text/plain": "special_tokens_map.json:   0%|          | 0.00/649 [00:00<?, ?B/s]"
          },
          "metadata": {}
        },
        {
          "output_type": "display_data",
          "data": {
            "application/vnd.jupyter.widget-view+json": {
              "model_id": "17221fee2d134c8bbbcafbe9952561f9",
              "version_major": 2,
              "version_minor": 0
            },
            "text/plain": "model.safetensors:   0%|          | 0.00/2.44G [00:00<?, ?B/s]"
          },
          "metadata": {}
        },
        {
          "output_type": "display_data",
          "data": {
            "application/vnd.jupyter.widget-view+json": {
              "model_id": "779f7a97cbeb4ac2bda2a293516a26da",
              "version_major": 2,
              "version_minor": 0
            },
            "text/plain": "generation_config.json:   0%|          | 0.00/261 [00:00<?, ?B/s]"
          },
          "metadata": {}
        },
        {
          "output_type": "stream",
          "name": "stdout",
          "text": "MODE TYPE\t:\tmbart\nSRC_LANG \t:\tvi_VN\nTGT_LANG \t:\ten_XX\nPREFIX   \t:\tNone\n"
        },
        {
          "output_type": "stream",
          "name": "stderr",
          "text": "/usr/local/lib/python3.10/dist-packages/torch/utils/checkpoint.py:464: UserWarning: torch.utils.checkpoint: the use_reentrant parameter should be passed explicitly. In version 2.4 we will raise an exception if use_reentrant is not passed. use_reentrant=False is recommended, but if you need to preserve the current default behavior, you can pass use_reentrant=True. Refer to docs for more details on the differences between the two variants.\n  warnings.warn(\n"
        },
        {
          "output_type": "display_data",
          "data": {
            "text/html": "\n    <div>\n      \n      <progress value='519' max='519' style='width:300px; height:20px; vertical-align: middle;'></progress>\n      [519/519 2:13:13, Epoch 0/1]\n    </div>\n    <table border=\"1\" class=\"dataframe\">\n  <thead>\n <tr style=\"text-align: left;\">\n      <th>Step</th>\n      <th>Training Loss</th>\n    </tr>\n  </thead>\n  <tbody>\n    <tr>\n      <td>100</td>\n      <td>1.234500</td>\n    </tr>\n    <tr>\n      <td>200</td>\n      <td>0.218600</td>\n    </tr>\n    <tr>\n      <td>300</td>\n      <td>0.209000</td>\n    </tr>\n    <tr>\n      <td>400</td>\n      <td>0.202700</td>\n    </tr>\n    <tr>\n      <td>500</td>\n      <td>0.197500</td>\n    </tr>\n  </tbody>\n</table><p>",
            "text/plain": "<IPython.core.display.HTML object>"
          },
          "metadata": {}
        },
        {
          "output_type": "stream",
          "name": "stdout",
          "text": "{'bleu': 38.08416361969523}\n"
        }
      ],
      "execution_count": null,
      "metadata": {
        "colab": {
          "background_save": true,
          "base_uri": "https://localhost:8080/",
          "height": 705,
          "referenced_widgets": [
            "63cb268c7c504233bf0a76577dd7390e",
            "72170a9046034bf19c60d4fcc73f6f8c",
            "5be739b22692492d8fd8554f45e91df1",
            "454d501362094d28845e5cd1ddf33b6a",
            "ad523caf50fb41a9874646166ad83d59",
            "928de527682a4437880398b06fc4cf70",
            "bcda2a846fd7400ab171163f35f2dfba",
            "0dffd32642d344bfa1e4d86ef3d30a34",
            "d1a3bd81539e436ca52faaa9fbaea627",
            "a65a0da2c26e404394d13ec9a4c13d6d",
            "f035c853828949ca93626d2e2ec4eacb",
            "3514fdbf91514a4a8774150b221cb204",
            "c9a32373ea694dfd88e9245ecad21022",
            "12e0c223226a4eaf8d23f7e6d99646b8",
            "ad41cb38f4de459da04644c9c28294ac",
            "db90241f03574be1a7f7e2daf451bc73",
            "7dd98b23e55e4b3e8efbd85bcb404f3e",
            "7a500562f14e4d46a244f6cb994e2075",
            "2805b9e301134d2ea97b9597940a7954",
            "7413a60ba1ca463a99e62720daeb79e9",
            "e2a3ae2fce9545c4a51138a214141c90",
            "37933753d5af4b5085a3f18e55f200ec",
            "a7324211dd834f1395c2c5c91e414d4a",
            "ade2a140add04116801e60fd9d7dd278",
            "6f33de022f734b6eb628531c4967a1f1",
            "c3c706cdcec04cab8f00133a0a001567",
            "7bbd4a3c9f394075ab2ba35ac017c2c5",
            "bdf727440cd9463d829a458b5d6f6080",
            "4eb1e28046d543abb236a322ddf34a18",
            "192da5294c5d4451a131af759dab0834",
            "dbc883d3c4174994bc43118179a2d77b",
            "7dc2cf3b17fa48f1b7be0a279127971a",
            "49710d8f8ed94e0b9178fc7f64ec3c86",
            "a59b020987874d7581388a87944dc167",
            "1b82918584604de5981f4ff6ee05d8ce",
            "5a9e60810a0b4061bc2b7fae2f0b5609",
            "f8296c5b23e149768b88d00068d1f5c5",
            "d438dd18afc14dd085d3218a0d9d02b5",
            "87a55fc83365423ca6df5fec7ab71bd2",
            "4254b48748614ab58eb464ce45ffc1aa",
            "f0f8bf2056ae4897b9f226954f035822",
            "b643d49d5a494c25b604192888e8cdf5",
            "f45f2b64ded044f5b95e55908d86cc2a",
            "f000d4229e7d434ca4ac0e22cdd9a415",
            "17221fee2d134c8bbbcafbe9952561f9",
            "5e7f95cb4b1542a4a7e672c9acdfa4a9",
            "49cda22f34744cddba4bbb84186edf21",
            "f5467dd9f5ea46f1a97afc72c9bc1ea2",
            "0cf93b64f9fc4bac973ae06a9de94a20",
            "63d6f966fcd6486c82a9636b85233a45",
            "305ebbed54f3438baf74f7fef8ba15ea",
            "bee1dd525bb249c59047b224d94d3606",
            "4f13dc7e79e14445a1fe3f60565a8857",
            "e42898e97242495298853caf303693f9",
            "64f63c1af509441aa4340a4eff15647a",
            "779f7a97cbeb4ac2bda2a293516a26da",
            "591d59896b20455b8bd2132d009258e7",
            "acb2f1f7b765419a88eabf91be8f52d8",
            "f9897341b7b349b3861d06450c2db3fc",
            "5e0a35a3ff4740d3b68e93306a179291",
            "b428449b447647138145653d6135b719",
            "986d32af38c84586ae3571481a7a7fbd",
            "0f82f42a592546edb32d5ce03f232e3d",
            "b51bccd0c20344959b8b25bd92e1d344",
            "1c628689d5d249d4bf63978109b450ac",
            "e24d74ed13e04c5b8b4ba6fb32bcf3f3"
          ]
        },
        "id": "u9IEBL80dCs6",
        "outputId": "3ee15d46-6955-4685-df3e-54b0cd7ab1b0"
      }
    },
    {
      "cell_type": "code",
      "source": [
        "model.eval()\n",
        "\n",
        "pred = []\n",
        "label = []\n",
        "\n",
        "with torch.no_grad():\n",
        "    for batch in test_dataloader:\n",
        "        input_ids = batch['input_ids'].to(device)\n",
        "        attention_mask = batch['attention_mask'].to(device)\n",
        "\n",
        "        outputs = model.generate(input_ids, attention_mask=attention_mask, max_length=max_length, forced_bos_token_id=tokenizer.lang_code_to_id[tokenizer.tgt_lang])\n",
        "\n",
        "        labels = batch['labels'].to(device)\n",
        "\n",
        "\n",
        "        decoded_preds = tokenizer.batch_decode(outputs, skip_special_tokens=True)\n",
        "        decoded_labels = tokenizer.batch_decode(labels, skip_special_tokens=True)\n",
        "\n",
        "\n",
        "        # Some simple post-processing\n",
        "        decoded_preds, decoded_labels = postprocess_text(decoded_preds, decoded_labels)\n",
        "        pred += decoded_preds\n",
        "        label += decoded_labels\n",
        "\n",
        "\n",
        "\n",
        "result = metric.compute(predictions=pred, references=label)\n",
        "result = {\"bleu\": result[\"score\"]}\n",
        "print(result)"
      ],
      "outputs": [
        {
          "output_type": "stream",
          "name": "stdout",
          "text": "{'bleu': 38.08416361969523}\n"
        }
      ],
      "execution_count": 54,
      "metadata": {
        "id": "oP37-9y7eabe",
        "colab": {
          "base_uri": "https://localhost:8080/"
        },
        "outputId": "094a0d17-b0ee-4619-e36d-7d4ed4e97c15"
      }
    }
  ],
  "metadata": {
    "accelerator": "GPU",
    "colab": {
      "gpuType": "T4",
      "provenance": []
    },
    "kernelspec": {
      "name": "python",
      "language": "python",
      "display_name": "Pyolite (preview)"
    },
    "language_info": {
      "codemirror_mode": {
        "name": "python",
        "version": 3
      },
      "file_extension": ".py",
      "mimetype": "text/x-python",
      "name": "python",
      "nbconvert_exporter": "python",
      "pygments_lexer": "ipython3",
      "version": "3.8"
    },
    "widgets": {
      "application/vnd.jupyter.widget-state+json": {
        "e2a3ae2fce9545c4a51138a214141c90": {
          "model_module": "@jupyter-widgets/base",
          "model_module_version": "1.2.0",
          "model_name": "LayoutModel",
          "state": {
            "_view_module_version": "1.2.0",
            "_model_name": "LayoutModel",
            "grid_row": null,
            "_model_module": "@jupyter-widgets/base",
            "overflow": null,
            "max_height": null,
            "display": null,
            "grid_auto_flow": null,
            "grid_template_rows": null,
            "align_self": null,
            "grid_auto_columns": null,
            "width": null,
            "grid_area": null,
            "align_items": null,
            "_view_name": "LayoutView",
            "left": null,
            "height": null,
            "_view_module": "@jupyter-widgets/base",
            "object_position": null,
            "justify_content": null,
            "bottom": null,
            "max_width": null,
            "border": null,
            "margin": null,
            "order": null,
            "grid_column": null,
            "grid_auto_rows": null,
            "padding": null,
            "grid_template_columns": null,
            "justify_items": null,
            "object_fit": null,
            "visibility": null,
            "_view_count": null,
            "flex_flow": null,
            "min_height": null,
            "top": null,
            "min_width": null,
            "flex": null,
            "_model_module_version": "1.2.0",
            "grid_template_areas": null,
            "overflow_x": null,
            "right": null,
            "overflow_y": null,
            "grid_gap": null,
            "align_content": null
          }
        },
        "f45f2b64ded044f5b95e55908d86cc2a": {
          "model_module": "@jupyter-widgets/base",
          "model_module_version": "1.2.0",
          "model_name": "LayoutModel",
          "state": {
            "_view_module_version": "1.2.0",
            "_model_name": "LayoutModel",
            "grid_row": null,
            "_model_module": "@jupyter-widgets/base",
            "overflow": null,
            "max_height": null,
            "display": null,
            "grid_auto_flow": null,
            "grid_template_rows": null,
            "align_self": null,
            "grid_auto_columns": null,
            "width": null,
            "grid_area": null,
            "align_items": null,
            "_view_name": "LayoutView",
            "left": null,
            "height": null,
            "_view_module": "@jupyter-widgets/base",
            "object_position": null,
            "justify_content": null,
            "bottom": null,
            "max_width": null,
            "border": null,
            "margin": null,
            "order": null,
            "grid_column": null,
            "grid_auto_rows": null,
            "padding": null,
            "grid_template_columns": null,
            "justify_items": null,
            "object_fit": null,
            "visibility": null,
            "_view_count": null,
            "flex_flow": null,
            "min_height": null,
            "top": null,
            "min_width": null,
            "flex": null,
            "_model_module_version": "1.2.0",
            "grid_template_areas": null,
            "overflow_x": null,
            "right": null,
            "overflow_y": null,
            "grid_gap": null,
            "align_content": null
          }
        },
        "2805b9e301134d2ea97b9597940a7954": {
          "model_module": "@jupyter-widgets/base",
          "model_module_version": "1.2.0",
          "model_name": "LayoutModel",
          "state": {
            "_view_module_version": "1.2.0",
            "_model_name": "LayoutModel",
            "grid_row": null,
            "_model_module": "@jupyter-widgets/base",
            "overflow": null,
            "max_height": null,
            "display": null,
            "grid_auto_flow": null,
            "grid_template_rows": null,
            "align_self": null,
            "grid_auto_columns": null,
            "width": null,
            "grid_area": null,
            "align_items": null,
            "_view_name": "LayoutView",
            "left": null,
            "height": null,
            "_view_module": "@jupyter-widgets/base",
            "object_position": null,
            "justify_content": null,
            "bottom": null,
            "max_width": null,
            "border": null,
            "margin": null,
            "order": null,
            "grid_column": null,
            "grid_auto_rows": null,
            "padding": null,
            "grid_template_columns": null,
            "justify_items": null,
            "object_fit": null,
            "visibility": null,
            "_view_count": null,
            "flex_flow": null,
            "min_height": null,
            "top": null,
            "min_width": null,
            "flex": null,
            "_model_module_version": "1.2.0",
            "grid_template_areas": null,
            "overflow_x": null,
            "right": null,
            "overflow_y": null,
            "grid_gap": null,
            "align_content": null
          }
        },
        "f0f8bf2056ae4897b9f226954f035822": {
          "model_module": "@jupyter-widgets/base",
          "model_module_version": "1.2.0",
          "model_name": "LayoutModel",
          "state": {
            "_view_module_version": "1.2.0",
            "_model_name": "LayoutModel",
            "grid_row": null,
            "_model_module": "@jupyter-widgets/base",
            "overflow": null,
            "max_height": null,
            "display": null,
            "grid_auto_flow": null,
            "grid_template_rows": null,
            "align_self": null,
            "grid_auto_columns": null,
            "width": null,
            "grid_area": null,
            "align_items": null,
            "_view_name": "LayoutView",
            "left": null,
            "height": null,
            "_view_module": "@jupyter-widgets/base",
            "object_position": null,
            "justify_content": null,
            "bottom": null,
            "max_width": null,
            "border": null,
            "margin": null,
            "order": null,
            "grid_column": null,
            "grid_auto_rows": null,
            "padding": null,
            "grid_template_columns": null,
            "justify_items": null,
            "object_fit": null,
            "visibility": null,
            "_view_count": null,
            "flex_flow": null,
            "min_height": null,
            "top": null,
            "min_width": null,
            "flex": null,
            "_model_module_version": "1.2.0",
            "grid_template_areas": null,
            "overflow_x": null,
            "right": null,
            "overflow_y": null,
            "grid_gap": null,
            "align_content": null
          }
        },
        "e42898e97242495298853caf303693f9": {
          "model_module": "@jupyter-widgets/base",
          "model_module_version": "1.2.0",
          "model_name": "LayoutModel",
          "state": {
            "_view_module_version": "1.2.0",
            "_model_name": "LayoutModel",
            "grid_row": null,
            "_model_module": "@jupyter-widgets/base",
            "overflow": null,
            "max_height": null,
            "display": null,
            "grid_auto_flow": null,
            "grid_template_rows": null,
            "align_self": null,
            "grid_auto_columns": null,
            "width": null,
            "grid_area": null,
            "align_items": null,
            "_view_name": "LayoutView",
            "left": null,
            "height": null,
            "_view_module": "@jupyter-widgets/base",
            "object_position": null,
            "justify_content": null,
            "bottom": null,
            "max_width": null,
            "border": null,
            "margin": null,
            "order": null,
            "grid_column": null,
            "grid_auto_rows": null,
            "padding": null,
            "grid_template_columns": null,
            "justify_items": null,
            "object_fit": null,
            "visibility": null,
            "_view_count": null,
            "flex_flow": null,
            "min_height": null,
            "top": null,
            "min_width": null,
            "flex": null,
            "_model_module_version": "1.2.0",
            "grid_template_areas": null,
            "overflow_x": null,
            "right": null,
            "overflow_y": null,
            "grid_gap": null,
            "align_content": null
          }
        },
        "acb2f1f7b765419a88eabf91be8f52d8": {
          "model_module": "@jupyter-widgets/controls",
          "model_module_version": "1.5.0",
          "model_name": "FloatProgressModel",
          "state": {
            "_view_module_version": "1.5.0",
            "description_tooltip": null,
            "_model_name": "FloatProgressModel",
            "_model_module": "@jupyter-widgets/controls",
            "max": 261,
            "bar_style": "success",
            "_view_name": "ProgressView",
            "_view_module": "@jupyter-widgets/controls",
            "_dom_classes": [],
            "layout": "IPY_MODEL_0f82f42a592546edb32d5ce03f232e3d",
            "orientation": "horizontal",
            "value": 261,
            "style": "IPY_MODEL_b51bccd0c20344959b8b25bd92e1d344",
            "min": 0,
            "_view_count": null,
            "_model_module_version": "1.5.0",
            "description": ""
          }
        },
        "63cb268c7c504233bf0a76577dd7390e": {
          "model_module": "@jupyter-widgets/controls",
          "model_module_version": "1.5.0",
          "model_name": "HBoxModel",
          "state": {
            "_view_module_version": "1.5.0",
            "_model_name": "HBoxModel",
            "_model_module": "@jupyter-widgets/controls",
            "_view_name": "HBoxView",
            "_view_module": "@jupyter-widgets/controls",
            "_dom_classes": [],
            "layout": "IPY_MODEL_ad523caf50fb41a9874646166ad83d59",
            "_view_count": null,
            "_model_module_version": "1.5.0",
            "box_style": "",
            "children": [
              "IPY_MODEL_72170a9046034bf19c60d4fcc73f6f8c",
              "IPY_MODEL_5be739b22692492d8fd8554f45e91df1",
              "IPY_MODEL_454d501362094d28845e5cd1ddf33b6a"
            ]
          }
        },
        "7a500562f14e4d46a244f6cb994e2075": {
          "model_module": "@jupyter-widgets/controls",
          "model_module_version": "1.5.0",
          "model_name": "DescriptionStyleModel",
          "state": {
            "_model_module": "@jupyter-widgets/controls",
            "_model_module_version": "1.5.0",
            "_model_name": "DescriptionStyleModel",
            "_view_count": null,
            "_view_module": "@jupyter-widgets/base",
            "_view_module_version": "1.2.0",
            "_view_name": "StyleView",
            "description_width": ""
          }
        },
        "f5467dd9f5ea46f1a97afc72c9bc1ea2": {
          "model_module": "@jupyter-widgets/controls",
          "model_module_version": "1.5.0",
          "model_name": "HTMLModel",
          "state": {
            "_view_module_version": "1.5.0",
            "description_tooltip": null,
            "_model_name": "HTMLModel",
            "_model_module": "@jupyter-widgets/controls",
            "_view_name": "HTMLView",
            "_view_module": "@jupyter-widgets/controls",
            "_dom_classes": [],
            "layout": "IPY_MODEL_e42898e97242495298853caf303693f9",
            "value": " 2.44G/2.44G [00:26&lt;00:00, 82.1MB/s]",
            "style": "IPY_MODEL_64f63c1af509441aa4340a4eff15647a",
            "placeholder": "​",
            "_view_count": null,
            "_model_module_version": "1.5.0",
            "description": ""
          }
        },
        "26ebde6ca5514f1b9de669002c080ef9": {
          "model_module": "@jupyter-widgets/controls",
          "model_module_version": "1.5.0",
          "model_name": "ProgressStyleModel",
          "state": {
            "_view_module_version": "1.2.0",
            "_model_name": "ProgressStyleModel",
            "_model_module": "@jupyter-widgets/controls",
            "description_width": "",
            "_view_name": "StyleView",
            "_view_module": "@jupyter-widgets/base",
            "_view_count": null,
            "bar_color": null,
            "_model_module_version": "1.5.0"
          }
        },
        "17221fee2d134c8bbbcafbe9952561f9": {
          "model_module": "@jupyter-widgets/controls",
          "model_module_version": "1.5.0",
          "model_name": "HBoxModel",
          "state": {
            "_view_module_version": "1.5.0",
            "_model_name": "HBoxModel",
            "_model_module": "@jupyter-widgets/controls",
            "_view_name": "HBoxView",
            "_view_module": "@jupyter-widgets/controls",
            "_dom_classes": [],
            "layout": "IPY_MODEL_0cf93b64f9fc4bac973ae06a9de94a20",
            "_view_count": null,
            "_model_module_version": "1.5.0",
            "box_style": "",
            "children": [
              "IPY_MODEL_5e7f95cb4b1542a4a7e672c9acdfa4a9",
              "IPY_MODEL_49cda22f34744cddba4bbb84186edf21",
              "IPY_MODEL_f5467dd9f5ea46f1a97afc72c9bc1ea2"
            ]
          }
        },
        "db90241f03574be1a7f7e2daf451bc73": {
          "model_module": "@jupyter-widgets/base",
          "model_module_version": "1.2.0",
          "model_name": "LayoutModel",
          "state": {
            "_view_module_version": "1.2.0",
            "_model_name": "LayoutModel",
            "grid_row": null,
            "_model_module": "@jupyter-widgets/base",
            "overflow": null,
            "max_height": null,
            "display": null,
            "grid_auto_flow": null,
            "grid_template_rows": null,
            "align_self": null,
            "grid_auto_columns": null,
            "width": null,
            "grid_area": null,
            "align_items": null,
            "_view_name": "LayoutView",
            "left": null,
            "height": null,
            "_view_module": "@jupyter-widgets/base",
            "object_position": null,
            "justify_content": null,
            "bottom": null,
            "max_width": null,
            "border": null,
            "margin": null,
            "order": null,
            "grid_column": null,
            "grid_auto_rows": null,
            "padding": null,
            "grid_template_columns": null,
            "justify_items": null,
            "object_fit": null,
            "visibility": null,
            "_view_count": null,
            "flex_flow": null,
            "min_height": null,
            "top": null,
            "min_width": null,
            "flex": null,
            "_model_module_version": "1.2.0",
            "grid_template_areas": null,
            "overflow_x": null,
            "right": null,
            "overflow_y": null,
            "grid_gap": null,
            "align_content": null
          }
        },
        "c9a32373ea694dfd88e9245ecad21022": {
          "model_module": "@jupyter-widgets/controls",
          "model_module_version": "1.5.0",
          "model_name": "HTMLModel",
          "state": {
            "_view_module_version": "1.5.0",
            "description_tooltip": null,
            "_model_name": "HTMLModel",
            "_model_module": "@jupyter-widgets/controls",
            "_view_name": "HTMLView",
            "_view_module": "@jupyter-widgets/controls",
            "_dom_classes": [],
            "layout": "IPY_MODEL_7dd98b23e55e4b3e8efbd85bcb404f3e",
            "value": "config.json: 100%",
            "style": "IPY_MODEL_7a500562f14e4d46a244f6cb994e2075",
            "placeholder": "​",
            "_view_count": null,
            "_model_module_version": "1.5.0",
            "description": ""
          }
        },
        "a7324211dd834f1395c2c5c91e414d4a": {
          "model_module": "@jupyter-widgets/controls",
          "model_module_version": "1.5.0",
          "model_name": "HBoxModel",
          "state": {
            "_view_module_version": "1.5.0",
            "_model_name": "HBoxModel",
            "_model_module": "@jupyter-widgets/controls",
            "_view_name": "HBoxView",
            "_view_module": "@jupyter-widgets/controls",
            "_dom_classes": [],
            "layout": "IPY_MODEL_7bbd4a3c9f394075ab2ba35ac017c2c5",
            "_view_count": null,
            "_model_module_version": "1.5.0",
            "box_style": "",
            "children": [
              "IPY_MODEL_ade2a140add04116801e60fd9d7dd278",
              "IPY_MODEL_6f33de022f734b6eb628531c4967a1f1",
              "IPY_MODEL_c3c706cdcec04cab8f00133a0a001567"
            ]
          }
        },
        "305ebbed54f3438baf74f7fef8ba15ea": {
          "model_module": "@jupyter-widgets/controls",
          "model_module_version": "1.5.0",
          "model_name": "DescriptionStyleModel",
          "state": {
            "_model_module": "@jupyter-widgets/controls",
            "_model_module_version": "1.5.0",
            "_model_name": "DescriptionStyleModel",
            "_view_count": null,
            "_view_module": "@jupyter-widgets/base",
            "_view_module_version": "1.2.0",
            "_view_name": "StyleView",
            "description_width": ""
          }
        },
        "5e7f95cb4b1542a4a7e672c9acdfa4a9": {
          "model_module": "@jupyter-widgets/controls",
          "model_module_version": "1.5.0",
          "model_name": "HTMLModel",
          "state": {
            "_view_module_version": "1.5.0",
            "description_tooltip": null,
            "_model_name": "HTMLModel",
            "_model_module": "@jupyter-widgets/controls",
            "_view_name": "HTMLView",
            "_view_module": "@jupyter-widgets/controls",
            "_dom_classes": [],
            "layout": "IPY_MODEL_63d6f966fcd6486c82a9636b85233a45",
            "value": "model.safetensors: 100%",
            "style": "IPY_MODEL_305ebbed54f3438baf74f7fef8ba15ea",
            "placeholder": "​",
            "_view_count": null,
            "_model_module_version": "1.5.0",
            "description": ""
          }
        },
        "e24d74ed13e04c5b8b4ba6fb32bcf3f3": {
          "model_module": "@jupyter-widgets/controls",
          "model_module_version": "1.5.0",
          "model_name": "DescriptionStyleModel",
          "state": {
            "_model_module": "@jupyter-widgets/controls",
            "_model_module_version": "1.5.0",
            "_model_name": "DescriptionStyleModel",
            "_view_count": null,
            "_view_module": "@jupyter-widgets/base",
            "_view_module_version": "1.2.0",
            "_view_name": "StyleView",
            "description_width": ""
          }
        },
        "9ef8069ba59840faac371ee1b39902c8": {
          "model_module": "@jupyter-widgets/controls",
          "model_module_version": "1.5.0",
          "model_name": "DescriptionStyleModel",
          "state": {
            "_model_module": "@jupyter-widgets/controls",
            "_model_module_version": "1.5.0",
            "_model_name": "DescriptionStyleModel",
            "_view_count": null,
            "_view_module": "@jupyter-widgets/base",
            "_view_module_version": "1.2.0",
            "_view_name": "StyleView",
            "description_width": ""
          }
        },
        "f101182363e64b2782ffdcabd3125b82": {
          "model_module": "@jupyter-widgets/base",
          "model_module_version": "1.2.0",
          "model_name": "LayoutModel",
          "state": {
            "_view_module_version": "1.2.0",
            "_model_name": "LayoutModel",
            "grid_row": null,
            "_model_module": "@jupyter-widgets/base",
            "overflow": null,
            "max_height": null,
            "display": null,
            "grid_auto_flow": null,
            "grid_template_rows": null,
            "align_self": null,
            "grid_auto_columns": null,
            "width": null,
            "grid_area": null,
            "align_items": null,
            "_view_name": "LayoutView",
            "left": null,
            "height": null,
            "_view_module": "@jupyter-widgets/base",
            "object_position": null,
            "justify_content": null,
            "bottom": null,
            "max_width": null,
            "border": null,
            "margin": null,
            "order": null,
            "grid_column": null,
            "grid_auto_rows": null,
            "padding": null,
            "grid_template_columns": null,
            "justify_items": null,
            "object_fit": null,
            "visibility": null,
            "_view_count": null,
            "flex_flow": null,
            "min_height": null,
            "top": null,
            "min_width": null,
            "flex": null,
            "_model_module_version": "1.2.0",
            "grid_template_areas": null,
            "overflow_x": null,
            "right": null,
            "overflow_y": null,
            "grid_gap": null,
            "align_content": null
          }
        },
        "034f133809ca4088a3166bc088c70774": {
          "model_module": "@jupyter-widgets/controls",
          "model_module_version": "1.5.0",
          "model_name": "HBoxModel",
          "state": {
            "_view_module_version": "1.5.0",
            "_model_name": "HBoxModel",
            "_model_module": "@jupyter-widgets/controls",
            "_view_name": "HBoxView",
            "_view_module": "@jupyter-widgets/controls",
            "_dom_classes": [],
            "layout": "IPY_MODEL_18ec6e28c4634db784d0e12602d3a1a9",
            "_view_count": null,
            "_model_module_version": "1.5.0",
            "box_style": "",
            "children": [
              "IPY_MODEL_8d9391f8e6e445d58b4ae35d4249b839",
              "IPY_MODEL_78c58896c154492c9bf2a47637705c46",
              "IPY_MODEL_605c19683b4c4c18bd0f6e382c5eb07f"
            ]
          }
        },
        "1b82918584604de5981f4ff6ee05d8ce": {
          "model_module": "@jupyter-widgets/controls",
          "model_module_version": "1.5.0",
          "model_name": "HTMLModel",
          "state": {
            "_view_module_version": "1.5.0",
            "description_tooltip": null,
            "_model_name": "HTMLModel",
            "_model_module": "@jupyter-widgets/controls",
            "_view_name": "HTMLView",
            "_view_module": "@jupyter-widgets/controls",
            "_dom_classes": [],
            "layout": "IPY_MODEL_87a55fc83365423ca6df5fec7ab71bd2",
            "value": "special_tokens_map.json: 100%",
            "style": "IPY_MODEL_4254b48748614ab58eb464ce45ffc1aa",
            "placeholder": "​",
            "_view_count": null,
            "_model_module_version": "1.5.0",
            "description": ""
          }
        },
        "78c58896c154492c9bf2a47637705c46": {
          "model_module": "@jupyter-widgets/controls",
          "model_module_version": "1.5.0",
          "model_name": "FloatProgressModel",
          "state": {
            "_view_module_version": "1.5.0",
            "description_tooltip": null,
            "_model_name": "FloatProgressModel",
            "_model_module": "@jupyter-widgets/controls",
            "max": 2849,
            "bar_style": "success",
            "_view_name": "ProgressView",
            "_view_module": "@jupyter-widgets/controls",
            "_dom_classes": [],
            "layout": "IPY_MODEL_b7efa3685d904515a00d4f6ca9896676",
            "orientation": "horizontal",
            "value": 2849,
            "style": "IPY_MODEL_26ebde6ca5514f1b9de669002c080ef9",
            "min": 0,
            "_view_count": null,
            "_model_module_version": "1.5.0",
            "description": ""
          }
        },
        "0dffd32642d344bfa1e4d86ef3d30a34": {
          "model_module": "@jupyter-widgets/base",
          "model_module_version": "1.2.0",
          "model_name": "LayoutModel",
          "state": {
            "_view_module_version": "1.2.0",
            "_model_name": "LayoutModel",
            "grid_row": null,
            "_model_module": "@jupyter-widgets/base",
            "overflow": null,
            "max_height": null,
            "display": null,
            "grid_auto_flow": null,
            "grid_template_rows": null,
            "align_self": null,
            "grid_auto_columns": null,
            "width": null,
            "grid_area": null,
            "align_items": null,
            "_view_name": "LayoutView",
            "left": null,
            "height": null,
            "_view_module": "@jupyter-widgets/base",
            "object_position": null,
            "justify_content": null,
            "bottom": null,
            "max_width": null,
            "border": null,
            "margin": null,
            "order": null,
            "grid_column": null,
            "grid_auto_rows": null,
            "padding": null,
            "grid_template_columns": null,
            "justify_items": null,
            "object_fit": null,
            "visibility": null,
            "_view_count": null,
            "flex_flow": null,
            "min_height": null,
            "top": null,
            "min_width": null,
            "flex": null,
            "_model_module_version": "1.2.0",
            "grid_template_areas": null,
            "overflow_x": null,
            "right": null,
            "overflow_y": null,
            "grid_gap": null,
            "align_content": null
          }
        },
        "7413a60ba1ca463a99e62720daeb79e9": {
          "model_module": "@jupyter-widgets/controls",
          "model_module_version": "1.5.0",
          "model_name": "ProgressStyleModel",
          "state": {
            "_view_module_version": "1.2.0",
            "_model_name": "ProgressStyleModel",
            "_model_module": "@jupyter-widgets/controls",
            "description_width": "",
            "_view_name": "StyleView",
            "_view_module": "@jupyter-widgets/base",
            "_view_count": null,
            "bar_color": null,
            "_model_module_version": "1.5.0"
          }
        },
        "bcda2a846fd7400ab171163f35f2dfba": {
          "model_module": "@jupyter-widgets/controls",
          "model_module_version": "1.5.0",
          "model_name": "DescriptionStyleModel",
          "state": {
            "_model_module": "@jupyter-widgets/controls",
            "_model_module_version": "1.5.0",
            "_model_name": "DescriptionStyleModel",
            "_view_count": null,
            "_view_module": "@jupyter-widgets/base",
            "_view_module_version": "1.2.0",
            "_view_name": "StyleView",
            "description_width": ""
          }
        },
        "b428449b447647138145653d6135b719": {
          "model_module": "@jupyter-widgets/base",
          "model_module_version": "1.2.0",
          "model_name": "LayoutModel",
          "state": {
            "_view_module_version": "1.2.0",
            "_model_name": "LayoutModel",
            "grid_row": null,
            "_model_module": "@jupyter-widgets/base",
            "overflow": null,
            "max_height": null,
            "display": null,
            "grid_auto_flow": null,
            "grid_template_rows": null,
            "align_self": null,
            "grid_auto_columns": null,
            "width": null,
            "grid_area": null,
            "align_items": null,
            "_view_name": "LayoutView",
            "left": null,
            "height": null,
            "_view_module": "@jupyter-widgets/base",
            "object_position": null,
            "justify_content": null,
            "bottom": null,
            "max_width": null,
            "border": null,
            "margin": null,
            "order": null,
            "grid_column": null,
            "grid_auto_rows": null,
            "padding": null,
            "grid_template_columns": null,
            "justify_items": null,
            "object_fit": null,
            "visibility": null,
            "_view_count": null,
            "flex_flow": null,
            "min_height": null,
            "top": null,
            "min_width": null,
            "flex": null,
            "_model_module_version": "1.2.0",
            "grid_template_areas": null,
            "overflow_x": null,
            "right": null,
            "overflow_y": null,
            "grid_gap": null,
            "align_content": null
          }
        },
        "0f82f42a592546edb32d5ce03f232e3d": {
          "model_module": "@jupyter-widgets/base",
          "model_module_version": "1.2.0",
          "model_name": "LayoutModel",
          "state": {
            "_view_module_version": "1.2.0",
            "_model_name": "LayoutModel",
            "grid_row": null,
            "_model_module": "@jupyter-widgets/base",
            "overflow": null,
            "max_height": null,
            "display": null,
            "grid_auto_flow": null,
            "grid_template_rows": null,
            "align_self": null,
            "grid_auto_columns": null,
            "width": null,
            "grid_area": null,
            "align_items": null,
            "_view_name": "LayoutView",
            "left": null,
            "height": null,
            "_view_module": "@jupyter-widgets/base",
            "object_position": null,
            "justify_content": null,
            "bottom": null,
            "max_width": null,
            "border": null,
            "margin": null,
            "order": null,
            "grid_column": null,
            "grid_auto_rows": null,
            "padding": null,
            "grid_template_columns": null,
            "justify_items": null,
            "object_fit": null,
            "visibility": null,
            "_view_count": null,
            "flex_flow": null,
            "min_height": null,
            "top": null,
            "min_width": null,
            "flex": null,
            "_model_module_version": "1.2.0",
            "grid_template_areas": null,
            "overflow_x": null,
            "right": null,
            "overflow_y": null,
            "grid_gap": null,
            "align_content": null
          }
        },
        "f8296c5b23e149768b88d00068d1f5c5": {
          "model_module": "@jupyter-widgets/controls",
          "model_module_version": "1.5.0",
          "model_name": "HTMLModel",
          "state": {
            "_view_module_version": "1.5.0",
            "description_tooltip": null,
            "_model_name": "HTMLModel",
            "_model_module": "@jupyter-widgets/controls",
            "_view_name": "HTMLView",
            "_view_module": "@jupyter-widgets/controls",
            "_dom_classes": [],
            "layout": "IPY_MODEL_f45f2b64ded044f5b95e55908d86cc2a",
            "value": " 649/649 [00:00&lt;00:00, 42.6kB/s]",
            "style": "IPY_MODEL_f000d4229e7d434ca4ac0e22cdd9a415",
            "placeholder": "​",
            "_view_count": null,
            "_model_module_version": "1.5.0",
            "description": ""
          }
        },
        "d1a3bd81539e436ca52faaa9fbaea627": {
          "model_module": "@jupyter-widgets/controls",
          "model_module_version": "1.5.0",
          "model_name": "ProgressStyleModel",
          "state": {
            "_view_module_version": "1.2.0",
            "_model_name": "ProgressStyleModel",
            "_model_module": "@jupyter-widgets/controls",
            "description_width": "",
            "_view_name": "StyleView",
            "_view_module": "@jupyter-widgets/base",
            "_view_count": null,
            "bar_color": null,
            "_model_module_version": "1.5.0"
          }
        },
        "b51bccd0c20344959b8b25bd92e1d344": {
          "model_module": "@jupyter-widgets/controls",
          "model_module_version": "1.5.0",
          "model_name": "ProgressStyleModel",
          "state": {
            "_view_module_version": "1.2.0",
            "_model_name": "ProgressStyleModel",
            "_model_module": "@jupyter-widgets/controls",
            "description_width": "",
            "_view_name": "StyleView",
            "_view_module": "@jupyter-widgets/base",
            "_view_count": null,
            "bar_color": null,
            "_model_module_version": "1.5.0"
          }
        },
        "63d6f966fcd6486c82a9636b85233a45": {
          "model_module": "@jupyter-widgets/base",
          "model_module_version": "1.2.0",
          "model_name": "LayoutModel",
          "state": {
            "_view_module_version": "1.2.0",
            "_model_name": "LayoutModel",
            "grid_row": null,
            "_model_module": "@jupyter-widgets/base",
            "overflow": null,
            "max_height": null,
            "display": null,
            "grid_auto_flow": null,
            "grid_template_rows": null,
            "align_self": null,
            "grid_auto_columns": null,
            "width": null,
            "grid_area": null,
            "align_items": null,
            "_view_name": "LayoutView",
            "left": null,
            "height": null,
            "_view_module": "@jupyter-widgets/base",
            "object_position": null,
            "justify_content": null,
            "bottom": null,
            "max_width": null,
            "border": null,
            "margin": null,
            "order": null,
            "grid_column": null,
            "grid_auto_rows": null,
            "padding": null,
            "grid_template_columns": null,
            "justify_items": null,
            "object_fit": null,
            "visibility": null,
            "_view_count": null,
            "flex_flow": null,
            "min_height": null,
            "top": null,
            "min_width": null,
            "flex": null,
            "_model_module_version": "1.2.0",
            "grid_template_areas": null,
            "overflow_x": null,
            "right": null,
            "overflow_y": null,
            "grid_gap": null,
            "align_content": null
          }
        },
        "87a55fc83365423ca6df5fec7ab71bd2": {
          "model_module": "@jupyter-widgets/base",
          "model_module_version": "1.2.0",
          "model_name": "LayoutModel",
          "state": {
            "_view_module_version": "1.2.0",
            "_model_name": "LayoutModel",
            "grid_row": null,
            "_model_module": "@jupyter-widgets/base",
            "overflow": null,
            "max_height": null,
            "display": null,
            "grid_auto_flow": null,
            "grid_template_rows": null,
            "align_self": null,
            "grid_auto_columns": null,
            "width": null,
            "grid_area": null,
            "align_items": null,
            "_view_name": "LayoutView",
            "left": null,
            "height": null,
            "_view_module": "@jupyter-widgets/base",
            "object_position": null,
            "justify_content": null,
            "bottom": null,
            "max_width": null,
            "border": null,
            "margin": null,
            "order": null,
            "grid_column": null,
            "grid_auto_rows": null,
            "padding": null,
            "grid_template_columns": null,
            "justify_items": null,
            "object_fit": null,
            "visibility": null,
            "_view_count": null,
            "flex_flow": null,
            "min_height": null,
            "top": null,
            "min_width": null,
            "flex": null,
            "_model_module_version": "1.2.0",
            "grid_template_areas": null,
            "overflow_x": null,
            "right": null,
            "overflow_y": null,
            "grid_gap": null,
            "align_content": null
          }
        },
        "6f33de022f734b6eb628531c4967a1f1": {
          "model_module": "@jupyter-widgets/controls",
          "model_module_version": "1.5.0",
          "model_name": "FloatProgressModel",
          "state": {
            "_view_module_version": "1.5.0",
            "description_tooltip": null,
            "_model_name": "FloatProgressModel",
            "_model_module": "@jupyter-widgets/controls",
            "max": 5069051,
            "bar_style": "success",
            "_view_name": "ProgressView",
            "_view_module": "@jupyter-widgets/controls",
            "_dom_classes": [],
            "layout": "IPY_MODEL_192da5294c5d4451a131af759dab0834",
            "orientation": "horizontal",
            "value": 5069051,
            "style": "IPY_MODEL_dbc883d3c4174994bc43118179a2d77b",
            "min": 0,
            "_view_count": null,
            "_model_module_version": "1.5.0",
            "description": ""
          }
        },
        "ad41cb38f4de459da04644c9c28294ac": {
          "model_module": "@jupyter-widgets/controls",
          "model_module_version": "1.5.0",
          "model_name": "HTMLModel",
          "state": {
            "_view_module_version": "1.5.0",
            "description_tooltip": null,
            "_model_name": "HTMLModel",
            "_model_module": "@jupyter-widgets/controls",
            "_view_name": "HTMLView",
            "_view_module": "@jupyter-widgets/controls",
            "_dom_classes": [],
            "layout": "IPY_MODEL_e2a3ae2fce9545c4a51138a214141c90",
            "value": " 1.43k/1.43k [00:00&lt;00:00, 77.4kB/s]",
            "style": "IPY_MODEL_37933753d5af4b5085a3f18e55f200ec",
            "placeholder": "​",
            "_view_count": null,
            "_model_module_version": "1.5.0",
            "description": ""
          }
        },
        "3514fdbf91514a4a8774150b221cb204": {
          "model_module": "@jupyter-widgets/controls",
          "model_module_version": "1.5.0",
          "model_name": "HBoxModel",
          "state": {
            "_view_module_version": "1.5.0",
            "_model_name": "HBoxModel",
            "_model_module": "@jupyter-widgets/controls",
            "_view_name": "HBoxView",
            "_view_module": "@jupyter-widgets/controls",
            "_dom_classes": [],
            "layout": "IPY_MODEL_db90241f03574be1a7f7e2daf451bc73",
            "_view_count": null,
            "_model_module_version": "1.5.0",
            "box_style": "",
            "children": [
              "IPY_MODEL_c9a32373ea694dfd88e9245ecad21022",
              "IPY_MODEL_12e0c223226a4eaf8d23f7e6d99646b8",
              "IPY_MODEL_ad41cb38f4de459da04644c9c28294ac"
            ]
          }
        },
        "591d59896b20455b8bd2132d009258e7": {
          "model_module": "@jupyter-widgets/controls",
          "model_module_version": "1.5.0",
          "model_name": "HTMLModel",
          "state": {
            "_view_module_version": "1.5.0",
            "description_tooltip": null,
            "_model_name": "HTMLModel",
            "_model_module": "@jupyter-widgets/controls",
            "_view_name": "HTMLView",
            "_view_module": "@jupyter-widgets/controls",
            "_dom_classes": [],
            "layout": "IPY_MODEL_b428449b447647138145653d6135b719",
            "value": "generation_config.json: 100%",
            "style": "IPY_MODEL_986d32af38c84586ae3571481a7a7fbd",
            "placeholder": "​",
            "_view_count": null,
            "_model_module_version": "1.5.0",
            "description": ""
          }
        },
        "b7efa3685d904515a00d4f6ca9896676": {
          "model_module": "@jupyter-widgets/base",
          "model_module_version": "1.2.0",
          "model_name": "LayoutModel",
          "state": {
            "_view_module_version": "1.2.0",
            "_model_name": "LayoutModel",
            "grid_row": null,
            "_model_module": "@jupyter-widgets/base",
            "overflow": null,
            "max_height": null,
            "display": null,
            "grid_auto_flow": null,
            "grid_template_rows": null,
            "align_self": null,
            "grid_auto_columns": null,
            "width": null,
            "grid_area": null,
            "align_items": null,
            "_view_name": "LayoutView",
            "left": null,
            "height": null,
            "_view_module": "@jupyter-widgets/base",
            "object_position": null,
            "justify_content": null,
            "bottom": null,
            "max_width": null,
            "border": null,
            "margin": null,
            "order": null,
            "grid_column": null,
            "grid_auto_rows": null,
            "padding": null,
            "grid_template_columns": null,
            "justify_items": null,
            "object_fit": null,
            "visibility": null,
            "_view_count": null,
            "flex_flow": null,
            "min_height": null,
            "top": null,
            "min_width": null,
            "flex": null,
            "_model_module_version": "1.2.0",
            "grid_template_areas": null,
            "overflow_x": null,
            "right": null,
            "overflow_y": null,
            "grid_gap": null,
            "align_content": null
          }
        },
        "a65a0da2c26e404394d13ec9a4c13d6d": {
          "model_module": "@jupyter-widgets/base",
          "model_module_version": "1.2.0",
          "model_name": "LayoutModel",
          "state": {
            "_view_module_version": "1.2.0",
            "_model_name": "LayoutModel",
            "grid_row": null,
            "_model_module": "@jupyter-widgets/base",
            "overflow": null,
            "max_height": null,
            "display": null,
            "grid_auto_flow": null,
            "grid_template_rows": null,
            "align_self": null,
            "grid_auto_columns": null,
            "width": null,
            "grid_area": null,
            "align_items": null,
            "_view_name": "LayoutView",
            "left": null,
            "height": null,
            "_view_module": "@jupyter-widgets/base",
            "object_position": null,
            "justify_content": null,
            "bottom": null,
            "max_width": null,
            "border": null,
            "margin": null,
            "order": null,
            "grid_column": null,
            "grid_auto_rows": null,
            "padding": null,
            "grid_template_columns": null,
            "justify_items": null,
            "object_fit": null,
            "visibility": null,
            "_view_count": null,
            "flex_flow": null,
            "min_height": null,
            "top": null,
            "min_width": null,
            "flex": null,
            "_model_module_version": "1.2.0",
            "grid_template_areas": null,
            "overflow_x": null,
            "right": null,
            "overflow_y": null,
            "grid_gap": null,
            "align_content": null
          }
        },
        "37933753d5af4b5085a3f18e55f200ec": {
          "model_module": "@jupyter-widgets/controls",
          "model_module_version": "1.5.0",
          "model_name": "DescriptionStyleModel",
          "state": {
            "_model_module": "@jupyter-widgets/controls",
            "_model_module_version": "1.5.0",
            "_model_name": "DescriptionStyleModel",
            "_view_count": null,
            "_view_module": "@jupyter-widgets/base",
            "_view_module_version": "1.2.0",
            "_view_name": "StyleView",
            "description_width": ""
          }
        },
        "5be739b22692492d8fd8554f45e91df1": {
          "model_module": "@jupyter-widgets/controls",
          "model_module_version": "1.5.0",
          "model_name": "FloatProgressModel",
          "state": {
            "_view_module_version": "1.5.0",
            "description_tooltip": null,
            "_model_name": "FloatProgressModel",
            "_model_module": "@jupyter-widgets/controls",
            "max": 529,
            "bar_style": "success",
            "_view_name": "ProgressView",
            "_view_module": "@jupyter-widgets/controls",
            "_dom_classes": [],
            "layout": "IPY_MODEL_0dffd32642d344bfa1e4d86ef3d30a34",
            "orientation": "horizontal",
            "value": 529,
            "style": "IPY_MODEL_d1a3bd81539e436ca52faaa9fbaea627",
            "min": 0,
            "_view_count": null,
            "_model_module_version": "1.5.0",
            "description": ""
          }
        },
        "605c19683b4c4c18bd0f6e382c5eb07f": {
          "model_module": "@jupyter-widgets/controls",
          "model_module_version": "1.5.0",
          "model_name": "HTMLModel",
          "state": {
            "_view_module_version": "1.5.0",
            "description_tooltip": null,
            "_model_name": "HTMLModel",
            "_model_module": "@jupyter-widgets/controls",
            "_view_name": "HTMLView",
            "_view_module": "@jupyter-widgets/controls",
            "_dom_classes": [],
            "layout": "IPY_MODEL_6f7c7477598d454a9806e1a8004ffdf2",
            "value": " 7.65k/? [00:00&lt;00:00, 296kB/s]",
            "style": "IPY_MODEL_dd3e0a269c324bfaa879d35311c09409",
            "placeholder": "​",
            "_view_count": null,
            "_model_module_version": "1.5.0",
            "description": ""
          }
        },
        "dd3e0a269c324bfaa879d35311c09409": {
          "model_module": "@jupyter-widgets/controls",
          "model_module_version": "1.5.0",
          "model_name": "DescriptionStyleModel",
          "state": {
            "_model_module": "@jupyter-widgets/controls",
            "_model_module_version": "1.5.0",
            "_model_name": "DescriptionStyleModel",
            "_view_count": null,
            "_view_module": "@jupyter-widgets/base",
            "_view_module_version": "1.2.0",
            "_view_name": "StyleView",
            "description_width": ""
          }
        },
        "1c628689d5d249d4bf63978109b450ac": {
          "model_module": "@jupyter-widgets/base",
          "model_module_version": "1.2.0",
          "model_name": "LayoutModel",
          "state": {
            "_view_module_version": "1.2.0",
            "_model_name": "LayoutModel",
            "grid_row": null,
            "_model_module": "@jupyter-widgets/base",
            "overflow": null,
            "max_height": null,
            "display": null,
            "grid_auto_flow": null,
            "grid_template_rows": null,
            "align_self": null,
            "grid_auto_columns": null,
            "width": null,
            "grid_area": null,
            "align_items": null,
            "_view_name": "LayoutView",
            "left": null,
            "height": null,
            "_view_module": "@jupyter-widgets/base",
            "object_position": null,
            "justify_content": null,
            "bottom": null,
            "max_width": null,
            "border": null,
            "margin": null,
            "order": null,
            "grid_column": null,
            "grid_auto_rows": null,
            "padding": null,
            "grid_template_columns": null,
            "justify_items": null,
            "object_fit": null,
            "visibility": null,
            "_view_count": null,
            "flex_flow": null,
            "min_height": null,
            "top": null,
            "min_width": null,
            "flex": null,
            "_model_module_version": "1.2.0",
            "grid_template_areas": null,
            "overflow_x": null,
            "right": null,
            "overflow_y": null,
            "grid_gap": null,
            "align_content": null
          }
        },
        "bdf727440cd9463d829a458b5d6f6080": {
          "model_module": "@jupyter-widgets/base",
          "model_module_version": "1.2.0",
          "model_name": "LayoutModel",
          "state": {
            "_view_module_version": "1.2.0",
            "_model_name": "LayoutModel",
            "grid_row": null,
            "_model_module": "@jupyter-widgets/base",
            "overflow": null,
            "max_height": null,
            "display": null,
            "grid_auto_flow": null,
            "grid_template_rows": null,
            "align_self": null,
            "grid_auto_columns": null,
            "width": null,
            "grid_area": null,
            "align_items": null,
            "_view_name": "LayoutView",
            "left": null,
            "height": null,
            "_view_module": "@jupyter-widgets/base",
            "object_position": null,
            "justify_content": null,
            "bottom": null,
            "max_width": null,
            "border": null,
            "margin": null,
            "order": null,
            "grid_column": null,
            "grid_auto_rows": null,
            "padding": null,
            "grid_template_columns": null,
            "justify_items": null,
            "object_fit": null,
            "visibility": null,
            "_view_count": null,
            "flex_flow": null,
            "min_height": null,
            "top": null,
            "min_width": null,
            "flex": null,
            "_model_module_version": "1.2.0",
            "grid_template_areas": null,
            "overflow_x": null,
            "right": null,
            "overflow_y": null,
            "grid_gap": null,
            "align_content": null
          }
        },
        "779f7a97cbeb4ac2bda2a293516a26da": {
          "model_module": "@jupyter-widgets/controls",
          "model_module_version": "1.5.0",
          "model_name": "HBoxModel",
          "state": {
            "_view_module_version": "1.5.0",
            "_model_name": "HBoxModel",
            "_model_module": "@jupyter-widgets/controls",
            "_view_name": "HBoxView",
            "_view_module": "@jupyter-widgets/controls",
            "_dom_classes": [],
            "layout": "IPY_MODEL_5e0a35a3ff4740d3b68e93306a179291",
            "_view_count": null,
            "_model_module_version": "1.5.0",
            "box_style": "",
            "children": [
              "IPY_MODEL_591d59896b20455b8bd2132d009258e7",
              "IPY_MODEL_acb2f1f7b765419a88eabf91be8f52d8",
              "IPY_MODEL_f9897341b7b349b3861d06450c2db3fc"
            ]
          }
        },
        "f035c853828949ca93626d2e2ec4eacb": {
          "model_module": "@jupyter-widgets/controls",
          "model_module_version": "1.5.0",
          "model_name": "DescriptionStyleModel",
          "state": {
            "_model_module": "@jupyter-widgets/controls",
            "_model_module_version": "1.5.0",
            "_model_name": "DescriptionStyleModel",
            "_view_count": null,
            "_view_module": "@jupyter-widgets/base",
            "_view_module_version": "1.2.0",
            "_view_name": "StyleView",
            "description_width": ""
          }
        },
        "d438dd18afc14dd085d3218a0d9d02b5": {
          "model_module": "@jupyter-widgets/base",
          "model_module_version": "1.2.0",
          "model_name": "LayoutModel",
          "state": {
            "_view_module_version": "1.2.0",
            "_model_name": "LayoutModel",
            "grid_row": null,
            "_model_module": "@jupyter-widgets/base",
            "overflow": null,
            "max_height": null,
            "display": null,
            "grid_auto_flow": null,
            "grid_template_rows": null,
            "align_self": null,
            "grid_auto_columns": null,
            "width": null,
            "grid_area": null,
            "align_items": null,
            "_view_name": "LayoutView",
            "left": null,
            "height": null,
            "_view_module": "@jupyter-widgets/base",
            "object_position": null,
            "justify_content": null,
            "bottom": null,
            "max_width": null,
            "border": null,
            "margin": null,
            "order": null,
            "grid_column": null,
            "grid_auto_rows": null,
            "padding": null,
            "grid_template_columns": null,
            "justify_items": null,
            "object_fit": null,
            "visibility": null,
            "_view_count": null,
            "flex_flow": null,
            "min_height": null,
            "top": null,
            "min_width": null,
            "flex": null,
            "_model_module_version": "1.2.0",
            "grid_template_areas": null,
            "overflow_x": null,
            "right": null,
            "overflow_y": null,
            "grid_gap": null,
            "align_content": null
          }
        },
        "a59b020987874d7581388a87944dc167": {
          "model_module": "@jupyter-widgets/controls",
          "model_module_version": "1.5.0",
          "model_name": "HBoxModel",
          "state": {
            "_view_module_version": "1.5.0",
            "_model_name": "HBoxModel",
            "_model_module": "@jupyter-widgets/controls",
            "_view_name": "HBoxView",
            "_view_module": "@jupyter-widgets/controls",
            "_dom_classes": [],
            "layout": "IPY_MODEL_d438dd18afc14dd085d3218a0d9d02b5",
            "_view_count": null,
            "_model_module_version": "1.5.0",
            "box_style": "",
            "children": [
              "IPY_MODEL_1b82918584604de5981f4ff6ee05d8ce",
              "IPY_MODEL_5a9e60810a0b4061bc2b7fae2f0b5609",
              "IPY_MODEL_f8296c5b23e149768b88d00068d1f5c5"
            ]
          }
        },
        "f9897341b7b349b3861d06450c2db3fc": {
          "model_module": "@jupyter-widgets/controls",
          "model_module_version": "1.5.0",
          "model_name": "HTMLModel",
          "state": {
            "_view_module_version": "1.5.0",
            "description_tooltip": null,
            "_model_name": "HTMLModel",
            "_model_module": "@jupyter-widgets/controls",
            "_view_name": "HTMLView",
            "_view_module": "@jupyter-widgets/controls",
            "_dom_classes": [],
            "layout": "IPY_MODEL_1c628689d5d249d4bf63978109b450ac",
            "value": " 261/261 [00:00&lt;00:00, 13.5kB/s]",
            "style": "IPY_MODEL_e24d74ed13e04c5b8b4ba6fb32bcf3f3",
            "placeholder": "​",
            "_view_count": null,
            "_model_module_version": "1.5.0",
            "description": ""
          }
        },
        "192da5294c5d4451a131af759dab0834": {
          "model_module": "@jupyter-widgets/base",
          "model_module_version": "1.2.0",
          "model_name": "LayoutModel",
          "state": {
            "_view_module_version": "1.2.0",
            "_model_name": "LayoutModel",
            "grid_row": null,
            "_model_module": "@jupyter-widgets/base",
            "overflow": null,
            "max_height": null,
            "display": null,
            "grid_auto_flow": null,
            "grid_template_rows": null,
            "align_self": null,
            "grid_auto_columns": null,
            "width": null,
            "grid_area": null,
            "align_items": null,
            "_view_name": "LayoutView",
            "left": null,
            "height": null,
            "_view_module": "@jupyter-widgets/base",
            "object_position": null,
            "justify_content": null,
            "bottom": null,
            "max_width": null,
            "border": null,
            "margin": null,
            "order": null,
            "grid_column": null,
            "grid_auto_rows": null,
            "padding": null,
            "grid_template_columns": null,
            "justify_items": null,
            "object_fit": null,
            "visibility": null,
            "_view_count": null,
            "flex_flow": null,
            "min_height": null,
            "top": null,
            "min_width": null,
            "flex": null,
            "_model_module_version": "1.2.0",
            "grid_template_areas": null,
            "overflow_x": null,
            "right": null,
            "overflow_y": null,
            "grid_gap": null,
            "align_content": null
          }
        },
        "8d9391f8e6e445d58b4ae35d4249b839": {
          "model_module": "@jupyter-widgets/controls",
          "model_module_version": "1.5.0",
          "model_name": "HTMLModel",
          "state": {
            "_view_module_version": "1.5.0",
            "description_tooltip": null,
            "_model_name": "HTMLModel",
            "_model_module": "@jupyter-widgets/controls",
            "_view_name": "HTMLView",
            "_view_module": "@jupyter-widgets/controls",
            "_dom_classes": [],
            "layout": "IPY_MODEL_f101182363e64b2782ffdcabd3125b82",
            "value": "Downloading builder script: ",
            "style": "IPY_MODEL_9ef8069ba59840faac371ee1b39902c8",
            "placeholder": "​",
            "_view_count": null,
            "_model_module_version": "1.5.0",
            "description": ""
          }
        },
        "49710d8f8ed94e0b9178fc7f64ec3c86": {
          "model_module": "@jupyter-widgets/controls",
          "model_module_version": "1.5.0",
          "model_name": "DescriptionStyleModel",
          "state": {
            "_model_module": "@jupyter-widgets/controls",
            "_model_module_version": "1.5.0",
            "_model_name": "DescriptionStyleModel",
            "_view_count": null,
            "_view_module": "@jupyter-widgets/base",
            "_view_module_version": "1.2.0",
            "_view_name": "StyleView",
            "description_width": ""
          }
        },
        "12e0c223226a4eaf8d23f7e6d99646b8": {
          "model_module": "@jupyter-widgets/controls",
          "model_module_version": "1.5.0",
          "model_name": "FloatProgressModel",
          "state": {
            "_view_module_version": "1.5.0",
            "description_tooltip": null,
            "_model_name": "FloatProgressModel",
            "_model_module": "@jupyter-widgets/controls",
            "max": 1429,
            "bar_style": "success",
            "_view_name": "ProgressView",
            "_view_module": "@jupyter-widgets/controls",
            "_dom_classes": [],
            "layout": "IPY_MODEL_2805b9e301134d2ea97b9597940a7954",
            "orientation": "horizontal",
            "value": 1429,
            "style": "IPY_MODEL_7413a60ba1ca463a99e62720daeb79e9",
            "min": 0,
            "_view_count": null,
            "_model_module_version": "1.5.0",
            "description": ""
          }
        },
        "7dd98b23e55e4b3e8efbd85bcb404f3e": {
          "model_module": "@jupyter-widgets/base",
          "model_module_version": "1.2.0",
          "model_name": "LayoutModel",
          "state": {
            "_view_module_version": "1.2.0",
            "_model_name": "LayoutModel",
            "grid_row": null,
            "_model_module": "@jupyter-widgets/base",
            "overflow": null,
            "max_height": null,
            "display": null,
            "grid_auto_flow": null,
            "grid_template_rows": null,
            "align_self": null,
            "grid_auto_columns": null,
            "width": null,
            "grid_area": null,
            "align_items": null,
            "_view_name": "LayoutView",
            "left": null,
            "height": null,
            "_view_module": "@jupyter-widgets/base",
            "object_position": null,
            "justify_content": null,
            "bottom": null,
            "max_width": null,
            "border": null,
            "margin": null,
            "order": null,
            "grid_column": null,
            "grid_auto_rows": null,
            "padding": null,
            "grid_template_columns": null,
            "justify_items": null,
            "object_fit": null,
            "visibility": null,
            "_view_count": null,
            "flex_flow": null,
            "min_height": null,
            "top": null,
            "min_width": null,
            "flex": null,
            "_model_module_version": "1.2.0",
            "grid_template_areas": null,
            "overflow_x": null,
            "right": null,
            "overflow_y": null,
            "grid_gap": null,
            "align_content": null
          }
        },
        "454d501362094d28845e5cd1ddf33b6a": {
          "model_module": "@jupyter-widgets/controls",
          "model_module_version": "1.5.0",
          "model_name": "HTMLModel",
          "state": {
            "_view_module_version": "1.5.0",
            "description_tooltip": null,
            "_model_name": "HTMLModel",
            "_model_module": "@jupyter-widgets/controls",
            "_view_name": "HTMLView",
            "_view_module": "@jupyter-widgets/controls",
            "_dom_classes": [],
            "layout": "IPY_MODEL_a65a0da2c26e404394d13ec9a4c13d6d",
            "value": " 529/529 [00:00&lt;00:00, 36.4kB/s]",
            "style": "IPY_MODEL_f035c853828949ca93626d2e2ec4eacb",
            "placeholder": "​",
            "_view_count": null,
            "_model_module_version": "1.5.0",
            "description": ""
          }
        },
        "7dc2cf3b17fa48f1b7be0a279127971a": {
          "model_module": "@jupyter-widgets/base",
          "model_module_version": "1.2.0",
          "model_name": "LayoutModel",
          "state": {
            "_view_module_version": "1.2.0",
            "_model_name": "LayoutModel",
            "grid_row": null,
            "_model_module": "@jupyter-widgets/base",
            "overflow": null,
            "max_height": null,
            "display": null,
            "grid_auto_flow": null,
            "grid_template_rows": null,
            "align_self": null,
            "grid_auto_columns": null,
            "width": null,
            "grid_area": null,
            "align_items": null,
            "_view_name": "LayoutView",
            "left": null,
            "height": null,
            "_view_module": "@jupyter-widgets/base",
            "object_position": null,
            "justify_content": null,
            "bottom": null,
            "max_width": null,
            "border": null,
            "margin": null,
            "order": null,
            "grid_column": null,
            "grid_auto_rows": null,
            "padding": null,
            "grid_template_columns": null,
            "justify_items": null,
            "object_fit": null,
            "visibility": null,
            "_view_count": null,
            "flex_flow": null,
            "min_height": null,
            "top": null,
            "min_width": null,
            "flex": null,
            "_model_module_version": "1.2.0",
            "grid_template_areas": null,
            "overflow_x": null,
            "right": null,
            "overflow_y": null,
            "grid_gap": null,
            "align_content": null
          }
        },
        "64f63c1af509441aa4340a4eff15647a": {
          "model_module": "@jupyter-widgets/controls",
          "model_module_version": "1.5.0",
          "model_name": "DescriptionStyleModel",
          "state": {
            "_model_module": "@jupyter-widgets/controls",
            "_model_module_version": "1.5.0",
            "_model_name": "DescriptionStyleModel",
            "_view_count": null,
            "_view_module": "@jupyter-widgets/base",
            "_view_module_version": "1.2.0",
            "_view_name": "StyleView",
            "description_width": ""
          }
        },
        "49cda22f34744cddba4bbb84186edf21": {
          "model_module": "@jupyter-widgets/controls",
          "model_module_version": "1.5.0",
          "model_name": "FloatProgressModel",
          "state": {
            "_view_module_version": "1.5.0",
            "description_tooltip": null,
            "_model_name": "FloatProgressModel",
            "_model_module": "@jupyter-widgets/controls",
            "max": 2444578688,
            "bar_style": "success",
            "_view_name": "ProgressView",
            "_view_module": "@jupyter-widgets/controls",
            "_dom_classes": [],
            "layout": "IPY_MODEL_bee1dd525bb249c59047b224d94d3606",
            "orientation": "horizontal",
            "value": 2444578688,
            "style": "IPY_MODEL_4f13dc7e79e14445a1fe3f60565a8857",
            "min": 0,
            "_view_count": null,
            "_model_module_version": "1.5.0",
            "description": ""
          }
        },
        "f000d4229e7d434ca4ac0e22cdd9a415": {
          "model_module": "@jupyter-widgets/controls",
          "model_module_version": "1.5.0",
          "model_name": "DescriptionStyleModel",
          "state": {
            "_model_module": "@jupyter-widgets/controls",
            "_model_module_version": "1.5.0",
            "_model_name": "DescriptionStyleModel",
            "_view_count": null,
            "_view_module": "@jupyter-widgets/base",
            "_view_module_version": "1.2.0",
            "_view_name": "StyleView",
            "description_width": ""
          }
        },
        "ade2a140add04116801e60fd9d7dd278": {
          "model_module": "@jupyter-widgets/controls",
          "model_module_version": "1.5.0",
          "model_name": "HTMLModel",
          "state": {
            "_view_module_version": "1.5.0",
            "description_tooltip": null,
            "_model_name": "HTMLModel",
            "_model_module": "@jupyter-widgets/controls",
            "_view_name": "HTMLView",
            "_view_module": "@jupyter-widgets/controls",
            "_dom_classes": [],
            "layout": "IPY_MODEL_bdf727440cd9463d829a458b5d6f6080",
            "value": "sentencepiece.bpe.model: 100%",
            "style": "IPY_MODEL_4eb1e28046d543abb236a322ddf34a18",
            "placeholder": "​",
            "_view_count": null,
            "_model_module_version": "1.5.0",
            "description": ""
          }
        },
        "986d32af38c84586ae3571481a7a7fbd": {
          "model_module": "@jupyter-widgets/controls",
          "model_module_version": "1.5.0",
          "model_name": "DescriptionStyleModel",
          "state": {
            "_model_module": "@jupyter-widgets/controls",
            "_model_module_version": "1.5.0",
            "_model_name": "DescriptionStyleModel",
            "_view_count": null,
            "_view_module": "@jupyter-widgets/base",
            "_view_module_version": "1.2.0",
            "_view_name": "StyleView",
            "description_width": ""
          }
        },
        "5a9e60810a0b4061bc2b7fae2f0b5609": {
          "model_module": "@jupyter-widgets/controls",
          "model_module_version": "1.5.0",
          "model_name": "FloatProgressModel",
          "state": {
            "_view_module_version": "1.5.0",
            "description_tooltip": null,
            "_model_name": "FloatProgressModel",
            "_model_module": "@jupyter-widgets/controls",
            "max": 649,
            "bar_style": "success",
            "_view_name": "ProgressView",
            "_view_module": "@jupyter-widgets/controls",
            "_dom_classes": [],
            "layout": "IPY_MODEL_f0f8bf2056ae4897b9f226954f035822",
            "orientation": "horizontal",
            "value": 649,
            "style": "IPY_MODEL_b643d49d5a494c25b604192888e8cdf5",
            "min": 0,
            "_view_count": null,
            "_model_module_version": "1.5.0",
            "description": ""
          }
        },
        "bee1dd525bb249c59047b224d94d3606": {
          "model_module": "@jupyter-widgets/base",
          "model_module_version": "1.2.0",
          "model_name": "LayoutModel",
          "state": {
            "_view_module_version": "1.2.0",
            "_model_name": "LayoutModel",
            "grid_row": null,
            "_model_module": "@jupyter-widgets/base",
            "overflow": null,
            "max_height": null,
            "display": null,
            "grid_auto_flow": null,
            "grid_template_rows": null,
            "align_self": null,
            "grid_auto_columns": null,
            "width": null,
            "grid_area": null,
            "align_items": null,
            "_view_name": "LayoutView",
            "left": null,
            "height": null,
            "_view_module": "@jupyter-widgets/base",
            "object_position": null,
            "justify_content": null,
            "bottom": null,
            "max_width": null,
            "border": null,
            "margin": null,
            "order": null,
            "grid_column": null,
            "grid_auto_rows": null,
            "padding": null,
            "grid_template_columns": null,
            "justify_items": null,
            "object_fit": null,
            "visibility": null,
            "_view_count": null,
            "flex_flow": null,
            "min_height": null,
            "top": null,
            "min_width": null,
            "flex": null,
            "_model_module_version": "1.2.0",
            "grid_template_areas": null,
            "overflow_x": null,
            "right": null,
            "overflow_y": null,
            "grid_gap": null,
            "align_content": null
          }
        },
        "7bbd4a3c9f394075ab2ba35ac017c2c5": {
          "model_module": "@jupyter-widgets/base",
          "model_module_version": "1.2.0",
          "model_name": "LayoutModel",
          "state": {
            "_view_module_version": "1.2.0",
            "_model_name": "LayoutModel",
            "grid_row": null,
            "_model_module": "@jupyter-widgets/base",
            "overflow": null,
            "max_height": null,
            "display": null,
            "grid_auto_flow": null,
            "grid_template_rows": null,
            "align_self": null,
            "grid_auto_columns": null,
            "width": null,
            "grid_area": null,
            "align_items": null,
            "_view_name": "LayoutView",
            "left": null,
            "height": null,
            "_view_module": "@jupyter-widgets/base",
            "object_position": null,
            "justify_content": null,
            "bottom": null,
            "max_width": null,
            "border": null,
            "margin": null,
            "order": null,
            "grid_column": null,
            "grid_auto_rows": null,
            "padding": null,
            "grid_template_columns": null,
            "justify_items": null,
            "object_fit": null,
            "visibility": null,
            "_view_count": null,
            "flex_flow": null,
            "min_height": null,
            "top": null,
            "min_width": null,
            "flex": null,
            "_model_module_version": "1.2.0",
            "grid_template_areas": null,
            "overflow_x": null,
            "right": null,
            "overflow_y": null,
            "grid_gap": null,
            "align_content": null
          }
        },
        "b643d49d5a494c25b604192888e8cdf5": {
          "model_module": "@jupyter-widgets/controls",
          "model_module_version": "1.5.0",
          "model_name": "ProgressStyleModel",
          "state": {
            "_view_module_version": "1.2.0",
            "_model_name": "ProgressStyleModel",
            "_model_module": "@jupyter-widgets/controls",
            "description_width": "",
            "_view_name": "StyleView",
            "_view_module": "@jupyter-widgets/base",
            "_view_count": null,
            "bar_color": null,
            "_model_module_version": "1.5.0"
          }
        },
        "72170a9046034bf19c60d4fcc73f6f8c": {
          "model_module": "@jupyter-widgets/controls",
          "model_module_version": "1.5.0",
          "model_name": "HTMLModel",
          "state": {
            "_view_module_version": "1.5.0",
            "description_tooltip": null,
            "_model_name": "HTMLModel",
            "_model_module": "@jupyter-widgets/controls",
            "_view_name": "HTMLView",
            "_view_module": "@jupyter-widgets/controls",
            "_dom_classes": [],
            "layout": "IPY_MODEL_928de527682a4437880398b06fc4cf70",
            "value": "tokenizer_config.json: 100%",
            "style": "IPY_MODEL_bcda2a846fd7400ab171163f35f2dfba",
            "placeholder": "​",
            "_view_count": null,
            "_model_module_version": "1.5.0",
            "description": ""
          }
        },
        "4254b48748614ab58eb464ce45ffc1aa": {
          "model_module": "@jupyter-widgets/controls",
          "model_module_version": "1.5.0",
          "model_name": "DescriptionStyleModel",
          "state": {
            "_model_module": "@jupyter-widgets/controls",
            "_model_module_version": "1.5.0",
            "_model_name": "DescriptionStyleModel",
            "_view_count": null,
            "_view_module": "@jupyter-widgets/base",
            "_view_module_version": "1.2.0",
            "_view_name": "StyleView",
            "description_width": ""
          }
        },
        "6f7c7477598d454a9806e1a8004ffdf2": {
          "model_module": "@jupyter-widgets/base",
          "model_module_version": "1.2.0",
          "model_name": "LayoutModel",
          "state": {
            "_view_module_version": "1.2.0",
            "_model_name": "LayoutModel",
            "grid_row": null,
            "_model_module": "@jupyter-widgets/base",
            "overflow": null,
            "max_height": null,
            "display": null,
            "grid_auto_flow": null,
            "grid_template_rows": null,
            "align_self": null,
            "grid_auto_columns": null,
            "width": null,
            "grid_area": null,
            "align_items": null,
            "_view_name": "LayoutView",
            "left": null,
            "height": null,
            "_view_module": "@jupyter-widgets/base",
            "object_position": null,
            "justify_content": null,
            "bottom": null,
            "max_width": null,
            "border": null,
            "margin": null,
            "order": null,
            "grid_column": null,
            "grid_auto_rows": null,
            "padding": null,
            "grid_template_columns": null,
            "justify_items": null,
            "object_fit": null,
            "visibility": null,
            "_view_count": null,
            "flex_flow": null,
            "min_height": null,
            "top": null,
            "min_width": null,
            "flex": null,
            "_model_module_version": "1.2.0",
            "grid_template_areas": null,
            "overflow_x": null,
            "right": null,
            "overflow_y": null,
            "grid_gap": null,
            "align_content": null
          }
        },
        "4f13dc7e79e14445a1fe3f60565a8857": {
          "model_module": "@jupyter-widgets/controls",
          "model_module_version": "1.5.0",
          "model_name": "ProgressStyleModel",
          "state": {
            "_view_module_version": "1.2.0",
            "_model_name": "ProgressStyleModel",
            "_model_module": "@jupyter-widgets/controls",
            "description_width": "",
            "_view_name": "StyleView",
            "_view_module": "@jupyter-widgets/base",
            "_view_count": null,
            "bar_color": null,
            "_model_module_version": "1.5.0"
          }
        },
        "928de527682a4437880398b06fc4cf70": {
          "model_module": "@jupyter-widgets/base",
          "model_module_version": "1.2.0",
          "model_name": "LayoutModel",
          "state": {
            "_view_module_version": "1.2.0",
            "_model_name": "LayoutModel",
            "grid_row": null,
            "_model_module": "@jupyter-widgets/base",
            "overflow": null,
            "max_height": null,
            "display": null,
            "grid_auto_flow": null,
            "grid_template_rows": null,
            "align_self": null,
            "grid_auto_columns": null,
            "width": null,
            "grid_area": null,
            "align_items": null,
            "_view_name": "LayoutView",
            "left": null,
            "height": null,
            "_view_module": "@jupyter-widgets/base",
            "object_position": null,
            "justify_content": null,
            "bottom": null,
            "max_width": null,
            "border": null,
            "margin": null,
            "order": null,
            "grid_column": null,
            "grid_auto_rows": null,
            "padding": null,
            "grid_template_columns": null,
            "justify_items": null,
            "object_fit": null,
            "visibility": null,
            "_view_count": null,
            "flex_flow": null,
            "min_height": null,
            "top": null,
            "min_width": null,
            "flex": null,
            "_model_module_version": "1.2.0",
            "grid_template_areas": null,
            "overflow_x": null,
            "right": null,
            "overflow_y": null,
            "grid_gap": null,
            "align_content": null
          }
        },
        "ad523caf50fb41a9874646166ad83d59": {
          "model_module": "@jupyter-widgets/base",
          "model_module_version": "1.2.0",
          "model_name": "LayoutModel",
          "state": {
            "_view_module_version": "1.2.0",
            "_model_name": "LayoutModel",
            "grid_row": null,
            "_model_module": "@jupyter-widgets/base",
            "overflow": null,
            "max_height": null,
            "display": null,
            "grid_auto_flow": null,
            "grid_template_rows": null,
            "align_self": null,
            "grid_auto_columns": null,
            "width": null,
            "grid_area": null,
            "align_items": null,
            "_view_name": "LayoutView",
            "left": null,
            "height": null,
            "_view_module": "@jupyter-widgets/base",
            "object_position": null,
            "justify_content": null,
            "bottom": null,
            "max_width": null,
            "border": null,
            "margin": null,
            "order": null,
            "grid_column": null,
            "grid_auto_rows": null,
            "padding": null,
            "grid_template_columns": null,
            "justify_items": null,
            "object_fit": null,
            "visibility": null,
            "_view_count": null,
            "flex_flow": null,
            "min_height": null,
            "top": null,
            "min_width": null,
            "flex": null,
            "_model_module_version": "1.2.0",
            "grid_template_areas": null,
            "overflow_x": null,
            "right": null,
            "overflow_y": null,
            "grid_gap": null,
            "align_content": null
          }
        },
        "5e0a35a3ff4740d3b68e93306a179291": {
          "model_module": "@jupyter-widgets/base",
          "model_module_version": "1.2.0",
          "model_name": "LayoutModel",
          "state": {
            "_view_module_version": "1.2.0",
            "_model_name": "LayoutModel",
            "grid_row": null,
            "_model_module": "@jupyter-widgets/base",
            "overflow": null,
            "max_height": null,
            "display": null,
            "grid_auto_flow": null,
            "grid_template_rows": null,
            "align_self": null,
            "grid_auto_columns": null,
            "width": null,
            "grid_area": null,
            "align_items": null,
            "_view_name": "LayoutView",
            "left": null,
            "height": null,
            "_view_module": "@jupyter-widgets/base",
            "object_position": null,
            "justify_content": null,
            "bottom": null,
            "max_width": null,
            "border": null,
            "margin": null,
            "order": null,
            "grid_column": null,
            "grid_auto_rows": null,
            "padding": null,
            "grid_template_columns": null,
            "justify_items": null,
            "object_fit": null,
            "visibility": null,
            "_view_count": null,
            "flex_flow": null,
            "min_height": null,
            "top": null,
            "min_width": null,
            "flex": null,
            "_model_module_version": "1.2.0",
            "grid_template_areas": null,
            "overflow_x": null,
            "right": null,
            "overflow_y": null,
            "grid_gap": null,
            "align_content": null
          }
        },
        "c3c706cdcec04cab8f00133a0a001567": {
          "model_module": "@jupyter-widgets/controls",
          "model_module_version": "1.5.0",
          "model_name": "HTMLModel",
          "state": {
            "_view_module_version": "1.5.0",
            "description_tooltip": null,
            "_model_name": "HTMLModel",
            "_model_module": "@jupyter-widgets/controls",
            "_view_name": "HTMLView",
            "_view_module": "@jupyter-widgets/controls",
            "_dom_classes": [],
            "layout": "IPY_MODEL_7dc2cf3b17fa48f1b7be0a279127971a",
            "value": " 5.07M/5.07M [00:00&lt;00:00, 61.6MB/s]",
            "style": "IPY_MODEL_49710d8f8ed94e0b9178fc7f64ec3c86",
            "placeholder": "​",
            "_view_count": null,
            "_model_module_version": "1.5.0",
            "description": ""
          }
        },
        "dbc883d3c4174994bc43118179a2d77b": {
          "model_module": "@jupyter-widgets/controls",
          "model_module_version": "1.5.0",
          "model_name": "ProgressStyleModel",
          "state": {
            "_view_module_version": "1.2.0",
            "_model_name": "ProgressStyleModel",
            "_model_module": "@jupyter-widgets/controls",
            "description_width": "",
            "_view_name": "StyleView",
            "_view_module": "@jupyter-widgets/base",
            "_view_count": null,
            "bar_color": null,
            "_model_module_version": "1.5.0"
          }
        },
        "4eb1e28046d543abb236a322ddf34a18": {
          "model_module": "@jupyter-widgets/controls",
          "model_module_version": "1.5.0",
          "model_name": "DescriptionStyleModel",
          "state": {
            "_model_module": "@jupyter-widgets/controls",
            "_model_module_version": "1.5.0",
            "_model_name": "DescriptionStyleModel",
            "_view_count": null,
            "_view_module": "@jupyter-widgets/base",
            "_view_module_version": "1.2.0",
            "_view_name": "StyleView",
            "description_width": ""
          }
        },
        "18ec6e28c4634db784d0e12602d3a1a9": {
          "model_module": "@jupyter-widgets/base",
          "model_module_version": "1.2.0",
          "model_name": "LayoutModel",
          "state": {
            "_view_module_version": "1.2.0",
            "_model_name": "LayoutModel",
            "grid_row": null,
            "_model_module": "@jupyter-widgets/base",
            "overflow": null,
            "max_height": null,
            "display": null,
            "grid_auto_flow": null,
            "grid_template_rows": null,
            "align_self": null,
            "grid_auto_columns": null,
            "width": null,
            "grid_area": null,
            "align_items": null,
            "_view_name": "LayoutView",
            "left": null,
            "height": null,
            "_view_module": "@jupyter-widgets/base",
            "object_position": null,
            "justify_content": null,
            "bottom": null,
            "max_width": null,
            "border": null,
            "margin": null,
            "order": null,
            "grid_column": null,
            "grid_auto_rows": null,
            "padding": null,
            "grid_template_columns": null,
            "justify_items": null,
            "object_fit": null,
            "visibility": null,
            "_view_count": null,
            "flex_flow": null,
            "min_height": null,
            "top": null,
            "min_width": null,
            "flex": null,
            "_model_module_version": "1.2.0",
            "grid_template_areas": null,
            "overflow_x": null,
            "right": null,
            "overflow_y": null,
            "grid_gap": null,
            "align_content": null
          }
        },
        "0cf93b64f9fc4bac973ae06a9de94a20": {
          "model_module": "@jupyter-widgets/base",
          "model_module_version": "1.2.0",
          "model_name": "LayoutModel",
          "state": {
            "_view_module_version": "1.2.0",
            "_model_name": "LayoutModel",
            "grid_row": null,
            "_model_module": "@jupyter-widgets/base",
            "overflow": null,
            "max_height": null,
            "display": null,
            "grid_auto_flow": null,
            "grid_template_rows": null,
            "align_self": null,
            "grid_auto_columns": null,
            "width": null,
            "grid_area": null,
            "align_items": null,
            "_view_name": "LayoutView",
            "left": null,
            "height": null,
            "_view_module": "@jupyter-widgets/base",
            "object_position": null,
            "justify_content": null,
            "bottom": null,
            "max_width": null,
            "border": null,
            "margin": null,
            "order": null,
            "grid_column": null,
            "grid_auto_rows": null,
            "padding": null,
            "grid_template_columns": null,
            "justify_items": null,
            "object_fit": null,
            "visibility": null,
            "_view_count": null,
            "flex_flow": null,
            "min_height": null,
            "top": null,
            "min_width": null,
            "flex": null,
            "_model_module_version": "1.2.0",
            "grid_template_areas": null,
            "overflow_x": null,
            "right": null,
            "overflow_y": null,
            "grid_gap": null,
            "align_content": null
          }
        }
      }
    },
    "kernel_info": {
      "name": "python"
    },
    "nteract": {
      "version": "nteract-front-end@1.0.0"
    }
  },
  "nbformat": 4,
  "nbformat_minor": 0
}