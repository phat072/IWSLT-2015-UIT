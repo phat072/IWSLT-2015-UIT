{
  "cells": [
    {
      "cell_type": "markdown",
      "source": [
        "#1. Data preparation"
      ],
      "metadata": {
        "id": "JwXqa606hHH9"
      }
    },
    {
      "cell_type": "code",
      "source": [
        "import numpy as np\n",
        "import matplotlib.pyplot as plt\n",
        "import torch\n",
        "import torch.nn.functional as F\n",
        "import torchtext\n",
        "import random\n",
        "import tarfile\n",
        "import requests\n",
        "import tarfile\n",
        "from tqdm import tqdm"
      ],
      "outputs": [],
      "execution_count": null,
      "metadata": {
        "id": "L9EeZlzcT1iz"
      }
    },
    {
      "cell_type": "code",
      "source": [
        "BATCHSIZE = 32\n",
        "DEVICE = 'cuda' if torch.cuda.is_available() else 'cpu'\n",
        "\n",
        "# Download and extract data\n",
        "def iwslt15(train_test):\n",
        "    url ='https://github.com/stefan-it/nmt-en-vi/raw/master/data/'\n",
        "    r = requests.get(url + train_test + '-en-vi.tgz')\n",
        "    filename = train_test + '-en-vi.tgz'\n",
        "    with open(filename, 'wb') as f:\n",
        "        f.write(r.content)\n",
        "        tarfile.open(filename, \"r:gz\").extractall(\"iwslt15\")\n",
        "\n",
        "# Load data\n",
        "iwslt15('train')\n",
        "iwslt15('test-2013')"
      ],
      "outputs": [],
      "execution_count": null,
      "metadata": {
        "id": "7avVEkcGUCbK"
      }
    },
    {
      "cell_type": "code",
      "source": [
        "import os\n",
        "\n",
        "# List all files in the current directory\n",
        "files = os.listdir()\n",
        "\n",
        "# Print the list of files\n",
        "for file in files:\n",
        "    print(file)"
      ],
      "outputs": [
        {
          "output_type": "stream",
          "name": "stdout",
          "text": ".config\ntest-2013-en-vi.tgz\ntrain-en-vi.tgz\niwslt15\nsample_data\n"
        }
      ],
      "execution_count": null,
      "metadata": {
        "colab": {
          "base_uri": "https://localhost:8080/"
        },
        "id": "LGLt59zZ3aN7",
        "outputId": "9b46b203-1167-4e09-fcf8-5cdfd19049fc"
      }
    },
    {
      "cell_type": "code",
      "source": [
        "import tarfile\n",
        "import os\n",
        "\n",
        "# Open the .tgz file\n",
        "tar = tarfile.open('train-en-vi.tgz', 'r:gz')\n",
        "\n",
        "# Extract all files into the current directory\n",
        "tar.extractall()\n",
        "\n",
        "# Close the .tgz file\n",
        "tar.close()"
      ],
      "outputs": [],
      "execution_count": null,
      "metadata": {
        "id": "7hxp_Qz63a7r"
      }
    },
    {
      "cell_type": "code",
      "source": [
        "!pip install bpemb"
      ],
      "outputs": [
        {
          "output_type": "stream",
          "name": "stdout",
          "text": "Collecting bpemb\n  Downloading bpemb-0.3.5-py3-none-any.whl (19 kB)\nRequirement already satisfied: gensim in /usr/local/lib/python3.10/dist-packages (from bpemb) (4.3.2)\nRequirement already satisfied: numpy in /usr/local/lib/python3.10/dist-packages (from bpemb) (1.25.2)\nRequirement already satisfied: requests in /usr/local/lib/python3.10/dist-packages (from bpemb) (2.31.0)\nRequirement already satisfied: sentencepiece in /usr/local/lib/python3.10/dist-packages (from bpemb) (0.1.99)\nRequirement already satisfied: tqdm in /usr/local/lib/python3.10/dist-packages (from bpemb) (4.66.4)\nRequirement already satisfied: scipy>=1.7.0 in /usr/local/lib/python3.10/dist-packages (from gensim->bpemb) (1.11.4)\nRequirement already satisfied: smart-open>=1.8.1 in /usr/local/lib/python3.10/dist-packages (from gensim->bpemb) (7.0.4)\nRequirement already satisfied: charset-normalizer<4,>=2 in /usr/local/lib/python3.10/dist-packages (from requests->bpemb) (3.3.2)\nRequirement already satisfied: idna<4,>=2.5 in /usr/local/lib/python3.10/dist-packages (from requests->bpemb) (3.7)\nRequirement already satisfied: urllib3<3,>=1.21.1 in /usr/local/lib/python3.10/dist-packages (from requests->bpemb) (2.0.7)\nRequirement already satisfied: certifi>=2017.4.17 in /usr/local/lib/python3.10/dist-packages (from requests->bpemb) (2024.6.2)\nRequirement already satisfied: wrapt in /usr/local/lib/python3.10/dist-packages (from smart-open>=1.8.1->gensim->bpemb) (1.14.1)\nInstalling collected packages: bpemb\nSuccessfully installed bpemb-0.3.5\n"
        }
      ],
      "execution_count": null,
      "metadata": {
        "colab": {
          "base_uri": "https://localhost:8080/"
        },
        "id": "LF63D4rP3fWY",
        "outputId": "2bb2789e-3f8a-45d2-e979-247377f6c126"
      }
    },
    {
      "cell_type": "code",
      "source": [
        "import pandas as pd\n",
        "import numpy as np\n",
        "from nltk.tokenize import RegexpTokenizer\n",
        "\n",
        "# Đọc file 'train.en' vào DataFrame\n",
        "df_train_en = pd.read_csv('train.en', delimiter=\"\\t\", header=None)\n",
        "rtpe =[121099,121582]\n",
        "print(\"Before replacement:\")\n",
        "values_before_replacement = []\n",
        "for row in rtpe:\n",
        "    if row < len(df_train_en):\n",
        "        values_before_replacement.append((row, df_train_en.iloc[row, 0]))\n",
        "        print(f\"Row {row}: {df_train_en.iloc[row, 0]}\")\n",
        "# Thay thế các giá trị không hợp lệ bằng NaN trong DataFrame 'df_train_vi'\n",
        "for row in rtpe:\n",
        "    if row < len(df_train_en):\n",
        "        df_train_en.at[row, 0] = np.nan\n",
        "\n",
        "df_train_en.dropna(inplace=True)\n",
        "# Đọc file 'train.vi' vào DataFrame\n",
        "df_train_vi = pd.read_csv('train.vi', delimiter=\"\\t\", header=None)\n",
        "\n",
        "# Danh sách các dòng cần thay thế bằng NaN, đã trừ đi 2 để đúng với DataFrame\n",
        "rows_to_replace = [469, 8695, 9762, 10707, 21738, 26408, 29494, 38600, 41017, 48825, 50894, 51586,\n",
        "                   54158, 56297, 57140, 57746, 58330, 66260, 68755, 73578, 76896, 77188, 79669,\n",
        "                   87612, 88637, 89931, 94060, 104125, 104677, 107006, 112823, 115182, 116898,\n",
        "                   123074, 124916, 125209, 128025,130121,130770]\n",
        "# In ra các giá trị của các ô trước khi thay thế\n",
        "print(\"Before replacement:\")\n",
        "values_before_replacement = []\n",
        "for row in rows_to_replace:\n",
        "    if row < len(df_train_vi):\n",
        "        values_before_replacement.append((row, df_train_vi.iloc[row, 0]))\n",
        "        print(f\"Row {row}: {df_train_vi.iloc[row, 0]}\")\n",
        "\n",
        "# Thay thế các giá trị không hợp lệ bằng NaN trong DataFrame 'df_train_vi'\n",
        "for row in rows_to_replace:\n",
        "    if row < len(df_train_vi):\n",
        "        df_train_vi.at[row, 0] = np.nan\n",
        "\n",
        "# In ra các giá trị đã thay thế để kiểm tra xem các giá trị có đúng là NaN không\n",
        "print(\"\\nReplaced values (should be NaN):\")\n",
        "for row in rows_to_replace:\n",
        "    if row < len(df_train_vi):\n",
        "        print(f\"Row {row}: {df_train_vi.iloc[row, 0]}\")\n",
        "df_train_vi.dropna(inplace=True)\n",
        "\n",
        "# Đổi tên các cột\n",
        "df_train_en.columns = ['en']\n",
        "df_train_vi.columns = ['vi']\n",
        "\n",
        "# Nối hai DataFrame lại với nhau\n",
        "df_train = pd.concat([df_train_vi.reset_index(drop=True), df_train_en.reset_index(drop=True)], axis=1)\n",
        "\n",
        "# Chuyển cột 'en' sang kiểu string\n",
        "df_train['en'] = df_train['en'].astype(str)\n"
      ],
      "outputs": [
        {
          "output_type": "stream",
          "name": "stdout",
          "text": "Before replacement:\nRow 121099: .\nRow 121582: .\nBefore replacement:\nRow 469: ̣\nRow 8695: Khán giả vỗ tay\nRow 9762: Vỗ tay .\nRow 10707: vỗ tay\nRow 21738: Vỗ tay\nRow 26408: vỗ tay\nRow 29494: Vỗ tay .\nRow 38600: &quot; tán thưởng &quot;\nRow 41017: Vỗ tay\nRow 48825: Vỗ tay\nRow 50894: .\nRow 51586: .\nRow 54158: Vỗ tay\nRow 56297: .\nRow 57140: Vỗ tay\nRow 57746: .\nRow 58330: Vỗ tay\nRow 66260: ̣\nRow 68755: Cười\nRow 73578: Vỗ tay\nRow 76896: Vỗ tay\nRow 77188: .\nRow 79669: .\nRow 87612: .\nRow 88637: .\nRow 89931: Vỗ tay\nRow 94060: Vỗ tay .\nRow 104125: Vỗ tay\nRow 104677: Vỗ tay\nRow 107006: Vỗ tay\nRow 112823: vỗ tay\nRow 115182: Vỗ tay\nRow 116898: Vỗ tay .\nRow 123074: Cám ơn\nRow 124916: .\nRow 125209: .\nRow 128025: .\nRow 130121: có những giấc mơ đẹp .\nRow 130770: .\n\nReplaced values (should be NaN):\nRow 469: nan\nRow 8695: nan\nRow 9762: nan\nRow 10707: nan\nRow 21738: nan\nRow 26408: nan\nRow 29494: nan\nRow 38600: nan\nRow 41017: nan\nRow 48825: nan\nRow 50894: nan\nRow 51586: nan\nRow 54158: nan\nRow 56297: nan\nRow 57140: nan\nRow 57746: nan\nRow 58330: nan\nRow 66260: nan\nRow 68755: nan\nRow 73578: nan\nRow 76896: nan\nRow 77188: nan\nRow 79669: nan\nRow 87612: nan\nRow 88637: nan\nRow 89931: nan\nRow 94060: nan\nRow 104125: nan\nRow 104677: nan\nRow 107006: nan\nRow 112823: nan\nRow 115182: nan\nRow 116898: nan\nRow 123074: nan\nRow 124916: nan\nRow 125209: nan\nRow 128025: nan\nRow 130121: nan\nRow 130770: nan\n"
        }
      ],
      "execution_count": null,
      "metadata": {
        "colab": {
          "base_uri": "https://localhost:8080/"
        },
        "id": "pNqxuJSJ3g-Y",
        "outputId": "c4ab1247-25aa-4aac-ce5d-e60c2ae1af6a"
      }
    },
    {
      "cell_type": "code",
      "source": [
        "from bpemb import BPEmb\n",
        "\n",
        "bpemb_vi = BPEmb(lang=\"vi\", vs=50000, dim=200)\n",
        "bpemb_en = BPEmb(lang=\"en\", vs=50000, dim=200)"
      ],
      "outputs": [
        {
          "output_type": "stream",
          "name": "stdout",
          "text": "downloading https://nlp.h-its.org/bpemb/vi/vi.wiki.bpe.vs50000.model\n"
        },
        {
          "output_type": "stream",
          "name": "stderr",
          "text": "100%|██████████| 1041864/1041864 [00:00<00:00, 1470452.23B/s]\n"
        },
        {
          "output_type": "stream",
          "name": "stdout",
          "text": "downloading https://nlp.h-its.org/bpemb/vi/vi.wiki.bpe.vs50000.d200.w2v.bin.tar.gz\n"
        },
        {
          "output_type": "stream",
          "name": "stderr",
          "text": "100%|██████████| 37483223/37483223 [00:04<00:00, 9275250.40B/s] \n"
        },
        {
          "output_type": "stream",
          "name": "stdout",
          "text": "downloading https://nlp.h-its.org/bpemb/en/en.wiki.bpe.vs50000.model\n"
        },
        {
          "output_type": "stream",
          "name": "stderr",
          "text": "100%|██████████| 1100587/1100587 [00:00<00:00, 1503888.07B/s]\n"
        },
        {
          "output_type": "stream",
          "name": "stdout",
          "text": "downloading https://nlp.h-its.org/bpemb/en/en.wiki.bpe.vs50000.d200.w2v.bin.tar.gz\n"
        },
        {
          "output_type": "stream",
          "name": "stderr",
          "text": "100%|██████████| 37527847/37527847 [00:03<00:00, 10339361.89B/s]\n"
        }
      ],
      "execution_count": null,
      "metadata": {
        "colab": {
          "base_uri": "https://localhost:8080/"
        },
        "id": "B2cncfjp3kfr",
        "outputId": "efee5583-a082-48d5-d48e-a699098d09ce"
      }
    },
    {
      "cell_type": "code",
      "source": [
        "def tokenizer(text, lang):\n",
        "  if lang == \"vi\":\n",
        "    text_pp = \" \".join(bpemb_vi.encode(text))\n",
        "  else:\n",
        "    text_pp = \" \".join(bpemb_en.encode(text))\n",
        "\n",
        "  return text_pp"
      ],
      "outputs": [],
      "execution_count": null,
      "metadata": {
        "id": "anmBPlgX3o6e"
      }
    },
    {
      "cell_type": "code",
      "source": [
        "def token_len(text):\n",
        "    return len(text.replace(\"▁\", \"\").split(\" \"))"
      ],
      "outputs": [],
      "execution_count": null,
      "metadata": {
        "id": "qJBuqzV03q0e"
      }
    },
    {
      "cell_type": "code",
      "source": [
        "df_train[\"vi_token\"] = df_train[\"vi\"].apply(lambda x: tokenizer(x, \"vi\"))\n",
        "df_train[\"en_token\"] = df_train[\"en\"].apply(lambda x: tokenizer(x, \"en\"))\n",
        "\n",
        "# In ra số lượng giá trị không phải là NaN trong mỗi cột\n",
        "print(\"\\nCount of non-NaN values in each column:\")\n",
        "print(df_train.count())\n"
      ],
      "outputs": [
        {
          "output_type": "stream",
          "name": "stdout",
          "text": "\nCount of non-NaN values in each column:\nvi          133166\nen          133166\nvi_token    133166\nen_token    133166\ndtype: int64\n"
        }
      ],
      "execution_count": null,
      "metadata": {
        "colab": {
          "base_uri": "https://localhost:8080/"
        },
        "id": "ylcWNT843sAB",
        "outputId": "260139ae-0217-46aa-fe0e-a5c9d14e5108"
      }
    },
    {
      "cell_type": "code",
      "source": [
        "tokenizer(df_train[\"vi\"][0], \"vi\")"
      ],
      "outputs": [
        {
          "output_type": "execute_result",
          "execution_count": 12,
          "data": {
            "text/plain": "'▁khoa ▁học ▁đằng ▁sau ▁một ▁tiêu ▁đề ▁về ▁khí ▁hậu'",
            "application/vnd.google.colaboratory.intrinsic+json": {
              "type": "string"
            }
          },
          "metadata": {}
        }
      ],
      "execution_count": null,
      "metadata": {
        "colab": {
          "base_uri": "https://localhost:8080/",
          "height": 36
        },
        "id": "bMRrLs7p3t7U",
        "outputId": "74ae6394-4a62-4736-b628-104c8616a408"
      }
    },
    {
      "cell_type": "code",
      "source": [
        "df_train = df_train.head(133000)\n",
        "df_train"
      ],
      "outputs": [
        {
          "output_type": "execute_result",
          "execution_count": 13,
          "data": {
            "text/plain": "                                                       vi  \\\n0                Khoa học đằng sau một tiêu đề về khí hậu   \n1       Trong 4 phút , chuyên gia hoá học khí quyển Ra...   \n2       Tôi muốn cho các bạn biết về sự to lớn của nhữ...   \n3       Có những dòng trông như thế này khi bàn về biế...   \n4       Cả hai đều là một nhánh của cùng một lĩnh vực ...   \n...                                                   ...   \n132995  Cái cô cần là sự cảm thông và lòng trắc ẩn , v...   \n132996  Mà chính hệ thống y tế mà tôi góp phần , đã là...   \n132997  Nếu giờ đây cô đang xem chương trình này , tôi...   \n132998  Paul Pholeros : Làm sao để bớt nghèo khổ ? Hãy...   \n132999  Năm 1985 , kiến trúc sư Paul Pholeros được gia...   \n\n                                                       en  \\\n0       Rachel Pike : The science behind a climate hea...   \n1       In 4 minutes , atmospheric chemist Rachel Pike...   \n2       I &apos;d like to talk to you today about the ...   \n3       Headlines that look like this when they have t...   \n4       They are both two branches of the same field o...   \n...                                                   ...   \n132995  You needed my empathy and compassion , and abo...   \n132996  Maybe the system , of which I was a part , was...   \n132997  If you &apos;re watching this now , I hope you...   \n132998  Paul Pholeros : How to reduce poverty ? Fix homes   \n132999  In 1985 , architect Paul Pholeros was challeng...   \n\n                                                 vi_token  \\\n0       ▁khoa ▁học ▁đằng ▁sau ▁một ▁tiêu ▁đề ▁về ▁khí ...   \n1       ▁trong ▁0 ▁phút ▁, ▁chuyên ▁gia ▁hoá ▁học ▁khí...   \n2       ▁tôi ▁muốn ▁cho ▁các ▁bạn ▁biết ▁về ▁sự ▁to ▁l...   \n3       ▁có ▁những ▁dòng ▁trông ▁như ▁thế ▁này ▁khi ▁b...   \n4       ▁cả ▁hai ▁đều ▁là ▁một ▁nhánh ▁của ▁cùng ▁một ...   \n...                                                   ...   \n132995  ▁cái ▁cô ▁cần ▁là ▁sự ▁cảm ▁thông ▁và ▁lòng ▁t...   \n132996  ▁mà ▁chính ▁hệ ▁thống ▁y ▁tế ▁mà ▁tôi ▁góp ▁ph...   \n132997  ▁nếu ▁giờ ▁đây ▁cô ▁đang ▁xem ▁chương ▁trình ▁...   \n132998  ▁paul ▁ph ol eros ▁: ▁làm ▁sao ▁để ▁bớt ▁nghèo...   \n132999  ▁năm ▁0000 ▁, ▁kiến ▁trúc ▁sư ▁paul ▁ph ol ero...   \n\n                                                 en_token  \n0       ▁rachel ▁pike ▁: ▁the ▁science ▁behind ▁a ▁cli...  \n1       ▁in ▁0 ▁minutes ▁, ▁atmospheric ▁chemist ▁rach...  \n2       ▁i ▁& ap os ; d ▁like ▁to ▁talk ▁to ▁you ▁toda...  \n3       ▁headlines ▁that ▁look ▁like ▁this ▁when ▁they...  \n4       ▁they ▁are ▁both ▁two ▁branches ▁of ▁the ▁same...  \n...                                                   ...  \n132995  ▁you ▁needed ▁my ▁empathy ▁and ▁compassion ▁, ...  \n132996  ▁maybe ▁the ▁system ▁, ▁of ▁which ▁i ▁was ▁a ▁...  \n132997  ▁if ▁you ▁& ap os ; re ▁watching ▁this ▁now ▁,...  \n132998  ▁paul ▁ph ol eros ▁: ▁how ▁to ▁reduce ▁poverty...  \n132999  ▁in ▁0000 ▁, ▁architect ▁paul ▁ph ol eros ▁was...  \n\n[133000 rows x 4 columns]",
            "text/html": "\n  <div id=\"df-4e96fe71-34e4-4621-b790-83b4f6e5d8b3\" class=\"colab-df-container\">\n    <div>\n<style scoped>\n    .dataframe tbody tr th:only-of-type {\n        vertical-align: middle;\n    }\n\n    .dataframe tbody tr th {\n        vertical-align: top;\n    }\n\n    .dataframe thead th {\n        text-align: right;\n    }\n</style>\n<table border=\"1\" class=\"dataframe\">\n  <thead>\n    <tr style=\"text-align: right;\">\n      <th></th>\n      <th>vi</th>\n      <th>en</th>\n      <th>vi_token</th>\n      <th>en_token</th>\n    </tr>\n  </thead>\n  <tbody>\n    <tr>\n      <th>0</th>\n      <td>Khoa học đằng sau một tiêu đề về khí hậu</td>\n      <td>Rachel Pike : The science behind a climate hea...</td>\n      <td>▁khoa ▁học ▁đằng ▁sau ▁một ▁tiêu ▁đề ▁về ▁khí ...</td>\n      <td>▁rachel ▁pike ▁: ▁the ▁science ▁behind ▁a ▁cli...</td>\n    </tr>\n    <tr>\n      <th>1</th>\n      <td>Trong 4 phút , chuyên gia hoá học khí quyển Ra...</td>\n      <td>In 4 minutes , atmospheric chemist Rachel Pike...</td>\n      <td>▁trong ▁0 ▁phút ▁, ▁chuyên ▁gia ▁hoá ▁học ▁khí...</td>\n      <td>▁in ▁0 ▁minutes ▁, ▁atmospheric ▁chemist ▁rach...</td>\n    </tr>\n    <tr>\n      <th>2</th>\n      <td>Tôi muốn cho các bạn biết về sự to lớn của nhữ...</td>\n      <td>I &amp;apos;d like to talk to you today about the ...</td>\n      <td>▁tôi ▁muốn ▁cho ▁các ▁bạn ▁biết ▁về ▁sự ▁to ▁l...</td>\n      <td>▁i ▁&amp; ap os ; d ▁like ▁to ▁talk ▁to ▁you ▁toda...</td>\n    </tr>\n    <tr>\n      <th>3</th>\n      <td>Có những dòng trông như thế này khi bàn về biế...</td>\n      <td>Headlines that look like this when they have t...</td>\n      <td>▁có ▁những ▁dòng ▁trông ▁như ▁thế ▁này ▁khi ▁b...</td>\n      <td>▁headlines ▁that ▁look ▁like ▁this ▁when ▁they...</td>\n    </tr>\n    <tr>\n      <th>4</th>\n      <td>Cả hai đều là một nhánh của cùng một lĩnh vực ...</td>\n      <td>They are both two branches of the same field o...</td>\n      <td>▁cả ▁hai ▁đều ▁là ▁một ▁nhánh ▁của ▁cùng ▁một ...</td>\n      <td>▁they ▁are ▁both ▁two ▁branches ▁of ▁the ▁same...</td>\n    </tr>\n    <tr>\n      <th>...</th>\n      <td>...</td>\n      <td>...</td>\n      <td>...</td>\n      <td>...</td>\n    </tr>\n    <tr>\n      <th>132995</th>\n      <td>Cái cô cần là sự cảm thông và lòng trắc ẩn , v...</td>\n      <td>You needed my empathy and compassion , and abo...</td>\n      <td>▁cái ▁cô ▁cần ▁là ▁sự ▁cảm ▁thông ▁và ▁lòng ▁t...</td>\n      <td>▁you ▁needed ▁my ▁empathy ▁and ▁compassion ▁, ...</td>\n    </tr>\n    <tr>\n      <th>132996</th>\n      <td>Mà chính hệ thống y tế mà tôi góp phần , đã là...</td>\n      <td>Maybe the system , of which I was a part , was...</td>\n      <td>▁mà ▁chính ▁hệ ▁thống ▁y ▁tế ▁mà ▁tôi ▁góp ▁ph...</td>\n      <td>▁maybe ▁the ▁system ▁, ▁of ▁which ▁i ▁was ▁a ▁...</td>\n    </tr>\n    <tr>\n      <th>132997</th>\n      <td>Nếu giờ đây cô đang xem chương trình này , tôi...</td>\n      <td>If you &amp;apos;re watching this now , I hope you...</td>\n      <td>▁nếu ▁giờ ▁đây ▁cô ▁đang ▁xem ▁chương ▁trình ▁...</td>\n      <td>▁if ▁you ▁&amp; ap os ; re ▁watching ▁this ▁now ▁,...</td>\n    </tr>\n    <tr>\n      <th>132998</th>\n      <td>Paul Pholeros : Làm sao để bớt nghèo khổ ? Hãy...</td>\n      <td>Paul Pholeros : How to reduce poverty ? Fix homes</td>\n      <td>▁paul ▁ph ol eros ▁: ▁làm ▁sao ▁để ▁bớt ▁nghèo...</td>\n      <td>▁paul ▁ph ol eros ▁: ▁how ▁to ▁reduce ▁poverty...</td>\n    </tr>\n    <tr>\n      <th>132999</th>\n      <td>Năm 1985 , kiến trúc sư Paul Pholeros được gia...</td>\n      <td>In 1985 , architect Paul Pholeros was challeng...</td>\n      <td>▁năm ▁0000 ▁, ▁kiến ▁trúc ▁sư ▁paul ▁ph ol ero...</td>\n      <td>▁in ▁0000 ▁, ▁architect ▁paul ▁ph ol eros ▁was...</td>\n    </tr>\n  </tbody>\n</table>\n<p>133000 rows × 4 columns</p>\n</div>\n    <div class=\"colab-df-buttons\">\n\n  <div class=\"colab-df-container\">\n    <button class=\"colab-df-convert\" onclick=\"convertToInteractive('df-4e96fe71-34e4-4621-b790-83b4f6e5d8b3')\"\n            title=\"Convert this dataframe to an interactive table.\"\n            style=\"display:none;\">\n\n  <svg xmlns=\"http://www.w3.org/2000/svg\" height=\"24px\" viewBox=\"0 -960 960 960\">\n    <path d=\"M120-120v-720h720v720H120Zm60-500h600v-160H180v160Zm220 220h160v-160H400v160Zm0 220h160v-160H400v160ZM180-400h160v-160H180v160Zm440 0h160v-160H620v160ZM180-180h160v-160H180v160Zm440 0h160v-160H620v160Z\"/>\n  </svg>\n    </button>\n\n  <style>\n    .colab-df-container {\n      display:flex;\n      gap: 12px;\n    }\n\n    .colab-df-convert {\n      background-color: #E8F0FE;\n      border: none;\n      border-radius: 50%;\n      cursor: pointer;\n      display: none;\n      fill: #1967D2;\n      height: 32px;\n      padding: 0 0 0 0;\n      width: 32px;\n    }\n\n    .colab-df-convert:hover {\n      background-color: #E2EBFA;\n      box-shadow: 0px 1px 2px rgba(60, 64, 67, 0.3), 0px 1px 3px 1px rgba(60, 64, 67, 0.15);\n      fill: #174EA6;\n    }\n\n    .colab-df-buttons div {\n      margin-bottom: 4px;\n    }\n\n    [theme=dark] .colab-df-convert {\n      background-color: #3B4455;\n      fill: #D2E3FC;\n    }\n\n    [theme=dark] .colab-df-convert:hover {\n      background-color: #434B5C;\n      box-shadow: 0px 1px 3px 1px rgba(0, 0, 0, 0.15);\n      filter: drop-shadow(0px 1px 2px rgba(0, 0, 0, 0.3));\n      fill: #FFFFFF;\n    }\n  </style>\n\n    <script>\n      const buttonEl =\n        document.querySelector('#df-4e96fe71-34e4-4621-b790-83b4f6e5d8b3 button.colab-df-convert');\n      buttonEl.style.display =\n        google.colab.kernel.accessAllowed ? 'block' : 'none';\n\n      async function convertToInteractive(key) {\n        const element = document.querySelector('#df-4e96fe71-34e4-4621-b790-83b4f6e5d8b3');\n        const dataTable =\n          await google.colab.kernel.invokeFunction('convertToInteractive',\n                                                    [key], {});\n        if (!dataTable) return;\n\n        const docLinkHtml = 'Like what you see? Visit the ' +\n          '<a target=\"_blank\" href=https://colab.research.google.com/notebooks/data_table.ipynb>data table notebook</a>'\n          + ' to learn more about interactive tables.';\n        element.innerHTML = '';\n        dataTable['output_type'] = 'display_data';\n        await google.colab.output.renderOutput(dataTable, element);\n        const docLink = document.createElement('div');\n        docLink.innerHTML = docLinkHtml;\n        element.appendChild(docLink);\n      }\n    </script>\n  </div>\n\n\n<div id=\"df-69f93351-b896-4a2c-a92b-2dce4e87d805\">\n  <button class=\"colab-df-quickchart\" onclick=\"quickchart('df-69f93351-b896-4a2c-a92b-2dce4e87d805')\"\n            title=\"Suggest charts\"\n            style=\"display:none;\">\n\n<svg xmlns=\"http://www.w3.org/2000/svg\" height=\"24px\"viewBox=\"0 0 24 24\"\n     width=\"24px\">\n    <g>\n        <path d=\"M19 3H5c-1.1 0-2 .9-2 2v14c0 1.1.9 2 2 2h14c1.1 0 2-.9 2-2V5c0-1.1-.9-2-2-2zM9 17H7v-7h2v7zm4 0h-2V7h2v10zm4 0h-2v-4h2v4z\"/>\n    </g>\n</svg>\n  </button>\n\n<style>\n  .colab-df-quickchart {\n      --bg-color: #E8F0FE;\n      --fill-color: #1967D2;\n      --hover-bg-color: #E2EBFA;\n      --hover-fill-color: #174EA6;\n      --disabled-fill-color: #AAA;\n      --disabled-bg-color: #DDD;\n  }\n\n  [theme=dark] .colab-df-quickchart {\n      --bg-color: #3B4455;\n      --fill-color: #D2E3FC;\n      --hover-bg-color: #434B5C;\n      --hover-fill-color: #FFFFFF;\n      --disabled-bg-color: #3B4455;\n      --disabled-fill-color: #666;\n  }\n\n  .colab-df-quickchart {\n    background-color: var(--bg-color);\n    border: none;\n    border-radius: 50%;\n    cursor: pointer;\n    display: none;\n    fill: var(--fill-color);\n    height: 32px;\n    padding: 0;\n    width: 32px;\n  }\n\n  .colab-df-quickchart:hover {\n    background-color: var(--hover-bg-color);\n    box-shadow: 0 1px 2px rgba(60, 64, 67, 0.3), 0 1px 3px 1px rgba(60, 64, 67, 0.15);\n    fill: var(--button-hover-fill-color);\n  }\n\n  .colab-df-quickchart-complete:disabled,\n  .colab-df-quickchart-complete:disabled:hover {\n    background-color: var(--disabled-bg-color);\n    fill: var(--disabled-fill-color);\n    box-shadow: none;\n  }\n\n  .colab-df-spinner {\n    border: 2px solid var(--fill-color);\n    border-color: transparent;\n    border-bottom-color: var(--fill-color);\n    animation:\n      spin 1s steps(1) infinite;\n  }\n\n  @keyframes spin {\n    0% {\n      border-color: transparent;\n      border-bottom-color: var(--fill-color);\n      border-left-color: var(--fill-color);\n    }\n    20% {\n      border-color: transparent;\n      border-left-color: var(--fill-color);\n      border-top-color: var(--fill-color);\n    }\n    30% {\n      border-color: transparent;\n      border-left-color: var(--fill-color);\n      border-top-color: var(--fill-color);\n      border-right-color: var(--fill-color);\n    }\n    40% {\n      border-color: transparent;\n      border-right-color: var(--fill-color);\n      border-top-color: var(--fill-color);\n    }\n    60% {\n      border-color: transparent;\n      border-right-color: var(--fill-color);\n    }\n    80% {\n      border-color: transparent;\n      border-right-color: var(--fill-color);\n      border-bottom-color: var(--fill-color);\n    }\n    90% {\n      border-color: transparent;\n      border-bottom-color: var(--fill-color);\n    }\n  }\n</style>\n\n  <script>\n    async function quickchart(key) {\n      const quickchartButtonEl =\n        document.querySelector('#' + key + ' button');\n      quickchartButtonEl.disabled = true;  // To prevent multiple clicks.\n      quickchartButtonEl.classList.add('colab-df-spinner');\n      try {\n        const charts = await google.colab.kernel.invokeFunction(\n            'suggestCharts', [key], {});\n      } catch (error) {\n        console.error('Error during call to suggestCharts:', error);\n      }\n      quickchartButtonEl.classList.remove('colab-df-spinner');\n      quickchartButtonEl.classList.add('colab-df-quickchart-complete');\n    }\n    (() => {\n      let quickchartButtonEl =\n        document.querySelector('#df-69f93351-b896-4a2c-a92b-2dce4e87d805 button');\n      quickchartButtonEl.style.display =\n        google.colab.kernel.accessAllowed ? 'block' : 'none';\n    })();\n  </script>\n</div>\n\n  <div id=\"id_11561e70-990e-4b39-be4a-af7ac3071c92\">\n    <style>\n      .colab-df-generate {\n        background-color: #E8F0FE;\n        border: none;\n        border-radius: 50%;\n        cursor: pointer;\n        display: none;\n        fill: #1967D2;\n        height: 32px;\n        padding: 0 0 0 0;\n        width: 32px;\n      }\n\n      .colab-df-generate:hover {\n        background-color: #E2EBFA;\n        box-shadow: 0px 1px 2px rgba(60, 64, 67, 0.3), 0px 1px 3px 1px rgba(60, 64, 67, 0.15);\n        fill: #174EA6;\n      }\n\n      [theme=dark] .colab-df-generate {\n        background-color: #3B4455;\n        fill: #D2E3FC;\n      }\n\n      [theme=dark] .colab-df-generate:hover {\n        background-color: #434B5C;\n        box-shadow: 0px 1px 3px 1px rgba(0, 0, 0, 0.15);\n        filter: drop-shadow(0px 1px 2px rgba(0, 0, 0, 0.3));\n        fill: #FFFFFF;\n      }\n    </style>\n    <button class=\"colab-df-generate\" onclick=\"generateWithVariable('df_train')\"\n            title=\"Generate code using this dataframe.\"\n            style=\"display:none;\">\n\n  <svg xmlns=\"http://www.w3.org/2000/svg\" height=\"24px\"viewBox=\"0 0 24 24\"\n       width=\"24px\">\n    <path d=\"M7,19H8.4L18.45,9,17,7.55,7,17.6ZM5,21V16.75L18.45,3.32a2,2,0,0,1,2.83,0l1.4,1.43a1.91,1.91,0,0,1,.58,1.4,1.91,1.91,0,0,1-.58,1.4L9.25,21ZM18.45,9,17,7.55Zm-12,3A5.31,5.31,0,0,0,4.9,8.1,5.31,5.31,0,0,0,1,6.5,5.31,5.31,0,0,0,4.9,4.9,5.31,5.31,0,0,0,6.5,1,5.31,5.31,0,0,0,8.1,4.9,5.31,5.31,0,0,0,12,6.5,5.46,5.46,0,0,0,6.5,12Z\"/>\n  </svg>\n    </button>\n    <script>\n      (() => {\n      const buttonEl =\n        document.querySelector('#id_11561e70-990e-4b39-be4a-af7ac3071c92 button.colab-df-generate');\n      buttonEl.style.display =\n        google.colab.kernel.accessAllowed ? 'block' : 'none';\n\n      buttonEl.onclick = () => {\n        google.colab.notebook.generateWithVariable('df_train');\n      }\n      })();\n    </script>\n  </div>\n\n    </div>\n  </div>\n",
            "application/vnd.google.colaboratory.intrinsic+json": {
              "type": "dataframe",
              "variable_name": "df_train"
            }
          },
          "metadata": {}
        }
      ],
      "execution_count": null,
      "metadata": {
        "colab": {
          "base_uri": "https://localhost:8080/",
          "height": 597
        },
        "id": "dQ9PEUgM3vjG",
        "outputId": "dabaee02-264a-4584-ab58-2be7c234a928"
      }
    },
    {
      "cell_type": "code",
      "source": [
        "import tarfile\n",
        "import os\n",
        "\n",
        "# Open the .tgz file\n",
        "tar = tarfile.open('test-2013-en-vi.tgz', 'r:gz')\n",
        "\n",
        "# Extract all files into the current directory\n",
        "tar.extractall()\n",
        "\n",
        "# Close the .tgz file\n",
        "tar.close()\n"
      ],
      "outputs": [],
      "execution_count": null,
      "metadata": {
        "id": "6MOrRk1c3z1O"
      }
    },
    {
      "cell_type": "code",
      "source": [
        "import pandas as pd\n",
        "df_test_en = pd.read_csv('tst2013.en', delimiter = \"\\t\", header=None)\n",
        "\n",
        "df_test_vi = pd.read_csv('tst2013.vi', delimiter = \"\\t\", header=None)\n",
        "\n",
        "import pandas as pd\n",
        "import re\n",
        "\n",
        "# Rename the columns\n",
        "df_test_en.columns = ['en']\n",
        "df_test_vi.columns = ['vi']\n",
        "\n",
        "# Concatenate the dataframes\n",
        "df_test = pd.concat([df_test_vi, df_test_en], axis=1)\n",
        "# Convert 'en' column to string and then create the 'en_token' column\n",
        "df_test['en'] = df_test['en'].astype(str)\n",
        "\n",
        "\n",
        "df_test[\"vi_token\"] = df_test[\"vi\"].apply(lambda x: tokenizer(x, \"vi\"))\n",
        "df_test[\"en_token\"] = df_test[\"en\"].apply(lambda x: tokenizer(x, \"en\"))"
      ],
      "outputs": [],
      "execution_count": null,
      "metadata": {
        "id": "9ABXEjYP31Fs"
      }
    },
    {
      "cell_type": "code",
      "source": [
        "df_test"
      ],
      "outputs": [
        {
          "output_type": "execute_result",
          "execution_count": 16,
          "data": {
            "text/plain": "                                                     vi  \\\n0     Khi tôi còn nhỏ , Tôi nghĩ rằng BắcTriều Tiên ...   \n1                   Tôi đã rất tự hào về đất nước tôi .   \n2     Ở trường , chúng tôi dành rất nhiều thời gian ...   \n3     Mặc dù tôi đã từng tự hỏi không biết thế giới ...   \n4     Khi tôi lên 7 , tôi chứng kiến cảnh người ta x...   \n...                                                 ...   \n1263  Tôi thực sự tin , nếu ta coi người khác như nh...   \n1264  Những tấm hình không phải là về bản thân vấnđề...   \n1265  Không có ngày nào mà tôi không nghĩ về những n...   \n1266  Tôi hi vọng những tấm hình sẽ đánh thức một ng...   \n1267                                 Cảm ơn rất nhiều .   \n\n                                                     en  \\\n0     When I was little , I thought my country was t...   \n1                                And I was very proud .   \n2     In school , we spent a lot of time studying th...   \n3     Although I often wondered about the outside wo...   \n4     When I was seven years old , I saw my first pu...   \n...                                                 ...   \n1263  I truly believe , if we can see one another as...   \n1264  These images are not of issues . They are of p...   \n1265  There is not a day that goes by that I don &ap...   \n1266  I hope that these images awaken a force in tho...   \n1267                              Thank you very much .   \n\n                                               vi_token  \\\n0     ▁khi ▁tôi ▁còn ▁nhỏ ▁, ▁tôi ▁nghĩ ▁rằng ▁bắc t...   \n1         ▁tôi ▁đã ▁rất ▁tự ▁hào ▁về ▁đất ▁nước ▁tôi ▁.   \n2     ▁ở ▁trường ▁, ▁chúng ▁tôi ▁dành ▁rất ▁nhiều ▁t...   \n3     ▁mặc ▁dù ▁tôi ▁đã ▁từng ▁tự ▁hỏi ▁không ▁biết ...   \n4     ▁khi ▁tôi ▁lên ▁0 ▁, ▁tôi ▁chứng ▁kiến ▁cảnh ▁...   \n...                                                 ...   \n1263  ▁tôi ▁thực ▁sự ▁tin ▁, ▁nếu ▁ta ▁coi ▁người ▁k...   \n1264  ▁những ▁tấm ▁hình ▁không ▁phải ▁là ▁về ▁bản ▁t...   \n1265  ▁không ▁có ▁ngày ▁nào ▁mà ▁tôi ▁không ▁nghĩ ▁v...   \n1266  ▁tôi ▁hi ▁vọng ▁những ▁tấm ▁hình ▁sẽ ▁đánh ▁th...   \n1267                            ▁cảm ▁ơn ▁rất ▁nhiều ▁.   \n\n                                               en_token  \n0     ▁when ▁i ▁was ▁little ▁, ▁i ▁thought ▁my ▁coun...  \n1                          ▁and ▁i ▁was ▁very ▁proud ▁.  \n2     ▁in ▁school ▁, ▁we ▁spent ▁a ▁lot ▁of ▁time ▁s...  \n3     ▁although ▁i ▁often ▁wondered ▁about ▁the ▁out...  \n4     ▁when ▁i ▁was ▁seven ▁years ▁old ▁, ▁i ▁saw ▁m...  \n...                                                 ...  \n1263  ▁i ▁truly ▁believe ▁, ▁if ▁we ▁can ▁see ▁one ▁...  \n1264  ▁these ▁images ▁are ▁not ▁of ▁issues ▁. ▁they ...  \n1265  ▁there ▁is ▁not ▁a ▁day ▁that ▁goes ▁by ▁that ...  \n1266  ▁i ▁hope ▁that ▁these ▁images ▁awaken ▁a ▁forc...  \n1267                         ▁thank ▁you ▁very ▁much ▁.  \n\n[1268 rows x 4 columns]",
            "text/html": "\n  <div id=\"df-ee9c3b4c-b337-420a-9a3a-332a7f892d9f\" class=\"colab-df-container\">\n    <div>\n<style scoped>\n    .dataframe tbody tr th:only-of-type {\n        vertical-align: middle;\n    }\n\n    .dataframe tbody tr th {\n        vertical-align: top;\n    }\n\n    .dataframe thead th {\n        text-align: right;\n    }\n</style>\n<table border=\"1\" class=\"dataframe\">\n  <thead>\n    <tr style=\"text-align: right;\">\n      <th></th>\n      <th>vi</th>\n      <th>en</th>\n      <th>vi_token</th>\n      <th>en_token</th>\n    </tr>\n  </thead>\n  <tbody>\n    <tr>\n      <th>0</th>\n      <td>Khi tôi còn nhỏ , Tôi nghĩ rằng BắcTriều Tiên ...</td>\n      <td>When I was little , I thought my country was t...</td>\n      <td>▁khi ▁tôi ▁còn ▁nhỏ ▁, ▁tôi ▁nghĩ ▁rằng ▁bắc t...</td>\n      <td>▁when ▁i ▁was ▁little ▁, ▁i ▁thought ▁my ▁coun...</td>\n    </tr>\n    <tr>\n      <th>1</th>\n      <td>Tôi đã rất tự hào về đất nước tôi .</td>\n      <td>And I was very proud .</td>\n      <td>▁tôi ▁đã ▁rất ▁tự ▁hào ▁về ▁đất ▁nước ▁tôi ▁.</td>\n      <td>▁and ▁i ▁was ▁very ▁proud ▁.</td>\n    </tr>\n    <tr>\n      <th>2</th>\n      <td>Ở trường , chúng tôi dành rất nhiều thời gian ...</td>\n      <td>In school , we spent a lot of time studying th...</td>\n      <td>▁ở ▁trường ▁, ▁chúng ▁tôi ▁dành ▁rất ▁nhiều ▁t...</td>\n      <td>▁in ▁school ▁, ▁we ▁spent ▁a ▁lot ▁of ▁time ▁s...</td>\n    </tr>\n    <tr>\n      <th>3</th>\n      <td>Mặc dù tôi đã từng tự hỏi không biết thế giới ...</td>\n      <td>Although I often wondered about the outside wo...</td>\n      <td>▁mặc ▁dù ▁tôi ▁đã ▁từng ▁tự ▁hỏi ▁không ▁biết ...</td>\n      <td>▁although ▁i ▁often ▁wondered ▁about ▁the ▁out...</td>\n    </tr>\n    <tr>\n      <th>4</th>\n      <td>Khi tôi lên 7 , tôi chứng kiến cảnh người ta x...</td>\n      <td>When I was seven years old , I saw my first pu...</td>\n      <td>▁khi ▁tôi ▁lên ▁0 ▁, ▁tôi ▁chứng ▁kiến ▁cảnh ▁...</td>\n      <td>▁when ▁i ▁was ▁seven ▁years ▁old ▁, ▁i ▁saw ▁m...</td>\n    </tr>\n    <tr>\n      <th>...</th>\n      <td>...</td>\n      <td>...</td>\n      <td>...</td>\n      <td>...</td>\n    </tr>\n    <tr>\n      <th>1263</th>\n      <td>Tôi thực sự tin , nếu ta coi người khác như nh...</td>\n      <td>I truly believe , if we can see one another as...</td>\n      <td>▁tôi ▁thực ▁sự ▁tin ▁, ▁nếu ▁ta ▁coi ▁người ▁k...</td>\n      <td>▁i ▁truly ▁believe ▁, ▁if ▁we ▁can ▁see ▁one ▁...</td>\n    </tr>\n    <tr>\n      <th>1264</th>\n      <td>Những tấm hình không phải là về bản thân vấnđề...</td>\n      <td>These images are not of issues . They are of p...</td>\n      <td>▁những ▁tấm ▁hình ▁không ▁phải ▁là ▁về ▁bản ▁t...</td>\n      <td>▁these ▁images ▁are ▁not ▁of ▁issues ▁. ▁they ...</td>\n    </tr>\n    <tr>\n      <th>1265</th>\n      <td>Không có ngày nào mà tôi không nghĩ về những n...</td>\n      <td>There is not a day that goes by that I don &amp;ap...</td>\n      <td>▁không ▁có ▁ngày ▁nào ▁mà ▁tôi ▁không ▁nghĩ ▁v...</td>\n      <td>▁there ▁is ▁not ▁a ▁day ▁that ▁goes ▁by ▁that ...</td>\n    </tr>\n    <tr>\n      <th>1266</th>\n      <td>Tôi hi vọng những tấm hình sẽ đánh thức một ng...</td>\n      <td>I hope that these images awaken a force in tho...</td>\n      <td>▁tôi ▁hi ▁vọng ▁những ▁tấm ▁hình ▁sẽ ▁đánh ▁th...</td>\n      <td>▁i ▁hope ▁that ▁these ▁images ▁awaken ▁a ▁forc...</td>\n    </tr>\n    <tr>\n      <th>1267</th>\n      <td>Cảm ơn rất nhiều .</td>\n      <td>Thank you very much .</td>\n      <td>▁cảm ▁ơn ▁rất ▁nhiều ▁.</td>\n      <td>▁thank ▁you ▁very ▁much ▁.</td>\n    </tr>\n  </tbody>\n</table>\n<p>1268 rows × 4 columns</p>\n</div>\n    <div class=\"colab-df-buttons\">\n\n  <div class=\"colab-df-container\">\n    <button class=\"colab-df-convert\" onclick=\"convertToInteractive('df-ee9c3b4c-b337-420a-9a3a-332a7f892d9f')\"\n            title=\"Convert this dataframe to an interactive table.\"\n            style=\"display:none;\">\n\n  <svg xmlns=\"http://www.w3.org/2000/svg\" height=\"24px\" viewBox=\"0 -960 960 960\">\n    <path d=\"M120-120v-720h720v720H120Zm60-500h600v-160H180v160Zm220 220h160v-160H400v160Zm0 220h160v-160H400v160ZM180-400h160v-160H180v160Zm440 0h160v-160H620v160ZM180-180h160v-160H180v160Zm440 0h160v-160H620v160Z\"/>\n  </svg>\n    </button>\n\n  <style>\n    .colab-df-container {\n      display:flex;\n      gap: 12px;\n    }\n\n    .colab-df-convert {\n      background-color: #E8F0FE;\n      border: none;\n      border-radius: 50%;\n      cursor: pointer;\n      display: none;\n      fill: #1967D2;\n      height: 32px;\n      padding: 0 0 0 0;\n      width: 32px;\n    }\n\n    .colab-df-convert:hover {\n      background-color: #E2EBFA;\n      box-shadow: 0px 1px 2px rgba(60, 64, 67, 0.3), 0px 1px 3px 1px rgba(60, 64, 67, 0.15);\n      fill: #174EA6;\n    }\n\n    .colab-df-buttons div {\n      margin-bottom: 4px;\n    }\n\n    [theme=dark] .colab-df-convert {\n      background-color: #3B4455;\n      fill: #D2E3FC;\n    }\n\n    [theme=dark] .colab-df-convert:hover {\n      background-color: #434B5C;\n      box-shadow: 0px 1px 3px 1px rgba(0, 0, 0, 0.15);\n      filter: drop-shadow(0px 1px 2px rgba(0, 0, 0, 0.3));\n      fill: #FFFFFF;\n    }\n  </style>\n\n    <script>\n      const buttonEl =\n        document.querySelector('#df-ee9c3b4c-b337-420a-9a3a-332a7f892d9f button.colab-df-convert');\n      buttonEl.style.display =\n        google.colab.kernel.accessAllowed ? 'block' : 'none';\n\n      async function convertToInteractive(key) {\n        const element = document.querySelector('#df-ee9c3b4c-b337-420a-9a3a-332a7f892d9f');\n        const dataTable =\n          await google.colab.kernel.invokeFunction('convertToInteractive',\n                                                    [key], {});\n        if (!dataTable) return;\n\n        const docLinkHtml = 'Like what you see? Visit the ' +\n          '<a target=\"_blank\" href=https://colab.research.google.com/notebooks/data_table.ipynb>data table notebook</a>'\n          + ' to learn more about interactive tables.';\n        element.innerHTML = '';\n        dataTable['output_type'] = 'display_data';\n        await google.colab.output.renderOutput(dataTable, element);\n        const docLink = document.createElement('div');\n        docLink.innerHTML = docLinkHtml;\n        element.appendChild(docLink);\n      }\n    </script>\n  </div>\n\n\n<div id=\"df-f08fe443-ee52-46c2-ad41-4a7d2f96df8d\">\n  <button class=\"colab-df-quickchart\" onclick=\"quickchart('df-f08fe443-ee52-46c2-ad41-4a7d2f96df8d')\"\n            title=\"Suggest charts\"\n            style=\"display:none;\">\n\n<svg xmlns=\"http://www.w3.org/2000/svg\" height=\"24px\"viewBox=\"0 0 24 24\"\n     width=\"24px\">\n    <g>\n        <path d=\"M19 3H5c-1.1 0-2 .9-2 2v14c0 1.1.9 2 2 2h14c1.1 0 2-.9 2-2V5c0-1.1-.9-2-2-2zM9 17H7v-7h2v7zm4 0h-2V7h2v10zm4 0h-2v-4h2v4z\"/>\n    </g>\n</svg>\n  </button>\n\n<style>\n  .colab-df-quickchart {\n      --bg-color: #E8F0FE;\n      --fill-color: #1967D2;\n      --hover-bg-color: #E2EBFA;\n      --hover-fill-color: #174EA6;\n      --disabled-fill-color: #AAA;\n      --disabled-bg-color: #DDD;\n  }\n\n  [theme=dark] .colab-df-quickchart {\n      --bg-color: #3B4455;\n      --fill-color: #D2E3FC;\n      --hover-bg-color: #434B5C;\n      --hover-fill-color: #FFFFFF;\n      --disabled-bg-color: #3B4455;\n      --disabled-fill-color: #666;\n  }\n\n  .colab-df-quickchart {\n    background-color: var(--bg-color);\n    border: none;\n    border-radius: 50%;\n    cursor: pointer;\n    display: none;\n    fill: var(--fill-color);\n    height: 32px;\n    padding: 0;\n    width: 32px;\n  }\n\n  .colab-df-quickchart:hover {\n    background-color: var(--hover-bg-color);\n    box-shadow: 0 1px 2px rgba(60, 64, 67, 0.3), 0 1px 3px 1px rgba(60, 64, 67, 0.15);\n    fill: var(--button-hover-fill-color);\n  }\n\n  .colab-df-quickchart-complete:disabled,\n  .colab-df-quickchart-complete:disabled:hover {\n    background-color: var(--disabled-bg-color);\n    fill: var(--disabled-fill-color);\n    box-shadow: none;\n  }\n\n  .colab-df-spinner {\n    border: 2px solid var(--fill-color);\n    border-color: transparent;\n    border-bottom-color: var(--fill-color);\n    animation:\n      spin 1s steps(1) infinite;\n  }\n\n  @keyframes spin {\n    0% {\n      border-color: transparent;\n      border-bottom-color: var(--fill-color);\n      border-left-color: var(--fill-color);\n    }\n    20% {\n      border-color: transparent;\n      border-left-color: var(--fill-color);\n      border-top-color: var(--fill-color);\n    }\n    30% {\n      border-color: transparent;\n      border-left-color: var(--fill-color);\n      border-top-color: var(--fill-color);\n      border-right-color: var(--fill-color);\n    }\n    40% {\n      border-color: transparent;\n      border-right-color: var(--fill-color);\n      border-top-color: var(--fill-color);\n    }\n    60% {\n      border-color: transparent;\n      border-right-color: var(--fill-color);\n    }\n    80% {\n      border-color: transparent;\n      border-right-color: var(--fill-color);\n      border-bottom-color: var(--fill-color);\n    }\n    90% {\n      border-color: transparent;\n      border-bottom-color: var(--fill-color);\n    }\n  }\n</style>\n\n  <script>\n    async function quickchart(key) {\n      const quickchartButtonEl =\n        document.querySelector('#' + key + ' button');\n      quickchartButtonEl.disabled = true;  // To prevent multiple clicks.\n      quickchartButtonEl.classList.add('colab-df-spinner');\n      try {\n        const charts = await google.colab.kernel.invokeFunction(\n            'suggestCharts', [key], {});\n      } catch (error) {\n        console.error('Error during call to suggestCharts:', error);\n      }\n      quickchartButtonEl.classList.remove('colab-df-spinner');\n      quickchartButtonEl.classList.add('colab-df-quickchart-complete');\n    }\n    (() => {\n      let quickchartButtonEl =\n        document.querySelector('#df-f08fe443-ee52-46c2-ad41-4a7d2f96df8d button');\n      quickchartButtonEl.style.display =\n        google.colab.kernel.accessAllowed ? 'block' : 'none';\n    })();\n  </script>\n</div>\n\n  <div id=\"id_ee5a154a-5971-4f9d-9e01-a300c8c3d736\">\n    <style>\n      .colab-df-generate {\n        background-color: #E8F0FE;\n        border: none;\n        border-radius: 50%;\n        cursor: pointer;\n        display: none;\n        fill: #1967D2;\n        height: 32px;\n        padding: 0 0 0 0;\n        width: 32px;\n      }\n\n      .colab-df-generate:hover {\n        background-color: #E2EBFA;\n        box-shadow: 0px 1px 2px rgba(60, 64, 67, 0.3), 0px 1px 3px 1px rgba(60, 64, 67, 0.15);\n        fill: #174EA6;\n      }\n\n      [theme=dark] .colab-df-generate {\n        background-color: #3B4455;\n        fill: #D2E3FC;\n      }\n\n      [theme=dark] .colab-df-generate:hover {\n        background-color: #434B5C;\n        box-shadow: 0px 1px 3px 1px rgba(0, 0, 0, 0.15);\n        filter: drop-shadow(0px 1px 2px rgba(0, 0, 0, 0.3));\n        fill: #FFFFFF;\n      }\n    </style>\n    <button class=\"colab-df-generate\" onclick=\"generateWithVariable('df_test')\"\n            title=\"Generate code using this dataframe.\"\n            style=\"display:none;\">\n\n  <svg xmlns=\"http://www.w3.org/2000/svg\" height=\"24px\"viewBox=\"0 0 24 24\"\n       width=\"24px\">\n    <path d=\"M7,19H8.4L18.45,9,17,7.55,7,17.6ZM5,21V16.75L18.45,3.32a2,2,0,0,1,2.83,0l1.4,1.43a1.91,1.91,0,0,1,.58,1.4,1.91,1.91,0,0,1-.58,1.4L9.25,21ZM18.45,9,17,7.55Zm-12,3A5.31,5.31,0,0,0,4.9,8.1,5.31,5.31,0,0,0,1,6.5,5.31,5.31,0,0,0,4.9,4.9,5.31,5.31,0,0,0,6.5,1,5.31,5.31,0,0,0,8.1,4.9,5.31,5.31,0,0,0,12,6.5,5.46,5.46,0,0,0,6.5,12Z\"/>\n  </svg>\n    </button>\n    <script>\n      (() => {\n      const buttonEl =\n        document.querySelector('#id_ee5a154a-5971-4f9d-9e01-a300c8c3d736 button.colab-df-generate');\n      buttonEl.style.display =\n        google.colab.kernel.accessAllowed ? 'block' : 'none';\n\n      buttonEl.onclick = () => {\n        google.colab.notebook.generateWithVariable('df_test');\n      }\n      })();\n    </script>\n  </div>\n\n    </div>\n  </div>\n",
            "application/vnd.google.colaboratory.intrinsic+json": {
              "type": "dataframe",
              "variable_name": "df_test",
              "summary": "{\n  \"name\": \"df_test\",\n  \"rows\": 1268,\n  \"fields\": [\n    {\n      \"column\": \"vi\",\n      \"properties\": {\n        \"dtype\": \"string\",\n        \"num_unique_values\": 1260,\n        \"samples\": [\n          \"T\\u00f4i v\\u00f4 c\\u00f9ng ng\\u1ea1c nhi\\u00ean khi m\\u1ed9t ng\\u01b0\\u1eddi ho\\u00e0n to\\u00e0n xa l\\u1ea1 l\\u1ea1i quan t\\u00e2m t\\u1edbi m\\u1ee9c h\\u1ecfi t\\u00f4i nh\\u01b0 v\\u1eady .\",\n          \"NG\\u01b0\\u1eddi n\\u00e0o s\\u1ebd s\\u00e1ng ch\\u1ebf ra c\\u00e1i c\\u00f4ng ngh\\u1ec7 cho cu\\u1ed9c c\\u00e1ch m\\u1ea1ng xanh ? C\\u00e1c tr\\u01b0\\u1eddng \\u0111\\u1ea1i h\\u1ecdc \\u01b0 ? qu\\u00ean \\u0111i !\",\n          \"Vi\\u1ec7c ng\\u01b0\\u1eddi B\\u1eafc Tri\\u1ec1u Ti\\u00ean ph\\u1ea3i che d\\u1ea5u danh t\\u00ednh c\\u1ee7a m\\u00ecnh v\\u00e0 \\u0111\\u1ea5u tranh \\u0111\\u1ec3 t\\u1ed3n t\\u1ea1i qu\\u1ea3 l\\u00e0 m\\u1ed9t bi k\\u1ecbch .\"\n        ],\n        \"semantic_type\": \"\",\n        \"description\": \"\"\n      }\n    },\n    {\n      \"column\": \"en\",\n      \"properties\": {\n        \"dtype\": \"string\",\n        \"num_unique_values\": 1252,\n        \"samples\": [\n          \"But frustratingly , with Parkinson &apos;s disease and other movement disorders , there are no biomarkers , so there &apos;s no simple blood test that you can do , and the best that we have is like this 20-minute neurologist test .\",\n          \"This is Manuru . When his father died , his uncle trafficked him to work with him in the mines .\",\n          \"We got dirty , and we loved it .\"\n        ],\n        \"semantic_type\": \"\",\n        \"description\": \"\"\n      }\n    },\n    {\n      \"column\": \"vi_token\",\n      \"properties\": {\n        \"dtype\": \"string\",\n        \"num_unique_values\": 1260,\n        \"samples\": [\n          \"\\u2581t\\u00f4i \\u2581v\\u00f4 \\u2581c\\u00f9ng \\u2581ng\\u1ea1c \\u2581nhi\\u00ean \\u2581khi \\u2581m\\u1ed9t \\u2581ng\\u01b0\\u1eddi \\u2581ho\\u00e0n \\u2581to\\u00e0n \\u2581xa \\u2581l\\u1ea1 \\u2581l\\u1ea1i \\u2581quan \\u2581t\\u00e2m \\u2581t\\u1edbi \\u2581m\\u1ee9c \\u2581h\\u1ecfi \\u2581t\\u00f4i \\u2581nh\\u01b0 \\u2581v\\u1eady \\u2581.\",\n          \"\\u2581ng\\u01b0\\u1eddi \\u2581n\\u00e0o \\u2581s\\u1ebd \\u2581s\\u00e1ng \\u2581ch\\u1ebf \\u2581ra \\u2581c\\u00e1i \\u2581c\\u00f4ng \\u2581ngh\\u1ec7 \\u2581cho \\u2581cu\\u1ed9c \\u2581c\\u00e1ch \\u2581m\\u1ea1ng \\u2581xanh \\u2581? \\u2581c\\u00e1c \\u2581tr\\u01b0\\u1eddng \\u2581\\u0111\\u1ea1i \\u2581h\\u1ecdc \\u2581\\u01b0 \\u2581? \\u2581qu\\u00ean \\u2581\\u0111i \\u2581!\",\n          \"\\u2581vi\\u1ec7c \\u2581ng\\u01b0\\u1eddi \\u2581b\\u1eafc \\u2581tri\\u1ec1u \\u2581ti\\u00ean \\u2581ph\\u1ea3i \\u2581che \\u2581d\\u1ea5u \\u2581danh \\u2581t\\u00ednh \\u2581c\\u1ee7a \\u2581m\\u00ecnh \\u2581v\\u00e0 \\u2581\\u0111\\u1ea5u \\u2581tranh \\u2581\\u0111\\u1ec3 \\u2581t\\u1ed3n \\u2581t\\u1ea1i \\u2581qu\\u1ea3 \\u2581l\\u00e0 \\u2581m\\u1ed9t \\u2581bi \\u2581k\\u1ecbch \\u2581.\"\n        ],\n        \"semantic_type\": \"\",\n        \"description\": \"\"\n      }\n    },\n    {\n      \"column\": \"en_token\",\n      \"properties\": {\n        \"dtype\": \"string\",\n        \"num_unique_values\": 1252,\n        \"samples\": [\n          \"\\u2581but \\u2581frustrating ly \\u2581, \\u2581with \\u2581parkinson \\u2581& ap os ; s \\u2581disease \\u2581and \\u2581other \\u2581movement \\u2581disorders \\u2581, \\u2581there \\u2581are \\u2581no \\u2581biom ark ers \\u2581, \\u2581so \\u2581there \\u2581& ap os ; s \\u2581no \\u2581simple \\u2581blood \\u2581test \\u2581that \\u2581you \\u2581can \\u2581do \\u2581, \\u2581and \\u2581the \\u2581best \\u2581that \\u2581we \\u2581have \\u2581is \\u2581like \\u2581this \\u258100- minute \\u2581neurolog ist \\u2581test \\u2581.\",\n          \"\\u2581this \\u2581is \\u2581man uru \\u2581. \\u2581when \\u2581his \\u2581father \\u2581died \\u2581, \\u2581his \\u2581uncle \\u2581traff icked \\u2581him \\u2581to \\u2581work \\u2581with \\u2581him \\u2581in \\u2581the \\u2581mines \\u2581.\",\n          \"\\u2581we \\u2581got \\u2581dirty \\u2581, \\u2581and \\u2581we \\u2581loved \\u2581it \\u2581.\"\n        ],\n        \"semantic_type\": \"\",\n        \"description\": \"\"\n      }\n    }\n  ]\n}"
            }
          },
          "metadata": {}
        }
      ],
      "execution_count": null,
      "metadata": {
        "colab": {
          "base_uri": "https://localhost:8080/",
          "height": 580
        },
        "id": "A4L7QWXy31xW",
        "outputId": "8a09ae62-7c92-4760-de76-c5d196012b7f"
      }
    },
    {
      "cell_type": "code",
      "source": [
        "!pip install sacremoses"
      ],
      "outputs": [
        {
          "output_type": "stream",
          "name": "stdout",
          "text": "Collecting sacremoses\n  Downloading sacremoses-0.1.1-py3-none-any.whl (897 kB)\n\u001b[?25l     \u001b[90m━━━━━━━━━━━━━━━━━━━━━━━━━━━━━━━━━━━━━━━━\u001b[0m \u001b[32m0.0/897.5 kB\u001b[0m \u001b[31m?\u001b[0m eta \u001b[36m-:--:--\u001b[0m\r\u001b[2K     \u001b[91m━━━━━━\u001b[0m\u001b[90m╺\u001b[0m\u001b[90m━━━━━━━━━━━━━━━━━━━━━━━━━━━━━━━━━\u001b[0m \u001b[32m143.4/897.5 kB\u001b[0m \u001b[31m4.3 MB/s\u001b[0m eta \u001b[36m0:00:01\u001b[0m\r\u001b[2K     \u001b[91m━━━━━━━━━━━━━━━━━━━\u001b[0m\u001b[90m╺\u001b[0m\u001b[90m━━━━━━━━━━━━━━━━━━━━\u001b[0m \u001b[32m430.1/897.5 kB\u001b[0m \u001b[31m6.4 MB/s\u001b[0m eta \u001b[36m0:00:01\u001b[0m\r\u001b[2K     \u001b[91m━━━━━━━━━━━━━━━━━━━━━━━━━━━━━━━━━━━\u001b[0m\u001b[91m╸\u001b[0m\u001b[90m━━━━\u001b[0m \u001b[32m798.7/897.5 kB\u001b[0m \u001b[31m7.7 MB/s\u001b[0m eta \u001b[36m0:00:01\u001b[0m\r\u001b[2K     \u001b[90m━━━━━━━━━━━━━━━━━━━━━━━━━━━━━━━━━━━━━━━━\u001b[0m \u001b[32m897.5/897.5 kB\u001b[0m \u001b[31m7.3 MB/s\u001b[0m eta \u001b[36m0:00:00\u001b[0m\n\u001b[?25hRequirement already satisfied: regex in /usr/local/lib/python3.10/dist-packages (from sacremoses) (2024.5.15)\nRequirement already satisfied: click in /usr/local/lib/python3.10/dist-packages (from sacremoses) (8.1.7)\nRequirement already satisfied: joblib in /usr/local/lib/python3.10/dist-packages (from sacremoses) (1.4.2)\nRequirement already satisfied: tqdm in /usr/local/lib/python3.10/dist-packages (from sacremoses) (4.66.4)\nInstalling collected packages: sacremoses\nSuccessfully installed sacremoses-0.1.1\n"
        }
      ],
      "execution_count": null,
      "metadata": {
        "colab": {
          "base_uri": "https://localhost:8080/"
        },
        "id": "jMbSO9r1352J",
        "outputId": "b19d820c-950e-4176-c080-c0f21421d38c"
      }
    },
    {
      "cell_type": "code",
      "source": [
        "from sacremoses import MosesPunctNormalizer\n",
        "\n",
        "mpn_vi = MosesPunctNormalizer(lang = \"vi\")\n",
        "mpn_en = MosesPunctNormalizer(lang = \"en\")\n",
        "\n",
        "def punc_norm(text, lang):\n",
        "  if lang == \"vi\":\n",
        "    return mpn_vi.normalize(text)\n",
        "\n",
        "  return mpn_en.normalize(text)"
      ],
      "outputs": [],
      "execution_count": null,
      "metadata": {
        "id": "TOMg6lm-37P5"
      }
    },
    {
      "cell_type": "code",
      "source": [
        "df_train[\"vi_punc\"] = df_train[\"vi\"].apply(lambda x: punc_norm(x, \"vi\"))\n",
        "df_train[\"en_punc\"] = df_train[\"en\"].apply(lambda x: punc_norm(x, \"en\"))\n",
        "\n",
        "df_train"
      ],
      "outputs": [
        {
          "output_type": "execute_result",
          "execution_count": 19,
          "data": {
            "text/plain": "                                                       vi  \\\n0                Khoa học đằng sau một tiêu đề về khí hậu   \n1       Trong 4 phút , chuyên gia hoá học khí quyển Ra...   \n2       Tôi muốn cho các bạn biết về sự to lớn của nhữ...   \n3       Có những dòng trông như thế này khi bàn về biế...   \n4       Cả hai đều là một nhánh của cùng một lĩnh vực ...   \n...                                                   ...   \n132995  Cái cô cần là sự cảm thông và lòng trắc ẩn , v...   \n132996  Mà chính hệ thống y tế mà tôi góp phần , đã là...   \n132997  Nếu giờ đây cô đang xem chương trình này , tôi...   \n132998  Paul Pholeros : Làm sao để bớt nghèo khổ ? Hãy...   \n132999  Năm 1985 , kiến trúc sư Paul Pholeros được gia...   \n\n                                                       en  \\\n0       Rachel Pike : The science behind a climate hea...   \n1       In 4 minutes , atmospheric chemist Rachel Pike...   \n2       I &apos;d like to talk to you today about the ...   \n3       Headlines that look like this when they have t...   \n4       They are both two branches of the same field o...   \n...                                                   ...   \n132995  You needed my empathy and compassion , and abo...   \n132996  Maybe the system , of which I was a part , was...   \n132997  If you &apos;re watching this now , I hope you...   \n132998  Paul Pholeros : How to reduce poverty ? Fix homes   \n132999  In 1985 , architect Paul Pholeros was challeng...   \n\n                                                 vi_token  \\\n0       ▁khoa ▁học ▁đằng ▁sau ▁một ▁tiêu ▁đề ▁về ▁khí ...   \n1       ▁trong ▁0 ▁phút ▁, ▁chuyên ▁gia ▁hoá ▁học ▁khí...   \n2       ▁tôi ▁muốn ▁cho ▁các ▁bạn ▁biết ▁về ▁sự ▁to ▁l...   \n3       ▁có ▁những ▁dòng ▁trông ▁như ▁thế ▁này ▁khi ▁b...   \n4       ▁cả ▁hai ▁đều ▁là ▁một ▁nhánh ▁của ▁cùng ▁một ...   \n...                                                   ...   \n132995  ▁cái ▁cô ▁cần ▁là ▁sự ▁cảm ▁thông ▁và ▁lòng ▁t...   \n132996  ▁mà ▁chính ▁hệ ▁thống ▁y ▁tế ▁mà ▁tôi ▁góp ▁ph...   \n132997  ▁nếu ▁giờ ▁đây ▁cô ▁đang ▁xem ▁chương ▁trình ▁...   \n132998  ▁paul ▁ph ol eros ▁: ▁làm ▁sao ▁để ▁bớt ▁nghèo...   \n132999  ▁năm ▁0000 ▁, ▁kiến ▁trúc ▁sư ▁paul ▁ph ol ero...   \n\n                                                 en_token  \\\n0       ▁rachel ▁pike ▁: ▁the ▁science ▁behind ▁a ▁cli...   \n1       ▁in ▁0 ▁minutes ▁, ▁atmospheric ▁chemist ▁rach...   \n2       ▁i ▁& ap os ; d ▁like ▁to ▁talk ▁to ▁you ▁toda...   \n3       ▁headlines ▁that ▁look ▁like ▁this ▁when ▁they...   \n4       ▁they ▁are ▁both ▁two ▁branches ▁of ▁the ▁same...   \n...                                                   ...   \n132995  ▁you ▁needed ▁my ▁empathy ▁and ▁compassion ▁, ...   \n132996  ▁maybe ▁the ▁system ▁, ▁of ▁which ▁i ▁was ▁a ▁...   \n132997  ▁if ▁you ▁& ap os ; re ▁watching ▁this ▁now ▁,...   \n132998  ▁paul ▁ph ol eros ▁: ▁how ▁to ▁reduce ▁poverty...   \n132999  ▁in ▁0000 ▁, ▁architect ▁paul ▁ph ol eros ▁was...   \n\n                                                  vi_punc  \\\n0                Khoa học đằng sau một tiêu đề về khí hậu   \n1       Trong 4 phút , chuyên gia hoá học khí quyển Ra...   \n2       Tôi muốn cho các bạn biết về sự to lớn của nhữ...   \n3       Có những dòng trông như thế này khi bàn về biế...   \n4       Cả hai đều là một nhánh của cùng một lĩnh vực ...   \n...                                                   ...   \n132995  Cái cô cần là sự cảm thông và lòng trắc ẩn , v...   \n132996  Mà chính hệ thống y tế mà tôi góp phần , đã là...   \n132997  Nếu giờ đây cô đang xem chương trình này , tôi...   \n132998  Paul Pholeros: Làm sao để bớt nghèo khổ ? Hãy ...   \n132999  Năm 1985 , kiến trúc sư Paul Pholeros được gia...   \n\n                                                  en_punc  \n0       Rachel Pike: The science behind a climate head...  \n1       In 4 minutes , atmospheric chemist Rachel Pike...  \n2       I &apos;d like to talk to you today about the ...  \n3       Headlines that look like this when they have t...  \n4       They are both two branches of the same field o...  \n...                                                   ...  \n132995  You needed my empathy and compassion , and abo...  \n132996  Maybe the system , of which I was a part , was...  \n132997  If you &apos;re watching this now , I hope you...  \n132998   Paul Pholeros: How to reduce poverty ? Fix homes  \n132999  In 1985 , architect Paul Pholeros was challeng...  \n\n[133000 rows x 6 columns]",
            "text/html": "\n  <div id=\"df-2ae5937f-2e8f-4f3b-8361-ea2bc1d87554\" class=\"colab-df-container\">\n    <div>\n<style scoped>\n    .dataframe tbody tr th:only-of-type {\n        vertical-align: middle;\n    }\n\n    .dataframe tbody tr th {\n        vertical-align: top;\n    }\n\n    .dataframe thead th {\n        text-align: right;\n    }\n</style>\n<table border=\"1\" class=\"dataframe\">\n  <thead>\n    <tr style=\"text-align: right;\">\n      <th></th>\n      <th>vi</th>\n      <th>en</th>\n      <th>vi_token</th>\n      <th>en_token</th>\n      <th>vi_punc</th>\n      <th>en_punc</th>\n    </tr>\n  </thead>\n  <tbody>\n    <tr>\n      <th>0</th>\n      <td>Khoa học đằng sau một tiêu đề về khí hậu</td>\n      <td>Rachel Pike : The science behind a climate hea...</td>\n      <td>▁khoa ▁học ▁đằng ▁sau ▁một ▁tiêu ▁đề ▁về ▁khí ...</td>\n      <td>▁rachel ▁pike ▁: ▁the ▁science ▁behind ▁a ▁cli...</td>\n      <td>Khoa học đằng sau một tiêu đề về khí hậu</td>\n      <td>Rachel Pike: The science behind a climate head...</td>\n    </tr>\n    <tr>\n      <th>1</th>\n      <td>Trong 4 phút , chuyên gia hoá học khí quyển Ra...</td>\n      <td>In 4 minutes , atmospheric chemist Rachel Pike...</td>\n      <td>▁trong ▁0 ▁phút ▁, ▁chuyên ▁gia ▁hoá ▁học ▁khí...</td>\n      <td>▁in ▁0 ▁minutes ▁, ▁atmospheric ▁chemist ▁rach...</td>\n      <td>Trong 4 phút , chuyên gia hoá học khí quyển Ra...</td>\n      <td>In 4 minutes , atmospheric chemist Rachel Pike...</td>\n    </tr>\n    <tr>\n      <th>2</th>\n      <td>Tôi muốn cho các bạn biết về sự to lớn của nhữ...</td>\n      <td>I &amp;apos;d like to talk to you today about the ...</td>\n      <td>▁tôi ▁muốn ▁cho ▁các ▁bạn ▁biết ▁về ▁sự ▁to ▁l...</td>\n      <td>▁i ▁&amp; ap os ; d ▁like ▁to ▁talk ▁to ▁you ▁toda...</td>\n      <td>Tôi muốn cho các bạn biết về sự to lớn của nhữ...</td>\n      <td>I &amp;apos;d like to talk to you today about the ...</td>\n    </tr>\n    <tr>\n      <th>3</th>\n      <td>Có những dòng trông như thế này khi bàn về biế...</td>\n      <td>Headlines that look like this when they have t...</td>\n      <td>▁có ▁những ▁dòng ▁trông ▁như ▁thế ▁này ▁khi ▁b...</td>\n      <td>▁headlines ▁that ▁look ▁like ▁this ▁when ▁they...</td>\n      <td>Có những dòng trông như thế này khi bàn về biế...</td>\n      <td>Headlines that look like this when they have t...</td>\n    </tr>\n    <tr>\n      <th>4</th>\n      <td>Cả hai đều là một nhánh của cùng một lĩnh vực ...</td>\n      <td>They are both two branches of the same field o...</td>\n      <td>▁cả ▁hai ▁đều ▁là ▁một ▁nhánh ▁của ▁cùng ▁một ...</td>\n      <td>▁they ▁are ▁both ▁two ▁branches ▁of ▁the ▁same...</td>\n      <td>Cả hai đều là một nhánh của cùng một lĩnh vực ...</td>\n      <td>They are both two branches of the same field o...</td>\n    </tr>\n    <tr>\n      <th>...</th>\n      <td>...</td>\n      <td>...</td>\n      <td>...</td>\n      <td>...</td>\n      <td>...</td>\n      <td>...</td>\n    </tr>\n    <tr>\n      <th>132995</th>\n      <td>Cái cô cần là sự cảm thông và lòng trắc ẩn , v...</td>\n      <td>You needed my empathy and compassion , and abo...</td>\n      <td>▁cái ▁cô ▁cần ▁là ▁sự ▁cảm ▁thông ▁và ▁lòng ▁t...</td>\n      <td>▁you ▁needed ▁my ▁empathy ▁and ▁compassion ▁, ...</td>\n      <td>Cái cô cần là sự cảm thông và lòng trắc ẩn , v...</td>\n      <td>You needed my empathy and compassion , and abo...</td>\n    </tr>\n    <tr>\n      <th>132996</th>\n      <td>Mà chính hệ thống y tế mà tôi góp phần , đã là...</td>\n      <td>Maybe the system , of which I was a part , was...</td>\n      <td>▁mà ▁chính ▁hệ ▁thống ▁y ▁tế ▁mà ▁tôi ▁góp ▁ph...</td>\n      <td>▁maybe ▁the ▁system ▁, ▁of ▁which ▁i ▁was ▁a ▁...</td>\n      <td>Mà chính hệ thống y tế mà tôi góp phần , đã là...</td>\n      <td>Maybe the system , of which I was a part , was...</td>\n    </tr>\n    <tr>\n      <th>132997</th>\n      <td>Nếu giờ đây cô đang xem chương trình này , tôi...</td>\n      <td>If you &amp;apos;re watching this now , I hope you...</td>\n      <td>▁nếu ▁giờ ▁đây ▁cô ▁đang ▁xem ▁chương ▁trình ▁...</td>\n      <td>▁if ▁you ▁&amp; ap os ; re ▁watching ▁this ▁now ▁,...</td>\n      <td>Nếu giờ đây cô đang xem chương trình này , tôi...</td>\n      <td>If you &amp;apos;re watching this now , I hope you...</td>\n    </tr>\n    <tr>\n      <th>132998</th>\n      <td>Paul Pholeros : Làm sao để bớt nghèo khổ ? Hãy...</td>\n      <td>Paul Pholeros : How to reduce poverty ? Fix homes</td>\n      <td>▁paul ▁ph ol eros ▁: ▁làm ▁sao ▁để ▁bớt ▁nghèo...</td>\n      <td>▁paul ▁ph ol eros ▁: ▁how ▁to ▁reduce ▁poverty...</td>\n      <td>Paul Pholeros: Làm sao để bớt nghèo khổ ? Hãy ...</td>\n      <td>Paul Pholeros: How to reduce poverty ? Fix homes</td>\n    </tr>\n    <tr>\n      <th>132999</th>\n      <td>Năm 1985 , kiến trúc sư Paul Pholeros được gia...</td>\n      <td>In 1985 , architect Paul Pholeros was challeng...</td>\n      <td>▁năm ▁0000 ▁, ▁kiến ▁trúc ▁sư ▁paul ▁ph ol ero...</td>\n      <td>▁in ▁0000 ▁, ▁architect ▁paul ▁ph ol eros ▁was...</td>\n      <td>Năm 1985 , kiến trúc sư Paul Pholeros được gia...</td>\n      <td>In 1985 , architect Paul Pholeros was challeng...</td>\n    </tr>\n  </tbody>\n</table>\n<p>133000 rows × 6 columns</p>\n</div>\n    <div class=\"colab-df-buttons\">\n\n  <div class=\"colab-df-container\">\n    <button class=\"colab-df-convert\" onclick=\"convertToInteractive('df-2ae5937f-2e8f-4f3b-8361-ea2bc1d87554')\"\n            title=\"Convert this dataframe to an interactive table.\"\n            style=\"display:none;\">\n\n  <svg xmlns=\"http://www.w3.org/2000/svg\" height=\"24px\" viewBox=\"0 -960 960 960\">\n    <path d=\"M120-120v-720h720v720H120Zm60-500h600v-160H180v160Zm220 220h160v-160H400v160Zm0 220h160v-160H400v160ZM180-400h160v-160H180v160Zm440 0h160v-160H620v160ZM180-180h160v-160H180v160Zm440 0h160v-160H620v160Z\"/>\n  </svg>\n    </button>\n\n  <style>\n    .colab-df-container {\n      display:flex;\n      gap: 12px;\n    }\n\n    .colab-df-convert {\n      background-color: #E8F0FE;\n      border: none;\n      border-radius: 50%;\n      cursor: pointer;\n      display: none;\n      fill: #1967D2;\n      height: 32px;\n      padding: 0 0 0 0;\n      width: 32px;\n    }\n\n    .colab-df-convert:hover {\n      background-color: #E2EBFA;\n      box-shadow: 0px 1px 2px rgba(60, 64, 67, 0.3), 0px 1px 3px 1px rgba(60, 64, 67, 0.15);\n      fill: #174EA6;\n    }\n\n    .colab-df-buttons div {\n      margin-bottom: 4px;\n    }\n\n    [theme=dark] .colab-df-convert {\n      background-color: #3B4455;\n      fill: #D2E3FC;\n    }\n\n    [theme=dark] .colab-df-convert:hover {\n      background-color: #434B5C;\n      box-shadow: 0px 1px 3px 1px rgba(0, 0, 0, 0.15);\n      filter: drop-shadow(0px 1px 2px rgba(0, 0, 0, 0.3));\n      fill: #FFFFFF;\n    }\n  </style>\n\n    <script>\n      const buttonEl =\n        document.querySelector('#df-2ae5937f-2e8f-4f3b-8361-ea2bc1d87554 button.colab-df-convert');\n      buttonEl.style.display =\n        google.colab.kernel.accessAllowed ? 'block' : 'none';\n\n      async function convertToInteractive(key) {\n        const element = document.querySelector('#df-2ae5937f-2e8f-4f3b-8361-ea2bc1d87554');\n        const dataTable =\n          await google.colab.kernel.invokeFunction('convertToInteractive',\n                                                    [key], {});\n        if (!dataTable) return;\n\n        const docLinkHtml = 'Like what you see? Visit the ' +\n          '<a target=\"_blank\" href=https://colab.research.google.com/notebooks/data_table.ipynb>data table notebook</a>'\n          + ' to learn more about interactive tables.';\n        element.innerHTML = '';\n        dataTable['output_type'] = 'display_data';\n        await google.colab.output.renderOutput(dataTable, element);\n        const docLink = document.createElement('div');\n        docLink.innerHTML = docLinkHtml;\n        element.appendChild(docLink);\n      }\n    </script>\n  </div>\n\n\n<div id=\"df-aa4d635c-5e2a-414e-95d6-3338ff4c3bea\">\n  <button class=\"colab-df-quickchart\" onclick=\"quickchart('df-aa4d635c-5e2a-414e-95d6-3338ff4c3bea')\"\n            title=\"Suggest charts\"\n            style=\"display:none;\">\n\n<svg xmlns=\"http://www.w3.org/2000/svg\" height=\"24px\"viewBox=\"0 0 24 24\"\n     width=\"24px\">\n    <g>\n        <path d=\"M19 3H5c-1.1 0-2 .9-2 2v14c0 1.1.9 2 2 2h14c1.1 0 2-.9 2-2V5c0-1.1-.9-2-2-2zM9 17H7v-7h2v7zm4 0h-2V7h2v10zm4 0h-2v-4h2v4z\"/>\n    </g>\n</svg>\n  </button>\n\n<style>\n  .colab-df-quickchart {\n      --bg-color: #E8F0FE;\n      --fill-color: #1967D2;\n      --hover-bg-color: #E2EBFA;\n      --hover-fill-color: #174EA6;\n      --disabled-fill-color: #AAA;\n      --disabled-bg-color: #DDD;\n  }\n\n  [theme=dark] .colab-df-quickchart {\n      --bg-color: #3B4455;\n      --fill-color: #D2E3FC;\n      --hover-bg-color: #434B5C;\n      --hover-fill-color: #FFFFFF;\n      --disabled-bg-color: #3B4455;\n      --disabled-fill-color: #666;\n  }\n\n  .colab-df-quickchart {\n    background-color: var(--bg-color);\n    border: none;\n    border-radius: 50%;\n    cursor: pointer;\n    display: none;\n    fill: var(--fill-color);\n    height: 32px;\n    padding: 0;\n    width: 32px;\n  }\n\n  .colab-df-quickchart:hover {\n    background-color: var(--hover-bg-color);\n    box-shadow: 0 1px 2px rgba(60, 64, 67, 0.3), 0 1px 3px 1px rgba(60, 64, 67, 0.15);\n    fill: var(--button-hover-fill-color);\n  }\n\n  .colab-df-quickchart-complete:disabled,\n  .colab-df-quickchart-complete:disabled:hover {\n    background-color: var(--disabled-bg-color);\n    fill: var(--disabled-fill-color);\n    box-shadow: none;\n  }\n\n  .colab-df-spinner {\n    border: 2px solid var(--fill-color);\n    border-color: transparent;\n    border-bottom-color: var(--fill-color);\n    animation:\n      spin 1s steps(1) infinite;\n  }\n\n  @keyframes spin {\n    0% {\n      border-color: transparent;\n      border-bottom-color: var(--fill-color);\n      border-left-color: var(--fill-color);\n    }\n    20% {\n      border-color: transparent;\n      border-left-color: var(--fill-color);\n      border-top-color: var(--fill-color);\n    }\n    30% {\n      border-color: transparent;\n      border-left-color: var(--fill-color);\n      border-top-color: var(--fill-color);\n      border-right-color: var(--fill-color);\n    }\n    40% {\n      border-color: transparent;\n      border-right-color: var(--fill-color);\n      border-top-color: var(--fill-color);\n    }\n    60% {\n      border-color: transparent;\n      border-right-color: var(--fill-color);\n    }\n    80% {\n      border-color: transparent;\n      border-right-color: var(--fill-color);\n      border-bottom-color: var(--fill-color);\n    }\n    90% {\n      border-color: transparent;\n      border-bottom-color: var(--fill-color);\n    }\n  }\n</style>\n\n  <script>\n    async function quickchart(key) {\n      const quickchartButtonEl =\n        document.querySelector('#' + key + ' button');\n      quickchartButtonEl.disabled = true;  // To prevent multiple clicks.\n      quickchartButtonEl.classList.add('colab-df-spinner');\n      try {\n        const charts = await google.colab.kernel.invokeFunction(\n            'suggestCharts', [key], {});\n      } catch (error) {\n        console.error('Error during call to suggestCharts:', error);\n      }\n      quickchartButtonEl.classList.remove('colab-df-spinner');\n      quickchartButtonEl.classList.add('colab-df-quickchart-complete');\n    }\n    (() => {\n      let quickchartButtonEl =\n        document.querySelector('#df-aa4d635c-5e2a-414e-95d6-3338ff4c3bea button');\n      quickchartButtonEl.style.display =\n        google.colab.kernel.accessAllowed ? 'block' : 'none';\n    })();\n  </script>\n</div>\n\n  <div id=\"id_c098f67c-4a2f-4b26-be37-90d5da241b12\">\n    <style>\n      .colab-df-generate {\n        background-color: #E8F0FE;\n        border: none;\n        border-radius: 50%;\n        cursor: pointer;\n        display: none;\n        fill: #1967D2;\n        height: 32px;\n        padding: 0 0 0 0;\n        width: 32px;\n      }\n\n      .colab-df-generate:hover {\n        background-color: #E2EBFA;\n        box-shadow: 0px 1px 2px rgba(60, 64, 67, 0.3), 0px 1px 3px 1px rgba(60, 64, 67, 0.15);\n        fill: #174EA6;\n      }\n\n      [theme=dark] .colab-df-generate {\n        background-color: #3B4455;\n        fill: #D2E3FC;\n      }\n\n      [theme=dark] .colab-df-generate:hover {\n        background-color: #434B5C;\n        box-shadow: 0px 1px 3px 1px rgba(0, 0, 0, 0.15);\n        filter: drop-shadow(0px 1px 2px rgba(0, 0, 0, 0.3));\n        fill: #FFFFFF;\n      }\n    </style>\n    <button class=\"colab-df-generate\" onclick=\"generateWithVariable('df_train')\"\n            title=\"Generate code using this dataframe.\"\n            style=\"display:none;\">\n\n  <svg xmlns=\"http://www.w3.org/2000/svg\" height=\"24px\"viewBox=\"0 0 24 24\"\n       width=\"24px\">\n    <path d=\"M7,19H8.4L18.45,9,17,7.55,7,17.6ZM5,21V16.75L18.45,3.32a2,2,0,0,1,2.83,0l1.4,1.43a1.91,1.91,0,0,1,.58,1.4,1.91,1.91,0,0,1-.58,1.4L9.25,21ZM18.45,9,17,7.55Zm-12,3A5.31,5.31,0,0,0,4.9,8.1,5.31,5.31,0,0,0,1,6.5,5.31,5.31,0,0,0,4.9,4.9,5.31,5.31,0,0,0,6.5,1,5.31,5.31,0,0,0,8.1,4.9,5.31,5.31,0,0,0,12,6.5,5.46,5.46,0,0,0,6.5,12Z\"/>\n  </svg>\n    </button>\n    <script>\n      (() => {\n      const buttonEl =\n        document.querySelector('#id_c098f67c-4a2f-4b26-be37-90d5da241b12 button.colab-df-generate');\n      buttonEl.style.display =\n        google.colab.kernel.accessAllowed ? 'block' : 'none';\n\n      buttonEl.onclick = () => {\n        google.colab.notebook.generateWithVariable('df_train');\n      }\n      })();\n    </script>\n  </div>\n\n    </div>\n  </div>\n",
            "application/vnd.google.colaboratory.intrinsic+json": {
              "type": "dataframe",
              "variable_name": "df_train"
            }
          },
          "metadata": {}
        }
      ],
      "execution_count": null,
      "metadata": {
        "colab": {
          "base_uri": "https://localhost:8080/",
          "height": 770
        },
        "id": "XpUwq0OV392Y",
        "outputId": "229734b4-2e2b-437a-8c0d-aae30e03b47a"
      }
    },
    {
      "cell_type": "code",
      "source": [
        "df_test[\"vi_punc\"] = df_test[\"vi\"].apply(lambda x: punc_norm(x, \"vi\"))\n",
        "df_test[\"en_punc\"] = df_test[\"en\"].apply(lambda x: punc_norm(x, \"en\"))\n",
        "\n",
        "df_test"
      ],
      "outputs": [
        {
          "output_type": "execute_result",
          "execution_count": 20,
          "data": {
            "text/plain": "                                                     vi  \\\n0     Khi tôi còn nhỏ , Tôi nghĩ rằng BắcTriều Tiên ...   \n1                   Tôi đã rất tự hào về đất nước tôi .   \n2     Ở trường , chúng tôi dành rất nhiều thời gian ...   \n3     Mặc dù tôi đã từng tự hỏi không biết thế giới ...   \n4     Khi tôi lên 7 , tôi chứng kiến cảnh người ta x...   \n...                                                 ...   \n1263  Tôi thực sự tin , nếu ta coi người khác như nh...   \n1264  Những tấm hình không phải là về bản thân vấnđề...   \n1265  Không có ngày nào mà tôi không nghĩ về những n...   \n1266  Tôi hi vọng những tấm hình sẽ đánh thức một ng...   \n1267                                 Cảm ơn rất nhiều .   \n\n                                                     en  \\\n0     When I was little , I thought my country was t...   \n1                                And I was very proud .   \n2     In school , we spent a lot of time studying th...   \n3     Although I often wondered about the outside wo...   \n4     When I was seven years old , I saw my first pu...   \n...                                                 ...   \n1263  I truly believe , if we can see one another as...   \n1264  These images are not of issues . They are of p...   \n1265  There is not a day that goes by that I don &ap...   \n1266  I hope that these images awaken a force in tho...   \n1267                              Thank you very much .   \n\n                                               vi_token  \\\n0     ▁khi ▁tôi ▁còn ▁nhỏ ▁, ▁tôi ▁nghĩ ▁rằng ▁bắc t...   \n1         ▁tôi ▁đã ▁rất ▁tự ▁hào ▁về ▁đất ▁nước ▁tôi ▁.   \n2     ▁ở ▁trường ▁, ▁chúng ▁tôi ▁dành ▁rất ▁nhiều ▁t...   \n3     ▁mặc ▁dù ▁tôi ▁đã ▁từng ▁tự ▁hỏi ▁không ▁biết ...   \n4     ▁khi ▁tôi ▁lên ▁0 ▁, ▁tôi ▁chứng ▁kiến ▁cảnh ▁...   \n...                                                 ...   \n1263  ▁tôi ▁thực ▁sự ▁tin ▁, ▁nếu ▁ta ▁coi ▁người ▁k...   \n1264  ▁những ▁tấm ▁hình ▁không ▁phải ▁là ▁về ▁bản ▁t...   \n1265  ▁không ▁có ▁ngày ▁nào ▁mà ▁tôi ▁không ▁nghĩ ▁v...   \n1266  ▁tôi ▁hi ▁vọng ▁những ▁tấm ▁hình ▁sẽ ▁đánh ▁th...   \n1267                            ▁cảm ▁ơn ▁rất ▁nhiều ▁.   \n\n                                               en_token  \\\n0     ▁when ▁i ▁was ▁little ▁, ▁i ▁thought ▁my ▁coun...   \n1                          ▁and ▁i ▁was ▁very ▁proud ▁.   \n2     ▁in ▁school ▁, ▁we ▁spent ▁a ▁lot ▁of ▁time ▁s...   \n3     ▁although ▁i ▁often ▁wondered ▁about ▁the ▁out...   \n4     ▁when ▁i ▁was ▁seven ▁years ▁old ▁, ▁i ▁saw ▁m...   \n...                                                 ...   \n1263  ▁i ▁truly ▁believe ▁, ▁if ▁we ▁can ▁see ▁one ▁...   \n1264  ▁these ▁images ▁are ▁not ▁of ▁issues ▁. ▁they ...   \n1265  ▁there ▁is ▁not ▁a ▁day ▁that ▁goes ▁by ▁that ...   \n1266  ▁i ▁hope ▁that ▁these ▁images ▁awaken ▁a ▁forc...   \n1267                         ▁thank ▁you ▁very ▁much ▁.   \n\n                                                vi_punc  \\\n0     Khi tôi còn nhỏ , Tôi nghĩ rằng BắcTriều Tiên ...   \n1                   Tôi đã rất tự hào về đất nước tôi .   \n2     Ở trường , chúng tôi dành rất nhiều thời gian ...   \n3     Mặc dù tôi đã từng tự hỏi không biết thế giới ...   \n4     Khi tôi lên 7 , tôi chứng kiến cảnh người ta x...   \n...                                                 ...   \n1263  Tôi thực sự tin , nếu ta coi người khác như nh...   \n1264  Những tấm hình không phải là về bản thân vấnđề...   \n1265  Không có ngày nào mà tôi không nghĩ về những n...   \n1266  Tôi hi vọng những tấm hình sẽ đánh thức một ng...   \n1267                                 Cảm ơn rất nhiều .   \n\n                                                en_punc  \n0     When I was little , I thought my country was t...  \n1                                And I was very proud .  \n2     In school , we spent a lot of time studying th...  \n3     Although I often wondered about the outside wo...  \n4     When I was seven years old , I saw my first pu...  \n...                                                 ...  \n1263  I truly believe , if we can see one another as...  \n1264  These images are not of issues . They are of p...  \n1265  There is not a day that goes by that I don &ap...  \n1266  I hope that these images awaken a force in tho...  \n1267                              Thank you very much .  \n\n[1268 rows x 6 columns]",
            "text/html": "\n  <div id=\"df-abd35ad0-247a-4c1f-9ece-6c00d0265c74\" class=\"colab-df-container\">\n    <div>\n<style scoped>\n    .dataframe tbody tr th:only-of-type {\n        vertical-align: middle;\n    }\n\n    .dataframe tbody tr th {\n        vertical-align: top;\n    }\n\n    .dataframe thead th {\n        text-align: right;\n    }\n</style>\n<table border=\"1\" class=\"dataframe\">\n  <thead>\n    <tr style=\"text-align: right;\">\n      <th></th>\n      <th>vi</th>\n      <th>en</th>\n      <th>vi_token</th>\n      <th>en_token</th>\n      <th>vi_punc</th>\n      <th>en_punc</th>\n    </tr>\n  </thead>\n  <tbody>\n    <tr>\n      <th>0</th>\n      <td>Khi tôi còn nhỏ , Tôi nghĩ rằng BắcTriều Tiên ...</td>\n      <td>When I was little , I thought my country was t...</td>\n      <td>▁khi ▁tôi ▁còn ▁nhỏ ▁, ▁tôi ▁nghĩ ▁rằng ▁bắc t...</td>\n      <td>▁when ▁i ▁was ▁little ▁, ▁i ▁thought ▁my ▁coun...</td>\n      <td>Khi tôi còn nhỏ , Tôi nghĩ rằng BắcTriều Tiên ...</td>\n      <td>When I was little , I thought my country was t...</td>\n    </tr>\n    <tr>\n      <th>1</th>\n      <td>Tôi đã rất tự hào về đất nước tôi .</td>\n      <td>And I was very proud .</td>\n      <td>▁tôi ▁đã ▁rất ▁tự ▁hào ▁về ▁đất ▁nước ▁tôi ▁.</td>\n      <td>▁and ▁i ▁was ▁very ▁proud ▁.</td>\n      <td>Tôi đã rất tự hào về đất nước tôi .</td>\n      <td>And I was very proud .</td>\n    </tr>\n    <tr>\n      <th>2</th>\n      <td>Ở trường , chúng tôi dành rất nhiều thời gian ...</td>\n      <td>In school , we spent a lot of time studying th...</td>\n      <td>▁ở ▁trường ▁, ▁chúng ▁tôi ▁dành ▁rất ▁nhiều ▁t...</td>\n      <td>▁in ▁school ▁, ▁we ▁spent ▁a ▁lot ▁of ▁time ▁s...</td>\n      <td>Ở trường , chúng tôi dành rất nhiều thời gian ...</td>\n      <td>In school , we spent a lot of time studying th...</td>\n    </tr>\n    <tr>\n      <th>3</th>\n      <td>Mặc dù tôi đã từng tự hỏi không biết thế giới ...</td>\n      <td>Although I often wondered about the outside wo...</td>\n      <td>▁mặc ▁dù ▁tôi ▁đã ▁từng ▁tự ▁hỏi ▁không ▁biết ...</td>\n      <td>▁although ▁i ▁often ▁wondered ▁about ▁the ▁out...</td>\n      <td>Mặc dù tôi đã từng tự hỏi không biết thế giới ...</td>\n      <td>Although I often wondered about the outside wo...</td>\n    </tr>\n    <tr>\n      <th>4</th>\n      <td>Khi tôi lên 7 , tôi chứng kiến cảnh người ta x...</td>\n      <td>When I was seven years old , I saw my first pu...</td>\n      <td>▁khi ▁tôi ▁lên ▁0 ▁, ▁tôi ▁chứng ▁kiến ▁cảnh ▁...</td>\n      <td>▁when ▁i ▁was ▁seven ▁years ▁old ▁, ▁i ▁saw ▁m...</td>\n      <td>Khi tôi lên 7 , tôi chứng kiến cảnh người ta x...</td>\n      <td>When I was seven years old , I saw my first pu...</td>\n    </tr>\n    <tr>\n      <th>...</th>\n      <td>...</td>\n      <td>...</td>\n      <td>...</td>\n      <td>...</td>\n      <td>...</td>\n      <td>...</td>\n    </tr>\n    <tr>\n      <th>1263</th>\n      <td>Tôi thực sự tin , nếu ta coi người khác như nh...</td>\n      <td>I truly believe , if we can see one another as...</td>\n      <td>▁tôi ▁thực ▁sự ▁tin ▁, ▁nếu ▁ta ▁coi ▁người ▁k...</td>\n      <td>▁i ▁truly ▁believe ▁, ▁if ▁we ▁can ▁see ▁one ▁...</td>\n      <td>Tôi thực sự tin , nếu ta coi người khác như nh...</td>\n      <td>I truly believe , if we can see one another as...</td>\n    </tr>\n    <tr>\n      <th>1264</th>\n      <td>Những tấm hình không phải là về bản thân vấnđề...</td>\n      <td>These images are not of issues . They are of p...</td>\n      <td>▁những ▁tấm ▁hình ▁không ▁phải ▁là ▁về ▁bản ▁t...</td>\n      <td>▁these ▁images ▁are ▁not ▁of ▁issues ▁. ▁they ...</td>\n      <td>Những tấm hình không phải là về bản thân vấnđề...</td>\n      <td>These images are not of issues . They are of p...</td>\n    </tr>\n    <tr>\n      <th>1265</th>\n      <td>Không có ngày nào mà tôi không nghĩ về những n...</td>\n      <td>There is not a day that goes by that I don &amp;ap...</td>\n      <td>▁không ▁có ▁ngày ▁nào ▁mà ▁tôi ▁không ▁nghĩ ▁v...</td>\n      <td>▁there ▁is ▁not ▁a ▁day ▁that ▁goes ▁by ▁that ...</td>\n      <td>Không có ngày nào mà tôi không nghĩ về những n...</td>\n      <td>There is not a day that goes by that I don &amp;ap...</td>\n    </tr>\n    <tr>\n      <th>1266</th>\n      <td>Tôi hi vọng những tấm hình sẽ đánh thức một ng...</td>\n      <td>I hope that these images awaken a force in tho...</td>\n      <td>▁tôi ▁hi ▁vọng ▁những ▁tấm ▁hình ▁sẽ ▁đánh ▁th...</td>\n      <td>▁i ▁hope ▁that ▁these ▁images ▁awaken ▁a ▁forc...</td>\n      <td>Tôi hi vọng những tấm hình sẽ đánh thức một ng...</td>\n      <td>I hope that these images awaken a force in tho...</td>\n    </tr>\n    <tr>\n      <th>1267</th>\n      <td>Cảm ơn rất nhiều .</td>\n      <td>Thank you very much .</td>\n      <td>▁cảm ▁ơn ▁rất ▁nhiều ▁.</td>\n      <td>▁thank ▁you ▁very ▁much ▁.</td>\n      <td>Cảm ơn rất nhiều .</td>\n      <td>Thank you very much .</td>\n    </tr>\n  </tbody>\n</table>\n<p>1268 rows × 6 columns</p>\n</div>\n    <div class=\"colab-df-buttons\">\n\n  <div class=\"colab-df-container\">\n    <button class=\"colab-df-convert\" onclick=\"convertToInteractive('df-abd35ad0-247a-4c1f-9ece-6c00d0265c74')\"\n            title=\"Convert this dataframe to an interactive table.\"\n            style=\"display:none;\">\n\n  <svg xmlns=\"http://www.w3.org/2000/svg\" height=\"24px\" viewBox=\"0 -960 960 960\">\n    <path d=\"M120-120v-720h720v720H120Zm60-500h600v-160H180v160Zm220 220h160v-160H400v160Zm0 220h160v-160H400v160ZM180-400h160v-160H180v160Zm440 0h160v-160H620v160ZM180-180h160v-160H180v160Zm440 0h160v-160H620v160Z\"/>\n  </svg>\n    </button>\n\n  <style>\n    .colab-df-container {\n      display:flex;\n      gap: 12px;\n    }\n\n    .colab-df-convert {\n      background-color: #E8F0FE;\n      border: none;\n      border-radius: 50%;\n      cursor: pointer;\n      display: none;\n      fill: #1967D2;\n      height: 32px;\n      padding: 0 0 0 0;\n      width: 32px;\n    }\n\n    .colab-df-convert:hover {\n      background-color: #E2EBFA;\n      box-shadow: 0px 1px 2px rgba(60, 64, 67, 0.3), 0px 1px 3px 1px rgba(60, 64, 67, 0.15);\n      fill: #174EA6;\n    }\n\n    .colab-df-buttons div {\n      margin-bottom: 4px;\n    }\n\n    [theme=dark] .colab-df-convert {\n      background-color: #3B4455;\n      fill: #D2E3FC;\n    }\n\n    [theme=dark] .colab-df-convert:hover {\n      background-color: #434B5C;\n      box-shadow: 0px 1px 3px 1px rgba(0, 0, 0, 0.15);\n      filter: drop-shadow(0px 1px 2px rgba(0, 0, 0, 0.3));\n      fill: #FFFFFF;\n    }\n  </style>\n\n    <script>\n      const buttonEl =\n        document.querySelector('#df-abd35ad0-247a-4c1f-9ece-6c00d0265c74 button.colab-df-convert');\n      buttonEl.style.display =\n        google.colab.kernel.accessAllowed ? 'block' : 'none';\n\n      async function convertToInteractive(key) {\n        const element = document.querySelector('#df-abd35ad0-247a-4c1f-9ece-6c00d0265c74');\n        const dataTable =\n          await google.colab.kernel.invokeFunction('convertToInteractive',\n                                                    [key], {});\n        if (!dataTable) return;\n\n        const docLinkHtml = 'Like what you see? Visit the ' +\n          '<a target=\"_blank\" href=https://colab.research.google.com/notebooks/data_table.ipynb>data table notebook</a>'\n          + ' to learn more about interactive tables.';\n        element.innerHTML = '';\n        dataTable['output_type'] = 'display_data';\n        await google.colab.output.renderOutput(dataTable, element);\n        const docLink = document.createElement('div');\n        docLink.innerHTML = docLinkHtml;\n        element.appendChild(docLink);\n      }\n    </script>\n  </div>\n\n\n<div id=\"df-6fa27137-120b-4b4f-b34c-ad4f6ea74c53\">\n  <button class=\"colab-df-quickchart\" onclick=\"quickchart('df-6fa27137-120b-4b4f-b34c-ad4f6ea74c53')\"\n            title=\"Suggest charts\"\n            style=\"display:none;\">\n\n<svg xmlns=\"http://www.w3.org/2000/svg\" height=\"24px\"viewBox=\"0 0 24 24\"\n     width=\"24px\">\n    <g>\n        <path d=\"M19 3H5c-1.1 0-2 .9-2 2v14c0 1.1.9 2 2 2h14c1.1 0 2-.9 2-2V5c0-1.1-.9-2-2-2zM9 17H7v-7h2v7zm4 0h-2V7h2v10zm4 0h-2v-4h2v4z\"/>\n    </g>\n</svg>\n  </button>\n\n<style>\n  .colab-df-quickchart {\n      --bg-color: #E8F0FE;\n      --fill-color: #1967D2;\n      --hover-bg-color: #E2EBFA;\n      --hover-fill-color: #174EA6;\n      --disabled-fill-color: #AAA;\n      --disabled-bg-color: #DDD;\n  }\n\n  [theme=dark] .colab-df-quickchart {\n      --bg-color: #3B4455;\n      --fill-color: #D2E3FC;\n      --hover-bg-color: #434B5C;\n      --hover-fill-color: #FFFFFF;\n      --disabled-bg-color: #3B4455;\n      --disabled-fill-color: #666;\n  }\n\n  .colab-df-quickchart {\n    background-color: var(--bg-color);\n    border: none;\n    border-radius: 50%;\n    cursor: pointer;\n    display: none;\n    fill: var(--fill-color);\n    height: 32px;\n    padding: 0;\n    width: 32px;\n  }\n\n  .colab-df-quickchart:hover {\n    background-color: var(--hover-bg-color);\n    box-shadow: 0 1px 2px rgba(60, 64, 67, 0.3), 0 1px 3px 1px rgba(60, 64, 67, 0.15);\n    fill: var(--button-hover-fill-color);\n  }\n\n  .colab-df-quickchart-complete:disabled,\n  .colab-df-quickchart-complete:disabled:hover {\n    background-color: var(--disabled-bg-color);\n    fill: var(--disabled-fill-color);\n    box-shadow: none;\n  }\n\n  .colab-df-spinner {\n    border: 2px solid var(--fill-color);\n    border-color: transparent;\n    border-bottom-color: var(--fill-color);\n    animation:\n      spin 1s steps(1) infinite;\n  }\n\n  @keyframes spin {\n    0% {\n      border-color: transparent;\n      border-bottom-color: var(--fill-color);\n      border-left-color: var(--fill-color);\n    }\n    20% {\n      border-color: transparent;\n      border-left-color: var(--fill-color);\n      border-top-color: var(--fill-color);\n    }\n    30% {\n      border-color: transparent;\n      border-left-color: var(--fill-color);\n      border-top-color: var(--fill-color);\n      border-right-color: var(--fill-color);\n    }\n    40% {\n      border-color: transparent;\n      border-right-color: var(--fill-color);\n      border-top-color: var(--fill-color);\n    }\n    60% {\n      border-color: transparent;\n      border-right-color: var(--fill-color);\n    }\n    80% {\n      border-color: transparent;\n      border-right-color: var(--fill-color);\n      border-bottom-color: var(--fill-color);\n    }\n    90% {\n      border-color: transparent;\n      border-bottom-color: var(--fill-color);\n    }\n  }\n</style>\n\n  <script>\n    async function quickchart(key) {\n      const quickchartButtonEl =\n        document.querySelector('#' + key + ' button');\n      quickchartButtonEl.disabled = true;  // To prevent multiple clicks.\n      quickchartButtonEl.classList.add('colab-df-spinner');\n      try {\n        const charts = await google.colab.kernel.invokeFunction(\n            'suggestCharts', [key], {});\n      } catch (error) {\n        console.error('Error during call to suggestCharts:', error);\n      }\n      quickchartButtonEl.classList.remove('colab-df-spinner');\n      quickchartButtonEl.classList.add('colab-df-quickchart-complete');\n    }\n    (() => {\n      let quickchartButtonEl =\n        document.querySelector('#df-6fa27137-120b-4b4f-b34c-ad4f6ea74c53 button');\n      quickchartButtonEl.style.display =\n        google.colab.kernel.accessAllowed ? 'block' : 'none';\n    })();\n  </script>\n</div>\n\n  <div id=\"id_264c5e51-491b-4996-8554-bc785f3525ad\">\n    <style>\n      .colab-df-generate {\n        background-color: #E8F0FE;\n        border: none;\n        border-radius: 50%;\n        cursor: pointer;\n        display: none;\n        fill: #1967D2;\n        height: 32px;\n        padding: 0 0 0 0;\n        width: 32px;\n      }\n\n      .colab-df-generate:hover {\n        background-color: #E2EBFA;\n        box-shadow: 0px 1px 2px rgba(60, 64, 67, 0.3), 0px 1px 3px 1px rgba(60, 64, 67, 0.15);\n        fill: #174EA6;\n      }\n\n      [theme=dark] .colab-df-generate {\n        background-color: #3B4455;\n        fill: #D2E3FC;\n      }\n\n      [theme=dark] .colab-df-generate:hover {\n        background-color: #434B5C;\n        box-shadow: 0px 1px 3px 1px rgba(0, 0, 0, 0.15);\n        filter: drop-shadow(0px 1px 2px rgba(0, 0, 0, 0.3));\n        fill: #FFFFFF;\n      }\n    </style>\n    <button class=\"colab-df-generate\" onclick=\"generateWithVariable('df_test')\"\n            title=\"Generate code using this dataframe.\"\n            style=\"display:none;\">\n\n  <svg xmlns=\"http://www.w3.org/2000/svg\" height=\"24px\"viewBox=\"0 0 24 24\"\n       width=\"24px\">\n    <path d=\"M7,19H8.4L18.45,9,17,7.55,7,17.6ZM5,21V16.75L18.45,3.32a2,2,0,0,1,2.83,0l1.4,1.43a1.91,1.91,0,0,1,.58,1.4,1.91,1.91,0,0,1-.58,1.4L9.25,21ZM18.45,9,17,7.55Zm-12,3A5.31,5.31,0,0,0,4.9,8.1,5.31,5.31,0,0,0,1,6.5,5.31,5.31,0,0,0,4.9,4.9,5.31,5.31,0,0,0,6.5,1,5.31,5.31,0,0,0,8.1,4.9,5.31,5.31,0,0,0,12,6.5,5.46,5.46,0,0,0,6.5,12Z\"/>\n  </svg>\n    </button>\n    <script>\n      (() => {\n      const buttonEl =\n        document.querySelector('#id_264c5e51-491b-4996-8554-bc785f3525ad button.colab-df-generate');\n      buttonEl.style.display =\n        google.colab.kernel.accessAllowed ? 'block' : 'none';\n\n      buttonEl.onclick = () => {\n        google.colab.notebook.generateWithVariable('df_test');\n      }\n      })();\n    </script>\n  </div>\n\n    </div>\n  </div>\n",
            "application/vnd.google.colaboratory.intrinsic+json": {
              "type": "dataframe",
              "variable_name": "df_test",
              "summary": "{\n  \"name\": \"df_test\",\n  \"rows\": 1268,\n  \"fields\": [\n    {\n      \"column\": \"vi\",\n      \"properties\": {\n        \"dtype\": \"string\",\n        \"num_unique_values\": 1260,\n        \"samples\": [\n          \"T\\u00f4i v\\u00f4 c\\u00f9ng ng\\u1ea1c nhi\\u00ean khi m\\u1ed9t ng\\u01b0\\u1eddi ho\\u00e0n to\\u00e0n xa l\\u1ea1 l\\u1ea1i quan t\\u00e2m t\\u1edbi m\\u1ee9c h\\u1ecfi t\\u00f4i nh\\u01b0 v\\u1eady .\",\n          \"NG\\u01b0\\u1eddi n\\u00e0o s\\u1ebd s\\u00e1ng ch\\u1ebf ra c\\u00e1i c\\u00f4ng ngh\\u1ec7 cho cu\\u1ed9c c\\u00e1ch m\\u1ea1ng xanh ? C\\u00e1c tr\\u01b0\\u1eddng \\u0111\\u1ea1i h\\u1ecdc \\u01b0 ? qu\\u00ean \\u0111i !\",\n          \"Vi\\u1ec7c ng\\u01b0\\u1eddi B\\u1eafc Tri\\u1ec1u Ti\\u00ean ph\\u1ea3i che d\\u1ea5u danh t\\u00ednh c\\u1ee7a m\\u00ecnh v\\u00e0 \\u0111\\u1ea5u tranh \\u0111\\u1ec3 t\\u1ed3n t\\u1ea1i qu\\u1ea3 l\\u00e0 m\\u1ed9t bi k\\u1ecbch .\"\n        ],\n        \"semantic_type\": \"\",\n        \"description\": \"\"\n      }\n    },\n    {\n      \"column\": \"en\",\n      \"properties\": {\n        \"dtype\": \"string\",\n        \"num_unique_values\": 1252,\n        \"samples\": [\n          \"But frustratingly , with Parkinson &apos;s disease and other movement disorders , there are no biomarkers , so there &apos;s no simple blood test that you can do , and the best that we have is like this 20-minute neurologist test .\",\n          \"This is Manuru . When his father died , his uncle trafficked him to work with him in the mines .\",\n          \"We got dirty , and we loved it .\"\n        ],\n        \"semantic_type\": \"\",\n        \"description\": \"\"\n      }\n    },\n    {\n      \"column\": \"vi_token\",\n      \"properties\": {\n        \"dtype\": \"string\",\n        \"num_unique_values\": 1260,\n        \"samples\": [\n          \"\\u2581t\\u00f4i \\u2581v\\u00f4 \\u2581c\\u00f9ng \\u2581ng\\u1ea1c \\u2581nhi\\u00ean \\u2581khi \\u2581m\\u1ed9t \\u2581ng\\u01b0\\u1eddi \\u2581ho\\u00e0n \\u2581to\\u00e0n \\u2581xa \\u2581l\\u1ea1 \\u2581l\\u1ea1i \\u2581quan \\u2581t\\u00e2m \\u2581t\\u1edbi \\u2581m\\u1ee9c \\u2581h\\u1ecfi \\u2581t\\u00f4i \\u2581nh\\u01b0 \\u2581v\\u1eady \\u2581.\",\n          \"\\u2581ng\\u01b0\\u1eddi \\u2581n\\u00e0o \\u2581s\\u1ebd \\u2581s\\u00e1ng \\u2581ch\\u1ebf \\u2581ra \\u2581c\\u00e1i \\u2581c\\u00f4ng \\u2581ngh\\u1ec7 \\u2581cho \\u2581cu\\u1ed9c \\u2581c\\u00e1ch \\u2581m\\u1ea1ng \\u2581xanh \\u2581? \\u2581c\\u00e1c \\u2581tr\\u01b0\\u1eddng \\u2581\\u0111\\u1ea1i \\u2581h\\u1ecdc \\u2581\\u01b0 \\u2581? \\u2581qu\\u00ean \\u2581\\u0111i \\u2581!\",\n          \"\\u2581vi\\u1ec7c \\u2581ng\\u01b0\\u1eddi \\u2581b\\u1eafc \\u2581tri\\u1ec1u \\u2581ti\\u00ean \\u2581ph\\u1ea3i \\u2581che \\u2581d\\u1ea5u \\u2581danh \\u2581t\\u00ednh \\u2581c\\u1ee7a \\u2581m\\u00ecnh \\u2581v\\u00e0 \\u2581\\u0111\\u1ea5u \\u2581tranh \\u2581\\u0111\\u1ec3 \\u2581t\\u1ed3n \\u2581t\\u1ea1i \\u2581qu\\u1ea3 \\u2581l\\u00e0 \\u2581m\\u1ed9t \\u2581bi \\u2581k\\u1ecbch \\u2581.\"\n        ],\n        \"semantic_type\": \"\",\n        \"description\": \"\"\n      }\n    },\n    {\n      \"column\": \"en_token\",\n      \"properties\": {\n        \"dtype\": \"string\",\n        \"num_unique_values\": 1252,\n        \"samples\": [\n          \"\\u2581but \\u2581frustrating ly \\u2581, \\u2581with \\u2581parkinson \\u2581& ap os ; s \\u2581disease \\u2581and \\u2581other \\u2581movement \\u2581disorders \\u2581, \\u2581there \\u2581are \\u2581no \\u2581biom ark ers \\u2581, \\u2581so \\u2581there \\u2581& ap os ; s \\u2581no \\u2581simple \\u2581blood \\u2581test \\u2581that \\u2581you \\u2581can \\u2581do \\u2581, \\u2581and \\u2581the \\u2581best \\u2581that \\u2581we \\u2581have \\u2581is \\u2581like \\u2581this \\u258100- minute \\u2581neurolog ist \\u2581test \\u2581.\",\n          \"\\u2581this \\u2581is \\u2581man uru \\u2581. \\u2581when \\u2581his \\u2581father \\u2581died \\u2581, \\u2581his \\u2581uncle \\u2581traff icked \\u2581him \\u2581to \\u2581work \\u2581with \\u2581him \\u2581in \\u2581the \\u2581mines \\u2581.\",\n          \"\\u2581we \\u2581got \\u2581dirty \\u2581, \\u2581and \\u2581we \\u2581loved \\u2581it \\u2581.\"\n        ],\n        \"semantic_type\": \"\",\n        \"description\": \"\"\n      }\n    },\n    {\n      \"column\": \"vi_punc\",\n      \"properties\": {\n        \"dtype\": \"string\",\n        \"num_unique_values\": 1260,\n        \"samples\": [\n          \"T\\u00f4i v\\u00f4 c\\u00f9ng ng\\u1ea1c nhi\\u00ean khi m\\u1ed9t ng\\u01b0\\u1eddi ho\\u00e0n to\\u00e0n xa l\\u1ea1 l\\u1ea1i quan t\\u00e2m t\\u1edbi m\\u1ee9c h\\u1ecfi t\\u00f4i nh\\u01b0 v\\u1eady .\",\n          \"NG\\u01b0\\u1eddi n\\u00e0o s\\u1ebd s\\u00e1ng ch\\u1ebf ra c\\u00e1i c\\u00f4ng ngh\\u1ec7 cho cu\\u1ed9c c\\u00e1ch m\\u1ea1ng xanh ? C\\u00e1c tr\\u01b0\\u1eddng \\u0111\\u1ea1i h\\u1ecdc \\u01b0 ? qu\\u00ean \\u0111i !\",\n          \"Vi\\u1ec7c ng\\u01b0\\u1eddi B\\u1eafc Tri\\u1ec1u Ti\\u00ean ph\\u1ea3i che d\\u1ea5u danh t\\u00ednh c\\u1ee7a m\\u00ecnh v\\u00e0 \\u0111\\u1ea5u tranh \\u0111\\u1ec3 t\\u1ed3n t\\u1ea1i qu\\u1ea3 l\\u00e0 m\\u1ed9t bi k\\u1ecbch .\"\n        ],\n        \"semantic_type\": \"\",\n        \"description\": \"\"\n      }\n    },\n    {\n      \"column\": \"en_punc\",\n      \"properties\": {\n        \"dtype\": \"string\",\n        \"num_unique_values\": 1252,\n        \"samples\": [\n          \"But frustratingly , with Parkinson &apos;s disease and other movement disorders , there are no biomarkers , so there &apos;s no simple blood test that you can do , and the best that we have is like this 20-minute neurologist test .\",\n          \"This is Manuru . When his father died , his uncle trafficked him to work with him in the mines .\",\n          \"We got dirty , and we loved it .\"\n        ],\n        \"semantic_type\": \"\",\n        \"description\": \"\"\n      }\n    }\n  ]\n}"
            }
          },
          "metadata": {}
        }
      ],
      "execution_count": null,
      "metadata": {
        "colab": {
          "base_uri": "https://localhost:8080/",
          "height": 736
        },
        "id": "V9hwVWk83_XK",
        "outputId": "aa300216-352f-4c23-93d5-cf79e08bb599"
      }
    },
    {
      "cell_type": "code",
      "source": [
        "df_train[\"vi_token\"] = df_train[\"vi_punc\"].apply(lambda x: tokenizer(x, \"vi\"))\n",
        "df_train[\"en_token\"] = df_train[\"en_punc\"].apply(lambda x: tokenizer(x, \"en\"))\n",
        "\n",
        "df_train"
      ],
      "outputs": [
        {
          "output_type": "execute_result",
          "execution_count": 21,
          "data": {
            "text/plain": "                                                       vi  \\\n0                Khoa học đằng sau một tiêu đề về khí hậu   \n1       Trong 4 phút , chuyên gia hoá học khí quyển Ra...   \n2       Tôi muốn cho các bạn biết về sự to lớn của nhữ...   \n3       Có những dòng trông như thế này khi bàn về biế...   \n4       Cả hai đều là một nhánh của cùng một lĩnh vực ...   \n...                                                   ...   \n132995  Cái cô cần là sự cảm thông và lòng trắc ẩn , v...   \n132996  Mà chính hệ thống y tế mà tôi góp phần , đã là...   \n132997  Nếu giờ đây cô đang xem chương trình này , tôi...   \n132998  Paul Pholeros : Làm sao để bớt nghèo khổ ? Hãy...   \n132999  Năm 1985 , kiến trúc sư Paul Pholeros được gia...   \n\n                                                       en  \\\n0       Rachel Pike : The science behind a climate hea...   \n1       In 4 minutes , atmospheric chemist Rachel Pike...   \n2       I &apos;d like to talk to you today about the ...   \n3       Headlines that look like this when they have t...   \n4       They are both two branches of the same field o...   \n...                                                   ...   \n132995  You needed my empathy and compassion , and abo...   \n132996  Maybe the system , of which I was a part , was...   \n132997  If you &apos;re watching this now , I hope you...   \n132998  Paul Pholeros : How to reduce poverty ? Fix homes   \n132999  In 1985 , architect Paul Pholeros was challeng...   \n\n                                                 vi_token  \\\n0       ▁khoa ▁học ▁đằng ▁sau ▁một ▁tiêu ▁đề ▁về ▁khí ...   \n1       ▁trong ▁0 ▁phút ▁, ▁chuyên ▁gia ▁hoá ▁học ▁khí...   \n2       ▁tôi ▁muốn ▁cho ▁các ▁bạn ▁biết ▁về ▁sự ▁to ▁l...   \n3       ▁có ▁những ▁dòng ▁trông ▁như ▁thế ▁này ▁khi ▁b...   \n4       ▁cả ▁hai ▁đều ▁là ▁một ▁nhánh ▁của ▁cùng ▁một ...   \n...                                                   ...   \n132995  ▁cái ▁cô ▁cần ▁là ▁sự ▁cảm ▁thông ▁và ▁lòng ▁t...   \n132996  ▁mà ▁chính ▁hệ ▁thống ▁y ▁tế ▁mà ▁tôi ▁góp ▁ph...   \n132997  ▁nếu ▁giờ ▁đây ▁cô ▁đang ▁xem ▁chương ▁trình ▁...   \n132998  ▁paul ▁ph ol eros : ▁làm ▁sao ▁để ▁bớt ▁nghèo ...   \n132999  ▁năm ▁0000 ▁, ▁kiến ▁trúc ▁sư ▁paul ▁ph ol ero...   \n\n                                                 en_token  \\\n0       ▁rachel ▁pike : ▁the ▁science ▁behind ▁a ▁clim...   \n1       ▁in ▁0 ▁minutes ▁, ▁atmospheric ▁chemist ▁rach...   \n2       ▁i ▁& ap os ; d ▁like ▁to ▁talk ▁to ▁you ▁toda...   \n3       ▁headlines ▁that ▁look ▁like ▁this ▁when ▁they...   \n4       ▁they ▁are ▁both ▁two ▁branches ▁of ▁the ▁same...   \n...                                                   ...   \n132995  ▁you ▁needed ▁my ▁empathy ▁and ▁compassion ▁, ...   \n132996  ▁maybe ▁the ▁system ▁, ▁of ▁which ▁i ▁was ▁a ▁...   \n132997  ▁if ▁you ▁& ap os ; re ▁watching ▁this ▁now ▁,...   \n132998  ▁paul ▁ph ol eros : ▁how ▁to ▁reduce ▁poverty ...   \n132999  ▁in ▁0000 ▁, ▁architect ▁paul ▁ph ol eros ▁was...   \n\n                                                  vi_punc  \\\n0                Khoa học đằng sau một tiêu đề về khí hậu   \n1       Trong 4 phút , chuyên gia hoá học khí quyển Ra...   \n2       Tôi muốn cho các bạn biết về sự to lớn của nhữ...   \n3       Có những dòng trông như thế này khi bàn về biế...   \n4       Cả hai đều là một nhánh của cùng một lĩnh vực ...   \n...                                                   ...   \n132995  Cái cô cần là sự cảm thông và lòng trắc ẩn , v...   \n132996  Mà chính hệ thống y tế mà tôi góp phần , đã là...   \n132997  Nếu giờ đây cô đang xem chương trình này , tôi...   \n132998  Paul Pholeros: Làm sao để bớt nghèo khổ ? Hãy ...   \n132999  Năm 1985 , kiến trúc sư Paul Pholeros được gia...   \n\n                                                  en_punc  \n0       Rachel Pike: The science behind a climate head...  \n1       In 4 minutes , atmospheric chemist Rachel Pike...  \n2       I &apos;d like to talk to you today about the ...  \n3       Headlines that look like this when they have t...  \n4       They are both two branches of the same field o...  \n...                                                   ...  \n132995  You needed my empathy and compassion , and abo...  \n132996  Maybe the system , of which I was a part , was...  \n132997  If you &apos;re watching this now , I hope you...  \n132998   Paul Pholeros: How to reduce poverty ? Fix homes  \n132999  In 1985 , architect Paul Pholeros was challeng...  \n\n[133000 rows x 6 columns]",
            "text/html": "\n  <div id=\"df-25387246-292e-4023-9424-1edb95c6f2b1\" class=\"colab-df-container\">\n    <div>\n<style scoped>\n    .dataframe tbody tr th:only-of-type {\n        vertical-align: middle;\n    }\n\n    .dataframe tbody tr th {\n        vertical-align: top;\n    }\n\n    .dataframe thead th {\n        text-align: right;\n    }\n</style>\n<table border=\"1\" class=\"dataframe\">\n  <thead>\n    <tr style=\"text-align: right;\">\n      <th></th>\n      <th>vi</th>\n      <th>en</th>\n      <th>vi_token</th>\n      <th>en_token</th>\n      <th>vi_punc</th>\n      <th>en_punc</th>\n    </tr>\n  </thead>\n  <tbody>\n    <tr>\n      <th>0</th>\n      <td>Khoa học đằng sau một tiêu đề về khí hậu</td>\n      <td>Rachel Pike : The science behind a climate hea...</td>\n      <td>▁khoa ▁học ▁đằng ▁sau ▁một ▁tiêu ▁đề ▁về ▁khí ...</td>\n      <td>▁rachel ▁pike : ▁the ▁science ▁behind ▁a ▁clim...</td>\n      <td>Khoa học đằng sau một tiêu đề về khí hậu</td>\n      <td>Rachel Pike: The science behind a climate head...</td>\n    </tr>\n    <tr>\n      <th>1</th>\n      <td>Trong 4 phút , chuyên gia hoá học khí quyển Ra...</td>\n      <td>In 4 minutes , atmospheric chemist Rachel Pike...</td>\n      <td>▁trong ▁0 ▁phút ▁, ▁chuyên ▁gia ▁hoá ▁học ▁khí...</td>\n      <td>▁in ▁0 ▁minutes ▁, ▁atmospheric ▁chemist ▁rach...</td>\n      <td>Trong 4 phút , chuyên gia hoá học khí quyển Ra...</td>\n      <td>In 4 minutes , atmospheric chemist Rachel Pike...</td>\n    </tr>\n    <tr>\n      <th>2</th>\n      <td>Tôi muốn cho các bạn biết về sự to lớn của nhữ...</td>\n      <td>I &amp;apos;d like to talk to you today about the ...</td>\n      <td>▁tôi ▁muốn ▁cho ▁các ▁bạn ▁biết ▁về ▁sự ▁to ▁l...</td>\n      <td>▁i ▁&amp; ap os ; d ▁like ▁to ▁talk ▁to ▁you ▁toda...</td>\n      <td>Tôi muốn cho các bạn biết về sự to lớn của nhữ...</td>\n      <td>I &amp;apos;d like to talk to you today about the ...</td>\n    </tr>\n    <tr>\n      <th>3</th>\n      <td>Có những dòng trông như thế này khi bàn về biế...</td>\n      <td>Headlines that look like this when they have t...</td>\n      <td>▁có ▁những ▁dòng ▁trông ▁như ▁thế ▁này ▁khi ▁b...</td>\n      <td>▁headlines ▁that ▁look ▁like ▁this ▁when ▁they...</td>\n      <td>Có những dòng trông như thế này khi bàn về biế...</td>\n      <td>Headlines that look like this when they have t...</td>\n    </tr>\n    <tr>\n      <th>4</th>\n      <td>Cả hai đều là một nhánh của cùng một lĩnh vực ...</td>\n      <td>They are both two branches of the same field o...</td>\n      <td>▁cả ▁hai ▁đều ▁là ▁một ▁nhánh ▁của ▁cùng ▁một ...</td>\n      <td>▁they ▁are ▁both ▁two ▁branches ▁of ▁the ▁same...</td>\n      <td>Cả hai đều là một nhánh của cùng một lĩnh vực ...</td>\n      <td>They are both two branches of the same field o...</td>\n    </tr>\n    <tr>\n      <th>...</th>\n      <td>...</td>\n      <td>...</td>\n      <td>...</td>\n      <td>...</td>\n      <td>...</td>\n      <td>...</td>\n    </tr>\n    <tr>\n      <th>132995</th>\n      <td>Cái cô cần là sự cảm thông và lòng trắc ẩn , v...</td>\n      <td>You needed my empathy and compassion , and abo...</td>\n      <td>▁cái ▁cô ▁cần ▁là ▁sự ▁cảm ▁thông ▁và ▁lòng ▁t...</td>\n      <td>▁you ▁needed ▁my ▁empathy ▁and ▁compassion ▁, ...</td>\n      <td>Cái cô cần là sự cảm thông và lòng trắc ẩn , v...</td>\n      <td>You needed my empathy and compassion , and abo...</td>\n    </tr>\n    <tr>\n      <th>132996</th>\n      <td>Mà chính hệ thống y tế mà tôi góp phần , đã là...</td>\n      <td>Maybe the system , of which I was a part , was...</td>\n      <td>▁mà ▁chính ▁hệ ▁thống ▁y ▁tế ▁mà ▁tôi ▁góp ▁ph...</td>\n      <td>▁maybe ▁the ▁system ▁, ▁of ▁which ▁i ▁was ▁a ▁...</td>\n      <td>Mà chính hệ thống y tế mà tôi góp phần , đã là...</td>\n      <td>Maybe the system , of which I was a part , was...</td>\n    </tr>\n    <tr>\n      <th>132997</th>\n      <td>Nếu giờ đây cô đang xem chương trình này , tôi...</td>\n      <td>If you &amp;apos;re watching this now , I hope you...</td>\n      <td>▁nếu ▁giờ ▁đây ▁cô ▁đang ▁xem ▁chương ▁trình ▁...</td>\n      <td>▁if ▁you ▁&amp; ap os ; re ▁watching ▁this ▁now ▁,...</td>\n      <td>Nếu giờ đây cô đang xem chương trình này , tôi...</td>\n      <td>If you &amp;apos;re watching this now , I hope you...</td>\n    </tr>\n    <tr>\n      <th>132998</th>\n      <td>Paul Pholeros : Làm sao để bớt nghèo khổ ? Hãy...</td>\n      <td>Paul Pholeros : How to reduce poverty ? Fix homes</td>\n      <td>▁paul ▁ph ol eros : ▁làm ▁sao ▁để ▁bớt ▁nghèo ...</td>\n      <td>▁paul ▁ph ol eros : ▁how ▁to ▁reduce ▁poverty ...</td>\n      <td>Paul Pholeros: Làm sao để bớt nghèo khổ ? Hãy ...</td>\n      <td>Paul Pholeros: How to reduce poverty ? Fix homes</td>\n    </tr>\n    <tr>\n      <th>132999</th>\n      <td>Năm 1985 , kiến trúc sư Paul Pholeros được gia...</td>\n      <td>In 1985 , architect Paul Pholeros was challeng...</td>\n      <td>▁năm ▁0000 ▁, ▁kiến ▁trúc ▁sư ▁paul ▁ph ol ero...</td>\n      <td>▁in ▁0000 ▁, ▁architect ▁paul ▁ph ol eros ▁was...</td>\n      <td>Năm 1985 , kiến trúc sư Paul Pholeros được gia...</td>\n      <td>In 1985 , architect Paul Pholeros was challeng...</td>\n    </tr>\n  </tbody>\n</table>\n<p>133000 rows × 6 columns</p>\n</div>\n    <div class=\"colab-df-buttons\">\n\n  <div class=\"colab-df-container\">\n    <button class=\"colab-df-convert\" onclick=\"convertToInteractive('df-25387246-292e-4023-9424-1edb95c6f2b1')\"\n            title=\"Convert this dataframe to an interactive table.\"\n            style=\"display:none;\">\n\n  <svg xmlns=\"http://www.w3.org/2000/svg\" height=\"24px\" viewBox=\"0 -960 960 960\">\n    <path d=\"M120-120v-720h720v720H120Zm60-500h600v-160H180v160Zm220 220h160v-160H400v160Zm0 220h160v-160H400v160ZM180-400h160v-160H180v160Zm440 0h160v-160H620v160ZM180-180h160v-160H180v160Zm440 0h160v-160H620v160Z\"/>\n  </svg>\n    </button>\n\n  <style>\n    .colab-df-container {\n      display:flex;\n      gap: 12px;\n    }\n\n    .colab-df-convert {\n      background-color: #E8F0FE;\n      border: none;\n      border-radius: 50%;\n      cursor: pointer;\n      display: none;\n      fill: #1967D2;\n      height: 32px;\n      padding: 0 0 0 0;\n      width: 32px;\n    }\n\n    .colab-df-convert:hover {\n      background-color: #E2EBFA;\n      box-shadow: 0px 1px 2px rgba(60, 64, 67, 0.3), 0px 1px 3px 1px rgba(60, 64, 67, 0.15);\n      fill: #174EA6;\n    }\n\n    .colab-df-buttons div {\n      margin-bottom: 4px;\n    }\n\n    [theme=dark] .colab-df-convert {\n      background-color: #3B4455;\n      fill: #D2E3FC;\n    }\n\n    [theme=dark] .colab-df-convert:hover {\n      background-color: #434B5C;\n      box-shadow: 0px 1px 3px 1px rgba(0, 0, 0, 0.15);\n      filter: drop-shadow(0px 1px 2px rgba(0, 0, 0, 0.3));\n      fill: #FFFFFF;\n    }\n  </style>\n\n    <script>\n      const buttonEl =\n        document.querySelector('#df-25387246-292e-4023-9424-1edb95c6f2b1 button.colab-df-convert');\n      buttonEl.style.display =\n        google.colab.kernel.accessAllowed ? 'block' : 'none';\n\n      async function convertToInteractive(key) {\n        const element = document.querySelector('#df-25387246-292e-4023-9424-1edb95c6f2b1');\n        const dataTable =\n          await google.colab.kernel.invokeFunction('convertToInteractive',\n                                                    [key], {});\n        if (!dataTable) return;\n\n        const docLinkHtml = 'Like what you see? Visit the ' +\n          '<a target=\"_blank\" href=https://colab.research.google.com/notebooks/data_table.ipynb>data table notebook</a>'\n          + ' to learn more about interactive tables.';\n        element.innerHTML = '';\n        dataTable['output_type'] = 'display_data';\n        await google.colab.output.renderOutput(dataTable, element);\n        const docLink = document.createElement('div');\n        docLink.innerHTML = docLinkHtml;\n        element.appendChild(docLink);\n      }\n    </script>\n  </div>\n\n\n<div id=\"df-78919231-6d21-40e6-9274-3179615f486b\">\n  <button class=\"colab-df-quickchart\" onclick=\"quickchart('df-78919231-6d21-40e6-9274-3179615f486b')\"\n            title=\"Suggest charts\"\n            style=\"display:none;\">\n\n<svg xmlns=\"http://www.w3.org/2000/svg\" height=\"24px\"viewBox=\"0 0 24 24\"\n     width=\"24px\">\n    <g>\n        <path d=\"M19 3H5c-1.1 0-2 .9-2 2v14c0 1.1.9 2 2 2h14c1.1 0 2-.9 2-2V5c0-1.1-.9-2-2-2zM9 17H7v-7h2v7zm4 0h-2V7h2v10zm4 0h-2v-4h2v4z\"/>\n    </g>\n</svg>\n  </button>\n\n<style>\n  .colab-df-quickchart {\n      --bg-color: #E8F0FE;\n      --fill-color: #1967D2;\n      --hover-bg-color: #E2EBFA;\n      --hover-fill-color: #174EA6;\n      --disabled-fill-color: #AAA;\n      --disabled-bg-color: #DDD;\n  }\n\n  [theme=dark] .colab-df-quickchart {\n      --bg-color: #3B4455;\n      --fill-color: #D2E3FC;\n      --hover-bg-color: #434B5C;\n      --hover-fill-color: #FFFFFF;\n      --disabled-bg-color: #3B4455;\n      --disabled-fill-color: #666;\n  }\n\n  .colab-df-quickchart {\n    background-color: var(--bg-color);\n    border: none;\n    border-radius: 50%;\n    cursor: pointer;\n    display: none;\n    fill: var(--fill-color);\n    height: 32px;\n    padding: 0;\n    width: 32px;\n  }\n\n  .colab-df-quickchart:hover {\n    background-color: var(--hover-bg-color);\n    box-shadow: 0 1px 2px rgba(60, 64, 67, 0.3), 0 1px 3px 1px rgba(60, 64, 67, 0.15);\n    fill: var(--button-hover-fill-color);\n  }\n\n  .colab-df-quickchart-complete:disabled,\n  .colab-df-quickchart-complete:disabled:hover {\n    background-color: var(--disabled-bg-color);\n    fill: var(--disabled-fill-color);\n    box-shadow: none;\n  }\n\n  .colab-df-spinner {\n    border: 2px solid var(--fill-color);\n    border-color: transparent;\n    border-bottom-color: var(--fill-color);\n    animation:\n      spin 1s steps(1) infinite;\n  }\n\n  @keyframes spin {\n    0% {\n      border-color: transparent;\n      border-bottom-color: var(--fill-color);\n      border-left-color: var(--fill-color);\n    }\n    20% {\n      border-color: transparent;\n      border-left-color: var(--fill-color);\n      border-top-color: var(--fill-color);\n    }\n    30% {\n      border-color: transparent;\n      border-left-color: var(--fill-color);\n      border-top-color: var(--fill-color);\n      border-right-color: var(--fill-color);\n    }\n    40% {\n      border-color: transparent;\n      border-right-color: var(--fill-color);\n      border-top-color: var(--fill-color);\n    }\n    60% {\n      border-color: transparent;\n      border-right-color: var(--fill-color);\n    }\n    80% {\n      border-color: transparent;\n      border-right-color: var(--fill-color);\n      border-bottom-color: var(--fill-color);\n    }\n    90% {\n      border-color: transparent;\n      border-bottom-color: var(--fill-color);\n    }\n  }\n</style>\n\n  <script>\n    async function quickchart(key) {\n      const quickchartButtonEl =\n        document.querySelector('#' + key + ' button');\n      quickchartButtonEl.disabled = true;  // To prevent multiple clicks.\n      quickchartButtonEl.classList.add('colab-df-spinner');\n      try {\n        const charts = await google.colab.kernel.invokeFunction(\n            'suggestCharts', [key], {});\n      } catch (error) {\n        console.error('Error during call to suggestCharts:', error);\n      }\n      quickchartButtonEl.classList.remove('colab-df-spinner');\n      quickchartButtonEl.classList.add('colab-df-quickchart-complete');\n    }\n    (() => {\n      let quickchartButtonEl =\n        document.querySelector('#df-78919231-6d21-40e6-9274-3179615f486b button');\n      quickchartButtonEl.style.display =\n        google.colab.kernel.accessAllowed ? 'block' : 'none';\n    })();\n  </script>\n</div>\n\n  <div id=\"id_8555378d-af0c-4221-84e8-c7d66bc49a80\">\n    <style>\n      .colab-df-generate {\n        background-color: #E8F0FE;\n        border: none;\n        border-radius: 50%;\n        cursor: pointer;\n        display: none;\n        fill: #1967D2;\n        height: 32px;\n        padding: 0 0 0 0;\n        width: 32px;\n      }\n\n      .colab-df-generate:hover {\n        background-color: #E2EBFA;\n        box-shadow: 0px 1px 2px rgba(60, 64, 67, 0.3), 0px 1px 3px 1px rgba(60, 64, 67, 0.15);\n        fill: #174EA6;\n      }\n\n      [theme=dark] .colab-df-generate {\n        background-color: #3B4455;\n        fill: #D2E3FC;\n      }\n\n      [theme=dark] .colab-df-generate:hover {\n        background-color: #434B5C;\n        box-shadow: 0px 1px 3px 1px rgba(0, 0, 0, 0.15);\n        filter: drop-shadow(0px 1px 2px rgba(0, 0, 0, 0.3));\n        fill: #FFFFFF;\n      }\n    </style>\n    <button class=\"colab-df-generate\" onclick=\"generateWithVariable('df_train')\"\n            title=\"Generate code using this dataframe.\"\n            style=\"display:none;\">\n\n  <svg xmlns=\"http://www.w3.org/2000/svg\" height=\"24px\"viewBox=\"0 0 24 24\"\n       width=\"24px\">\n    <path d=\"M7,19H8.4L18.45,9,17,7.55,7,17.6ZM5,21V16.75L18.45,3.32a2,2,0,0,1,2.83,0l1.4,1.43a1.91,1.91,0,0,1,.58,1.4,1.91,1.91,0,0,1-.58,1.4L9.25,21ZM18.45,9,17,7.55Zm-12,3A5.31,5.31,0,0,0,4.9,8.1,5.31,5.31,0,0,0,1,6.5,5.31,5.31,0,0,0,4.9,4.9,5.31,5.31,0,0,0,6.5,1,5.31,5.31,0,0,0,8.1,4.9,5.31,5.31,0,0,0,12,6.5,5.46,5.46,0,0,0,6.5,12Z\"/>\n  </svg>\n    </button>\n    <script>\n      (() => {\n      const buttonEl =\n        document.querySelector('#id_8555378d-af0c-4221-84e8-c7d66bc49a80 button.colab-df-generate');\n      buttonEl.style.display =\n        google.colab.kernel.accessAllowed ? 'block' : 'none';\n\n      buttonEl.onclick = () => {\n        google.colab.notebook.generateWithVariable('df_train');\n      }\n      })();\n    </script>\n  </div>\n\n    </div>\n  </div>\n",
            "application/vnd.google.colaboratory.intrinsic+json": {
              "type": "dataframe",
              "variable_name": "df_train"
            }
          },
          "metadata": {}
        }
      ],
      "execution_count": null,
      "metadata": {
        "colab": {
          "base_uri": "https://localhost:8080/",
          "height": 770
        },
        "id": "ruXfrQ974AmB",
        "outputId": "914680d6-5a06-4114-8f2f-fc5fd91e1a4a"
      }
    },
    {
      "cell_type": "code",
      "source": [
        "df_test[\"vi_token\"] = df_test[\"vi_punc\"].apply(lambda x: tokenizer(x, \"vi\"))\n",
        "df_test[\"en_token\"] = df_test[\"en_punc\"].apply(lambda x: tokenizer(x, \"en\"))\n",
        "\n",
        "df_test"
      ],
      "outputs": [
        {
          "output_type": "execute_result",
          "execution_count": 22,
          "data": {
            "text/plain": "                                                     vi  \\\n0     Khi tôi còn nhỏ , Tôi nghĩ rằng BắcTriều Tiên ...   \n1                   Tôi đã rất tự hào về đất nước tôi .   \n2     Ở trường , chúng tôi dành rất nhiều thời gian ...   \n3     Mặc dù tôi đã từng tự hỏi không biết thế giới ...   \n4     Khi tôi lên 7 , tôi chứng kiến cảnh người ta x...   \n...                                                 ...   \n1263  Tôi thực sự tin , nếu ta coi người khác như nh...   \n1264  Những tấm hình không phải là về bản thân vấnđề...   \n1265  Không có ngày nào mà tôi không nghĩ về những n...   \n1266  Tôi hi vọng những tấm hình sẽ đánh thức một ng...   \n1267                                 Cảm ơn rất nhiều .   \n\n                                                     en  \\\n0     When I was little , I thought my country was t...   \n1                                And I was very proud .   \n2     In school , we spent a lot of time studying th...   \n3     Although I often wondered about the outside wo...   \n4     When I was seven years old , I saw my first pu...   \n...                                                 ...   \n1263  I truly believe , if we can see one another as...   \n1264  These images are not of issues . They are of p...   \n1265  There is not a day that goes by that I don &ap...   \n1266  I hope that these images awaken a force in tho...   \n1267                              Thank you very much .   \n\n                                               vi_token  \\\n0     ▁khi ▁tôi ▁còn ▁nhỏ ▁, ▁tôi ▁nghĩ ▁rằng ▁bắc t...   \n1         ▁tôi ▁đã ▁rất ▁tự ▁hào ▁về ▁đất ▁nước ▁tôi ▁.   \n2     ▁ở ▁trường ▁, ▁chúng ▁tôi ▁dành ▁rất ▁nhiều ▁t...   \n3     ▁mặc ▁dù ▁tôi ▁đã ▁từng ▁tự ▁hỏi ▁không ▁biết ...   \n4     ▁khi ▁tôi ▁lên ▁0 ▁, ▁tôi ▁chứng ▁kiến ▁cảnh ▁...   \n...                                                 ...   \n1263  ▁tôi ▁thực ▁sự ▁tin ▁, ▁nếu ▁ta ▁coi ▁người ▁k...   \n1264  ▁những ▁tấm ▁hình ▁không ▁phải ▁là ▁về ▁bản ▁t...   \n1265  ▁không ▁có ▁ngày ▁nào ▁mà ▁tôi ▁không ▁nghĩ ▁v...   \n1266  ▁tôi ▁hi ▁vọng ▁những ▁tấm ▁hình ▁sẽ ▁đánh ▁th...   \n1267                            ▁cảm ▁ơn ▁rất ▁nhiều ▁.   \n\n                                               en_token  \\\n0     ▁when ▁i ▁was ▁little ▁, ▁i ▁thought ▁my ▁coun...   \n1                          ▁and ▁i ▁was ▁very ▁proud ▁.   \n2     ▁in ▁school ▁, ▁we ▁spent ▁a ▁lot ▁of ▁time ▁s...   \n3     ▁although ▁i ▁often ▁wondered ▁about ▁the ▁out...   \n4     ▁when ▁i ▁was ▁seven ▁years ▁old ▁, ▁i ▁saw ▁m...   \n...                                                 ...   \n1263  ▁i ▁truly ▁believe ▁, ▁if ▁we ▁can ▁see ▁one ▁...   \n1264  ▁these ▁images ▁are ▁not ▁of ▁issues ▁. ▁they ...   \n1265  ▁there ▁is ▁not ▁a ▁day ▁that ▁goes ▁by ▁that ...   \n1266  ▁i ▁hope ▁that ▁these ▁images ▁awaken ▁a ▁forc...   \n1267                         ▁thank ▁you ▁very ▁much ▁.   \n\n                                                vi_punc  \\\n0     Khi tôi còn nhỏ , Tôi nghĩ rằng BắcTriều Tiên ...   \n1                   Tôi đã rất tự hào về đất nước tôi .   \n2     Ở trường , chúng tôi dành rất nhiều thời gian ...   \n3     Mặc dù tôi đã từng tự hỏi không biết thế giới ...   \n4     Khi tôi lên 7 , tôi chứng kiến cảnh người ta x...   \n...                                                 ...   \n1263  Tôi thực sự tin , nếu ta coi người khác như nh...   \n1264  Những tấm hình không phải là về bản thân vấnđề...   \n1265  Không có ngày nào mà tôi không nghĩ về những n...   \n1266  Tôi hi vọng những tấm hình sẽ đánh thức một ng...   \n1267                                 Cảm ơn rất nhiều .   \n\n                                                en_punc  \n0     When I was little , I thought my country was t...  \n1                                And I was very proud .  \n2     In school , we spent a lot of time studying th...  \n3     Although I often wondered about the outside wo...  \n4     When I was seven years old , I saw my first pu...  \n...                                                 ...  \n1263  I truly believe , if we can see one another as...  \n1264  These images are not of issues . They are of p...  \n1265  There is not a day that goes by that I don &ap...  \n1266  I hope that these images awaken a force in tho...  \n1267                              Thank you very much .  \n\n[1268 rows x 6 columns]",
            "text/html": "\n  <div id=\"df-34332999-a86e-46e3-aa4c-49201ac3b90e\" class=\"colab-df-container\">\n    <div>\n<style scoped>\n    .dataframe tbody tr th:only-of-type {\n        vertical-align: middle;\n    }\n\n    .dataframe tbody tr th {\n        vertical-align: top;\n    }\n\n    .dataframe thead th {\n        text-align: right;\n    }\n</style>\n<table border=\"1\" class=\"dataframe\">\n  <thead>\n    <tr style=\"text-align: right;\">\n      <th></th>\n      <th>vi</th>\n      <th>en</th>\n      <th>vi_token</th>\n      <th>en_token</th>\n      <th>vi_punc</th>\n      <th>en_punc</th>\n    </tr>\n  </thead>\n  <tbody>\n    <tr>\n      <th>0</th>\n      <td>Khi tôi còn nhỏ , Tôi nghĩ rằng BắcTriều Tiên ...</td>\n      <td>When I was little , I thought my country was t...</td>\n      <td>▁khi ▁tôi ▁còn ▁nhỏ ▁, ▁tôi ▁nghĩ ▁rằng ▁bắc t...</td>\n      <td>▁when ▁i ▁was ▁little ▁, ▁i ▁thought ▁my ▁coun...</td>\n      <td>Khi tôi còn nhỏ , Tôi nghĩ rằng BắcTriều Tiên ...</td>\n      <td>When I was little , I thought my country was t...</td>\n    </tr>\n    <tr>\n      <th>1</th>\n      <td>Tôi đã rất tự hào về đất nước tôi .</td>\n      <td>And I was very proud .</td>\n      <td>▁tôi ▁đã ▁rất ▁tự ▁hào ▁về ▁đất ▁nước ▁tôi ▁.</td>\n      <td>▁and ▁i ▁was ▁very ▁proud ▁.</td>\n      <td>Tôi đã rất tự hào về đất nước tôi .</td>\n      <td>And I was very proud .</td>\n    </tr>\n    <tr>\n      <th>2</th>\n      <td>Ở trường , chúng tôi dành rất nhiều thời gian ...</td>\n      <td>In school , we spent a lot of time studying th...</td>\n      <td>▁ở ▁trường ▁, ▁chúng ▁tôi ▁dành ▁rất ▁nhiều ▁t...</td>\n      <td>▁in ▁school ▁, ▁we ▁spent ▁a ▁lot ▁of ▁time ▁s...</td>\n      <td>Ở trường , chúng tôi dành rất nhiều thời gian ...</td>\n      <td>In school , we spent a lot of time studying th...</td>\n    </tr>\n    <tr>\n      <th>3</th>\n      <td>Mặc dù tôi đã từng tự hỏi không biết thế giới ...</td>\n      <td>Although I often wondered about the outside wo...</td>\n      <td>▁mặc ▁dù ▁tôi ▁đã ▁từng ▁tự ▁hỏi ▁không ▁biết ...</td>\n      <td>▁although ▁i ▁often ▁wondered ▁about ▁the ▁out...</td>\n      <td>Mặc dù tôi đã từng tự hỏi không biết thế giới ...</td>\n      <td>Although I often wondered about the outside wo...</td>\n    </tr>\n    <tr>\n      <th>4</th>\n      <td>Khi tôi lên 7 , tôi chứng kiến cảnh người ta x...</td>\n      <td>When I was seven years old , I saw my first pu...</td>\n      <td>▁khi ▁tôi ▁lên ▁0 ▁, ▁tôi ▁chứng ▁kiến ▁cảnh ▁...</td>\n      <td>▁when ▁i ▁was ▁seven ▁years ▁old ▁, ▁i ▁saw ▁m...</td>\n      <td>Khi tôi lên 7 , tôi chứng kiến cảnh người ta x...</td>\n      <td>When I was seven years old , I saw my first pu...</td>\n    </tr>\n    <tr>\n      <th>...</th>\n      <td>...</td>\n      <td>...</td>\n      <td>...</td>\n      <td>...</td>\n      <td>...</td>\n      <td>...</td>\n    </tr>\n    <tr>\n      <th>1263</th>\n      <td>Tôi thực sự tin , nếu ta coi người khác như nh...</td>\n      <td>I truly believe , if we can see one another as...</td>\n      <td>▁tôi ▁thực ▁sự ▁tin ▁, ▁nếu ▁ta ▁coi ▁người ▁k...</td>\n      <td>▁i ▁truly ▁believe ▁, ▁if ▁we ▁can ▁see ▁one ▁...</td>\n      <td>Tôi thực sự tin , nếu ta coi người khác như nh...</td>\n      <td>I truly believe , if we can see one another as...</td>\n    </tr>\n    <tr>\n      <th>1264</th>\n      <td>Những tấm hình không phải là về bản thân vấnđề...</td>\n      <td>These images are not of issues . They are of p...</td>\n      <td>▁những ▁tấm ▁hình ▁không ▁phải ▁là ▁về ▁bản ▁t...</td>\n      <td>▁these ▁images ▁are ▁not ▁of ▁issues ▁. ▁they ...</td>\n      <td>Những tấm hình không phải là về bản thân vấnđề...</td>\n      <td>These images are not of issues . They are of p...</td>\n    </tr>\n    <tr>\n      <th>1265</th>\n      <td>Không có ngày nào mà tôi không nghĩ về những n...</td>\n      <td>There is not a day that goes by that I don &amp;ap...</td>\n      <td>▁không ▁có ▁ngày ▁nào ▁mà ▁tôi ▁không ▁nghĩ ▁v...</td>\n      <td>▁there ▁is ▁not ▁a ▁day ▁that ▁goes ▁by ▁that ...</td>\n      <td>Không có ngày nào mà tôi không nghĩ về những n...</td>\n      <td>There is not a day that goes by that I don &amp;ap...</td>\n    </tr>\n    <tr>\n      <th>1266</th>\n      <td>Tôi hi vọng những tấm hình sẽ đánh thức một ng...</td>\n      <td>I hope that these images awaken a force in tho...</td>\n      <td>▁tôi ▁hi ▁vọng ▁những ▁tấm ▁hình ▁sẽ ▁đánh ▁th...</td>\n      <td>▁i ▁hope ▁that ▁these ▁images ▁awaken ▁a ▁forc...</td>\n      <td>Tôi hi vọng những tấm hình sẽ đánh thức một ng...</td>\n      <td>I hope that these images awaken a force in tho...</td>\n    </tr>\n    <tr>\n      <th>1267</th>\n      <td>Cảm ơn rất nhiều .</td>\n      <td>Thank you very much .</td>\n      <td>▁cảm ▁ơn ▁rất ▁nhiều ▁.</td>\n      <td>▁thank ▁you ▁very ▁much ▁.</td>\n      <td>Cảm ơn rất nhiều .</td>\n      <td>Thank you very much .</td>\n    </tr>\n  </tbody>\n</table>\n<p>1268 rows × 6 columns</p>\n</div>\n    <div class=\"colab-df-buttons\">\n\n  <div class=\"colab-df-container\">\n    <button class=\"colab-df-convert\" onclick=\"convertToInteractive('df-34332999-a86e-46e3-aa4c-49201ac3b90e')\"\n            title=\"Convert this dataframe to an interactive table.\"\n            style=\"display:none;\">\n\n  <svg xmlns=\"http://www.w3.org/2000/svg\" height=\"24px\" viewBox=\"0 -960 960 960\">\n    <path d=\"M120-120v-720h720v720H120Zm60-500h600v-160H180v160Zm220 220h160v-160H400v160Zm0 220h160v-160H400v160ZM180-400h160v-160H180v160Zm440 0h160v-160H620v160ZM180-180h160v-160H180v160Zm440 0h160v-160H620v160Z\"/>\n  </svg>\n    </button>\n\n  <style>\n    .colab-df-container {\n      display:flex;\n      gap: 12px;\n    }\n\n    .colab-df-convert {\n      background-color: #E8F0FE;\n      border: none;\n      border-radius: 50%;\n      cursor: pointer;\n      display: none;\n      fill: #1967D2;\n      height: 32px;\n      padding: 0 0 0 0;\n      width: 32px;\n    }\n\n    .colab-df-convert:hover {\n      background-color: #E2EBFA;\n      box-shadow: 0px 1px 2px rgba(60, 64, 67, 0.3), 0px 1px 3px 1px rgba(60, 64, 67, 0.15);\n      fill: #174EA6;\n    }\n\n    .colab-df-buttons div {\n      margin-bottom: 4px;\n    }\n\n    [theme=dark] .colab-df-convert {\n      background-color: #3B4455;\n      fill: #D2E3FC;\n    }\n\n    [theme=dark] .colab-df-convert:hover {\n      background-color: #434B5C;\n      box-shadow: 0px 1px 3px 1px rgba(0, 0, 0, 0.15);\n      filter: drop-shadow(0px 1px 2px rgba(0, 0, 0, 0.3));\n      fill: #FFFFFF;\n    }\n  </style>\n\n    <script>\n      const buttonEl =\n        document.querySelector('#df-34332999-a86e-46e3-aa4c-49201ac3b90e button.colab-df-convert');\n      buttonEl.style.display =\n        google.colab.kernel.accessAllowed ? 'block' : 'none';\n\n      async function convertToInteractive(key) {\n        const element = document.querySelector('#df-34332999-a86e-46e3-aa4c-49201ac3b90e');\n        const dataTable =\n          await google.colab.kernel.invokeFunction('convertToInteractive',\n                                                    [key], {});\n        if (!dataTable) return;\n\n        const docLinkHtml = 'Like what you see? Visit the ' +\n          '<a target=\"_blank\" href=https://colab.research.google.com/notebooks/data_table.ipynb>data table notebook</a>'\n          + ' to learn more about interactive tables.';\n        element.innerHTML = '';\n        dataTable['output_type'] = 'display_data';\n        await google.colab.output.renderOutput(dataTable, element);\n        const docLink = document.createElement('div');\n        docLink.innerHTML = docLinkHtml;\n        element.appendChild(docLink);\n      }\n    </script>\n  </div>\n\n\n<div id=\"df-50bbcb00-dd46-46c0-8a73-c5b790262a12\">\n  <button class=\"colab-df-quickchart\" onclick=\"quickchart('df-50bbcb00-dd46-46c0-8a73-c5b790262a12')\"\n            title=\"Suggest charts\"\n            style=\"display:none;\">\n\n<svg xmlns=\"http://www.w3.org/2000/svg\" height=\"24px\"viewBox=\"0 0 24 24\"\n     width=\"24px\">\n    <g>\n        <path d=\"M19 3H5c-1.1 0-2 .9-2 2v14c0 1.1.9 2 2 2h14c1.1 0 2-.9 2-2V5c0-1.1-.9-2-2-2zM9 17H7v-7h2v7zm4 0h-2V7h2v10zm4 0h-2v-4h2v4z\"/>\n    </g>\n</svg>\n  </button>\n\n<style>\n  .colab-df-quickchart {\n      --bg-color: #E8F0FE;\n      --fill-color: #1967D2;\n      --hover-bg-color: #E2EBFA;\n      --hover-fill-color: #174EA6;\n      --disabled-fill-color: #AAA;\n      --disabled-bg-color: #DDD;\n  }\n\n  [theme=dark] .colab-df-quickchart {\n      --bg-color: #3B4455;\n      --fill-color: #D2E3FC;\n      --hover-bg-color: #434B5C;\n      --hover-fill-color: #FFFFFF;\n      --disabled-bg-color: #3B4455;\n      --disabled-fill-color: #666;\n  }\n\n  .colab-df-quickchart {\n    background-color: var(--bg-color);\n    border: none;\n    border-radius: 50%;\n    cursor: pointer;\n    display: none;\n    fill: var(--fill-color);\n    height: 32px;\n    padding: 0;\n    width: 32px;\n  }\n\n  .colab-df-quickchart:hover {\n    background-color: var(--hover-bg-color);\n    box-shadow: 0 1px 2px rgba(60, 64, 67, 0.3), 0 1px 3px 1px rgba(60, 64, 67, 0.15);\n    fill: var(--button-hover-fill-color);\n  }\n\n  .colab-df-quickchart-complete:disabled,\n  .colab-df-quickchart-complete:disabled:hover {\n    background-color: var(--disabled-bg-color);\n    fill: var(--disabled-fill-color);\n    box-shadow: none;\n  }\n\n  .colab-df-spinner {\n    border: 2px solid var(--fill-color);\n    border-color: transparent;\n    border-bottom-color: var(--fill-color);\n    animation:\n      spin 1s steps(1) infinite;\n  }\n\n  @keyframes spin {\n    0% {\n      border-color: transparent;\n      border-bottom-color: var(--fill-color);\n      border-left-color: var(--fill-color);\n    }\n    20% {\n      border-color: transparent;\n      border-left-color: var(--fill-color);\n      border-top-color: var(--fill-color);\n    }\n    30% {\n      border-color: transparent;\n      border-left-color: var(--fill-color);\n      border-top-color: var(--fill-color);\n      border-right-color: var(--fill-color);\n    }\n    40% {\n      border-color: transparent;\n      border-right-color: var(--fill-color);\n      border-top-color: var(--fill-color);\n    }\n    60% {\n      border-color: transparent;\n      border-right-color: var(--fill-color);\n    }\n    80% {\n      border-color: transparent;\n      border-right-color: var(--fill-color);\n      border-bottom-color: var(--fill-color);\n    }\n    90% {\n      border-color: transparent;\n      border-bottom-color: var(--fill-color);\n    }\n  }\n</style>\n\n  <script>\n    async function quickchart(key) {\n      const quickchartButtonEl =\n        document.querySelector('#' + key + ' button');\n      quickchartButtonEl.disabled = true;  // To prevent multiple clicks.\n      quickchartButtonEl.classList.add('colab-df-spinner');\n      try {\n        const charts = await google.colab.kernel.invokeFunction(\n            'suggestCharts', [key], {});\n      } catch (error) {\n        console.error('Error during call to suggestCharts:', error);\n      }\n      quickchartButtonEl.classList.remove('colab-df-spinner');\n      quickchartButtonEl.classList.add('colab-df-quickchart-complete');\n    }\n    (() => {\n      let quickchartButtonEl =\n        document.querySelector('#df-50bbcb00-dd46-46c0-8a73-c5b790262a12 button');\n      quickchartButtonEl.style.display =\n        google.colab.kernel.accessAllowed ? 'block' : 'none';\n    })();\n  </script>\n</div>\n\n  <div id=\"id_73a9ff08-06f1-4473-b48e-bb559eaa66ac\">\n    <style>\n      .colab-df-generate {\n        background-color: #E8F0FE;\n        border: none;\n        border-radius: 50%;\n        cursor: pointer;\n        display: none;\n        fill: #1967D2;\n        height: 32px;\n        padding: 0 0 0 0;\n        width: 32px;\n      }\n\n      .colab-df-generate:hover {\n        background-color: #E2EBFA;\n        box-shadow: 0px 1px 2px rgba(60, 64, 67, 0.3), 0px 1px 3px 1px rgba(60, 64, 67, 0.15);\n        fill: #174EA6;\n      }\n\n      [theme=dark] .colab-df-generate {\n        background-color: #3B4455;\n        fill: #D2E3FC;\n      }\n\n      [theme=dark] .colab-df-generate:hover {\n        background-color: #434B5C;\n        box-shadow: 0px 1px 3px 1px rgba(0, 0, 0, 0.15);\n        filter: drop-shadow(0px 1px 2px rgba(0, 0, 0, 0.3));\n        fill: #FFFFFF;\n      }\n    </style>\n    <button class=\"colab-df-generate\" onclick=\"generateWithVariable('df_test')\"\n            title=\"Generate code using this dataframe.\"\n            style=\"display:none;\">\n\n  <svg xmlns=\"http://www.w3.org/2000/svg\" height=\"24px\"viewBox=\"0 0 24 24\"\n       width=\"24px\">\n    <path d=\"M7,19H8.4L18.45,9,17,7.55,7,17.6ZM5,21V16.75L18.45,3.32a2,2,0,0,1,2.83,0l1.4,1.43a1.91,1.91,0,0,1,.58,1.4,1.91,1.91,0,0,1-.58,1.4L9.25,21ZM18.45,9,17,7.55Zm-12,3A5.31,5.31,0,0,0,4.9,8.1,5.31,5.31,0,0,0,1,6.5,5.31,5.31,0,0,0,4.9,4.9,5.31,5.31,0,0,0,6.5,1,5.31,5.31,0,0,0,8.1,4.9,5.31,5.31,0,0,0,12,6.5,5.46,5.46,0,0,0,6.5,12Z\"/>\n  </svg>\n    </button>\n    <script>\n      (() => {\n      const buttonEl =\n        document.querySelector('#id_73a9ff08-06f1-4473-b48e-bb559eaa66ac button.colab-df-generate');\n      buttonEl.style.display =\n        google.colab.kernel.accessAllowed ? 'block' : 'none';\n\n      buttonEl.onclick = () => {\n        google.colab.notebook.generateWithVariable('df_test');\n      }\n      })();\n    </script>\n  </div>\n\n    </div>\n  </div>\n",
            "application/vnd.google.colaboratory.intrinsic+json": {
              "type": "dataframe",
              "variable_name": "df_test",
              "summary": "{\n  \"name\": \"df_test\",\n  \"rows\": 1268,\n  \"fields\": [\n    {\n      \"column\": \"vi\",\n      \"properties\": {\n        \"dtype\": \"string\",\n        \"num_unique_values\": 1260,\n        \"samples\": [\n          \"T\\u00f4i v\\u00f4 c\\u00f9ng ng\\u1ea1c nhi\\u00ean khi m\\u1ed9t ng\\u01b0\\u1eddi ho\\u00e0n to\\u00e0n xa l\\u1ea1 l\\u1ea1i quan t\\u00e2m t\\u1edbi m\\u1ee9c h\\u1ecfi t\\u00f4i nh\\u01b0 v\\u1eady .\",\n          \"NG\\u01b0\\u1eddi n\\u00e0o s\\u1ebd s\\u00e1ng ch\\u1ebf ra c\\u00e1i c\\u00f4ng ngh\\u1ec7 cho cu\\u1ed9c c\\u00e1ch m\\u1ea1ng xanh ? C\\u00e1c tr\\u01b0\\u1eddng \\u0111\\u1ea1i h\\u1ecdc \\u01b0 ? qu\\u00ean \\u0111i !\",\n          \"Vi\\u1ec7c ng\\u01b0\\u1eddi B\\u1eafc Tri\\u1ec1u Ti\\u00ean ph\\u1ea3i che d\\u1ea5u danh t\\u00ednh c\\u1ee7a m\\u00ecnh v\\u00e0 \\u0111\\u1ea5u tranh \\u0111\\u1ec3 t\\u1ed3n t\\u1ea1i qu\\u1ea3 l\\u00e0 m\\u1ed9t bi k\\u1ecbch .\"\n        ],\n        \"semantic_type\": \"\",\n        \"description\": \"\"\n      }\n    },\n    {\n      \"column\": \"en\",\n      \"properties\": {\n        \"dtype\": \"string\",\n        \"num_unique_values\": 1252,\n        \"samples\": [\n          \"But frustratingly , with Parkinson &apos;s disease and other movement disorders , there are no biomarkers , so there &apos;s no simple blood test that you can do , and the best that we have is like this 20-minute neurologist test .\",\n          \"This is Manuru . When his father died , his uncle trafficked him to work with him in the mines .\",\n          \"We got dirty , and we loved it .\"\n        ],\n        \"semantic_type\": \"\",\n        \"description\": \"\"\n      }\n    },\n    {\n      \"column\": \"vi_token\",\n      \"properties\": {\n        \"dtype\": \"string\",\n        \"num_unique_values\": 1260,\n        \"samples\": [\n          \"\\u2581t\\u00f4i \\u2581v\\u00f4 \\u2581c\\u00f9ng \\u2581ng\\u1ea1c \\u2581nhi\\u00ean \\u2581khi \\u2581m\\u1ed9t \\u2581ng\\u01b0\\u1eddi \\u2581ho\\u00e0n \\u2581to\\u00e0n \\u2581xa \\u2581l\\u1ea1 \\u2581l\\u1ea1i \\u2581quan \\u2581t\\u00e2m \\u2581t\\u1edbi \\u2581m\\u1ee9c \\u2581h\\u1ecfi \\u2581t\\u00f4i \\u2581nh\\u01b0 \\u2581v\\u1eady \\u2581.\",\n          \"\\u2581ng\\u01b0\\u1eddi \\u2581n\\u00e0o \\u2581s\\u1ebd \\u2581s\\u00e1ng \\u2581ch\\u1ebf \\u2581ra \\u2581c\\u00e1i \\u2581c\\u00f4ng \\u2581ngh\\u1ec7 \\u2581cho \\u2581cu\\u1ed9c \\u2581c\\u00e1ch \\u2581m\\u1ea1ng \\u2581xanh \\u2581? \\u2581c\\u00e1c \\u2581tr\\u01b0\\u1eddng \\u2581\\u0111\\u1ea1i \\u2581h\\u1ecdc \\u2581\\u01b0 \\u2581? \\u2581qu\\u00ean \\u2581\\u0111i \\u2581!\",\n          \"\\u2581vi\\u1ec7c \\u2581ng\\u01b0\\u1eddi \\u2581b\\u1eafc \\u2581tri\\u1ec1u \\u2581ti\\u00ean \\u2581ph\\u1ea3i \\u2581che \\u2581d\\u1ea5u \\u2581danh \\u2581t\\u00ednh \\u2581c\\u1ee7a \\u2581m\\u00ecnh \\u2581v\\u00e0 \\u2581\\u0111\\u1ea5u \\u2581tranh \\u2581\\u0111\\u1ec3 \\u2581t\\u1ed3n \\u2581t\\u1ea1i \\u2581qu\\u1ea3 \\u2581l\\u00e0 \\u2581m\\u1ed9t \\u2581bi \\u2581k\\u1ecbch \\u2581.\"\n        ],\n        \"semantic_type\": \"\",\n        \"description\": \"\"\n      }\n    },\n    {\n      \"column\": \"en_token\",\n      \"properties\": {\n        \"dtype\": \"string\",\n        \"num_unique_values\": 1252,\n        \"samples\": [\n          \"\\u2581but \\u2581frustrating ly \\u2581, \\u2581with \\u2581parkinson \\u2581& ap os ; s \\u2581disease \\u2581and \\u2581other \\u2581movement \\u2581disorders \\u2581, \\u2581there \\u2581are \\u2581no \\u2581biom ark ers \\u2581, \\u2581so \\u2581there \\u2581& ap os ; s \\u2581no \\u2581simple \\u2581blood \\u2581test \\u2581that \\u2581you \\u2581can \\u2581do \\u2581, \\u2581and \\u2581the \\u2581best \\u2581that \\u2581we \\u2581have \\u2581is \\u2581like \\u2581this \\u258100- minute \\u2581neurolog ist \\u2581test \\u2581.\",\n          \"\\u2581this \\u2581is \\u2581man uru \\u2581. \\u2581when \\u2581his \\u2581father \\u2581died \\u2581, \\u2581his \\u2581uncle \\u2581traff icked \\u2581him \\u2581to \\u2581work \\u2581with \\u2581him \\u2581in \\u2581the \\u2581mines \\u2581.\",\n          \"\\u2581we \\u2581got \\u2581dirty \\u2581, \\u2581and \\u2581we \\u2581loved \\u2581it \\u2581.\"\n        ],\n        \"semantic_type\": \"\",\n        \"description\": \"\"\n      }\n    },\n    {\n      \"column\": \"vi_punc\",\n      \"properties\": {\n        \"dtype\": \"string\",\n        \"num_unique_values\": 1260,\n        \"samples\": [\n          \"T\\u00f4i v\\u00f4 c\\u00f9ng ng\\u1ea1c nhi\\u00ean khi m\\u1ed9t ng\\u01b0\\u1eddi ho\\u00e0n to\\u00e0n xa l\\u1ea1 l\\u1ea1i quan t\\u00e2m t\\u1edbi m\\u1ee9c h\\u1ecfi t\\u00f4i nh\\u01b0 v\\u1eady .\",\n          \"NG\\u01b0\\u1eddi n\\u00e0o s\\u1ebd s\\u00e1ng ch\\u1ebf ra c\\u00e1i c\\u00f4ng ngh\\u1ec7 cho cu\\u1ed9c c\\u00e1ch m\\u1ea1ng xanh ? C\\u00e1c tr\\u01b0\\u1eddng \\u0111\\u1ea1i h\\u1ecdc \\u01b0 ? qu\\u00ean \\u0111i !\",\n          \"Vi\\u1ec7c ng\\u01b0\\u1eddi B\\u1eafc Tri\\u1ec1u Ti\\u00ean ph\\u1ea3i che d\\u1ea5u danh t\\u00ednh c\\u1ee7a m\\u00ecnh v\\u00e0 \\u0111\\u1ea5u tranh \\u0111\\u1ec3 t\\u1ed3n t\\u1ea1i qu\\u1ea3 l\\u00e0 m\\u1ed9t bi k\\u1ecbch .\"\n        ],\n        \"semantic_type\": \"\",\n        \"description\": \"\"\n      }\n    },\n    {\n      \"column\": \"en_punc\",\n      \"properties\": {\n        \"dtype\": \"string\",\n        \"num_unique_values\": 1252,\n        \"samples\": [\n          \"But frustratingly , with Parkinson &apos;s disease and other movement disorders , there are no biomarkers , so there &apos;s no simple blood test that you can do , and the best that we have is like this 20-minute neurologist test .\",\n          \"This is Manuru . When his father died , his uncle trafficked him to work with him in the mines .\",\n          \"We got dirty , and we loved it .\"\n        ],\n        \"semantic_type\": \"\",\n        \"description\": \"\"\n      }\n    }\n  ]\n}"
            }
          },
          "metadata": {}
        }
      ],
      "execution_count": null,
      "metadata": {
        "colab": {
          "base_uri": "https://localhost:8080/",
          "height": 736
        },
        "id": "LPwyLLtA4B7A",
        "outputId": "b8fc79e8-f29e-4735-b8a7-97f9e4e45f28"
      }
    },
    {
      "cell_type": "code",
      "source": [
        "data_vi = df_train[\"vi_token\"].values.tolist()\n",
        "data_en = df_train[\"en_token\"].values.tolist()\n",
        "\n",
        "with open(\"train.vi\", \"w\") as f:\n",
        "  f.write(\"\\n\".join(data_vi))\n",
        "\n",
        "with open(\"train.en\", \"w\") as f:\n",
        "  f.write(\"\\n\".join(data_en))"
      ],
      "outputs": [],
      "execution_count": null,
      "metadata": {
        "id": "8W8rpmV74DrF"
      }
    },
    {
      "cell_type": "code",
      "source": [
        "def remove_punc(text):\n",
        "    return text.replace(\"▁\", \" \")"
      ],
      "outputs": [],
      "execution_count": null,
      "metadata": {
        "id": "qF4pszNS9Lyf"
      }
    },
    {
      "cell_type": "code",
      "source": [
        "!wget https://raw.githubusercontent.com/moses-smt/mosesdecoder/master/scripts/training/clean-corpus-n.perl"
      ],
      "outputs": [
        {
          "output_type": "stream",
          "name": "stdout",
          "text": "--2024-06-22 11:18:25--  https://raw.githubusercontent.com/moses-smt/mosesdecoder/master/scripts/training/clean-corpus-n.perl\nResolving raw.githubusercontent.com (raw.githubusercontent.com)... 185.199.108.133, 185.199.109.133, 185.199.110.133, ...\nConnecting to raw.githubusercontent.com (raw.githubusercontent.com)|185.199.108.133|:443... connected.\nHTTP request sent, awaiting response... 200 OK\nLength: 4257 (4.2K) [text/plain]\nSaving to: ‘clean-corpus-n.perl’\n\n\rclean-corpus-n.perl   0%[                    ]       0  --.-KB/s               \rclean-corpus-n.perl 100%[===================>]   4.16K  --.-KB/s    in 0s      \n\n2024-06-22 11:18:25 (52.7 MB/s) - ‘clean-corpus-n.perl’ saved [4257/4257]\n\n"
        }
      ],
      "execution_count": null,
      "metadata": {
        "colab": {
          "base_uri": "https://localhost:8080/"
        },
        "id": "Ey7cjKuz4FJs",
        "outputId": "64fa48ea-a84b-46bb-8e81-e6fdee0c765e"
      }
    },
    {
      "cell_type": "code",
      "source": [
        "!perl clean-corpus-n.perl -max-word-length 50 train vi en train.clean 0 512"
      ],
      "outputs": [
        {
          "output_type": "stream",
          "name": "stdout",
          "text": "clean-corpus.perl: processing train.vi & .en to train.clean, cutoff 0-512, ratio 9\n..........(100000)...\nInput sentences: 133000  Output sentences:  132993\n"
        }
      ],
      "execution_count": null,
      "metadata": {
        "colab": {
          "base_uri": "https://localhost:8080/"
        },
        "id": "Ieqg1Yqi4G4e",
        "outputId": "9e543b83-cda6-4745-dff4-d633ecd469b3"
      }
    },
    {
      "cell_type": "code",
      "source": [
        "test_vi = df_test[\"vi_token\"].values.tolist()\n",
        "test_en = df_test[\"en_token\"].values.tolist()\n",
        "\n",
        "with open(\"test.vi\", \"w\") as f:\n",
        "  f.write(\"\\n\".join(test_vi))\n",
        "\n",
        "with open(\"test.en\", \"w\") as f:\n",
        "  f.write(\"\\n\".join(test_en))\n",
        "\n",
        "\n",
        "test_vi = [i.replace(\"\\n\", \"\") for i in test_vi]\n",
        "test_en = [i.replace(\"\\n\", \"\") for i in test_en]\n",
        "test_vi[:10]"
      ],
      "outputs": [
        {
          "output_type": "execute_result",
          "execution_count": 27,
          "data": {
            "text/plain": "['▁khi ▁tôi ▁còn ▁nhỏ ▁, ▁tôi ▁nghĩ ▁rằng ▁bắc triều ▁tiên ▁là ▁đất ▁nước ▁tốt ▁nhất ▁trên ▁thế ▁giới ▁và ▁tôi ▁thường ▁hát ▁bài ▁& qu ot ; ▁chúng ▁ta ▁chẳng ▁có ▁gì ▁phải ▁ghen ▁tị ▁. ▁& qu ot ;',\n '▁tôi ▁đã ▁rất ▁tự ▁hào ▁về ▁đất ▁nước ▁tôi ▁.',\n '▁ở ▁trường ▁, ▁chúng ▁tôi ▁dành ▁rất ▁nhiều ▁thời ▁gian ▁để ▁học ▁về ▁cuộc ▁đời ▁của ▁chủ ▁tịch ▁kim ▁ii - ▁sung ▁, ▁nhưng ▁lại ▁không ▁học ▁nhiều ▁về ▁thế ▁giới ▁bên ▁ngoài ▁, ▁ngoại ▁trừ ▁việc ▁hoa ▁kỳ ▁, ▁hàn ▁quốc ▁và ▁nhật ▁bản ▁là ▁kẻ ▁thù ▁của ▁chúng ▁tôi ▁.',\n '▁mặc ▁dù ▁tôi ▁đã ▁từng ▁tự ▁hỏi ▁không ▁biết ▁thế ▁giới ▁bên ▁ngoài ▁kia ▁như ▁thế ▁nào ▁, ▁nhưng ▁tôi ▁vẫn ▁nghĩ ▁rằng ▁mình ▁sẽ ▁sống ▁cả ▁cuộc ▁đời ▁ở ▁bắc triều ▁tiên ▁, ▁cho ▁tới ▁khi ▁tất ▁cả ▁mọi ▁thứ ▁đột ▁nhiên ▁thay ▁đổi ▁.',\n '▁khi ▁tôi ▁lên ▁0 ▁, ▁tôi ▁chứng ▁kiến ▁cảnh ▁người ▁ta ▁xử ▁bắn ▁công ▁khai ▁lần ▁đầu ▁tiên ▁trong ▁đời ▁, ▁nhưng ▁tôi ▁vẫn ▁nghĩ ▁cuộc ▁sống ▁của ▁mình ▁ở ▁đây ▁là ▁hoàn ▁toàn ▁bình ▁thường ▁.',\n '▁gia ▁đình ▁của ▁tôi ▁không ▁nghèo ▁, ▁và ▁bản ▁thân ▁tôi ▁thì ▁chưa ▁từng ▁phải ▁chịu ▁đói ▁.',\n '▁nhưng ▁vào ▁một ▁ngày ▁của ▁năm ▁0000 ▁, ▁mẹ ▁tôi ▁mang ▁về ▁nhà ▁một ▁lá ▁thư ▁từ ▁một ▁người ▁chị ▁em ▁cùng ▁chỗ ▁làm ▁với ▁mẹ ▁.',\n '▁trong ▁đó ▁có ▁viết : ▁khi ▁chị ▁đọc ▁được ▁những ▁dòng ▁này ▁thì ▁cả ▁gia ▁đình ▁0 ▁người ▁của ▁em ▁đã ▁không ▁còn ▁trên ▁cõi ▁đời ▁này ▁nữa ▁, ▁bởi ▁vì ▁cả ▁nhà ▁em ▁đã ▁không ▁có ▁gì ▁để ▁ăn ▁trong ▁hai ▁tuần ▁.',\n '▁tất ▁cả ▁cùng ▁nằm ▁trên ▁sàn ▁, ▁và ▁cơ ▁thể ▁chúng ▁tôi ▁yếu ▁đến ▁có ▁thể ▁cảm ▁thấy ▁như ▁cái ▁chết ▁đang ▁đến ▁rất ▁gần ▁.',\n '▁tôi ▁đã ▁bị ▁sốc ▁.']"
          },
          "metadata": {}
        }
      ],
      "execution_count": null,
      "metadata": {
        "colab": {
          "base_uri": "https://localhost:8080/"
        },
        "id": "tuMZuVTt4ILa",
        "outputId": "9f346612-f7ea-40b3-eda7-5d3c8969364f"
      }
    },
    {
      "cell_type": "code",
      "source": [
        "# Áp dụng hàm remove_punc và tách các từ\n",
        "test_vi = [remove_punc(text).split() for text in test_vi]\n",
        "test_en = [remove_punc(text).split() for text in test_en]\n",
        "\n",
        "\n",
        "for i in range(10):\n",
        "  print(test_en[i])\n",
        "  print(test_vi[i])\n"
      ],
      "outputs": [
        {
          "output_type": "stream",
          "name": "stdout",
          "text": "['when', 'i', 'was', 'little', ',', 'i', 'thought', 'my', 'country', 'was', 'the', 'best', 'on', 'the', 'planet', ',', 'and', 'i', 'grew', 'up', 'singing', 'a', 'song', 'called', '&', 'quot', ';', 'nothing', 'to', 'envy', '.', '&', 'quot', ';']\n['khi', 'tôi', 'còn', 'nhỏ', ',', 'tôi', 'nghĩ', 'rằng', 'bắc', 'triều', 'tiên', 'là', 'đất', 'nước', 'tốt', 'nhất', 'trên', 'thế', 'giới', 'và', 'tôi', 'thường', 'hát', 'bài', '&', 'qu', 'ot', ';', 'chúng', 'ta', 'chẳng', 'có', 'gì', 'phải', 'ghen', 'tị', '.', '&', 'qu', 'ot', ';']\n['and', 'i', 'was', 'very', 'proud', '.']\n['tôi', 'đã', 'rất', 'tự', 'hào', 'về', 'đất', 'nước', 'tôi', '.']\n['in', 'school', ',', 'we', 'spent', 'a', 'lot', 'of', 'time', 'studying', 'the', 'history', 'of', 'kim', 'il', '-', 'sung', ',', 'but', 'we', 'never', 'learned', 'much', 'about', 'the', 'outside', 'world', ',', 'except', 'that', 'america', ',', 'south', 'korea', ',', 'japan', 'are', 'the', 'enemies', '.']\n['ở', 'trường', ',', 'chúng', 'tôi', 'dành', 'rất', 'nhiều', 'thời', 'gian', 'để', 'học', 'về', 'cuộc', 'đời', 'của', 'chủ', 'tịch', 'kim', 'ii', '-', 'sung', ',', 'nhưng', 'lại', 'không', 'học', 'nhiều', 'về', 'thế', 'giới', 'bên', 'ngoài', ',', 'ngoại', 'trừ', 'việc', 'hoa', 'kỳ', ',', 'hàn', 'quốc', 'và', 'nhật', 'bản', 'là', 'kẻ', 'thù', 'của', 'chúng', 'tôi', '.']\n['although', 'i', 'often', 'wondered', 'about', 'the', 'outside', 'world', ',', 'i', 'thought', 'i', 'would', 'spend', 'my', 'entire', 'life', 'in', 'north', 'korea', ',', 'until', 'everything', 'suddenly', 'changed', '.']\n['mặc', 'dù', 'tôi', 'đã', 'từng', 'tự', 'hỏi', 'không', 'biết', 'thế', 'giới', 'bên', 'ngoài', 'kia', 'như', 'thế', 'nào', ',', 'nhưng', 'tôi', 'vẫn', 'nghĩ', 'rằng', 'mình', 'sẽ', 'sống', 'cả', 'cuộc', 'đời', 'ở', 'bắc', 'triều', 'tiên', ',', 'cho', 'tới', 'khi', 'tất', 'cả', 'mọi', 'thứ', 'đột', 'nhiên', 'thay', 'đổi', '.']\n['when', 'i', 'was', 'seven', 'years', 'old', ',', 'i', 'saw', 'my', 'first', 'public', 'execution', ',', 'but', 'i', 'thought', 'my', 'life', 'in', 'north', 'korea', 'was', 'normal', '.']\n['khi', 'tôi', 'lên', '0', ',', 'tôi', 'chứng', 'kiến', 'cảnh', 'người', 'ta', 'xử', 'bắn', 'công', 'khai', 'lần', 'đầu', 'tiên', 'trong', 'đời', ',', 'nhưng', 'tôi', 'vẫn', 'nghĩ', 'cuộc', 'sống', 'của', 'mình', 'ở', 'đây', 'là', 'hoàn', 'toàn', 'bình', 'thường', '.']\n['my', 'family', 'was', 'not', 'poor', ',', 'and', 'myself', ',', 'i', 'had', 'never', 'experienced', 'hunger', '.']\n['gia', 'đình', 'của', 'tôi', 'không', 'nghèo', ',', 'và', 'bản', 'thân', 'tôi', 'thì', 'chưa', 'từng', 'phải', 'chịu', 'đói', '.']\n['but', 'one', 'day', ',', 'in', '0000', ',', 'my', 'mom', 'brought', 'home', 'a', 'letter', 'from', 'a', 'cow', 'ork', 'er', '&', 'ap', 'os', ';', 's', 'sister', '.']\n['nhưng', 'vào', 'một', 'ngày', 'của', 'năm', '0000', ',', 'mẹ', 'tôi', 'mang', 'về', 'nhà', 'một', 'lá', 'thư', 'từ', 'một', 'người', 'chị', 'em', 'cùng', 'chỗ', 'làm', 'với', 'mẹ', '.']\n['it', 'read', ',', '&', 'quot', ';', 'when', 'you', 'read', 'this', ',', 'all', 'five', 'family', 'members', 'will', 'not', 'exist', 'in', 'this', 'world', ',', 'because', 'we', 'haven', '&', 'ap', 'os', ';', 't', 'eaten', 'for', 'the', 'past', 'two', 'weeks', '.']\n['trong', 'đó', 'có', 'viết', ':', 'khi', 'chị', 'đọc', 'được', 'những', 'dòng', 'này', 'thì', 'cả', 'gia', 'đình', '0', 'người', 'của', 'em', 'đã', 'không', 'còn', 'trên', 'cõi', 'đời', 'này', 'nữa', ',', 'bởi', 'vì', 'cả', 'nhà', 'em', 'đã', 'không', 'có', 'gì', 'để', 'ăn', 'trong', 'hai', 'tuần', '.']\n['we', 'are', 'lying', 'on', 'the', 'floor', 'together', ',', 'and', 'our', 'bodies', 'are', 'so', 'weak', 'we', 'are', 'ready', 'to', 'die', '.', '&', 'quot', ';']\n['tất', 'cả', 'cùng', 'nằm', 'trên', 'sàn', ',', 'và', 'cơ', 'thể', 'chúng', 'tôi', 'yếu', 'đến', 'có', 'thể', 'cảm', 'thấy', 'như', 'cái', 'chết', 'đang', 'đến', 'rất', 'gần', '.']\n['i', 'was', 'so', 'shocked', '.']\n['tôi', 'đã', 'bị', 'sốc', '.']\n"
        }
      ],
      "execution_count": null,
      "metadata": {
        "colab": {
          "base_uri": "https://localhost:8080/"
        },
        "id": "HiVdxicx9IHF",
        "outputId": "ffdc5092-a5bc-4f5c-f4e9-b25348674ed4"
      }
    },
    {
      "cell_type": "code",
      "source": [
        "!perl clean-corpus-n.perl -max-word-length 50 test vi en test.clean 0 512"
      ],
      "outputs": [
        {
          "output_type": "stream",
          "name": "stdout",
          "text": "clean-corpus.perl: processing test.vi & .en to test.clean, cutoff 0-512, ratio 9\n\nInput sentences: 1268  Output sentences:  1268\n"
        }
      ],
      "execution_count": null,
      "metadata": {
        "colab": {
          "base_uri": "https://localhost:8080/"
        },
        "id": "Vga4eyVr4K-J",
        "outputId": "532ccda6-f3b3-412c-a756-e353cf903689"
      }
    },
    {
      "cell_type": "code",
      "source": [
        "!wc -l train.clean.vi train.clean.en"
      ],
      "outputs": [
        {
          "output_type": "stream",
          "name": "stdout",
          "text": "  132993 train.clean.vi\n  132993 train.clean.en\n  265986 total\n"
        }
      ],
      "execution_count": null,
      "metadata": {
        "colab": {
          "base_uri": "https://localhost:8080/"
        },
        "id": "QnGwm-Bh4Mxz",
        "outputId": "85dba447-de1f-4d0b-b898-2cb8779ab0d7"
      }
    },
    {
      "cell_type": "code",
      "source": [
        "!wc -l test.clean.vi test.clean.en"
      ],
      "outputs": [
        {
          "output_type": "stream",
          "name": "stdout",
          "text": "  1268 test.clean.vi\n  1268 test.clean.en\n  2536 total\n"
        }
      ],
      "execution_count": null,
      "metadata": {
        "colab": {
          "base_uri": "https://localhost:8080/"
        },
        "id": "aFUm_h7G4PGB",
        "outputId": "99d9779d-1f61-4ac7-cde2-2af16f3fa173"
      }
    },
    {
      "cell_type": "code",
      "source": [
        "with open(\"train.clean.vi\", \"r\") as f:\n",
        "    train_vi = f.readlines()\n",
        "\n",
        "with open(\"train.clean.en\", \"r\") as f:\n",
        "    train_en = f.readlines()\n",
        "\n",
        "train_vi = [i.replace(\"\\n\", \"\") for i in train_vi]\n",
        "train_en = [i.replace(\"\\n\", \"\") for i in train_en]\n",
        "train_en[:10]"
      ],
      "outputs": [
        {
          "output_type": "execute_result",
          "execution_count": 32,
          "data": {
            "text/plain": "['▁rachel ▁pike : ▁the ▁science ▁behind ▁a ▁climate ▁headline',\n '▁in ▁0 ▁minutes ▁, ▁atmospheric ▁chemist ▁rachel ▁pike ▁provides ▁a ▁glimpse ▁of ▁the ▁massive ▁scientific ▁effort ▁behind ▁the ▁bold ▁headlines ▁on ▁climate ▁change ▁, ▁with ▁her ▁team ▁-- ▁one ▁of ▁thousands ▁who ▁contributed ▁-- ▁taking ▁a ▁risky ▁flight ▁over ▁the ▁rainforest ▁in ▁pursuit ▁of ▁data ▁on ▁a ▁key ▁molecule ▁.',\n '▁i ▁& ap os ; d ▁like ▁to ▁talk ▁to ▁you ▁today ▁about ▁the ▁scale ▁of ▁the ▁scientific ▁effort ▁that ▁goes ▁into ▁making ▁the ▁headlines ▁you ▁see ▁in ▁the ▁paper ▁.',\n '▁headlines ▁that ▁look ▁like ▁this ▁when ▁they ▁have ▁to ▁do ▁with ▁climate ▁change ▁, ▁and ▁headlines ▁that ▁look ▁like ▁this ▁when ▁they ▁have ▁to ▁do ▁with ▁air ▁quality ▁or ▁sm og ▁.',\n '▁they ▁are ▁both ▁two ▁branches ▁of ▁the ▁same ▁field ▁of ▁atmospheric ▁science ▁.',\n '▁recently ▁the ▁headlines ▁looked ▁like ▁this ▁when ▁the ▁inter governmental ▁panel ▁on ▁climate ▁change ▁, ▁or ▁ip cc ▁, ▁put ▁out ▁their ▁report ▁on ▁the ▁state ▁of ▁understanding ▁of ▁the ▁atmospheric ▁system ▁.',\n '▁that ▁report ▁was ▁written ▁by ▁000 ▁scientists ▁from ▁00 ▁countries ▁.',\n '▁they ▁wrote ▁almost ▁a ▁thousand ▁pages ▁on ▁the ▁topic ▁.',\n '▁and ▁all ▁of ▁those ▁pages ▁were ▁reviewed ▁by ▁another ▁000- plus ▁scientists ▁and ▁reviewers ▁, ▁from ▁000 ▁countries ▁.',\n '▁it ▁& ap os ; s ▁a ▁big ▁community ▁. ▁it ▁& ap os ; s ▁such ▁a ▁big ▁community ▁, ▁in ▁fact ▁, ▁that ▁our ▁annual ▁gathering ▁is ▁the ▁largest ▁scientific ▁meeting ▁in ▁the ▁world ▁.']"
          },
          "metadata": {}
        }
      ],
      "execution_count": null,
      "metadata": {
        "colab": {
          "base_uri": "https://localhost:8080/"
        },
        "id": "xcRcun6r4QnS",
        "outputId": "d5c7be64-ed3f-4b99-95f2-3feb5ad3a3b3"
      }
    },
    {
      "cell_type": "code",
      "source": [
        "# Áp dụng hàm remove_punc và tách các từ\n",
        "train_vi = [remove_punc(text).split() for text in train_vi]\n",
        "train_en = [remove_punc(text).split() for text in train_en]\n",
        "\n",
        "\n",
        "for i in range(10):\n",
        "  print(train_en[i])\n",
        "  print(train_vi[i])\n"
      ],
      "outputs": [
        {
          "output_type": "stream",
          "name": "stdout",
          "text": "['rachel', 'pike', ':', 'the', 'science', 'behind', 'a', 'climate', 'headline']\n['khoa', 'học', 'đằng', 'sau', 'một', 'tiêu', 'đề', 'về', 'khí', 'hậu']\n['in', '0', 'minutes', ',', 'atmospheric', 'chemist', 'rachel', 'pike', 'provides', 'a', 'glimpse', 'of', 'the', 'massive', 'scientific', 'effort', 'behind', 'the', 'bold', 'headlines', 'on', 'climate', 'change', ',', 'with', 'her', 'team', '--', 'one', 'of', 'thousands', 'who', 'contributed', '--', 'taking', 'a', 'risky', 'flight', 'over', 'the', 'rainforest', 'in', 'pursuit', 'of', 'data', 'on', 'a', 'key', 'molecule', '.']\n['trong', '0', 'phút', ',', 'chuyên', 'gia', 'hoá', 'học', 'khí', 'quyển', 'rachel', 'pike', 'giới', 'thiệu', 'sơ', 'lược', 'về', 'những', 'nỗ', 'lực', 'khoa', 'học', 'miệt', 'mài', 'đằng', 'sau', 'những', 'tiêu', 'đề', 'táo', 'bạo', 'về', 'biến', 'đổi', 'khí', 'hậu', ',', 'cùng', 'với', 'đoàn', 'nghiên', 'cứu', 'của', 'mình', '--', 'hàng', 'ngàn', 'người', 'đã', 'cống', 'hiến', 'cho', 'dự', 'án', 'này', '--', 'một', 'chuyến', 'bay', 'mạo', 'hiểm', 'qua', 'rừng', 'già', 'để', 'tìm', 'kiếm', 'thông', 'tin', 'về', 'một', 'phân', 'tử', 'then', 'chốt', '.']\n['i', '&', 'ap', 'os', ';', 'd', 'like', 'to', 'talk', 'to', 'you', 'today', 'about', 'the', 'scale', 'of', 'the', 'scientific', 'effort', 'that', 'goes', 'into', 'making', 'the', 'headlines', 'you', 'see', 'in', 'the', 'paper', '.']\n['tôi', 'muốn', 'cho', 'các', 'bạn', 'biết', 'về', 'sự', 'to', 'lớn', 'của', 'những', 'nỗ', 'lực', 'khoa', 'học', 'đã', 'góp', 'phần', 'làm', 'nên', 'các', 'dòng', 'tít', 'bạn', 'thường', 'thấy', 'trên', 'báo', '.']\n['headlines', 'that', 'look', 'like', 'this', 'when', 'they', 'have', 'to', 'do', 'with', 'climate', 'change', ',', 'and', 'headlines', 'that', 'look', 'like', 'this', 'when', 'they', 'have', 'to', 'do', 'with', 'air', 'quality', 'or', 'sm', 'og', '.']\n['có', 'những', 'dòng', 'trông', 'như', 'thế', 'này', 'khi', 'bàn', 'về', 'biến', 'đổi', 'khí', 'hậu', ',', 'và', 'như', 'thế', 'này', 'khi', 'nói', 'về', 'chất', 'lượng', 'không', 'khí', 'hay', 'khói', 'bụi', '.']\n['they', 'are', 'both', 'two', 'branches', 'of', 'the', 'same', 'field', 'of', 'atmospheric', 'science', '.']\n['cả', 'hai', 'đều', 'là', 'một', 'nhánh', 'của', 'cùng', 'một', 'lĩnh', 'vực', 'trong', 'ngành', 'khoa', 'học', 'khí', 'quyển', '.']\n['recently', 'the', 'headlines', 'looked', 'like', 'this', 'when', 'the', 'inter', 'governmental', 'panel', 'on', 'climate', 'change', ',', 'or', 'ip', 'cc', ',', 'put', 'out', 'their', 'report', 'on', 'the', 'state', 'of', 'understanding', 'of', 'the', 'atmospheric', 'system', '.']\n['các', 'tiêu', 'đề', 'gần', 'đây', 'trông', 'như', 'thế', 'này', 'khi', 'ban', 'điều', 'hành', 'biến', 'đổi', 'khí', 'hậu', 'liên', 'chính', 'phủ', ',', 'gọi', 'tắt', 'là', 'ip', 'cc', 'đưa', 'ra', 'bài', 'nghiên', 'cứu', 'của', 'họ', 'về', 'hệ', 'thống', 'khí', 'quyển', '.']\n['that', 'report', 'was', 'written', 'by', '000', 'scientists', 'from', '00', 'countries', '.']\n['nghiên', 'cứu', 'được', 'viết', 'bởi', '000', 'nhà', 'khoa', 'học', 'từ', '00', 'quốc', 'gia', 'khác', 'nhau', '.']\n['they', 'wrote', 'almost', 'a', 'thousand', 'pages', 'on', 'the', 'topic', '.']\n['họ', 'viết', 'gần', '0000', 'trang', 'về', 'chủ', 'đề', 'này', '.']\n['and', 'all', 'of', 'those', 'pages', 'were', 'reviewed', 'by', 'another', '000-', 'plus', 'scientists', 'and', 'reviewers', ',', 'from', '000', 'countries', '.']\n['và', 'tất', 'cả', 'các', 'trang', 'đều', 'được', 'xem', 'xét', 'bởi', '000', 'khoa', 'học', 'gia', 'và', 'nhà', 'phê', 'bình', 'khác', 'từ', '000', 'quốc', 'gia', '.']\n['it', '&', 'ap', 'os', ';', 's', 'a', 'big', 'community', '.', 'it', '&', 'ap', 'os', ';', 's', 'such', 'a', 'big', 'community', ',', 'in', 'fact', ',', 'that', 'our', 'annual', 'gathering', 'is', 'the', 'largest', 'scientific', 'meeting', 'in', 'the', 'world', '.']\n['đó', 'là', 'cả', 'một', 'cộng', 'đồng', 'lớn', ',', 'lớn', 'đến', 'nỗi', 'trên', 'thực', 'tế', 'cuộc', 'tụ', 'hội', 'hằng', 'năm', 'của', 'chúng', 'tôi', 'là', 'hội', 'nghị', 'khoa', 'học', '&', '#', '00;', 'tự', 'nhiên', '&', '#', '00;', 'lớn', 'nhất', 'thế', 'giới', '.']\n"
        }
      ],
      "execution_count": null,
      "metadata": {
        "colab": {
          "base_uri": "https://localhost:8080/"
        },
        "id": "I137RbaF6gWj",
        "outputId": "cf6c3f6b-12e0-4b22-94a1-c53513b60e78"
      }
    },
    {
      "cell_type": "markdown",
      "source": [
        "## Make vocab"
      ],
      "metadata": {
        "id": "9CSCFKJDavQh"
      }
    },
    {
      "cell_type": "code",
      "source": [
        "def make_vocab(train_data, min_freq):\n",
        "  vocab = {}\n",
        "  for tokenlist in train_data:\n",
        "    for token in tokenlist:\n",
        "      if token not in vocab:\n",
        "        vocab[token] = 0\n",
        "      vocab[token] += 1 # Đếm các từ data\n",
        "  vocablist = [('<unk>',0),('<pad>', 0), ('<cls>', 0), ('<eos>', 0)] # Danh sách các tuple đặc trưng trước\n",
        "  vocabidx = {} # dict của tuple\n",
        "  for token, freq in vocab.items(): # Từ đó , với số lượng của từ đó trong train data\n",
        "    if freq >= min_freq: # Số lượng từ mà > 3\n",
        "      idx = len(vocablist) # đang là 4\n",
        "      vocablist.append((token, freq)) #Từ đó , với số lượng của từ đó trong train data\n",
        "      vocabidx[token] = idx  # Từ điển (dict)\n",
        "  vocabidx['<unk>'] = 0\n",
        "  vocabidx['<pad>'] = 1\n",
        "  vocabidx['<cls>'] = 2\n",
        "  vocabidx['<eos>'] = 3\n",
        "  return vocablist, vocabidx\n",
        "\n",
        "vocablist_en, vocabidx_en = make_vocab(train_en, 3)\n",
        "vocablist_vi, vocabidx_vi = make_vocab(train_vi, 3)\n",
        "\n",
        "print('vocab size en: ', len(vocablist_en))\n",
        "print('vocab size vi: ', len(vocablist_vi))"
      ],
      "outputs": [
        {
          "output_type": "stream",
          "name": "stdout",
          "text": "vocab size en:  20317\nvocab size vi:  8879\n"
        }
      ],
      "execution_count": null,
      "metadata": {
        "colab": {
          "base_uri": "https://localhost:8080/"
        },
        "id": "Fvjwzf7VWjfw",
        "outputId": "c64f401b-5c6c-4a1c-d0c6-961e83193e49"
      }
    },
    {
      "cell_type": "markdown",
      "source": [
        "## Preprocess"
      ],
      "metadata": {
        "id": "miWcxFcSaz_5"
      }
    },
    {
      "cell_type": "code",
      "source": [
        "def preprocess(data, vocabidx):\n",
        "  rr = []\n",
        "  for tokenlist in data:\n",
        "    tkl =['<cls>']\n",
        "    for token in tokenlist:\n",
        "      tkl.append(token if token in vocabidx else '<unk>')\n",
        "    tkl.append('<eos>')\n",
        "    rr.append((tkl))\n",
        "  return rr\n",
        "\n",
        "train_en_prep = preprocess(train_en, vocabidx_en)\n",
        "train_vi_prep = preprocess(train_vi, vocabidx_vi)\n",
        "test_en_prep = preprocess(test_en, vocabidx_en)\n",
        "for i in range(5):\n",
        "  print(train_en_prep[i])\n",
        "  print(train_vi_prep[i])\n",
        "  print(test_en_prep[i])"
      ],
      "outputs": [
        {
          "output_type": "stream",
          "name": "stdout",
          "text": "['<cls>', 'rachel', 'pike', ':', 'the', 'science', 'behind', 'a', 'climate', 'headline', '<eos>']\n['<cls>', 'khoa', 'học', 'đằng', 'sau', 'một', 'tiêu', 'đề', 'về', 'khí', 'hậu', '<eos>']\n['<cls>', 'when', 'i', 'was', 'little', ',', 'i', 'thought', 'my', 'country', 'was', 'the', 'best', 'on', 'the', 'planet', ',', 'and', 'i', 'grew', 'up', 'singing', 'a', 'song', 'called', '&', 'quot', ';', 'nothing', 'to', 'envy', '.', '&', 'quot', ';', '<eos>']\n['<cls>', 'in', '0', 'minutes', ',', 'atmospheric', 'chemist', 'rachel', 'pike', 'provides', 'a', 'glimpse', 'of', 'the', 'massive', 'scientific', 'effort', 'behind', 'the', 'bold', 'headlines', 'on', 'climate', 'change', ',', 'with', 'her', 'team', '--', 'one', 'of', 'thousands', 'who', 'contributed', '--', 'taking', 'a', 'risky', 'flight', 'over', 'the', 'rainforest', 'in', 'pursuit', 'of', 'data', 'on', 'a', 'key', 'molecule', '.', '<eos>']\n['<cls>', 'trong', '0', 'phút', ',', 'chuyên', 'gia', 'hoá', 'học', 'khí', 'quyển', 'rachel', 'pike', 'giới', 'thiệu', 'sơ', 'lược', 'về', 'những', 'nỗ', 'lực', 'khoa', 'học', 'miệt', 'mài', 'đằng', 'sau', 'những', 'tiêu', 'đề', 'táo', 'bạo', 'về', 'biến', 'đổi', 'khí', 'hậu', ',', 'cùng', 'với', 'đoàn', 'nghiên', 'cứu', 'của', 'mình', '--', 'hàng', 'ngàn', 'người', 'đã', 'cống', 'hiến', 'cho', 'dự', 'án', 'này', '--', 'một', 'chuyến', 'bay', 'mạo', 'hiểm', 'qua', 'rừng', 'già', 'để', 'tìm', 'kiếm', 'thông', 'tin', 'về', 'một', 'phân', 'tử', 'then', 'chốt', '.', '<eos>']\n['<cls>', 'and', 'i', 'was', 'very', 'proud', '.', '<eos>']\n['<cls>', 'i', '&', 'ap', 'os', ';', 'd', 'like', 'to', 'talk', 'to', 'you', 'today', 'about', 'the', 'scale', 'of', 'the', 'scientific', 'effort', 'that', 'goes', 'into', 'making', 'the', 'headlines', 'you', 'see', 'in', 'the', 'paper', '.', '<eos>']\n['<cls>', 'tôi', 'muốn', 'cho', 'các', 'bạn', 'biết', 'về', 'sự', 'to', 'lớn', 'của', 'những', 'nỗ', 'lực', 'khoa', 'học', 'đã', 'góp', 'phần', 'làm', 'nên', 'các', 'dòng', 'tít', 'bạn', 'thường', 'thấy', 'trên', 'báo', '.', '<eos>']\n['<cls>', 'in', 'school', ',', 'we', 'spent', 'a', 'lot', 'of', 'time', 'studying', 'the', 'history', 'of', 'kim', 'il', '-', 'sung', ',', 'but', 'we', 'never', 'learned', 'much', 'about', 'the', 'outside', 'world', ',', 'except', 'that', 'america', ',', 'south', 'korea', ',', 'japan', 'are', 'the', 'enemies', '.', '<eos>']\n['<cls>', 'headlines', 'that', 'look', 'like', 'this', 'when', 'they', 'have', 'to', 'do', 'with', 'climate', 'change', ',', 'and', 'headlines', 'that', 'look', 'like', 'this', 'when', 'they', 'have', 'to', 'do', 'with', 'air', 'quality', 'or', 'sm', 'og', '.', '<eos>']\n['<cls>', 'có', 'những', 'dòng', 'trông', 'như', 'thế', 'này', 'khi', 'bàn', 'về', 'biến', 'đổi', 'khí', 'hậu', ',', 'và', 'như', 'thế', 'này', 'khi', 'nói', 'về', 'chất', 'lượng', 'không', 'khí', 'hay', 'khói', 'bụi', '.', '<eos>']\n['<cls>', 'although', 'i', 'often', 'wondered', 'about', 'the', 'outside', 'world', ',', 'i', 'thought', 'i', 'would', 'spend', 'my', 'entire', 'life', 'in', 'north', 'korea', ',', 'until', 'everything', 'suddenly', 'changed', '.', '<eos>']\n['<cls>', 'they', 'are', 'both', 'two', 'branches', 'of', 'the', 'same', 'field', 'of', 'atmospheric', 'science', '.', '<eos>']\n['<cls>', 'cả', 'hai', 'đều', 'là', 'một', 'nhánh', 'của', 'cùng', 'một', 'lĩnh', 'vực', 'trong', 'ngành', 'khoa', 'học', 'khí', 'quyển', '.', '<eos>']\n['<cls>', 'when', 'i', 'was', 'seven', 'years', 'old', ',', 'i', 'saw', 'my', 'first', 'public', 'execution', ',', 'but', 'i', 'thought', 'my', 'life', 'in', 'north', 'korea', 'was', 'normal', '.', '<eos>']\n"
        }
      ],
      "execution_count": null,
      "metadata": {
        "colab": {
          "base_uri": "https://localhost:8080/"
        },
        "id": "xetCEvu-WqYm",
        "outputId": "abf9a580-c048-426e-ac9f-9907143f7b23"
      }
    },
    {
      "cell_type": "code",
      "source": [
        "train_data = list(zip(train_en_prep, train_vi_prep))\n",
        "train_data.sort(key = lambda x: (len(x[0]), len(x[1])))\n",
        "\n",
        "test_data = list(zip(test_en_prep, test_en, test_vi))\n",
        "\n",
        "for i in range(10):\n",
        "  print(train_data[i])\n",
        "for i in range(10):\n",
        "  print(test_data[i])"
      ],
      "outputs": [
        {
          "output_type": "stream",
          "name": "stdout",
          "text": "(['<cls>', '.', '<eos>'], ['<cls>', '.', '<eos>'])\n(['<cls>', '.', '<eos>'], ['<cls>', '.', '<eos>'])\n(['<cls>', 'ok', '.', '<eos>'], ['<cls>', 'ok', '<eos>'])\n(['<cls>', 'oh', '.', '<eos>'], ['<cls>', 'ồ', '<eos>'])\n(['<cls>', 'seven', '.', '<eos>'], ['<cls>', 'bảy', '<eos>'])\n(['<cls>', 'yeah', '.', '<eos>'], ['<cls>', 'ừ', '<eos>'])\n(['<cls>', 'kant', '.', '<eos>'], ['<cls>', 'kant', '<eos>'])\n(['<cls>', 'mill', '.', '<eos>'], ['<cls>', 'mill', '<eos>'])\n(['<cls>', '0,000', '.', '<eos>'], ['<cls>', '0000', '<eos>'])\n(['<cls>', 'ok', '.', '<eos>'], ['<cls>', 'ok', '<eos>'])\n(['<cls>', 'when', 'i', 'was', 'little', ',', 'i', 'thought', 'my', 'country', 'was', 'the', 'best', 'on', 'the', 'planet', ',', 'and', 'i', 'grew', 'up', 'singing', 'a', 'song', 'called', '&', 'quot', ';', 'nothing', 'to', 'envy', '.', '&', 'quot', ';', '<eos>'], ['when', 'i', 'was', 'little', ',', 'i', 'thought', 'my', 'country', 'was', 'the', 'best', 'on', 'the', 'planet', ',', 'and', 'i', 'grew', 'up', 'singing', 'a', 'song', 'called', '&', 'quot', ';', 'nothing', 'to', 'envy', '.', '&', 'quot', ';'], ['khi', 'tôi', 'còn', 'nhỏ', ',', 'tôi', 'nghĩ', 'rằng', 'bắc', 'triều', 'tiên', 'là', 'đất', 'nước', 'tốt', 'nhất', 'trên', 'thế', 'giới', 'và', 'tôi', 'thường', 'hát', 'bài', '&', 'qu', 'ot', ';', 'chúng', 'ta', 'chẳng', 'có', 'gì', 'phải', 'ghen', 'tị', '.', '&', 'qu', 'ot', ';'])\n(['<cls>', 'and', 'i', 'was', 'very', 'proud', '.', '<eos>'], ['and', 'i', 'was', 'very', 'proud', '.'], ['tôi', 'đã', 'rất', 'tự', 'hào', 'về', 'đất', 'nước', 'tôi', '.'])\n(['<cls>', 'in', 'school', ',', 'we', 'spent', 'a', 'lot', 'of', 'time', 'studying', 'the', 'history', 'of', 'kim', 'il', '-', 'sung', ',', 'but', 'we', 'never', 'learned', 'much', 'about', 'the', 'outside', 'world', ',', 'except', 'that', 'america', ',', 'south', 'korea', ',', 'japan', 'are', 'the', 'enemies', '.', '<eos>'], ['in', 'school', ',', 'we', 'spent', 'a', 'lot', 'of', 'time', 'studying', 'the', 'history', 'of', 'kim', 'il', '-', 'sung', ',', 'but', 'we', 'never', 'learned', 'much', 'about', 'the', 'outside', 'world', ',', 'except', 'that', 'america', ',', 'south', 'korea', ',', 'japan', 'are', 'the', 'enemies', '.'], ['ở', 'trường', ',', 'chúng', 'tôi', 'dành', 'rất', 'nhiều', 'thời', 'gian', 'để', 'học', 'về', 'cuộc', 'đời', 'của', 'chủ', 'tịch', 'kim', 'ii', '-', 'sung', ',', 'nhưng', 'lại', 'không', 'học', 'nhiều', 'về', 'thế', 'giới', 'bên', 'ngoài', ',', 'ngoại', 'trừ', 'việc', 'hoa', 'kỳ', ',', 'hàn', 'quốc', 'và', 'nhật', 'bản', 'là', 'kẻ', 'thù', 'của', 'chúng', 'tôi', '.'])\n(['<cls>', 'although', 'i', 'often', 'wondered', 'about', 'the', 'outside', 'world', ',', 'i', 'thought', 'i', 'would', 'spend', 'my', 'entire', 'life', 'in', 'north', 'korea', ',', 'until', 'everything', 'suddenly', 'changed', '.', '<eos>'], ['although', 'i', 'often', 'wondered', 'about', 'the', 'outside', 'world', ',', 'i', 'thought', 'i', 'would', 'spend', 'my', 'entire', 'life', 'in', 'north', 'korea', ',', 'until', 'everything', 'suddenly', 'changed', '.'], ['mặc', 'dù', 'tôi', 'đã', 'từng', 'tự', 'hỏi', 'không', 'biết', 'thế', 'giới', 'bên', 'ngoài', 'kia', 'như', 'thế', 'nào', ',', 'nhưng', 'tôi', 'vẫn', 'nghĩ', 'rằng', 'mình', 'sẽ', 'sống', 'cả', 'cuộc', 'đời', 'ở', 'bắc', 'triều', 'tiên', ',', 'cho', 'tới', 'khi', 'tất', 'cả', 'mọi', 'thứ', 'đột', 'nhiên', 'thay', 'đổi', '.'])\n(['<cls>', 'when', 'i', 'was', 'seven', 'years', 'old', ',', 'i', 'saw', 'my', 'first', 'public', 'execution', ',', 'but', 'i', 'thought', 'my', 'life', 'in', 'north', 'korea', 'was', 'normal', '.', '<eos>'], ['when', 'i', 'was', 'seven', 'years', 'old', ',', 'i', 'saw', 'my', 'first', 'public', 'execution', ',', 'but', 'i', 'thought', 'my', 'life', 'in', 'north', 'korea', 'was', 'normal', '.'], ['khi', 'tôi', 'lên', '0', ',', 'tôi', 'chứng', 'kiến', 'cảnh', 'người', 'ta', 'xử', 'bắn', 'công', 'khai', 'lần', 'đầu', 'tiên', 'trong', 'đời', ',', 'nhưng', 'tôi', 'vẫn', 'nghĩ', 'cuộc', 'sống', 'của', 'mình', 'ở', 'đây', 'là', 'hoàn', 'toàn', 'bình', 'thường', '.'])\n(['<cls>', 'my', 'family', 'was', 'not', 'poor', ',', 'and', 'myself', ',', 'i', 'had', 'never', 'experienced', 'hunger', '.', '<eos>'], ['my', 'family', 'was', 'not', 'poor', ',', 'and', 'myself', ',', 'i', 'had', 'never', 'experienced', 'hunger', '.'], ['gia', 'đình', 'của', 'tôi', 'không', 'nghèo', ',', 'và', 'bản', 'thân', 'tôi', 'thì', 'chưa', 'từng', 'phải', 'chịu', 'đói', '.'])\n(['<cls>', 'but', 'one', 'day', ',', 'in', '0000', ',', 'my', 'mom', 'brought', 'home', 'a', 'letter', 'from', 'a', 'cow', 'ork', 'er', '&', 'ap', 'os', ';', 's', 'sister', '.', '<eos>'], ['but', 'one', 'day', ',', 'in', '0000', ',', 'my', 'mom', 'brought', 'home', 'a', 'letter', 'from', 'a', 'cow', 'ork', 'er', '&', 'ap', 'os', ';', 's', 'sister', '.'], ['nhưng', 'vào', 'một', 'ngày', 'của', 'năm', '0000', ',', 'mẹ', 'tôi', 'mang', 'về', 'nhà', 'một', 'lá', 'thư', 'từ', 'một', 'người', 'chị', 'em', 'cùng', 'chỗ', 'làm', 'với', 'mẹ', '.'])\n(['<cls>', 'it', 'read', ',', '&', 'quot', ';', 'when', 'you', 'read', 'this', ',', 'all', 'five', 'family', 'members', 'will', 'not', 'exist', 'in', 'this', 'world', ',', 'because', 'we', 'haven', '&', 'ap', 'os', ';', 't', 'eaten', 'for', 'the', 'past', 'two', 'weeks', '.', '<eos>'], ['it', 'read', ',', '&', 'quot', ';', 'when', 'you', 'read', 'this', ',', 'all', 'five', 'family', 'members', 'will', 'not', 'exist', 'in', 'this', 'world', ',', 'because', 'we', 'haven', '&', 'ap', 'os', ';', 't', 'eaten', 'for', 'the', 'past', 'two', 'weeks', '.'], ['trong', 'đó', 'có', 'viết', ':', 'khi', 'chị', 'đọc', 'được', 'những', 'dòng', 'này', 'thì', 'cả', 'gia', 'đình', '0', 'người', 'của', 'em', 'đã', 'không', 'còn', 'trên', 'cõi', 'đời', 'này', 'nữa', ',', 'bởi', 'vì', 'cả', 'nhà', 'em', 'đã', 'không', 'có', 'gì', 'để', 'ăn', 'trong', 'hai', 'tuần', '.'])\n(['<cls>', 'we', 'are', 'lying', 'on', 'the', 'floor', 'together', ',', 'and', 'our', 'bodies', 'are', 'so', 'weak', 'we', 'are', 'ready', 'to', 'die', '.', '&', 'quot', ';', '<eos>'], ['we', 'are', 'lying', 'on', 'the', 'floor', 'together', ',', 'and', 'our', 'bodies', 'are', 'so', 'weak', 'we', 'are', 'ready', 'to', 'die', '.', '&', 'quot', ';'], ['tất', 'cả', 'cùng', 'nằm', 'trên', 'sàn', ',', 'và', 'cơ', 'thể', 'chúng', 'tôi', 'yếu', 'đến', 'có', 'thể', 'cảm', 'thấy', 'như', 'cái', 'chết', 'đang', 'đến', 'rất', 'gần', '.'])\n(['<cls>', 'i', 'was', 'so', 'shocked', '.', '<eos>'], ['i', 'was', 'so', 'shocked', '.'], ['tôi', 'đã', 'bị', 'sốc', '.'])\n"
        }
      ],
      "execution_count": null,
      "metadata": {
        "colab": {
          "base_uri": "https://localhost:8080/"
        },
        "id": "qLu-AGK6WsfI",
        "outputId": "63038620-7a17-40f2-f934-5d711127e1d0"
      }
    },
    {
      "cell_type": "markdown",
      "source": [
        "##Make Batch"
      ],
      "metadata": {
        "id": "gOo7AC3da6Nb"
      }
    },
    {
      "cell_type": "code",
      "source": [
        "def make_batch(data, batchsize):\n",
        "  bb = []\n",
        "  ben = []\n",
        "  bvi = []\n",
        "  for en,vi in data:\n",
        "    ben.append(en)\n",
        "    bvi.append(vi)\n",
        "    if len(ben) >= batchsize:\n",
        "      bb.append((ben, bvi))\n",
        "      ben = []\n",
        "      bvi = []\n",
        "  if len(ben) > 0:\n",
        "    bb.append((ben, bvi))\n",
        "  return bb\n",
        "\n",
        "train_data = make_batch(train_data, BATCHSIZE)\n",
        "\n",
        "for i in range(2):\n",
        "  print(train_data[i])"
      ],
      "outputs": [
        {
          "output_type": "stream",
          "name": "stdout",
          "text": "([['<cls>', '.', '<eos>'], ['<cls>', '.', '<eos>'], ['<cls>', 'ok', '.', '<eos>'], ['<cls>', 'oh', '.', '<eos>'], ['<cls>', 'seven', '.', '<eos>'], ['<cls>', 'yeah', '.', '<eos>'], ['<cls>', 'kant', '.', '<eos>'], ['<cls>', 'mill', '.', '<eos>'], ['<cls>', '0,000', '.', '<eos>'], ['<cls>', 'ok', '.', '<eos>'], ['<cls>', 'um', '.', '<eos>'], ['<cls>', 'wonderful', '.', '<eos>'], ['<cls>', 'good', '.', '<eos>'], ['<cls>', 'no', '.', '<eos>'], ['<cls>', 'mario', '!', '<eos>'], ['<cls>', 'books', '.', '<eos>'], ['<cls>', 'hey', '.', '<eos>'], ['<cls>', 'hey', '.', '<eos>'], ['<cls>', 'good', '.', '<eos>'], ['<cls>', 'so', '...', '<eos>'], ['<cls>', 'yes', '.', '<eos>'], ['<cls>', 'so', '...', '<eos>'], ['<cls>', 'yeah', '.', '<eos>'], ['<cls>', 'useless', '.', '<eos>'], ['<cls>', 'hey', '.', '<eos>'], ['<cls>', 'yeah', '.', '<eos>'], ['<cls>', 'joey', '.', '<eos>'], ['<cls>', 'joey', '.', '<eos>'], ['<cls>', 'germany', '.', '<eos>'], ['<cls>', 'why', '?', '<eos>'], ['<cls>', 'negative', '.', '<eos>'], ['<cls>', 'wrong', '.', '<eos>']], [['<cls>', '.', '<eos>'], ['<cls>', '.', '<eos>'], ['<cls>', 'ok', '<eos>'], ['<cls>', 'ồ', '<eos>'], ['<cls>', 'bảy', '<eos>'], ['<cls>', 'ừ', '<eos>'], ['<cls>', 'kant', '<eos>'], ['<cls>', 'mill', '<eos>'], ['<cls>', '0000', '<eos>'], ['<cls>', 'ok', '<eos>'], ['<cls>', 'uh', '<eos>'], ['<cls>', 'tuyệt', '<eos>'], ['<cls>', 'tốt', '<eos>'], ['<cls>', 'không', '<eos>'], ['<cls>', 'mario', '!', '<eos>'], ['<cls>', 'sách', '.', '<eos>'], ['<cls>', 'này', '.', '<eos>'], ['<cls>', 'này', '.', '<eos>'], ['<cls>', 'tốt', '.', '<eos>'], ['<cls>', 'nên', '--', '<eos>'], ['<cls>', 'có', '.', '<eos>'], ['<cls>', 'thì', '...', '<eos>'], ['<cls>', 'yeah', '.', '<eos>'], ['<cls>', 'vô', 'dụng', '<eos>'], ['<cls>', 'này', '.', '<eos>'], ['<cls>', 'vâng', '.', '<eos>'], ['<cls>', 'joey', '.', '<eos>'], ['<cls>', 'joey', '.', '<eos>'], ['<cls>', 'đức', '.', '<eos>'], ['<cls>', 'tại', 'sao', '<eos>'], ['<cls>', 'âm', '.', '<eos>'], ['<cls>', 'sai', '.', '<eos>']])\n([['<cls>', 'indeed', '.', '<eos>'], ['<cls>', 'enough', '.', '<eos>'], ['<cls>', 'david', '.', '<eos>'], ['<cls>', 'dry', '.', '<eos>'], ['<cls>', 'fold', '.', '<eos>'], ['<cls>', 'warren', '.', '<eos>'], ['<cls>', 'chris', '.', '<eos>'], ['<cls>', 'ok', '.', '<eos>'], ['<cls>', '000', '.', '<eos>'], ['<cls>', '0000', '.', '<eos>'], ['<cls>', '000,000', '?', '<eos>'], ['<cls>', 'yes', '?', '<eos>'], ['<cls>', 'nine', '.', '<eos>'], ['<cls>', '<unk>', '?', '<eos>'], ['<cls>', '0000', '.', '<eos>'], ['<cls>', 'good', '.', '<eos>'], ['<cls>', 'android', '.', '<eos>'], ['<cls>', 'thanks', '.', '<eos>'], ['<cls>', 'false', '.', '<eos>'], ['<cls>', 'false', '.', '<eos>'], ['<cls>', 'yeah', '?', '<eos>'], ['<cls>', 'yeah', '.', '<eos>'], ['<cls>', 'no', '.', '<eos>'], ['<cls>', 'wow', '.', '<eos>'], ['<cls>', 'wow', '.', '<eos>'], ['<cls>', 'ok', '?', '<eos>'], ['<cls>', 'yeah', '.', '<eos>'], ['<cls>', 'wow', '.', '<eos>'], ['<cls>', 'yeah', '.', '<eos>'], ['<cls>', 'wow', '.', '<eos>'], ['<cls>', 'anyone', '?', '<eos>'], ['<cls>', 'yeah', '.', '<eos>']], [['<cls>', 'thực', 'vậy', '<eos>'], ['<cls>', 'đủ', 'rồi', '<eos>'], ['<cls>', 'david', '.', '<eos>'], ['<cls>', 'khô', '.', '<eos>'], ['<cls>', 'xếp', '.', '<eos>'], ['<cls>', 'warren', '.', '<eos>'], ['<cls>', 'chris', '.', '<eos>'], ['<cls>', 'ồ', '.', '<eos>'], ['<cls>', '000', '.', '<eos>'], ['<cls>', '0000', '.', '<eos>'], ['<cls>', '000,000', '?', '<eos>'], ['<cls>', 'đúng', '?', '<eos>'], ['<cls>', 'chín', '.', '<eos>'], ['<cls>', '<unk>', '?', '<eos>'], ['<cls>', '0000', '.', '<eos>'], ['<cls>', 'tốt', '.', '<eos>'], ['<cls>', 'android', '.', '<eos>'], ['<cls>', 'cảm', 'ơn', '<eos>'], ['<cls>', 'sai', '.', '<eos>'], ['<cls>', 'sai', '.', '<eos>'], ['<cls>', 'vâng', '?', '<eos>'], ['<cls>', 'yeah', '.', '<eos>'], ['<cls>', 'không', '.', '<eos>'], ['<cls>', 'wow', '.', '<eos>'], ['<cls>', 'wow', '.', '<eos>'], ['<cls>', 'ok', '?', '<eos>'], ['<cls>', 'yeah', '.', '<eos>'], ['<cls>', 'wow', '.', '<eos>'], ['<cls>', 'vâng', '.', '<eos>'], ['<cls>', 'ồ', '.', '<eos>'], ['<cls>', 'ai', '?', '<eos>'], ['<cls>', 'vâng', '.', '<eos>']])\n"
        }
      ],
      "execution_count": null,
      "metadata": {
        "colab": {
          "base_uri": "https://localhost:8080/"
        },
        "id": "Ru3H_RSkWwen",
        "outputId": "1f618920-a069-49a2-bd85-6d4163e04108"
      }
    },
    {
      "cell_type": "markdown",
      "source": [
        "##Padding Batch"
      ],
      "metadata": {
        "id": "y61E3hvWWwPX"
      }
    },
    {
      "cell_type": "code",
      "source": [
        "def padding_batch(b):\n",
        "  maxlen = max([len(x) for x in b])\n",
        "  for tkl in b:\n",
        "    for i in range(maxlen - len(tkl)):\n",
        "      tkl.append('<pad>')\n",
        "\n",
        "def padding(bb):\n",
        "  for ben, bvi in bb:\n",
        "    padding_batch(ben)\n",
        "    padding_batch(bvi)\n",
        "\n",
        "padding(train_data)\n",
        "\n",
        "for i in range(3):\n",
        "  print(train_data[i])"
      ],
      "outputs": [
        {
          "output_type": "stream",
          "name": "stdout",
          "text": "([['<cls>', '.', '<eos>', '<pad>'], ['<cls>', '.', '<eos>', '<pad>'], ['<cls>', 'ok', '.', '<eos>'], ['<cls>', 'oh', '.', '<eos>'], ['<cls>', 'seven', '.', '<eos>'], ['<cls>', 'yeah', '.', '<eos>'], ['<cls>', 'kant', '.', '<eos>'], ['<cls>', 'mill', '.', '<eos>'], ['<cls>', '0,000', '.', '<eos>'], ['<cls>', 'ok', '.', '<eos>'], ['<cls>', 'um', '.', '<eos>'], ['<cls>', 'wonderful', '.', '<eos>'], ['<cls>', 'good', '.', '<eos>'], ['<cls>', 'no', '.', '<eos>'], ['<cls>', 'mario', '!', '<eos>'], ['<cls>', 'books', '.', '<eos>'], ['<cls>', 'hey', '.', '<eos>'], ['<cls>', 'hey', '.', '<eos>'], ['<cls>', 'good', '.', '<eos>'], ['<cls>', 'so', '...', '<eos>'], ['<cls>', 'yes', '.', '<eos>'], ['<cls>', 'so', '...', '<eos>'], ['<cls>', 'yeah', '.', '<eos>'], ['<cls>', 'useless', '.', '<eos>'], ['<cls>', 'hey', '.', '<eos>'], ['<cls>', 'yeah', '.', '<eos>'], ['<cls>', 'joey', '.', '<eos>'], ['<cls>', 'joey', '.', '<eos>'], ['<cls>', 'germany', '.', '<eos>'], ['<cls>', 'why', '?', '<eos>'], ['<cls>', 'negative', '.', '<eos>'], ['<cls>', 'wrong', '.', '<eos>']], [['<cls>', '.', '<eos>', '<pad>'], ['<cls>', '.', '<eos>', '<pad>'], ['<cls>', 'ok', '<eos>', '<pad>'], ['<cls>', 'ồ', '<eos>', '<pad>'], ['<cls>', 'bảy', '<eos>', '<pad>'], ['<cls>', 'ừ', '<eos>', '<pad>'], ['<cls>', 'kant', '<eos>', '<pad>'], ['<cls>', 'mill', '<eos>', '<pad>'], ['<cls>', '0000', '<eos>', '<pad>'], ['<cls>', 'ok', '<eos>', '<pad>'], ['<cls>', 'uh', '<eos>', '<pad>'], ['<cls>', 'tuyệt', '<eos>', '<pad>'], ['<cls>', 'tốt', '<eos>', '<pad>'], ['<cls>', 'không', '<eos>', '<pad>'], ['<cls>', 'mario', '!', '<eos>'], ['<cls>', 'sách', '.', '<eos>'], ['<cls>', 'này', '.', '<eos>'], ['<cls>', 'này', '.', '<eos>'], ['<cls>', 'tốt', '.', '<eos>'], ['<cls>', 'nên', '--', '<eos>'], ['<cls>', 'có', '.', '<eos>'], ['<cls>', 'thì', '...', '<eos>'], ['<cls>', 'yeah', '.', '<eos>'], ['<cls>', 'vô', 'dụng', '<eos>'], ['<cls>', 'này', '.', '<eos>'], ['<cls>', 'vâng', '.', '<eos>'], ['<cls>', 'joey', '.', '<eos>'], ['<cls>', 'joey', '.', '<eos>'], ['<cls>', 'đức', '.', '<eos>'], ['<cls>', 'tại', 'sao', '<eos>'], ['<cls>', 'âm', '.', '<eos>'], ['<cls>', 'sai', '.', '<eos>']])\n([['<cls>', 'indeed', '.', '<eos>'], ['<cls>', 'enough', '.', '<eos>'], ['<cls>', 'david', '.', '<eos>'], ['<cls>', 'dry', '.', '<eos>'], ['<cls>', 'fold', '.', '<eos>'], ['<cls>', 'warren', '.', '<eos>'], ['<cls>', 'chris', '.', '<eos>'], ['<cls>', 'ok', '.', '<eos>'], ['<cls>', '000', '.', '<eos>'], ['<cls>', '0000', '.', '<eos>'], ['<cls>', '000,000', '?', '<eos>'], ['<cls>', 'yes', '?', '<eos>'], ['<cls>', 'nine', '.', '<eos>'], ['<cls>', '<unk>', '?', '<eos>'], ['<cls>', '0000', '.', '<eos>'], ['<cls>', 'good', '.', '<eos>'], ['<cls>', 'android', '.', '<eos>'], ['<cls>', 'thanks', '.', '<eos>'], ['<cls>', 'false', '.', '<eos>'], ['<cls>', 'false', '.', '<eos>'], ['<cls>', 'yeah', '?', '<eos>'], ['<cls>', 'yeah', '.', '<eos>'], ['<cls>', 'no', '.', '<eos>'], ['<cls>', 'wow', '.', '<eos>'], ['<cls>', 'wow', '.', '<eos>'], ['<cls>', 'ok', '?', '<eos>'], ['<cls>', 'yeah', '.', '<eos>'], ['<cls>', 'wow', '.', '<eos>'], ['<cls>', 'yeah', '.', '<eos>'], ['<cls>', 'wow', '.', '<eos>'], ['<cls>', 'anyone', '?', '<eos>'], ['<cls>', 'yeah', '.', '<eos>']], [['<cls>', 'thực', 'vậy', '<eos>'], ['<cls>', 'đủ', 'rồi', '<eos>'], ['<cls>', 'david', '.', '<eos>'], ['<cls>', 'khô', '.', '<eos>'], ['<cls>', 'xếp', '.', '<eos>'], ['<cls>', 'warren', '.', '<eos>'], ['<cls>', 'chris', '.', '<eos>'], ['<cls>', 'ồ', '.', '<eos>'], ['<cls>', '000', '.', '<eos>'], ['<cls>', '0000', '.', '<eos>'], ['<cls>', '000,000', '?', '<eos>'], ['<cls>', 'đúng', '?', '<eos>'], ['<cls>', 'chín', '.', '<eos>'], ['<cls>', '<unk>', '?', '<eos>'], ['<cls>', '0000', '.', '<eos>'], ['<cls>', 'tốt', '.', '<eos>'], ['<cls>', 'android', '.', '<eos>'], ['<cls>', 'cảm', 'ơn', '<eos>'], ['<cls>', 'sai', '.', '<eos>'], ['<cls>', 'sai', '.', '<eos>'], ['<cls>', 'vâng', '?', '<eos>'], ['<cls>', 'yeah', '.', '<eos>'], ['<cls>', 'không', '.', '<eos>'], ['<cls>', 'wow', '.', '<eos>'], ['<cls>', 'wow', '.', '<eos>'], ['<cls>', 'ok', '?', '<eos>'], ['<cls>', 'yeah', '.', '<eos>'], ['<cls>', 'wow', '.', '<eos>'], ['<cls>', 'vâng', '.', '<eos>'], ['<cls>', 'ồ', '.', '<eos>'], ['<cls>', 'ai', '?', '<eos>'], ['<cls>', 'vâng', '.', '<eos>']])\n([['<cls>', 'thanks', '.', '<eos>'], ['<cls>', 'wow', '!', '<eos>'], ['<cls>', 'ok', '.', '<eos>'], ['<cls>', '000', '.', '<eos>'], ['<cls>', 'no', '.', '<eos>'], ['<cls>', 'no', '.', '<eos>'], ['<cls>', 'sleep', '.', '<eos>'], ['<cls>', 'wrong', '.', '<eos>'], ['<cls>', 'good', '.', '<eos>'], ['<cls>', 'yes', '.', '<eos>'], ['<cls>', '0000', '.', '<eos>'], ['<cls>', 'yeah', '.', '<eos>'], ['<cls>', 'perfect', '.', '<eos>'], ['<cls>', 'what', '?', '<eos>'], ['<cls>', 'boom', '.', '<eos>'], ['<cls>', 'sex', '!', '<eos>'], ['<cls>', 'yes', '?', '<eos>'], ['<cls>', 'us', '.', '<eos>'], ['<cls>', 'weak', '.', '<eos>'], ['<cls>', 'so', '...', '<eos>'], ['<cls>', 'right', '.', '<eos>'], ['<cls>', 'sorry', '.', '<eos>'], ['<cls>', 'difficult', '.', '<eos>'], ['<cls>', 'right', '?', '<eos>'], ['<cls>', 'seriously', '.', '<eos>'], ['<cls>', 'hi', '.', '<eos>'], ['<cls>', 'genius', '!', '<eos>'], ['<cls>', 'hello', '!', '<eos>'], ['<cls>', 'seriously', '.', '<eos>'], ['<cls>', 'simple', '.', '<eos>'], ['<cls>', 'hello', '.', '<eos>'], ['<cls>', 'right', '?', '<eos>']], [['<cls>', 'cảm', 'ơn', '<eos>', '<pad>'], ['<cls>', 'wow', '!', '<eos>', '<pad>'], ['<cls>', 'vâng', '.', '<eos>', '<pad>'], ['<cls>', '000', '.', '<eos>', '<pad>'], ['<cls>', 'không', '.', '<eos>', '<pad>'], ['<cls>', 'không', '.', '<eos>', '<pad>'], ['<cls>', 'ngủ', '.', '<eos>', '<pad>'], ['<cls>', 'sai', '.', '<eos>', '<pad>'], ['<cls>', 'tốt', '.', '<eos>', '<pad>'], ['<cls>', 'vâng', '.', '<eos>', '<pad>'], ['<cls>', 'năm', '0000', '<eos>', '<pad>'], ['<cls>', 'vâng', '.', '<eos>', '<pad>'], ['<cls>', 'hoàn', 'hảo', '.', '<eos>'], ['<cls>', 'cái', 'gì', '?', '<eos>'], ['<cls>', 'b', 'ùm', '.', '<eos>'], ['<cls>', 'tình', 'dục', '!', '<eos>'], ['<cls>', 'đúng', 'không', '?', '<eos>'], ['<cls>', 'chúng', 'ta', '.', '<eos>'], ['<cls>', 'yếu', 'đuối', '.', '<eos>'], ['<cls>', 'bởi', 'vậy', '...', '<eos>'], ['<cls>', 'đúng', 'rồi', '.', '<eos>'], ['<cls>', 'xin', 'lỗi', '.', '<eos>'], ['<cls>', 'thật', 'khó', 'khăn', '<eos>'], ['<cls>', 'đúng', 'không', '?', '<eos>'], ['<cls>', 'thật', 'đấy', '.', '<eos>'], ['<cls>', 'xin', 'chào', '.', '<eos>'], ['<cls>', 'thiên', 'tài', '!', '<eos>'], ['<cls>', 'xin', 'chào', '!', '<eos>'], ['<cls>', 'thật', 'đấy', '.', '<eos>'], ['<cls>', 'đơn', 'giản', '.', '<eos>'], ['<cls>', 'xin', 'chào', '.', '<eos>'], ['<cls>', 'đúng', 'không', '?', '<eos>']])\n"
        }
      ],
      "execution_count": null,
      "metadata": {
        "colab": {
          "base_uri": "https://localhost:8080/"
        },
        "id": "HWrvM8ijW1Ok",
        "outputId": "b8c6533e-77e7-403c-f1f1-cf90dd71db83"
      }
    },
    {
      "cell_type": "code",
      "source": [
        "train_data = [([[vocabidx_en[token] for token in tokenlist] for tokenlist in ben],\n",
        "               [[vocabidx_vi[token] for token in tokenlist] for tokenlist in bvi]) for ben, bvi in train_data]\n",
        "test_data = [([vocabidx_en[token] for token in enprep], en, vi) for enprep, en, vi in test_data]\n",
        "for i in range(3):\n",
        "  print(train_data[i])\n",
        "  print(test_data[i])"
      ],
      "outputs": [
        {
          "output_type": "stream",
          "name": "stdout",
          "text": "([[2, 46, 3, 1], [2, 46, 3, 1], [2, 1122, 46, 3], [2, 1630, 46, 3], [2, 2010, 46, 3], [2, 2463, 46, 3], [2, 15272, 46, 3], [2, 3061, 46, 3], [2, 959, 46, 3], [2, 1122, 46, 3], [2, 7150, 46, 3], [2, 1011, 46, 3], [2, 1279, 46, 3], [2, 512, 46, 3], [2, 1655, 1751, 3], [2, 2047, 46, 3], [2, 4184, 46, 3], [2, 4184, 46, 3], [2, 1279, 46, 3], [2, 211, 1885, 3], [2, 2308, 46, 3], [2, 211, 1885, 3], [2, 2463, 46, 3], [2, 13828, 46, 3], [2, 4184, 46, 3], [2, 2463, 46, 3], [2, 16039, 46, 3], [2, 16039, 46, 3], [2, 1453, 46, 3], [2, 863, 554, 3], [2, 1385, 46, 3], [2, 991, 46, 3]], [[2, 71, 3, 1], [2, 71, 3, 1], [2, 1263, 3, 1], [2, 1406, 3, 1], [2, 2402, 3, 1], [2, 1828, 3, 1], [2, 6420, 3, 1], [2, 5685, 3, 1], [2, 140, 3, 1], [2, 1263, 3, 1], [2, 6057, 3, 1], [2, 894, 3, 1], [2, 1060, 3, 1], [2, 100, 3, 1], [2, 1308, 1354, 3], [2, 408, 71, 3], [2, 54, 71, 3], [2, 54, 71, 3], [2, 1060, 71, 3], [2, 83, 44, 3], [2, 90, 71, 3], [2, 451, 1414, 3], [2, 4873, 71, 3], [2, 206, 423, 3], [2, 54, 71, 3], [2, 449, 71, 3], [2, 6720, 71, 3], [2, 6720, 71, 3], [2, 639, 71, 3], [2, 181, 797, 3], [2, 1003, 71, 3], [2, 883, 71, 3]])\n([2, 68, 47, 98, 697, 16, 47, 935, 437, 860, 98, 7, 1280, 27, 7, 205, 16, 72, 47, 743, 218, 2492, 10, 2351, 180, 48, 549, 51, 936, 54, 6654, 46, 48, 549, 51, 3], ['when', 'i', 'was', 'little', ',', 'i', 'thought', 'my', 'country', 'was', 'the', 'best', 'on', 'the', 'planet', ',', 'and', 'i', 'grew', 'up', 'singing', 'a', 'song', 'called', '&', 'quot', ';', 'nothing', 'to', 'envy', '.', '&', 'quot', ';'], ['khi', 'tôi', 'còn', 'nhỏ', ',', 'tôi', 'nghĩ', 'rằng', 'bắc', 'triều', 'tiên', 'là', 'đất', 'nước', 'tốt', 'nhất', 'trên', 'thế', 'giới', 'và', 'tôi', 'thường', 'hát', 'bài', '&', 'qu', 'ot', ';', 'chúng', 'ta', 'chẳng', 'có', 'gì', 'phải', 'ghen', 'tị', '.', '&', 'qu', 'ot', ';'])\n([[2, 664, 46, 3], [2, 201, 46, 3], [2, 2325, 46, 3], [2, 1756, 46, 3], [2, 5215, 46, 3], [2, 3983, 46, 3], [2, 2937, 46, 3], [2, 1122, 46, 3], [2, 101, 46, 3], [2, 709, 46, 3], [2, 3874, 554, 3], [2, 2308, 554, 3], [2, 729, 46, 3], [2, 0, 554, 3], [2, 709, 46, 3], [2, 1279, 46, 3], [2, 10042, 46, 3], [2, 4397, 46, 3], [2, 3871, 46, 3], [2, 3871, 46, 3], [2, 2463, 554, 3], [2, 2463, 46, 3], [2, 512, 46, 3], [2, 7529, 46, 3], [2, 7529, 46, 3], [2, 1122, 554, 3], [2, 2463, 46, 3], [2, 7529, 46, 3], [2, 2463, 46, 3], [2, 7529, 46, 3], [2, 1449, 554, 3], [2, 2463, 46, 3]], [[2, 153, 268, 3], [2, 1322, 829, 3], [2, 1614, 71, 3], [2, 1357, 71, 3], [2, 282, 71, 3], [2, 2371, 71, 3], [2, 1947, 71, 3], [2, 1406, 71, 3], [2, 133, 71, 3], [2, 140, 71, 3], [2, 2835, 565, 3], [2, 781, 565, 3], [2, 2490, 71, 3], [2, 0, 565, 3], [2, 140, 71, 3], [2, 1060, 71, 3], [2, 4455, 71, 3], [2, 430, 410, 3], [2, 883, 71, 3], [2, 883, 71, 3], [2, 449, 565, 3], [2, 4873, 71, 3], [2, 100, 71, 3], [2, 3596, 71, 3], [2, 3596, 71, 3], [2, 1263, 565, 3], [2, 4873, 71, 3], [2, 3596, 71, 3], [2, 449, 71, 3], [2, 1406, 71, 3], [2, 882, 565, 3], [2, 449, 71, 3]])\n([2, 72, 47, 98, 200, 6184, 46, 3], ['and', 'i', 'was', 'very', 'proud', '.'], ['tôi', 'đã', 'rất', 'tự', 'hào', 'về', 'đất', 'nước', 'tôi', '.'])\n([[2, 4397, 46, 3], [2, 7529, 1751, 3], [2, 1122, 46, 3], [2, 101, 46, 3], [2, 512, 46, 3], [2, 512, 46, 3], [2, 2769, 46, 3], [2, 991, 46, 3], [2, 1279, 46, 3], [2, 2308, 46, 3], [2, 709, 46, 3], [2, 2463, 46, 3], [2, 2234, 46, 3], [2, 161, 554, 3], [2, 4146, 46, 3], [2, 4182, 1751, 3], [2, 2308, 554, 3], [2, 145, 46, 3], [2, 2318, 46, 3], [2, 211, 1885, 3], [2, 840, 46, 3], [2, 1408, 46, 3], [2, 422, 46, 3], [2, 840, 554, 3], [2, 2778, 46, 3], [2, 391, 46, 3], [2, 7356, 1751, 3], [2, 5712, 1751, 3], [2, 2778, 46, 3], [2, 1631, 46, 3], [2, 5712, 46, 3], [2, 840, 554, 3]], [[2, 430, 410, 3, 1], [2, 3596, 1354, 3, 1], [2, 449, 71, 3, 1], [2, 133, 71, 3, 1], [2, 100, 71, 3, 1], [2, 100, 71, 3, 1], [2, 798, 71, 3, 1], [2, 883, 71, 3, 1], [2, 1060, 71, 3, 1], [2, 449, 71, 3, 1], [2, 159, 140, 3, 1], [2, 449, 71, 3, 1], [2, 260, 1189, 71, 3], [2, 321, 298, 565, 3], [2, 1935, 2509, 71, 3], [2, 197, 715, 1354, 3], [2, 781, 100, 565, 3], [2, 160, 453, 71, 3], [2, 682, 1792, 71, 3], [2, 132, 268, 1414, 3], [2, 781, 829, 71, 3], [2, 360, 1134, 71, 3], [2, 625, 458, 1319, 3], [2, 781, 100, 565, 3], [2, 625, 1132, 71, 3], [2, 360, 435, 71, 3], [2, 1922, 178, 1354, 3], [2, 360, 435, 1354, 3], [2, 625, 1132, 71, 3], [2, 1091, 1281, 71, 3], [2, 360, 435, 71, 3], [2, 781, 100, 565, 3]])\n([2, 13, 722, 16, 173, 1721, 10, 1398, 21, 371, 1940, 7, 642, 21, 8827, 4957, 194, 15697, 16, 197, 173, 188, 1944, 212, 58, 7, 1834, 131, 16, 1840, 60, 1396, 16, 1336, 1337, 16, 1614, 78, 7, 2795, 46, 3], ['in', 'school', ',', 'we', 'spent', 'a', 'lot', 'of', 'time', 'studying', 'the', 'history', 'of', 'kim', 'il', '-', 'sung', ',', 'but', 'we', 'never', 'learned', 'much', 'about', 'the', 'outside', 'world', ',', 'except', 'that', 'america', ',', 'south', 'korea', ',', 'japan', 'are', 'the', 'enemies', '.'], ['ở', 'trường', ',', 'chúng', 'tôi', 'dành', 'rất', 'nhiều', 'thời', 'gian', 'để', 'học', 'về', 'cuộc', 'đời', 'của', 'chủ', 'tịch', 'kim', 'ii', '-', 'sung', ',', 'nhưng', 'lại', 'không', 'học', 'nhiều', 'về', 'thế', 'giới', 'bên', 'ngoài', ',', 'ngoại', 'trừ', 'việc', 'hoa', 'kỳ', ',', 'hàn', 'quốc', 'và', 'nhật', 'bản', 'là', 'kẻ', 'thù', 'của', 'chúng', 'tôi', '.'])\n"
        }
      ],
      "execution_count": null,
      "metadata": {
        "colab": {
          "base_uri": "https://localhost:8080/"
        },
        "id": "wqpXQ4dyW7Nu",
        "outputId": "1697e84d-ed8c-49cd-af45-bf4e18883645"
      }
    },
    {
      "cell_type": "markdown",
      "source": [
        "#2. Prepare For Model"
      ],
      "metadata": {
        "id": "F0iyJElCXBty"
      }
    },
    {
      "cell_type": "code",
      "source": [
        "from torch import Tensor\n",
        "from torch import nn\n",
        "from torch.nn import Transformer\n",
        "import math"
      ],
      "outputs": [],
      "execution_count": null,
      "metadata": {
        "id": "qnlmWW_EW9av"
      }
    },
    {
      "cell_type": "markdown",
      "source": [
        "## Positional Encoding"
      ],
      "metadata": {
        "id": "5XK0HLZtXIUt"
      }
    },
    {
      "cell_type": "code",
      "source": [
        "class PositionalEncoding(nn.Module):\n",
        "    def __init__(self,\n",
        "                 emb_size: int,\n",
        "                 dropout: float,\n",
        "                 maxlen: int = 900):\n",
        "        super(PositionalEncoding, self).__init__()\n",
        "        den = torch.exp(- torch.arange(0, emb_size, 2)* math.log(10000) / emb_size)\n",
        "        pos = torch.arange(0, maxlen).reshape(maxlen, 1)\n",
        "        pos_embedding = torch.zeros((maxlen, emb_size))\n",
        "        pos_embedding[:, 0::2] = torch.sin(pos * den)\n",
        "        pos_embedding[:, 1::2] = torch.cos(pos * den)\n",
        "        pos_embedding = pos_embedding.unsqueeze(-2)\n",
        "\n",
        "        self.dropout = nn.Dropout(dropout)\n",
        "        self.register_buffer('pos_embedding', pos_embedding)\n",
        "\n",
        "    def forward(self, token_embedding: Tensor):\n",
        "        return self.dropout(token_embedding + self.pos_embedding[:token_embedding.size(0), :])\n"
      ],
      "outputs": [],
      "execution_count": null,
      "metadata": {
        "id": "m0tWNS7IZ-7e"
      }
    },
    {
      "cell_type": "markdown",
      "source": [
        "## Token Embedding"
      ],
      "metadata": {
        "id": "uHCrh1O8XNzR"
      }
    },
    {
      "cell_type": "code",
      "source": [
        "class TokenEmbedding(nn.Module):\n",
        "    def __init__(self, vocab_size: int, emb_size):\n",
        "        super(TokenEmbedding, self).__init__()\n",
        "        self.embedding = nn.Embedding(vocab_size, emb_size)\n",
        "        self.emb_size = emb_size\n",
        "\n",
        "    def forward(self, tokens: Tensor):\n",
        "        return self.embedding(tokens.long()) * math.sqrt(self.emb_size)"
      ],
      "outputs": [],
      "execution_count": null,
      "metadata": {
        "id": "mDnH8XEoaLZK"
      }
    },
    {
      "cell_type": "markdown",
      "source": [
        "## Seq2Seq Transformer"
      ],
      "metadata": {
        "id": "oGvYe1F3Xada"
      }
    },
    {
      "cell_type": "code",
      "source": [
        "class Seq2SeqTransformer(nn.Module):\n",
        "    def __init__(self,\n",
        "                 num_encoder_layers: int,\n",
        "                 num_decoder_layers: int,\n",
        "                 emb_size: int,\n",
        "                 nhead: int,\n",
        "                 src_vocab_size: int,\n",
        "                 tgt_vocab_size: int,\n",
        "                 dim_feedforward: int = 512,\n",
        "                 dropout: float = 0.01):\n",
        "        super(Seq2SeqTransformer, self).__init__()\n",
        "        self.transformer = Transformer(d_model=emb_size,\n",
        "                                       nhead=nhead,\n",
        "                                       num_encoder_layers=num_encoder_layers,\n",
        "                                       num_decoder_layers=num_decoder_layers,\n",
        "                                       dim_feedforward=dim_feedforward,\n",
        "                                       dropout=dropout)\n",
        "        self.generator = nn.Linear(emb_size, tgt_vocab_size)\n",
        "        self.src_tok_emb = TokenEmbedding(src_vocab_size, emb_size)\n",
        "        self.tgt_tok_emb = TokenEmbedding(tgt_vocab_size, emb_size)\n",
        "        self.positional_encoding = PositionalEncoding(\n",
        "            emb_size, dropout=dropout)\n",
        "\n",
        "    def forward(self,\n",
        "                src: Tensor,\n",
        "                trg: Tensor,\n",
        "                src_mask: Tensor,\n",
        "                tgt_mask: Tensor,\n",
        "                src_padding_mask: Tensor,\n",
        "                tgt_padding_mask: Tensor,\n",
        "                memory_key_padding_mask: Tensor):\n",
        "        src_emb = self.positional_encoding(self.src_tok_emb(src))\n",
        "        tgt_emb = self.positional_encoding(self.tgt_tok_emb(trg))\n",
        "        outs = self.transformer(src_emb, tgt_emb, src_mask, tgt_mask, None,\n",
        "                                src_padding_mask, tgt_padding_mask, memory_key_padding_mask)\n",
        "        return self.generator(outs)\n",
        "\n",
        "    def encode(self, src: Tensor, src_mask: Tensor):\n",
        "        return self.transformer.encoder(self.positional_encoding(\n",
        "                            self.src_tok_emb(src)), src_mask)\n",
        "\n",
        "    def decode(self, tgt: Tensor, memory: Tensor, tgt_mask: Tensor):\n",
        "        return self.transformer.decoder(self.positional_encoding(\n",
        "                          self.tgt_tok_emb(tgt)), memory,\n",
        "                          tgt_mask)"
      ],
      "outputs": [],
      "execution_count": null,
      "metadata": {
        "id": "RiaL92yRaWP9"
      }
    },
    {
      "cell_type": "markdown",
      "source": [
        "#3. Model Transformer"
      ],
      "metadata": {
        "id": "OgW6EkXOXiQY"
      }
    },
    {
      "cell_type": "code",
      "source": [
        "import time\n",
        "torch.manual_seed(0)\n",
        "\n",
        "MODELNAME = 'transfomers.model'\n",
        "SRC_VOCAB_SIZE = len(vocablist_en)\n",
        "TGT_VOCAB_SIZE = len(vocablist_vi)\n",
        "EMB_SIZE = 512\n",
        "NHEAD = 8\n",
        "FFN_HID_DIM = 512\n",
        "NUM_ENCODER_LAYERS = 3\n",
        "NUM_DECODER_LAYERS = 3\n",
        "\n",
        "model = Seq2SeqTransformer(NUM_ENCODER_LAYERS, NUM_DECODER_LAYERS, EMB_SIZE,\n",
        "                                 NHEAD, SRC_VOCAB_SIZE, TGT_VOCAB_SIZE, FFN_HID_DIM)\n",
        "for p in model.parameters():\n",
        "    if p.dim() > 1:\n",
        "        nn.init.xavier_uniform_(p)\n",
        "model = model.to(DEVICE)\n",
        "PAD_IDX= 1\n",
        "loss_fn = torch.nn.CrossEntropyLoss(ignore_index=PAD_IDX)\n"
      ],
      "outputs": [
        {
          "output_type": "stream",
          "name": "stderr",
          "text": "/usr/local/lib/python3.10/dist-packages/torch/nn/modules/transformer.py:306: UserWarning: enable_nested_tensor is True, but self.use_nested_tensor is False because encoder_layer.self_attn.batch_first was not True(use batch_first for better inference performance)\n  warnings.warn(f\"enable_nested_tensor is True, but self.use_nested_tensor is False because {why_not_sparsity_fast_path}\")\n"
        }
      ],
      "execution_count": null,
      "metadata": {
        "colab": {
          "base_uri": "https://localhost:8080/"
        },
        "id": "tVaMJ3xRap1e",
        "outputId": "c74ab126-ad33-444a-abe5-b1a5f33f1e3b"
      }
    },
    {
      "cell_type": "code",
      "source": [
        "def generate_square_subsequent_mask(sz):\n",
        "    mask = (torch.triu(torch.ones((sz, sz), device=DEVICE)) == 1).transpose(0, 1)\n",
        "    mask = mask.float().masked_fill(mask == 0, float('-inf')).masked_fill(mask == 1, float(0.0))\n",
        "    return mask\n",
        "\n",
        "\n",
        "def create_mask(src, tgt):\n",
        "    src_seq_len = src.shape[0]\n",
        "    tgt_seq_len = tgt.shape[0]\n",
        "\n",
        "    tgt_mask = generate_square_subsequent_mask(tgt_seq_len)\n",
        "    src_mask = torch.zeros((src_seq_len, src_seq_len),device=DEVICE).type(torch.bool)\n",
        "\n",
        "    src_padding_mask = (src == vocabidx_en['<pad>']).transpose(0, 1)\n",
        "    tgt_padding_mask = (tgt == vocabidx_vi['<pad>']).transpose(0, 1)\n",
        "    return src_mask, tgt_mask, src_padding_mask, tgt_padding_mask"
      ],
      "outputs": [],
      "execution_count": null,
      "metadata": {
        "id": "N4RJiRqLbl-A"
      }
    },
    {
      "cell_type": "markdown",
      "source": [
        "#4. Train Model"
      ],
      "metadata": {
        "id": "q7gkB9DNXt-p"
      }
    },
    {
      "cell_type": "code",
      "source": [
        "def train():\n",
        "  optimizer = torch.optim.Adam(model.parameters(), lr=0.0001, betas=(0.9, 0.98), eps=1e-9)\n",
        "  model.train()\n",
        "  all_time= 0\n",
        "  for epoch in range(15):\n",
        "    start= time.time()\n",
        "    loss = 0\n",
        "\n",
        "    for en, vi in train_data:\n",
        "\n",
        "      en = torch.tensor(en, dtype=torch.int64).transpose(0,1).to(DEVICE)\n",
        "      vi = torch.tensor(vi, dtype=torch.int64).transpose(0,1).to(DEVICE)\n",
        "      tgt_input = vi[:-1, :]\n",
        "\n",
        "\n",
        "      optimizer.zero_grad()\n",
        "      src_mask, tgt_mask, src_padding_mask, tgt_padding_mask = create_mask(en, tgt_input)\n",
        "      y = model(en, tgt_input, src_mask, tgt_mask, src_padding_mask, tgt_padding_mask, src_padding_mask)\n",
        "      tgt_out = vi[1:, :]\n",
        "      batchloss = loss_fn(y.reshape(-1, y.shape[-1]), tgt_out.reshape(-1))\n",
        "      batchloss.backward()\n",
        "      optimizer.step()\n",
        "      loss = loss + batchloss.item()\n",
        "    end= time.time()\n",
        "    all_time+=(end-start)\n",
        "    print(\"epoch\", epoch, \": loss\", loss, \"Epoch time\",end-start)\n",
        "  torch.save(model.state_dict(), MODELNAME)"
      ],
      "outputs": [],
      "execution_count": null,
      "metadata": {
        "id": "-Pd4LHGvarHj"
      }
    },
    {
      "cell_type": "code",
      "source": [
        "!pip install prettytable\n",
        "from prettytable import PrettyTable\n",
        "\n",
        "def count_parameters(model):\n",
        "    table = PrettyTable([\"Modules\", \"Parameters\"])\n",
        "    total_params = 0\n",
        "    for name, parameter in model.named_parameters():\n",
        "        if not parameter.requires_grad: continue\n",
        "        param = parameter.numel()\n",
        "        table.add_row([name, param])\n",
        "        total_params+=param\n",
        "    print(table)\n",
        "    print(f\"Total Trainable Params: {total_params}\")\n",
        "    return total_params\n",
        "\n",
        "count_parameters(model)"
      ],
      "outputs": [
        {
          "output_type": "stream",
          "name": "stdout",
          "text": "Requirement already satisfied: prettytable in /usr/local/lib/python3.10/dist-packages (3.10.0)\nRequirement already satisfied: wcwidth in /usr/local/lib/python3.10/dist-packages (from prettytable) (0.2.13)\n+-------------------------------------------------------------+------------+\n|                           Modules                           | Parameters |\n+-------------------------------------------------------------+------------+\n|    transformer.encoder.layers.0.self_attn.in_proj_weight    |   786432   |\n|     transformer.encoder.layers.0.self_attn.in_proj_bias     |    1536    |\n|    transformer.encoder.layers.0.self_attn.out_proj.weight   |   262144   |\n|     transformer.encoder.layers.0.self_attn.out_proj.bias    |    512     |\n|         transformer.encoder.layers.0.linear1.weight         |   262144   |\n|          transformer.encoder.layers.0.linear1.bias          |    512     |\n|         transformer.encoder.layers.0.linear2.weight         |   262144   |\n|          transformer.encoder.layers.0.linear2.bias          |    512     |\n|          transformer.encoder.layers.0.norm1.weight          |    512     |\n|           transformer.encoder.layers.0.norm1.bias           |    512     |\n|          transformer.encoder.layers.0.norm2.weight          |    512     |\n|           transformer.encoder.layers.0.norm2.bias           |    512     |\n|    transformer.encoder.layers.1.self_attn.in_proj_weight    |   786432   |\n|     transformer.encoder.layers.1.self_attn.in_proj_bias     |    1536    |\n|    transformer.encoder.layers.1.self_attn.out_proj.weight   |   262144   |\n|     transformer.encoder.layers.1.self_attn.out_proj.bias    |    512     |\n|         transformer.encoder.layers.1.linear1.weight         |   262144   |\n|          transformer.encoder.layers.1.linear1.bias          |    512     |\n|         transformer.encoder.layers.1.linear2.weight         |   262144   |\n|          transformer.encoder.layers.1.linear2.bias          |    512     |\n|          transformer.encoder.layers.1.norm1.weight          |    512     |\n|           transformer.encoder.layers.1.norm1.bias           |    512     |\n|          transformer.encoder.layers.1.norm2.weight          |    512     |\n|           transformer.encoder.layers.1.norm2.bias           |    512     |\n|    transformer.encoder.layers.2.self_attn.in_proj_weight    |   786432   |\n|     transformer.encoder.layers.2.self_attn.in_proj_bias     |    1536    |\n|    transformer.encoder.layers.2.self_attn.out_proj.weight   |   262144   |\n|     transformer.encoder.layers.2.self_attn.out_proj.bias    |    512     |\n|         transformer.encoder.layers.2.linear1.weight         |   262144   |\n|          transformer.encoder.layers.2.linear1.bias          |    512     |\n|         transformer.encoder.layers.2.linear2.weight         |   262144   |\n|          transformer.encoder.layers.2.linear2.bias          |    512     |\n|          transformer.encoder.layers.2.norm1.weight          |    512     |\n|           transformer.encoder.layers.2.norm1.bias           |    512     |\n|          transformer.encoder.layers.2.norm2.weight          |    512     |\n|           transformer.encoder.layers.2.norm2.bias           |    512     |\n|               transformer.encoder.norm.weight               |    512     |\n|                transformer.encoder.norm.bias                |    512     |\n|    transformer.decoder.layers.0.self_attn.in_proj_weight    |   786432   |\n|     transformer.decoder.layers.0.self_attn.in_proj_bias     |    1536    |\n|    transformer.decoder.layers.0.self_attn.out_proj.weight   |   262144   |\n|     transformer.decoder.layers.0.self_attn.out_proj.bias    |    512     |\n|  transformer.decoder.layers.0.multihead_attn.in_proj_weight |   786432   |\n|   transformer.decoder.layers.0.multihead_attn.in_proj_bias  |    1536    |\n| transformer.decoder.layers.0.multihead_attn.out_proj.weight |   262144   |\n|  transformer.decoder.layers.0.multihead_attn.out_proj.bias  |    512     |\n|         transformer.decoder.layers.0.linear1.weight         |   262144   |\n|          transformer.decoder.layers.0.linear1.bias          |    512     |\n|         transformer.decoder.layers.0.linear2.weight         |   262144   |\n|          transformer.decoder.layers.0.linear2.bias          |    512     |\n|          transformer.decoder.layers.0.norm1.weight          |    512     |\n|           transformer.decoder.layers.0.norm1.bias           |    512     |\n|          transformer.decoder.layers.0.norm2.weight          |    512     |\n|           transformer.decoder.layers.0.norm2.bias           |    512     |\n|          transformer.decoder.layers.0.norm3.weight          |    512     |\n|           transformer.decoder.layers.0.norm3.bias           |    512     |\n|    transformer.decoder.layers.1.self_attn.in_proj_weight    |   786432   |\n|     transformer.decoder.layers.1.self_attn.in_proj_bias     |    1536    |\n|    transformer.decoder.layers.1.self_attn.out_proj.weight   |   262144   |\n|     transformer.decoder.layers.1.self_attn.out_proj.bias    |    512     |\n|  transformer.decoder.layers.1.multihead_attn.in_proj_weight |   786432   |\n|   transformer.decoder.layers.1.multihead_attn.in_proj_bias  |    1536    |\n| transformer.decoder.layers.1.multihead_attn.out_proj.weight |   262144   |\n|  transformer.decoder.layers.1.multihead_attn.out_proj.bias  |    512     |\n|         transformer.decoder.layers.1.linear1.weight         |   262144   |\n|          transformer.decoder.layers.1.linear1.bias          |    512     |\n|         transformer.decoder.layers.1.linear2.weight         |   262144   |\n|          transformer.decoder.layers.1.linear2.bias          |    512     |\n|          transformer.decoder.layers.1.norm1.weight          |    512     |\n|           transformer.decoder.layers.1.norm1.bias           |    512     |\n|          transformer.decoder.layers.1.norm2.weight          |    512     |\n|           transformer.decoder.layers.1.norm2.bias           |    512     |\n|          transformer.decoder.layers.1.norm3.weight          |    512     |\n|           transformer.decoder.layers.1.norm3.bias           |    512     |\n|    transformer.decoder.layers.2.self_attn.in_proj_weight    |   786432   |\n|     transformer.decoder.layers.2.self_attn.in_proj_bias     |    1536    |\n|    transformer.decoder.layers.2.self_attn.out_proj.weight   |   262144   |\n|     transformer.decoder.layers.2.self_attn.out_proj.bias    |    512     |\n|  transformer.decoder.layers.2.multihead_attn.in_proj_weight |   786432   |\n|   transformer.decoder.layers.2.multihead_attn.in_proj_bias  |    1536    |\n| transformer.decoder.layers.2.multihead_attn.out_proj.weight |   262144   |\n|  transformer.decoder.layers.2.multihead_attn.out_proj.bias  |    512     |\n|         transformer.decoder.layers.2.linear1.weight         |   262144   |\n|          transformer.decoder.layers.2.linear1.bias          |    512     |\n|         transformer.decoder.layers.2.linear2.weight         |   262144   |\n|          transformer.decoder.layers.2.linear2.bias          |    512     |\n|          transformer.decoder.layers.2.norm1.weight          |    512     |\n|           transformer.decoder.layers.2.norm1.bias           |    512     |\n|          transformer.decoder.layers.2.norm2.weight          |    512     |\n|           transformer.decoder.layers.2.norm2.bias           |    512     |\n|          transformer.decoder.layers.2.norm3.weight          |    512     |\n|           transformer.decoder.layers.2.norm3.bias           |    512     |\n|               transformer.decoder.norm.weight               |    512     |\n|                transformer.decoder.norm.bias                |    512     |\n|                       generator.weight                      |  4546048   |\n|                        generator.bias                       |    8879    |\n|                 src_tok_emb.embedding.weight                |  10402304  |\n|                 tgt_tok_emb.embedding.weight                |  4546048   |\n+-------------------------------------------------------------+------------+\nTotal Trainable Params: 32128175\n"
        },
        {
          "output_type": "execute_result",
          "execution_count": 47,
          "data": {
            "text/plain": "32128175"
          },
          "metadata": {}
        }
      ],
      "execution_count": null,
      "metadata": {
        "colab": {
          "base_uri": "https://localhost:8080/"
        },
        "id": "g1QWFWZebXyR",
        "outputId": "a46d6d88-80f7-454b-ff1e-f6f9dd92a035"
      }
    },
    {
      "cell_type": "code",
      "source": [
        "train()"
      ],
      "outputs": [
        {
          "output_type": "stream",
          "name": "stderr",
          "text": "/usr/local/lib/python3.10/dist-packages/torch/nn/functional.py:5137: UserWarning: Support for mismatched key_padding_mask and attn_mask is deprecated. Use same type for both instead.\n  warnings.warn(\n"
        },
        {
          "output_type": "stream",
          "name": "stdout",
          "text": "epoch 0 : loss 16484.20712852478 Epoch time 210.6608588695526\nepoch 1 : loss 11130.670394480228 Epoch time 201.0581738948822\nepoch 2 : loss 9336.488625824451 Epoch time 200.2773859500885\nepoch 3 : loss 8279.163113236427 Epoch time 200.22485733032227\nepoch 4 : loss 7530.962986648083 Epoch time 200.48572778701782\nepoch 5 : loss 6936.537015080452 Epoch time 200.13974404335022\nepoch 6 : loss 6439.348349332809 Epoch time 206.57535529136658\nepoch 7 : loss 5999.309655278921 Epoch time 201.06469583511353\nepoch 8 : loss 5611.371713489294 Epoch time 201.1739068031311\nepoch 9 : loss 5263.602762192488 Epoch time 201.48279762268066\nepoch 10 : loss 4947.156174957752 Epoch time 200.87677240371704\nepoch 11 : loss 4660.9475983679295 Epoch time 200.88284969329834\nepoch 12 : loss 4395.115301281214 Epoch time 201.697895526886\nepoch 13 : loss 4153.152097672224 Epoch time 201.20533871650696\nepoch 14 : loss 3931.7374463379383 Epoch time 201.5876784324646\n"
        }
      ],
      "execution_count": null,
      "metadata": {
        "colab": {
          "base_uri": "https://localhost:8080/"
        },
        "id": "S4If-YDFbDc0",
        "outputId": "579bbde5-722b-4e09-acf8-fed776b24fb2"
      }
    },
    {
      "cell_type": "code",
      "source": [
        "len(train_data)"
      ],
      "outputs": [
        {
          "output_type": "execute_result",
          "execution_count": 52,
          "data": {
            "text/plain": "4157"
          },
          "metadata": {}
        }
      ],
      "execution_count": null,
      "metadata": {
        "colab": {
          "base_uri": "https://localhost:8080/"
        },
        "id": "UZY0vQbVv0KT",
        "outputId": "d2f5b527-aff7-4cda-ddc7-aecb81a265dd"
      }
    },
    {
      "cell_type": "code",
      "source": [
        "len(test_data)"
      ],
      "outputs": [
        {
          "output_type": "execute_result",
          "execution_count": 53,
          "data": {
            "text/plain": "1268"
          },
          "metadata": {}
        }
      ],
      "execution_count": null,
      "metadata": {
        "colab": {
          "base_uri": "https://localhost:8080/"
        },
        "id": "9Y6QOsC-45E1",
        "outputId": "bebe86bb-5921-4049-df7c-1561a76971a7"
      }
    },
    {
      "cell_type": "markdown",
      "source": [
        "#5. Test Model"
      ],
      "metadata": {
        "id": "MyQEeaORX1BU"
      }
    },
    {
      "cell_type": "code",
      "source": [
        "import torchtext.data.metrics\n",
        "def evaluate(model, src, max_len, start_symbol):\n",
        "    num_tokens = src.shape[0]\n",
        "    src_mask = torch.zeros((num_tokens, num_tokens),device=DEVICE).type(torch.bool)\n",
        "\n",
        "    memory = model.encode(src, src_mask)\n",
        "    ys = torch.ones(1, 1).fill_(start_symbol).type(torch.long).to(DEVICE)\n",
        "    pred = []\n",
        "    for i in range(max_len-1):\n",
        "        memory = memory.to(DEVICE)\n",
        "        tgt_mask = (generate_square_subsequent_mask(ys.size(0)).type(torch.bool)).to(DEVICE)\n",
        "        out = model.decode(ys, memory, tgt_mask)\n",
        "        # next_word = out.squeeze().argmax()\n",
        "        out = out.transpose(0, 1)\n",
        "        prob = model.generator(out[:, -1])\n",
        "        # print(prob)\n",
        "        _, next_word = torch.max(prob, dim=1)\n",
        "        next_word = next_word.item()\n",
        "\n",
        "        ys = torch.cat([ys,\n",
        "                        torch.ones(1, 1).type_as(src.data).fill_(next_word)], dim=0)\n",
        "        if next_word == vocabidx_en['<eos>']:\n",
        "            break\n",
        "        pred_y = vocablist_vi[next_word][0]\n",
        "        pred.append(pred_y)\n",
        "    return pred\n",
        "\n",
        "def test():\n",
        "  model = Seq2SeqTransformer(NUM_ENCODER_LAYERS, NUM_DECODER_LAYERS, EMB_SIZE,\n",
        "                                 NHEAD, SRC_VOCAB_SIZE, TGT_VOCAB_SIZE, FFN_HID_DIM).to(DEVICE)\n",
        "  model.load_state_dict(torch.load(MODELNAME))\n",
        "  model.eval()\n",
        "  ref = []\n",
        "  pred = []\n",
        "  for enprep, en, vi in test_data:\n",
        "    input = torch.tensor([enprep], dtype=torch.int64).transpose(0,1).to(DEVICE).view(-1, 1)\n",
        "    p = evaluate(model, input, 50, vocabidx_en['<cls>'])\n",
        "    ref.append([vi])\n",
        "    pred.append(p)\n",
        "  bleu = torchtext.data.metrics.bleu_score(pred, ref)\n",
        "  print(\"total: \", len(test_data))\n",
        "  print(\"bleu: \", bleu)"
      ],
      "outputs": [
        {
          "output_type": "stream",
          "name": "stderr",
          "text": "/usr/local/lib/python3.10/dist-packages/torchtext/data/__init__.py:4: UserWarning: \n/!\\ IMPORTANT WARNING ABOUT TORCHTEXT STATUS /!\\ \nTorchtext is deprecated and the last released version will be 0.18 (this one). You can silence this warning by calling the following at the beginnign of your scripts: `import torchtext; torchtext.disable_torchtext_deprecation_warning()`\n  warnings.warn(torchtext._TORCHTEXT_DEPRECATION_MSG)\n"
        }
      ],
      "execution_count": null,
      "metadata": {
        "id": "5U4Ztkiqrl8s",
        "colab": {
          "base_uri": "https://localhost:8080/"
        },
        "outputId": "60558abf-ec03-4f10-8054-419e4c97453e"
      }
    },
    {
      "cell_type": "code",
      "source": [
        "test()"
      ],
      "outputs": [
        {
          "output_type": "stream",
          "name": "stderr",
          "text": "/usr/local/lib/python3.10/dist-packages/torch/nn/modules/transformer.py:306: UserWarning: enable_nested_tensor is True, but self.use_nested_tensor is False because encoder_layer.self_attn.batch_first was not True(use batch_first for better inference performance)\n  warnings.warn(f\"enable_nested_tensor is True, but self.use_nested_tensor is False because {why_not_sparsity_fast_path}\")\n"
        },
        {
          "output_type": "stream",
          "name": "stdout",
          "text": "total:  1268\nbleu:  0.17614158987998962\n"
        }
      ],
      "execution_count": null,
      "metadata": {
        "id": "QM7EIv4gyL1K",
        "colab": {
          "base_uri": "https://localhost:8080/"
        },
        "outputId": "02a54733-7bd5-4342-b332-81d08f13a0e4"
      }
    },
    {
      "cell_type": "code",
      "source": [
        "model.eval()"
      ],
      "outputs": [
        {
          "output_type": "execute_result",
          "execution_count": 51,
          "data": {
            "text/plain": "Seq2SeqTransformer(\n  (transformer): Transformer(\n    (encoder): TransformerEncoder(\n      (layers): ModuleList(\n        (0-2): 3 x TransformerEncoderLayer(\n          (self_attn): MultiheadAttention(\n            (out_proj): NonDynamicallyQuantizableLinear(in_features=512, out_features=512, bias=True)\n          )\n          (linear1): Linear(in_features=512, out_features=512, bias=True)\n          (dropout): Dropout(p=0.01, inplace=False)\n          (linear2): Linear(in_features=512, out_features=512, bias=True)\n          (norm1): LayerNorm((512,), eps=1e-05, elementwise_affine=True)\n          (norm2): LayerNorm((512,), eps=1e-05, elementwise_affine=True)\n          (dropout1): Dropout(p=0.01, inplace=False)\n          (dropout2): Dropout(p=0.01, inplace=False)\n        )\n      )\n      (norm): LayerNorm((512,), eps=1e-05, elementwise_affine=True)\n    )\n    (decoder): TransformerDecoder(\n      (layers): ModuleList(\n        (0-2): 3 x TransformerDecoderLayer(\n          (self_attn): MultiheadAttention(\n            (out_proj): NonDynamicallyQuantizableLinear(in_features=512, out_features=512, bias=True)\n          )\n          (multihead_attn): MultiheadAttention(\n            (out_proj): NonDynamicallyQuantizableLinear(in_features=512, out_features=512, bias=True)\n          )\n          (linear1): Linear(in_features=512, out_features=512, bias=True)\n          (dropout): Dropout(p=0.01, inplace=False)\n          (linear2): Linear(in_features=512, out_features=512, bias=True)\n          (norm1): LayerNorm((512,), eps=1e-05, elementwise_affine=True)\n          (norm2): LayerNorm((512,), eps=1e-05, elementwise_affine=True)\n          (norm3): LayerNorm((512,), eps=1e-05, elementwise_affine=True)\n          (dropout1): Dropout(p=0.01, inplace=False)\n          (dropout2): Dropout(p=0.01, inplace=False)\n          (dropout3): Dropout(p=0.01, inplace=False)\n        )\n      )\n      (norm): LayerNorm((512,), eps=1e-05, elementwise_affine=True)\n    )\n  )\n  (generator): Linear(in_features=512, out_features=8879, bias=True)\n  (src_tok_emb): TokenEmbedding(\n    (embedding): Embedding(20317, 512)\n  )\n  (tgt_tok_emb): TokenEmbedding(\n    (embedding): Embedding(8879, 512)\n  )\n  (positional_encoding): PositionalEncoding(\n    (dropout): Dropout(p=0.01, inplace=False)\n  )\n)"
          },
          "metadata": {}
        }
      ],
      "execution_count": null,
      "metadata": {
        "id": "pZl1IS2iCv2l",
        "colab": {
          "base_uri": "https://localhost:8080/"
        },
        "outputId": "f2657a7c-f6ab-45f1-89ed-418d6f1f29cf"
      }
    }
  ],
  "metadata": {
    "colab": {
      "toc_visible": true,
      "provenance": [],
      "gpuType": "T4"
    },
    "kernelspec": {
      "name": "python",
      "language": "python",
      "display_name": "Pyolite (preview)"
    },
    "language_info": {
      "codemirror_mode": {
        "name": "python",
        "version": 3
      },
      "file_extension": ".py",
      "mimetype": "text/x-python",
      "name": "python",
      "nbconvert_exporter": "python",
      "pygments_lexer": "ipython3",
      "version": "3.8"
    },
    "accelerator": "GPU",
    "kernel_info": {
      "name": "python"
    },
    "nteract": {
      "version": "nteract-front-end@1.0.0"
    }
  },
  "nbformat": 4,
  "nbformat_minor": 0
}